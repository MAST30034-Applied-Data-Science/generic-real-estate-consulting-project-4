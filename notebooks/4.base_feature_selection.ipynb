{
 "cells": [
  {
   "cell_type": "markdown",
   "metadata": {},
   "source": [
    "# use RandomForestRegressor to select feature"
   ]
  },
  {
   "cell_type": "code",
   "execution_count": 1,
   "metadata": {},
   "outputs": [
    {
     "name": "stdout",
     "output_type": "stream",
     "text": [
      "Requirement already satisfied: pydot in d:\\program\\miniconda3\\lib\\site-packages (1.4.2)\n",
      "Requirement already satisfied: pyparsing>=2.1.4 in d:\\program\\miniconda3\\lib\\site-packages (from pydot) (3.0.9)\n"
     ]
    }
   ],
   "source": [
    "!pip install pydot"
   ]
  },
  {
   "cell_type": "code",
   "execution_count": 2,
   "metadata": {},
   "outputs": [],
   "source": [
    "import os\n",
    "\n",
    "import pydot\n",
    "import matplotlib.pyplot as plt\n",
    "import numpy as np\n",
    "import pandas as pd\n",
    "from sklearn.ensemble import RandomForestRegressor\n",
    "from sklearn.tree import export_graphviz"
   ]
  },
  {
   "cell_type": "code",
   "execution_count": 3,
   "metadata": {},
   "outputs": [],
   "source": [
    "RF_PATH = \"../data/curated/rf_data/\"\n",
    "TREE_GRAPH_DOT_PATH = os.path.join(RF_PATH, \"tree.dot\")\n",
    "TREE_GRAPH_PNG_PATH = os.path.join(RF_PATH, \"tree.png\")\n",
    "RANDOM_FOREST_SEED = 66\n",
    "N_ESTIMATORS = 10"
   ]
  },
  {
   "cell_type": "code",
   "execution_count": 4,
   "metadata": {},
   "outputs": [],
   "source": [
    "# set rf folder\n",
    "if not os.path.exists(RF_PATH):\n",
    "    os.mkdir(RF_PATH)"
   ]
  },
  {
   "cell_type": "markdown",
   "metadata": {},
   "source": [
    "# Get Data"
   ]
  },
  {
   "cell_type": "code",
   "execution_count": 5,
   "metadata": {},
   "outputs": [],
   "source": [
    "sa2_df = pd.read_csv(r\"../data/curated/sa2_info.csv\")"
   ]
  },
  {
   "cell_type": "code",
   "execution_count": 6,
   "metadata": {},
   "outputs": [
    {
     "data": {
      "text/plain": [
       "Index(['Unnamed: 0', 'SA2', 'school_count', 'ERP_population', 'median_income',\n",
       "       'metrobus_count', 'metrotrain_count', 'metrotram_count', 'regbus_count',\n",
       "       'regcoach_count', 'regtrain_count', 'skybus_count', 'recr_count',\n",
       "       'comm_count', 'deal_count', 'median_rent', 'cbd_dis'],\n",
       "      dtype='object')"
      ]
     },
     "execution_count": 6,
     "metadata": {},
     "output_type": "execute_result"
    }
   ],
   "source": [
    "sa2_df.columns"
   ]
  },
  {
   "cell_type": "code",
   "execution_count": 7,
   "metadata": {},
   "outputs": [],
   "source": [
    "# set x y\n",
    "x_col = ['school_count', 'ERP_population', 'median_income',\n",
    "         'metrobus_count', 'metrotrain_count', 'metrotram_count',\n",
    "         'regbus_count', 'regcoach_count', 'regtrain_count', 'skybus_count', \n",
    "         'recr_count', 'comm_count', 'deal_count']\n",
    "y = sa2_df['median_rent']"
   ]
  },
  {
   "cell_type": "markdown",
   "metadata": {},
   "source": [
    "# Random Forest Model"
   ]
  },
  {
   "cell_type": "code",
   "execution_count": 8,
   "metadata": {},
   "outputs": [
    {
     "data": {
      "text/html": [
       "<style>#sk-container-id-1 {color: black;background-color: white;}#sk-container-id-1 pre{padding: 0;}#sk-container-id-1 div.sk-toggleable {background-color: white;}#sk-container-id-1 label.sk-toggleable__label {cursor: pointer;display: block;width: 100%;margin-bottom: 0;padding: 0.3em;box-sizing: border-box;text-align: center;}#sk-container-id-1 label.sk-toggleable__label-arrow:before {content: \"▸\";float: left;margin-right: 0.25em;color: #696969;}#sk-container-id-1 label.sk-toggleable__label-arrow:hover:before {color: black;}#sk-container-id-1 div.sk-estimator:hover label.sk-toggleable__label-arrow:before {color: black;}#sk-container-id-1 div.sk-toggleable__content {max-height: 0;max-width: 0;overflow: hidden;text-align: left;background-color: #f0f8ff;}#sk-container-id-1 div.sk-toggleable__content pre {margin: 0.2em;color: black;border-radius: 0.25em;background-color: #f0f8ff;}#sk-container-id-1 input.sk-toggleable__control:checked~div.sk-toggleable__content {max-height: 200px;max-width: 100%;overflow: auto;}#sk-container-id-1 input.sk-toggleable__control:checked~label.sk-toggleable__label-arrow:before {content: \"▾\";}#sk-container-id-1 div.sk-estimator input.sk-toggleable__control:checked~label.sk-toggleable__label {background-color: #d4ebff;}#sk-container-id-1 div.sk-label input.sk-toggleable__control:checked~label.sk-toggleable__label {background-color: #d4ebff;}#sk-container-id-1 input.sk-hidden--visually {border: 0;clip: rect(1px 1px 1px 1px);clip: rect(1px, 1px, 1px, 1px);height: 1px;margin: -1px;overflow: hidden;padding: 0;position: absolute;width: 1px;}#sk-container-id-1 div.sk-estimator {font-family: monospace;background-color: #f0f8ff;border: 1px dotted black;border-radius: 0.25em;box-sizing: border-box;margin-bottom: 0.5em;}#sk-container-id-1 div.sk-estimator:hover {background-color: #d4ebff;}#sk-container-id-1 div.sk-parallel-item::after {content: \"\";width: 100%;border-bottom: 1px solid gray;flex-grow: 1;}#sk-container-id-1 div.sk-label:hover label.sk-toggleable__label {background-color: #d4ebff;}#sk-container-id-1 div.sk-serial::before {content: \"\";position: absolute;border-left: 1px solid gray;box-sizing: border-box;top: 0;bottom: 0;left: 50%;z-index: 0;}#sk-container-id-1 div.sk-serial {display: flex;flex-direction: column;align-items: center;background-color: white;padding-right: 0.2em;padding-left: 0.2em;position: relative;}#sk-container-id-1 div.sk-item {position: relative;z-index: 1;}#sk-container-id-1 div.sk-parallel {display: flex;align-items: stretch;justify-content: center;background-color: white;position: relative;}#sk-container-id-1 div.sk-item::before, #sk-container-id-1 div.sk-parallel-item::before {content: \"\";position: absolute;border-left: 1px solid gray;box-sizing: border-box;top: 0;bottom: 0;left: 50%;z-index: -1;}#sk-container-id-1 div.sk-parallel-item {display: flex;flex-direction: column;z-index: 1;position: relative;background-color: white;}#sk-container-id-1 div.sk-parallel-item:first-child::after {align-self: flex-end;width: 50%;}#sk-container-id-1 div.sk-parallel-item:last-child::after {align-self: flex-start;width: 50%;}#sk-container-id-1 div.sk-parallel-item:only-child::after {width: 0;}#sk-container-id-1 div.sk-dashed-wrapped {border: 1px dashed gray;margin: 0 0.4em 0.5em 0.4em;box-sizing: border-box;padding-bottom: 0.4em;background-color: white;}#sk-container-id-1 div.sk-label label {font-family: monospace;font-weight: bold;display: inline-block;line-height: 1.2em;}#sk-container-id-1 div.sk-label-container {text-align: center;}#sk-container-id-1 div.sk-container {/* jupyter's `normalize.less` sets `[hidden] { display: none; }` but bootstrap.min.css set `[hidden] { display: none !important; }` so we also need the `!important` here to be able to override the default hidden behavior on the sphinx rendered scikit-learn.org. See: https://github.com/scikit-learn/scikit-learn/issues/21755 */display: inline-block !important;position: relative;}#sk-container-id-1 div.sk-text-repr-fallback {display: none;}</style><div id=\"sk-container-id-1\" class=\"sk-top-container\"><div class=\"sk-text-repr-fallback\"><pre>RandomForestRegressor(n_estimators=10, random_state=66)</pre><b>In a Jupyter environment, please rerun this cell to show the HTML representation or trust the notebook. <br />On GitHub, the HTML representation is unable to render, please try loading this page with nbviewer.org.</b></div><div class=\"sk-container\" hidden><div class=\"sk-item\"><div class=\"sk-estimator sk-toggleable\"><input class=\"sk-toggleable__control sk-hidden--visually\" id=\"sk-estimator-id-1\" type=\"checkbox\" checked><label for=\"sk-estimator-id-1\" class=\"sk-toggleable__label sk-toggleable__label-arrow\">RandomForestRegressor</label><div class=\"sk-toggleable__content\"><pre>RandomForestRegressor(n_estimators=10, random_state=66)</pre></div></div></div></div></div>"
      ],
      "text/plain": [
       "RandomForestRegressor(n_estimators=10, random_state=66)"
      ]
     },
     "execution_count": 8,
     "metadata": {},
     "output_type": "execute_result"
    }
   ],
   "source": [
    "random_forest_model = RandomForestRegressor(n_estimators=N_ESTIMATORS,\n",
    "                                            random_state=RANDOM_FOREST_SEED)\n",
    "random_forest_model.fit(sa2_df[x_col], y)"
   ]
  },
  {
   "cell_type": "code",
   "execution_count": 9,
   "metadata": {},
   "outputs": [],
   "source": [
    "# Draw decision tree visualizing plot\n",
    "random_forest_tree = random_forest_model. estimators_[5]\n",
    "export_graphviz(random_forest_tree, out_file=TREE_GRAPH_DOT_PATH,\n",
    "                feature_names=x_col, rounded=True, precision=1)\n",
    "(random_forest_graph,) = pydot.graph_from_dot_file(TREE_GRAPH_DOT_PATH)\n",
    "random_forest_graph.write_png(TREE_GRAPH_PNG_PATH)"
   ]
  },
  {
   "cell_type": "markdown",
   "metadata": {},
   "source": [
    "**Random Forest Tree**"
   ]
  },
  {
   "cell_type": "markdown",
   "metadata": {},
   "source": [
    "![tree.png](../data/curated/rf_data/tree.png)"
   ]
  },
  {
   "cell_type": "markdown",
   "metadata": {},
   "source": [
    "# Calculate the importance of variables"
   ]
  },
  {
   "cell_type": "code",
   "execution_count": 10,
   "metadata": {},
   "outputs": [
    {
     "data": {
      "text/plain": [
       "Text(0.5, 1.0, 'Variable Importances')"
      ]
     },
     "execution_count": 10,
     "metadata": {},
     "output_type": "execute_result"
    },
    {
     "data": {
      "image/png": "[encoded data removed]",
      "text/plain": [
       "<Figure size 640x480 with 1 Axes>"
      ]
     },
     "metadata": {},
     "output_type": "display_data"
    }
   ],
   "source": [
    "random_forest_importance = list(random_forest_model.feature_importances_)\n",
    "random_forest_feature_importance = [(feature, round(importance, 8))\n",
    "                                    for feature, importance in\n",
    "                                    zip(x_col, random_forest_importance)]\n",
    "\n",
    "random_forest_feature_importance = sorted(random_forest_feature_importance,\n",
    "                                          key=lambda x: x[1], reverse=True)\n",
    "plt.figure(3)\n",
    "plt.clf()\n",
    "importance_plot_x_values = list(range(len(random_forest_importance)))\n",
    "plt.bar(importance_plot_x_values, random_forest_importance, \n",
    "        orientation='vertical')\n",
    "plt.xticks(importance_plot_x_values, x_col, rotation='vertical')\n",
    "plt.xlabel('Variable')\n",
    "plt.ylabel('Importance')\n",
    "plt.title('Variable Importances')"
   ]
  },
  {
   "cell_type": "code",
   "execution_count": 11,
   "metadata": {},
   "outputs": [],
   "source": [
    "importance_dict = dict(zip(x_col, random_forest_importance))\n",
    "sorted_data = sorted(importance_dict.items(), key=lambda x: x[1], reverse=True)"
   ]
  },
  {
   "cell_type": "code",
   "execution_count": 12,
   "metadata": {},
   "outputs": [
    {
     "name": "stdout",
     "output_type": "stream",
     "text": [
      "median_income            0.43774\n",
      "deal_count               0.26215\n",
      "regbus_count             0.08612\n",
      "ERP_population           0.08254\n",
      "regcoach_count           0.04398\n",
      "metrobus_count           0.03972\n",
      "school_count             0.01946\n",
      "recr_count               0.01025\n",
      "metrotram_count          0.00543\n",
      "metrotrain_count         0.00541\n",
      "regtrain_count           0.00516\n",
      "comm_count               0.00205\n",
      "skybus_count             0.00000\n"
     ]
    }
   ],
   "source": [
    "for fea, var in sorted_data:\n",
    "    print(f\"{fea:<25}{var:.5f}\")"
   ]
  },
  {
   "cell_type": "markdown",
   "metadata": {},
   "source": [
    "**In summary, the top 3 importance feature is `median_income, deal_count,ERP_population`**"
   ]
  },
  {
   "cell_type": "markdown",
   "metadata": {},
   "source": [
    "## get the most liveable and affordable suburbs"
   ]
  },
  {
   "cell_type": "code",
   "execution_count": 13,
   "metadata": {},
   "outputs": [],
   "source": [
    "sa2_df['best_suburb_score'] = 0.2*sa2_df['median_income'] +\\\n",
    "                              0.2*sa2_df['deal_count'] +\\\n",
    "                              0.2*sa2_df['ERP_population'] +\\\n",
    "                              0.1*sa2_df['metrotrain_count'] +\\\n",
    "                              0.1*sa2_df['school_count'] +\\\n",
    "                              0.1*sa2_df['recr_count'] +\\\n",
    "                              0.1*sa2_df['regbus_count']"
   ]
  },
  {
   "cell_type": "code",
   "execution_count": 15,
   "metadata": {},
   "outputs": [],
   "source": [
    "best_suburb_df = pd.DataFrame(sa2_df, columns=['SA2', 'best_suburb_score'])"
   ]
  },
  {
   "cell_type": "code",
   "execution_count": 16,
   "metadata": {},
   "outputs": [],
   "source": [
    "match_df = pd.read_csv(f\"../data/raw/ABS/SA2_TO_Name.csv\")\n",
    "match_df = match_df[[\"code\", \"name\"]]\n",
    "\n",
    "best_suburb_df = best_suburb_df.reset_index()\n",
    "best_suburb_df = pd.merge(match_df, best_suburb_df, left_on=\"code\", right_on=\"SA2\", how=\"right\")\n",
    "# best_suburb_df = best_suburb_df.set_index(\"name\").drop([\"index\"], axis=1)\n",
    "\n",
    "sort_predict = best_suburb_df.sort_values(by=['best_suburb_score'], ascending=False, inplace=False)\n",
    "\n",
    "top_10 = list(sort_predict.index)[:10]"
   ]
  },
  {
   "cell_type": "markdown",
   "metadata": {},
   "source": [
    "## the top 10 liveable and affordable suburbs is：\n"
   ]
  },
  {
   "cell_type": "code",
   "execution_count": 19,
   "metadata": {},
   "outputs": [
    {
     "data": {
      "text/html": [
       "<div>\n",
       "<style scoped>\n",
       "    .dataframe tbody tr th:only-of-type {\n",
       "        vertical-align: middle;\n",
       "    }\n",
       "\n",
       "    .dataframe tbody tr th {\n",
       "        vertical-align: top;\n",
       "    }\n",
       "\n",
       "    .dataframe thead th {\n",
       "        text-align: right;\n",
       "    }\n",
       "</style>\n",
       "<table border=\"1\" class=\"dataframe\">\n",
       "  <thead>\n",
       "    <tr style=\"text-align: right;\">\n",
       "      <th></th>\n",
       "      <th>code</th>\n",
       "      <th>name</th>\n",
       "      <th>index</th>\n",
       "      <th>SA2</th>\n",
       "      <th>best_suburb_score</th>\n",
       "    </tr>\n",
       "  </thead>\n",
       "  <tbody>\n",
       "    <tr>\n",
       "      <th>235</th>\n",
       "      <td>206061136</td>\n",
       "      <td>Prahran - Windsor</td>\n",
       "      <td>235</td>\n",
       "      <td>206061136</td>\n",
       "      <td>7013.9</td>\n",
       "    </tr>\n",
       "    <tr>\n",
       "      <th>63</th>\n",
       "      <td>213021344</td>\n",
       "      <td>Newport</td>\n",
       "      <td>63</td>\n",
       "      <td>213021344</td>\n",
       "      <td>6454.4</td>\n",
       "    </tr>\n",
       "    <tr>\n",
       "      <th>109</th>\n",
       "      <td>208041195</td>\n",
       "      <td>Malvern East</td>\n",
       "      <td>109</td>\n",
       "      <td>208041195</td>\n",
       "      <td>6411.4</td>\n",
       "    </tr>\n",
       "    <tr>\n",
       "      <th>33</th>\n",
       "      <td>208021177</td>\n",
       "      <td>Caulfield - North</td>\n",
       "      <td>33</td>\n",
       "      <td>208021177</td>\n",
       "      <td>6300.9</td>\n",
       "    </tr>\n",
       "    <tr>\n",
       "      <th>247</th>\n",
       "      <td>212051326</td>\n",
       "      <td>Oakleigh - Huntingdale</td>\n",
       "      <td>247</td>\n",
       "      <td>212051326</td>\n",
       "      <td>6207.1</td>\n",
       "    </tr>\n",
       "    <tr>\n",
       "      <th>76</th>\n",
       "      <td>206031113</td>\n",
       "      <td>Ascot Vale</td>\n",
       "      <td>76</td>\n",
       "      <td>206031113</td>\n",
       "      <td>6167.5</td>\n",
       "    </tr>\n",
       "    <tr>\n",
       "      <th>261</th>\n",
       "      <td>207021157</td>\n",
       "      <td>Doncaster</td>\n",
       "      <td>261</td>\n",
       "      <td>207021157</td>\n",
       "      <td>6104.9</td>\n",
       "    </tr>\n",
       "    <tr>\n",
       "      <th>135</th>\n",
       "      <td>208011169</td>\n",
       "      <td>Brighton (Vic.)</td>\n",
       "      <td>135</td>\n",
       "      <td>208011169</td>\n",
       "      <td>5988.2</td>\n",
       "    </tr>\n",
       "    <tr>\n",
       "      <th>189</th>\n",
       "      <td>206051130</td>\n",
       "      <td>Port Melbourne</td>\n",
       "      <td>189</td>\n",
       "      <td>206051130</td>\n",
       "      <td>5963.2</td>\n",
       "    </tr>\n",
       "    <tr>\n",
       "      <th>285</th>\n",
       "      <td>206071143</td>\n",
       "      <td>Fitzroy North</td>\n",
       "      <td>285</td>\n",
       "      <td>206071143</td>\n",
       "      <td>5946.3</td>\n",
       "    </tr>\n",
       "  </tbody>\n",
       "</table>\n",
       "</div>"
      ],
      "text/plain": [
       "          code                    name  index        SA2  best_suburb_score\n",
       "235  206061136       Prahran - Windsor    235  206061136             7013.9\n",
       "63   213021344                 Newport     63  213021344             6454.4\n",
       "109  208041195            Malvern East    109  208041195             6411.4\n",
       "33   208021177       Caulfield - North     33  208021177             6300.9\n",
       "247  212051326  Oakleigh - Huntingdale    247  212051326             6207.1\n",
       "76   206031113              Ascot Vale     76  206031113             6167.5\n",
       "261  207021157               Doncaster    261  207021157             6104.9\n",
       "135  208011169         Brighton (Vic.)    135  208011169             5988.2\n",
       "189  206051130          Port Melbourne    189  206051130             5963.2\n",
       "285  206071143           Fitzroy North    285  206071143             5946.3"
      ]
     },
     "execution_count": 19,
     "metadata": {},
     "output_type": "execute_result"
    }
   ],
   "source": [
    "sort_predict[:10]"
   ]
  },
  {
   "cell_type": "code",
   "execution_count": null,
   "metadata": {},
   "outputs": [],
   "source": []
  }
 ],
 "metadata": {
  "kernelspec": {
   "display_name": "Python 3",
   "language": "python",
   "name": "python3"
  },
  "language_info": {
   "codemirror_mode": {
    "name": "ipython",
    "version": 3
   },
   "file_extension": ".py",
   "mimetype": "text/x-python",
   "name": "python",
   "nbconvert_exporter": "python",
   "pygments_lexer": "ipython3",
   "version": "3.8.3"
  }
 },
 "nbformat": 4,
 "nbformat_minor": 5
}
