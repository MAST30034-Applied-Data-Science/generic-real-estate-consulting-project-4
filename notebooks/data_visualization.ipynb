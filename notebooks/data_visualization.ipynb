{
 "cells": [
  {
   "cell_type": "markdown",
   "metadata": {},
   "source": []
  },
  {
   "cell_type": "code",
   "execution_count": 2,
   "metadata": {},
   "outputs": [],
   "source": [
    "import pandas as pd\n",
    "import geopandas as gpd\n",
    "import folium"
   ]
  },
  {
   "cell_type": "markdown",
   "metadata": {},
   "source": [
    "### Median rent by sa2"
   ]
  },
  {
   "cell_type": "code",
   "execution_count": 20,
   "metadata": {},
   "outputs": [
    {
     "name": "stdout",
     "output_type": "stream",
     "text": [
      "Unnamed: 0             int64\n",
      "SA2                    int64\n",
      "school_count           int64\n",
      "ERP_population         int64\n",
      "median_income          int64\n",
      "metrobus_count         int64\n",
      "metrotrain_count       int64\n",
      "metrotram_count        int64\n",
      "regbus_count           int64\n",
      "regcoach_count         int64\n",
      "regtrain_count         int64\n",
      "skybus_count           int64\n",
      "recr_count             int64\n",
      "comm_count             int64\n",
      "deal_count             int64\n",
      "median_rent          float64\n",
      "geometry            geometry\n",
      "dtype: object\n",
      "   Unnamed: 0        SA2  school_count  ERP_population  median_income  \\\n",
      "0           0  202011018            13           14951           1267   \n",
      "1           1  202011022             9           21060           1238   \n",
      "\n",
      "   metrobus_count  metrotrain_count  metrotram_count  regbus_count  \\\n",
      "0               0                 0                0           142   \n",
      "1               0                 0                0           130   \n",
      "\n",
      "   regcoach_count  regtrain_count  skybus_count  recr_count  comm_count  \\\n",
      "0               2               1             0           1           1   \n",
      "1               3               1             0           0           0   \n",
      "\n",
      "   deal_count  median_rent                                           geometry  \n",
      "0         739        350.0  POLYGON ((144.24392 -36.74285, 144.24276 -36.7...  \n",
      "1         739        350.0  POLYGON ((144.23363 -36.77347, 144.23352 -36.7...  \n"
     ]
    }
   ],
   "source": [
    "# read load zone/shape data\n",
    "boundary_gdf = gpd.read_file(\"../data/raw/ABS/digitalBoundary/SA2_2021_AUST_GDA2020.shp\")\n",
    "sa2_df = pd.read_csv(f\"../data/curated/sa2_info.csv\")\n",
    "\n",
    "# feature engineering for boundary\n",
    "boundary_gdf = boundary_gdf.dropna().drop_duplicates()\n",
    "boundary_gdf = boundary_gdf.loc[boundary_gdf[\"STE_NAME21\"] == \"Victoria\"]\n",
    "boundary_gdf[\"SA2_CODE21\"] = boundary_gdf[\"SA2_CODE21\"].astype(int)\n",
    "boundary_gdf = boundary_gdf.rename(columns={\"SA2_CODE21\": \"SA2\"})\n",
    "boundary_gdf = boundary_gdf[[\"SA2\", \"geometry\"]].drop_duplicates()\n"
   ]
  },
  {
   "cell_type": "code",
   "execution_count": 24,
   "metadata": {},
   "outputs": [],
   "source": [
    "geoJSON = boundary_gdf.drop_duplicates().to_json()\n",
    "\n",
    "base_map = folium.Map(location=[-37.53970, 143.82007],\n",
    "    tiles=\"Stamen Terrain\", zoom_start=12)\n",
    "base_map.add_child(folium.Choropleth(geo_data=geoJSON,\n",
    "                                    name=\"choropleth\"))\n",
    "\n",
    "top_map = folium.Choropleth(\n",
    "    geo_data=geoJSON, # geoJSON \n",
    "    name='choropleth', # name of plot\n",
    "    data=sa2_df, # data source\n",
    "    columns=['SA2','median_rent'], # the columns required\n",
    "    key_on='properties.SA2', # this is from the geoJSON's properties\n",
    "    fill_color='YlOrRd', # color scheme\n",
    "    nan_fill_color='black',\n",
    "    legend_name='MN'\n",
    ")\n",
    "\n",
    "top_map.add_to(base_map)\n",
    "\n",
    "\n",
    "base_map"
   ]
  },
  {
   "cell_type": "markdown",
   "metadata": {},
   "source": [
    "### Mean rent by sa2"
   ]
  },
  {
   "cell_type": "code",
   "execution_count": 8,
   "metadata": {},
   "outputs": [
    {
     "name": "stdout",
     "output_type": "stream",
     "text": [
      "         SA2  rent_index        rent   bedroom     baths   parking  \\\n",
      "0  201011001         8.5  429.166667  3.500000  1.888889  2.000000   \n",
      "1  201011002        22.0  373.555556  3.111111  1.666667  1.777778   \n",
      "2  201011005        27.5  410.000000  3.500000  1.500000  1.500000   \n",
      "3  201011006        35.0  406.692308  3.846154  2.000000  2.076923   \n",
      "4  201011008        45.0  380.000000  2.857143  1.428571  1.857143   \n",
      "\n",
      "    school_dis   station_dis  \n",
      "0  1576.994444   5421.316667  \n",
      "1   963.988889   2018.266667  \n",
      "2  3952.100000  10539.400000  \n",
      "3  3146.592308   7556.638462  \n",
      "4  1422.314286   3691.100000  \n"
     ]
    }
   ],
   "source": [
    "# read load zone/shape data\n",
    "boundary_gdf = gpd.read_file(\"../data/raw/ABS/digitalBoundary/SA2_2021_AUST_GDA2020.shp\")\n",
    "sa2_df = pd.read_csv(f\"../data/curated/rent_distance.csv\")\n",
    "\n",
    "# feature engineering for boundary\n",
    "boundary_gdf = boundary_gdf.dropna().drop_duplicates()\n",
    "boundary_gdf = boundary_gdf.loc[boundary_gdf[\"STE_NAME21\"] == \"Victoria\"]\n",
    "boundary_gdf[\"SA2_CODE21\"] = boundary_gdf[\"SA2_CODE21\"].astype(int)\n",
    "boundary_gdf = boundary_gdf.rename(columns={\"SA2_CODE21\": \"SA2\"})\n",
    "boundary_gdf = boundary_gdf[[\"SA2\", \"geometry\"]].drop_duplicates()\n",
    "\n",
    "# feature engineering for sa2\n",
    "sa2_df = sa2_df.drop([\"Latitude\", \"Longitude\"], axis=1)\n",
    "sa2_df = sa2_df.groupby(\"SA2\").mean().reset_index()\n",
    "\n",
    "\n",
    "print(sa2_df.head())"
   ]
  },
  {
   "cell_type": "code",
   "execution_count": 9,
   "metadata": {},
   "outputs": [],
   "source": [
    "geoJSON = boundary_gdf.drop_duplicates().to_json()\n",
    "\n",
    "base_map = folium.Map(location=[-37.53970, 143.82007],\n",
    "    tiles=\"Stamen Terrain\", zoom_start=12)\n",
    "base_map.add_child(folium.Choropleth(geo_data=geoJSON,\n",
    "                                    name=\"choropleth\"))\n",
    "\n",
    "top_map = folium.Choropleth(\n",
    "    geo_data=geoJSON, # geoJSON \n",
    "    name='choropleth', # name of plot\n",
    "    data=sa2_df, # data source\n",
    "    columns=['SA2','rent'], # the columns required\n",
    "    key_on='properties.SA2', # this is from the geoJSON's properties\n",
    "    fill_color='YlOrRd', # color scheme\n",
    "    nan_fill_color='black',\n",
    "    legend_name='MN'\n",
    ")\n",
    "\n",
    "top_map.add_to(base_map)\n",
    "\n",
    "\n",
    "base_map"
   ]
  }
 ],
 "metadata": {
  "kernelspec": {
   "display_name": "Python 3",
   "language": "python",
   "name": "python3"
  },
  "language_info": {
   "codemirror_mode": {
    "name": "ipython",
    "version": 3
   },
   "file_extension": ".py",
   "mimetype": "text/x-python",
   "name": "python",
   "nbconvert_exporter": "python",
   "pygments_lexer": "ipython3",
   "version": "3.8.3"
  }
 },
 "nbformat": 4,
 "nbformat_minor": 4
}
