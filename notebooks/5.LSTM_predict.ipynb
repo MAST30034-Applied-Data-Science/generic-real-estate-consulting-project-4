{
 "cells": [
  {
   "cell_type": "markdown",
   "metadata": {},
   "source": [
    "# use lstm predict rent"
   ]
  },
  {
   "cell_type": "markdown",
   "metadata": {},
   "source": [
    "- 以某个SA2区域做的预测\n",
    "- 对未来几年的租金进行预测，需要相应的population，median_rent等数据（该数据怎么获取可讨论，简单分析可通过线性回归预测每一年的值）\n",
    "- 当前只有年度单位的数据，数据量很少，是否可以细分到月或者天"
   ]
  },
  {
   "cell_type": "markdown",
   "metadata": {
    "tags": []
   },
   "source": [
    "* 1. 加载数据集、数据可视化、预处理\n",
    "* 2. 特征工程\n",
    "* 3. 构建模型\n",
    "* 4. 模型编译、训练、验证"
   ]
  },
  {
   "cell_type": "code",
   "execution_count": 1,
   "metadata": {},
   "outputs": [],
   "source": [
    "import pandas as pd\n",
    "import numpy as np\n",
    "import matplotlib.pyplot as plt\n",
    "import seaborn as sns\n",
    "import os\n",
    "import datetime\n",
    "\n",
    "from sklearn.model_selection import train_test_split\n",
    "from sklearn.preprocessing import MinMaxScaler\n",
    "from sklearn.metrics import r2_score\n",
    "\n",
    "import tensorflow as tf\n",
    "from tensorflow.keras import Sequential, layers, utils, losses\n",
    "from tensorflow.keras.callbacks import ModelCheckpoint, TensorBoard\n",
    "\n",
    "import warnings\n",
    "warnings.filterwarnings('ignore')"
   ]
  },
  {
   "cell_type": "markdown",
   "metadata": {},
   "source": [
    "### 第1步：加载数据集、预处理"
   ]
  },
  {
   "cell_type": "code",
   "execution_count": 2,
   "metadata": {},
   "outputs": [],
   "source": [
    "# 加载数据集\n",
    "\n",
    "dataset = pd.read_csv(r\"../data/curated/history_info.csv\", parse_dates=['year'], dtype={'SA2': str}, index_col=0)"
   ]
  },
  {
   "cell_type": "code",
   "execution_count": 3,
   "metadata": {},
   "outputs": [
    {
     "name": "stdout",
     "output_type": "stream",
     "text": [
      "<class 'pandas.core.frame.DataFrame'>\n",
      "Int64Index: 3507 entries, 0 to 3506\n",
      "Data columns (total 10 columns):\n",
      " #   Column       Non-Null Count  Dtype         \n",
      "---  ------       --------------  -----         \n",
      " 0   SA2          3507 non-null   object        \n",
      " 1   year         3507 non-null   datetime64[ns]\n",
      " 2   population   3507 non-null   int64         \n",
      " 3   bond         3507 non-null   float64       \n",
      " 4   price_index  3507 non-null   int64         \n",
      " 5   median_rent  3507 non-null   float64       \n",
      " 6   deal_count   3507 non-null   int64         \n",
      " 7   to_USD       3507 non-null   float64       \n",
      " 8   immi_count   3507 non-null   int64         \n",
      " 9   debt_ratio   3507 non-null   float64       \n",
      "dtypes: datetime64[ns](1), float64(4), int64(4), object(1)\n",
      "memory usage: 301.4+ KB\n"
     ]
    }
   ],
   "source": [
    "dataset.info()"
   ]
  },
  {
   "cell_type": "code",
   "execution_count": 4,
   "metadata": {},
   "outputs": [],
   "source": [
    "dataset = dataset[dataset[\"SA2\"] == \"202011022\"].reset_index(drop=True)\n"
   ]
  },
  {
   "cell_type": "code",
   "execution_count": 5,
   "metadata": {},
   "outputs": [
    {
     "data": {
      "text/plain": [
       "(7, 10)"
      ]
     },
     "execution_count": 5,
     "metadata": {},
     "output_type": "execute_result"
    }
   ],
   "source": [
    "# 数据集大小\n",
    "\n",
    "dataset.shape"
   ]
  },
  {
   "cell_type": "code",
   "execution_count": 6,
   "metadata": {},
   "outputs": [
    {
     "data": {
      "text/html": [
       "<div>\n",
       "<style scoped>\n",
       "    .dataframe tbody tr th:only-of-type {\n",
       "        vertical-align: middle;\n",
       "    }\n",
       "\n",
       "    .dataframe tbody tr th {\n",
       "        vertical-align: top;\n",
       "    }\n",
       "\n",
       "    .dataframe thead th {\n",
       "        text-align: right;\n",
       "    }\n",
       "</style>\n",
       "<table border=\"1\" class=\"dataframe\">\n",
       "  <thead>\n",
       "    <tr style=\"text-align: right;\">\n",
       "      <th></th>\n",
       "      <th>SA2</th>\n",
       "      <th>year</th>\n",
       "      <th>population</th>\n",
       "      <th>bond</th>\n",
       "      <th>price_index</th>\n",
       "      <th>median_rent</th>\n",
       "      <th>deal_count</th>\n",
       "      <th>to_USD</th>\n",
       "      <th>immi_count</th>\n",
       "      <th>debt_ratio</th>\n",
       "    </tr>\n",
       "  </thead>\n",
       "  <tbody>\n",
       "    <tr>\n",
       "      <th>0</th>\n",
       "      <td>202011022</td>\n",
       "      <td>2013-01-01</td>\n",
       "      <td>19377</td>\n",
       "      <td>2.96</td>\n",
       "      <td>109</td>\n",
       "      <td>277.50</td>\n",
       "      <td>3822</td>\n",
       "      <td>0.8948</td>\n",
       "      <td>122250</td>\n",
       "      <td>0.860</td>\n",
       "    </tr>\n",
       "    <tr>\n",
       "      <th>1</th>\n",
       "      <td>202011022</td>\n",
       "      <td>2014-01-01</td>\n",
       "      <td>19563</td>\n",
       "      <td>2.28</td>\n",
       "      <td>115</td>\n",
       "      <td>280.00</td>\n",
       "      <td>3967</td>\n",
       "      <td>0.8202</td>\n",
       "      <td>128170</td>\n",
       "      <td>0.855</td>\n",
       "    </tr>\n",
       "    <tr>\n",
       "      <th>2</th>\n",
       "      <td>202011022</td>\n",
       "      <td>2015-01-01</td>\n",
       "      <td>19742</td>\n",
       "      <td>2.10</td>\n",
       "      <td>126</td>\n",
       "      <td>278.75</td>\n",
       "      <td>4139</td>\n",
       "      <td>0.7306</td>\n",
       "      <td>140220</td>\n",
       "      <td>0.850</td>\n",
       "    </tr>\n",
       "    <tr>\n",
       "      <th>3</th>\n",
       "      <td>202011022</td>\n",
       "      <td>2016-01-01</td>\n",
       "      <td>19947</td>\n",
       "      <td>1.97</td>\n",
       "      <td>140</td>\n",
       "      <td>280.75</td>\n",
       "      <td>4094</td>\n",
       "      <td>0.7236</td>\n",
       "      <td>159630</td>\n",
       "      <td>1.015</td>\n",
       "    </tr>\n",
       "    <tr>\n",
       "      <th>4</th>\n",
       "      <td>202011022</td>\n",
       "      <td>2017-01-01</td>\n",
       "      <td>20180</td>\n",
       "      <td>2.03</td>\n",
       "      <td>154</td>\n",
       "      <td>287.50</td>\n",
       "      <td>3831</td>\n",
       "      <td>0.7800</td>\n",
       "      <td>161170</td>\n",
       "      <td>1.180</td>\n",
       "    </tr>\n",
       "  </tbody>\n",
       "</table>\n",
       "</div>"
      ],
      "text/plain": [
       "         SA2       year  population  bond  price_index  median_rent  \\\n",
       "0  202011022 2013-01-01       19377  2.96          109       277.50   \n",
       "1  202011022 2014-01-01       19563  2.28          115       280.00   \n",
       "2  202011022 2015-01-01       19742  2.10          126       278.75   \n",
       "3  202011022 2016-01-01       19947  1.97          140       280.75   \n",
       "4  202011022 2017-01-01       20180  2.03          154       287.50   \n",
       "\n",
       "   deal_count  to_USD  immi_count  debt_ratio  \n",
       "0        3822  0.8948      122250       0.860  \n",
       "1        3967  0.8202      128170       0.855  \n",
       "2        4139  0.7306      140220       0.850  \n",
       "3        4094  0.7236      159630       1.015  \n",
       "4        3831  0.7800      161170       1.180  "
      ]
     },
     "execution_count": 6,
     "metadata": {},
     "output_type": "execute_result"
    }
   ],
   "source": [
    "# 默认显示前5行\n",
    "\n",
    "dataset.head()"
   ]
  },
  {
   "cell_type": "code",
   "execution_count": 7,
   "metadata": {},
   "outputs": [
    {
     "data": {
      "text/html": [
       "<div>\n",
       "<style scoped>\n",
       "    .dataframe tbody tr th:only-of-type {\n",
       "        vertical-align: middle;\n",
       "    }\n",
       "\n",
       "    .dataframe tbody tr th {\n",
       "        vertical-align: top;\n",
       "    }\n",
       "\n",
       "    .dataframe thead th {\n",
       "        text-align: right;\n",
       "    }\n",
       "</style>\n",
       "<table border=\"1\" class=\"dataframe\">\n",
       "  <thead>\n",
       "    <tr style=\"text-align: right;\">\n",
       "      <th></th>\n",
       "      <th>SA2</th>\n",
       "      <th>year</th>\n",
       "      <th>population</th>\n",
       "      <th>bond</th>\n",
       "      <th>price_index</th>\n",
       "      <th>median_rent</th>\n",
       "      <th>deal_count</th>\n",
       "      <th>to_USD</th>\n",
       "      <th>immi_count</th>\n",
       "      <th>debt_ratio</th>\n",
       "    </tr>\n",
       "  </thead>\n",
       "  <tbody>\n",
       "    <tr>\n",
       "      <th>2</th>\n",
       "      <td>202011022</td>\n",
       "      <td>2015-01-01</td>\n",
       "      <td>19742</td>\n",
       "      <td>2.10</td>\n",
       "      <td>126</td>\n",
       "      <td>278.75</td>\n",
       "      <td>4139</td>\n",
       "      <td>0.7306</td>\n",
       "      <td>140220</td>\n",
       "      <td>0.850</td>\n",
       "    </tr>\n",
       "    <tr>\n",
       "      <th>3</th>\n",
       "      <td>202011022</td>\n",
       "      <td>2016-01-01</td>\n",
       "      <td>19947</td>\n",
       "      <td>1.97</td>\n",
       "      <td>140</td>\n",
       "      <td>280.75</td>\n",
       "      <td>4094</td>\n",
       "      <td>0.7236</td>\n",
       "      <td>159630</td>\n",
       "      <td>1.015</td>\n",
       "    </tr>\n",
       "    <tr>\n",
       "      <th>4</th>\n",
       "      <td>202011022</td>\n",
       "      <td>2017-01-01</td>\n",
       "      <td>20180</td>\n",
       "      <td>2.03</td>\n",
       "      <td>154</td>\n",
       "      <td>287.50</td>\n",
       "      <td>3831</td>\n",
       "      <td>0.7800</td>\n",
       "      <td>161170</td>\n",
       "      <td>1.180</td>\n",
       "    </tr>\n",
       "    <tr>\n",
       "      <th>5</th>\n",
       "      <td>202011022</td>\n",
       "      <td>2018-01-01</td>\n",
       "      <td>20422</td>\n",
       "      <td>1.93</td>\n",
       "      <td>144</td>\n",
       "      <td>300.00</td>\n",
       "      <td>3553</td>\n",
       "      <td>0.7058</td>\n",
       "      <td>168310</td>\n",
       "      <td>1.145</td>\n",
       "    </tr>\n",
       "    <tr>\n",
       "      <th>6</th>\n",
       "      <td>202011022</td>\n",
       "      <td>2019-01-01</td>\n",
       "      <td>20690</td>\n",
       "      <td>0.77</td>\n",
       "      <td>150</td>\n",
       "      <td>312.50</td>\n",
       "      <td>3297</td>\n",
       "      <td>0.7006</td>\n",
       "      <td>150630</td>\n",
       "      <td>1.110</td>\n",
       "    </tr>\n",
       "  </tbody>\n",
       "</table>\n",
       "</div>"
      ],
      "text/plain": [
       "         SA2       year  population  bond  price_index  median_rent  \\\n",
       "2  202011022 2015-01-01       19742  2.10          126       278.75   \n",
       "3  202011022 2016-01-01       19947  1.97          140       280.75   \n",
       "4  202011022 2017-01-01       20180  2.03          154       287.50   \n",
       "5  202011022 2018-01-01       20422  1.93          144       300.00   \n",
       "6  202011022 2019-01-01       20690  0.77          150       312.50   \n",
       "\n",
       "   deal_count  to_USD  immi_count  debt_ratio  \n",
       "2        4139  0.7306      140220       0.850  \n",
       "3        4094  0.7236      159630       1.015  \n",
       "4        3831  0.7800      161170       1.180  \n",
       "5        3553  0.7058      168310       1.145  \n",
       "6        3297  0.7006      150630       1.110  "
      ]
     },
     "execution_count": 7,
     "metadata": {},
     "output_type": "execute_result"
    }
   ],
   "source": [
    "# 默认显示后5行\n",
    "\n",
    "dataset.tail()"
   ]
  },
  {
   "cell_type": "code",
   "execution_count": 8,
   "metadata": {},
   "outputs": [
    {
     "name": "stdout",
     "output_type": "stream",
     "text": [
      "<class 'pandas.core.frame.DataFrame'>\n",
      "RangeIndex: 7 entries, 0 to 6\n",
      "Data columns (total 10 columns):\n",
      " #   Column       Non-Null Count  Dtype         \n",
      "---  ------       --------------  -----         \n",
      " 0   SA2          7 non-null      object        \n",
      " 1   year         7 non-null      datetime64[ns]\n",
      " 2   population   7 non-null      int64         \n",
      " 3   bond         7 non-null      float64       \n",
      " 4   price_index  7 non-null      int64         \n",
      " 5   median_rent  7 non-null      float64       \n",
      " 6   deal_count   7 non-null      int64         \n",
      " 7   to_USD       7 non-null      float64       \n",
      " 8   immi_count   7 non-null      int64         \n",
      " 9   debt_ratio   7 non-null      float64       \n",
      "dtypes: datetime64[ns](1), float64(4), int64(4), object(1)\n",
      "memory usage: 688.0+ bytes\n"
     ]
    }
   ],
   "source": [
    "# 数据集信息\n",
    "\n",
    "dataset.info()"
   ]
  },
  {
   "cell_type": "code",
   "execution_count": 9,
   "metadata": {},
   "outputs": [
    {
     "data": {
      "text/html": [
       "<div>\n",
       "<style scoped>\n",
       "    .dataframe tbody tr th:only-of-type {\n",
       "        vertical-align: middle;\n",
       "    }\n",
       "\n",
       "    .dataframe tbody tr th {\n",
       "        vertical-align: top;\n",
       "    }\n",
       "\n",
       "    .dataframe thead th {\n",
       "        text-align: right;\n",
       "    }\n",
       "</style>\n",
       "<table border=\"1\" class=\"dataframe\">\n",
       "  <thead>\n",
       "    <tr style=\"text-align: right;\">\n",
       "      <th></th>\n",
       "      <th>population</th>\n",
       "      <th>bond</th>\n",
       "      <th>price_index</th>\n",
       "      <th>median_rent</th>\n",
       "      <th>deal_count</th>\n",
       "      <th>to_USD</th>\n",
       "      <th>immi_count</th>\n",
       "      <th>debt_ratio</th>\n",
       "    </tr>\n",
       "  </thead>\n",
       "  <tbody>\n",
       "    <tr>\n",
       "      <th>count</th>\n",
       "      <td>7.000000</td>\n",
       "      <td>7.000000</td>\n",
       "      <td>7.000000</td>\n",
       "      <td>7.000000</td>\n",
       "      <td>7.000000</td>\n",
       "      <td>7.000000</td>\n",
       "      <td>7.000000</td>\n",
       "      <td>7.000000</td>\n",
       "    </tr>\n",
       "    <tr>\n",
       "      <th>mean</th>\n",
       "      <td>19988.714286</td>\n",
       "      <td>2.005714</td>\n",
       "      <td>134.000000</td>\n",
       "      <td>288.142857</td>\n",
       "      <td>3814.714286</td>\n",
       "      <td>0.765086</td>\n",
       "      <td>147197.142857</td>\n",
       "      <td>1.002143</td>\n",
       "    </tr>\n",
       "    <tr>\n",
       "      <th>std</th>\n",
       "      <td>471.551239</td>\n",
       "      <td>0.649278</td>\n",
       "      <td>17.521415</td>\n",
       "      <td>13.271097</td>\n",
       "      <td>300.885756</td>\n",
       "      <td>0.071495</td>\n",
       "      <td>17513.930374</td>\n",
       "      <td>0.146539</td>\n",
       "    </tr>\n",
       "    <tr>\n",
       "      <th>min</th>\n",
       "      <td>19377.000000</td>\n",
       "      <td>0.770000</td>\n",
       "      <td>109.000000</td>\n",
       "      <td>277.500000</td>\n",
       "      <td>3297.000000</td>\n",
       "      <td>0.700600</td>\n",
       "      <td>122250.000000</td>\n",
       "      <td>0.850000</td>\n",
       "    </tr>\n",
       "    <tr>\n",
       "      <th>25%</th>\n",
       "      <td>19652.500000</td>\n",
       "      <td>1.950000</td>\n",
       "      <td>120.500000</td>\n",
       "      <td>279.375000</td>\n",
       "      <td>3687.500000</td>\n",
       "      <td>0.714700</td>\n",
       "      <td>134195.000000</td>\n",
       "      <td>0.857500</td>\n",
       "    </tr>\n",
       "    <tr>\n",
       "      <th>50%</th>\n",
       "      <td>19947.000000</td>\n",
       "      <td>2.030000</td>\n",
       "      <td>140.000000</td>\n",
       "      <td>280.750000</td>\n",
       "      <td>3831.000000</td>\n",
       "      <td>0.730600</td>\n",
       "      <td>150630.000000</td>\n",
       "      <td>1.015000</td>\n",
       "    </tr>\n",
       "    <tr>\n",
       "      <th>75%</th>\n",
       "      <td>20301.000000</td>\n",
       "      <td>2.190000</td>\n",
       "      <td>147.000000</td>\n",
       "      <td>293.750000</td>\n",
       "      <td>4030.500000</td>\n",
       "      <td>0.800100</td>\n",
       "      <td>160400.000000</td>\n",
       "      <td>1.127500</td>\n",
       "    </tr>\n",
       "    <tr>\n",
       "      <th>max</th>\n",
       "      <td>20690.000000</td>\n",
       "      <td>2.960000</td>\n",
       "      <td>154.000000</td>\n",
       "      <td>312.500000</td>\n",
       "      <td>4139.000000</td>\n",
       "      <td>0.894800</td>\n",
       "      <td>168310.000000</td>\n",
       "      <td>1.180000</td>\n",
       "    </tr>\n",
       "  </tbody>\n",
       "</table>\n",
       "</div>"
      ],
      "text/plain": [
       "         population      bond  price_index  median_rent   deal_count  \\\n",
       "count      7.000000  7.000000     7.000000     7.000000     7.000000   \n",
       "mean   19988.714286  2.005714   134.000000   288.142857  3814.714286   \n",
       "std      471.551239  0.649278    17.521415    13.271097   300.885756   \n",
       "min    19377.000000  0.770000   109.000000   277.500000  3297.000000   \n",
       "25%    19652.500000  1.950000   120.500000   279.375000  3687.500000   \n",
       "50%    19947.000000  2.030000   140.000000   280.750000  3831.000000   \n",
       "75%    20301.000000  2.190000   147.000000   293.750000  4030.500000   \n",
       "max    20690.000000  2.960000   154.000000   312.500000  4139.000000   \n",
       "\n",
       "         to_USD     immi_count  debt_ratio  \n",
       "count  7.000000       7.000000    7.000000  \n",
       "mean   0.765086  147197.142857    1.002143  \n",
       "std    0.071495   17513.930374    0.146539  \n",
       "min    0.700600  122250.000000    0.850000  \n",
       "25%    0.714700  134195.000000    0.857500  \n",
       "50%    0.730600  150630.000000    1.015000  \n",
       "75%    0.800100  160400.000000    1.127500  \n",
       "max    0.894800  168310.000000    1.180000  "
      ]
     },
     "execution_count": 9,
     "metadata": {},
     "output_type": "execute_result"
    }
   ],
   "source": [
    "# 数据集描述\n",
    "\n",
    "dataset.describe()"
   ]
  },
  {
   "cell_type": "markdown",
   "metadata": {},
   "source": [
    "### 第2步：数据集可视化"
   ]
  },
  {
   "cell_type": "code",
   "execution_count": 10,
   "metadata": {
    "tags": []
   },
   "outputs": [
    {
     "data": {
      "image/png": "[encoded data removed]",
      "text/plain": [
       "<Figure size 1600x800 with 1 Axes>"
      ]
     },
     "metadata": {},
     "output_type": "display_data"
    }
   ],
   "source": [
    "plt.figure(figsize=(16,8))\n",
    "sns.pointplot(x='population', y='median_rent', data=dataset)\n",
    "plt.show()"
   ]
  },
  {
   "cell_type": "code",
   "execution_count": 11,
   "metadata": {
    "tags": []
   },
   "outputs": [
    {
     "data": {
      "image/png": "[encoded data removed]",
      "text/plain": [
       "<Figure size 1600x800 with 1 Axes>"
      ]
     },
     "metadata": {},
     "output_type": "display_data"
    }
   ],
   "source": [
    "plt.figure(figsize=(16,8))\n",
    "sns.lineplot(x='bond', y='median_rent', data=dataset)\n",
    "plt.show()"
   ]
  },
  {
   "cell_type": "code",
   "execution_count": 12,
   "metadata": {
    "tags": []
   },
   "outputs": [
    {
     "data": {
      "image/png": "[encoded data removed]",
      "text/plain": [
       "<Figure size 1600x800 with 1 Axes>"
      ]
     },
     "metadata": {},
     "output_type": "display_data"
    }
   ],
   "source": [
    "plt.figure(figsize=(16,8))\n",
    "sns.lineplot(x='deal_count', y='median_rent', data=dataset)\n",
    "plt.xticks([])\n",
    "plt.show()"
   ]
  },
  {
   "cell_type": "code",
   "execution_count": 13,
   "metadata": {},
   "outputs": [],
   "source": [
    "dataset.drop(columns=['SA2'], axis=1, inplace=True)"
   ]
  },
  {
   "cell_type": "code",
   "execution_count": 14,
   "metadata": {},
   "outputs": [],
   "source": [
    "dataset.set_index(keys='year', inplace=True)"
   ]
  },
  {
   "cell_type": "code",
   "execution_count": 15,
   "metadata": {},
   "outputs": [
    {
     "data": {
      "text/html": [
       "<div>\n",
       "<style scoped>\n",
       "    .dataframe tbody tr th:only-of-type {\n",
       "        vertical-align: middle;\n",
       "    }\n",
       "\n",
       "    .dataframe tbody tr th {\n",
       "        vertical-align: top;\n",
       "    }\n",
       "\n",
       "    .dataframe thead th {\n",
       "        text-align: right;\n",
       "    }\n",
       "</style>\n",
       "<table border=\"1\" class=\"dataframe\">\n",
       "  <thead>\n",
       "    <tr style=\"text-align: right;\">\n",
       "      <th></th>\n",
       "      <th>population</th>\n",
       "      <th>bond</th>\n",
       "      <th>price_index</th>\n",
       "      <th>median_rent</th>\n",
       "      <th>deal_count</th>\n",
       "      <th>to_USD</th>\n",
       "      <th>immi_count</th>\n",
       "      <th>debt_ratio</th>\n",
       "    </tr>\n",
       "    <tr>\n",
       "      <th>year</th>\n",
       "      <th></th>\n",
       "      <th></th>\n",
       "      <th></th>\n",
       "      <th></th>\n",
       "      <th></th>\n",
       "      <th></th>\n",
       "      <th></th>\n",
       "      <th></th>\n",
       "    </tr>\n",
       "  </thead>\n",
       "  <tbody>\n",
       "    <tr>\n",
       "      <th>2013-01-01</th>\n",
       "      <td>19377</td>\n",
       "      <td>2.96</td>\n",
       "      <td>109</td>\n",
       "      <td>277.50</td>\n",
       "      <td>3822</td>\n",
       "      <td>0.8948</td>\n",
       "      <td>122250</td>\n",
       "      <td>0.860</td>\n",
       "    </tr>\n",
       "    <tr>\n",
       "      <th>2014-01-01</th>\n",
       "      <td>19563</td>\n",
       "      <td>2.28</td>\n",
       "      <td>115</td>\n",
       "      <td>280.00</td>\n",
       "      <td>3967</td>\n",
       "      <td>0.8202</td>\n",
       "      <td>128170</td>\n",
       "      <td>0.855</td>\n",
       "    </tr>\n",
       "    <tr>\n",
       "      <th>2015-01-01</th>\n",
       "      <td>19742</td>\n",
       "      <td>2.10</td>\n",
       "      <td>126</td>\n",
       "      <td>278.75</td>\n",
       "      <td>4139</td>\n",
       "      <td>0.7306</td>\n",
       "      <td>140220</td>\n",
       "      <td>0.850</td>\n",
       "    </tr>\n",
       "    <tr>\n",
       "      <th>2016-01-01</th>\n",
       "      <td>19947</td>\n",
       "      <td>1.97</td>\n",
       "      <td>140</td>\n",
       "      <td>280.75</td>\n",
       "      <td>4094</td>\n",
       "      <td>0.7236</td>\n",
       "      <td>159630</td>\n",
       "      <td>1.015</td>\n",
       "    </tr>\n",
       "    <tr>\n",
       "      <th>2017-01-01</th>\n",
       "      <td>20180</td>\n",
       "      <td>2.03</td>\n",
       "      <td>154</td>\n",
       "      <td>287.50</td>\n",
       "      <td>3831</td>\n",
       "      <td>0.7800</td>\n",
       "      <td>161170</td>\n",
       "      <td>1.180</td>\n",
       "    </tr>\n",
       "  </tbody>\n",
       "</table>\n",
       "</div>"
      ],
      "text/plain": [
       "            population  bond  price_index  median_rent  deal_count  to_USD  \\\n",
       "year                                                                         \n",
       "2013-01-01       19377  2.96          109       277.50        3822  0.8948   \n",
       "2014-01-01       19563  2.28          115       280.00        3967  0.8202   \n",
       "2015-01-01       19742  2.10          126       278.75        4139  0.7306   \n",
       "2016-01-01       19947  1.97          140       280.75        4094  0.7236   \n",
       "2017-01-01       20180  2.03          154       287.50        3831  0.7800   \n",
       "\n",
       "            immi_count  debt_ratio  \n",
       "year                                \n",
       "2013-01-01      122250       0.860  \n",
       "2014-01-01      128170       0.855  \n",
       "2015-01-01      140220       0.850  \n",
       "2016-01-01      159630       1.015  \n",
       "2017-01-01      161170       1.180  "
      ]
     },
     "execution_count": 15,
     "metadata": {},
     "output_type": "execute_result"
    }
   ],
   "source": [
    "dataset.head()"
   ]
  },
  {
   "cell_type": "code",
   "execution_count": 16,
   "metadata": {},
   "outputs": [],
   "source": [
    "# 分别对字段t1, t2, hum, wind_speed进行归一化\n",
    "\n",
    "columns = ['population', 'bond', 'price_index', 'deal_count', 'to_USD', \n",
    "           'immi_count', 'debt_ratio', 'median_rent']\n",
    "\n",
    "for col in columns:\n",
    "    scaler = MinMaxScaler()\n",
    "    dataset[col] = scaler.fit_transform(dataset[col].values.reshape(-1,1))"
   ]
  },
  {
   "cell_type": "code",
   "execution_count": 17,
   "metadata": {},
   "outputs": [
    {
     "data": {
      "text/html": [
       "<div>\n",
       "<style scoped>\n",
       "    .dataframe tbody tr th:only-of-type {\n",
       "        vertical-align: middle;\n",
       "    }\n",
       "\n",
       "    .dataframe tbody tr th {\n",
       "        vertical-align: top;\n",
       "    }\n",
       "\n",
       "    .dataframe thead th {\n",
       "        text-align: right;\n",
       "    }\n",
       "</style>\n",
       "<table border=\"1\" class=\"dataframe\">\n",
       "  <thead>\n",
       "    <tr style=\"text-align: right;\">\n",
       "      <th></th>\n",
       "      <th>population</th>\n",
       "      <th>bond</th>\n",
       "      <th>price_index</th>\n",
       "      <th>median_rent</th>\n",
       "      <th>deal_count</th>\n",
       "      <th>to_USD</th>\n",
       "      <th>immi_count</th>\n",
       "      <th>debt_ratio</th>\n",
       "    </tr>\n",
       "    <tr>\n",
       "      <th>year</th>\n",
       "      <th></th>\n",
       "      <th></th>\n",
       "      <th></th>\n",
       "      <th></th>\n",
       "      <th></th>\n",
       "      <th></th>\n",
       "      <th></th>\n",
       "      <th></th>\n",
       "    </tr>\n",
       "  </thead>\n",
       "  <tbody>\n",
       "    <tr>\n",
       "      <th>2013-01-01</th>\n",
       "      <td>0.000000</td>\n",
       "      <td>1.000000</td>\n",
       "      <td>0.000000</td>\n",
       "      <td>0.000000</td>\n",
       "      <td>0.623515</td>\n",
       "      <td>1.000000</td>\n",
       "      <td>0.000000</td>\n",
       "      <td>0.030303</td>\n",
       "    </tr>\n",
       "    <tr>\n",
       "      <th>2014-01-01</th>\n",
       "      <td>0.141660</td>\n",
       "      <td>0.689498</td>\n",
       "      <td>0.133333</td>\n",
       "      <td>0.071429</td>\n",
       "      <td>0.795724</td>\n",
       "      <td>0.615860</td>\n",
       "      <td>0.128528</td>\n",
       "      <td>0.015152</td>\n",
       "    </tr>\n",
       "    <tr>\n",
       "      <th>2015-01-01</th>\n",
       "      <td>0.277989</td>\n",
       "      <td>0.607306</td>\n",
       "      <td>0.377778</td>\n",
       "      <td>0.035714</td>\n",
       "      <td>1.000000</td>\n",
       "      <td>0.154480</td>\n",
       "      <td>0.390143</td>\n",
       "      <td>0.000000</td>\n",
       "    </tr>\n",
       "    <tr>\n",
       "      <th>2016-01-01</th>\n",
       "      <td>0.434120</td>\n",
       "      <td>0.547945</td>\n",
       "      <td>0.688889</td>\n",
       "      <td>0.092857</td>\n",
       "      <td>0.946556</td>\n",
       "      <td>0.118435</td>\n",
       "      <td>0.811550</td>\n",
       "      <td>0.500000</td>\n",
       "    </tr>\n",
       "    <tr>\n",
       "      <th>2017-01-01</th>\n",
       "      <td>0.611577</td>\n",
       "      <td>0.575342</td>\n",
       "      <td>1.000000</td>\n",
       "      <td>0.285714</td>\n",
       "      <td>0.634204</td>\n",
       "      <td>0.408857</td>\n",
       "      <td>0.844985</td>\n",
       "      <td>1.000000</td>\n",
       "    </tr>\n",
       "  </tbody>\n",
       "</table>\n",
       "</div>"
      ],
      "text/plain": [
       "            population      bond  price_index  median_rent  deal_count  \\\n",
       "year                                                                     \n",
       "2013-01-01    0.000000  1.000000     0.000000     0.000000    0.623515   \n",
       "2014-01-01    0.141660  0.689498     0.133333     0.071429    0.795724   \n",
       "2015-01-01    0.277989  0.607306     0.377778     0.035714    1.000000   \n",
       "2016-01-01    0.434120  0.547945     0.688889     0.092857    0.946556   \n",
       "2017-01-01    0.611577  0.575342     1.000000     0.285714    0.634204   \n",
       "\n",
       "              to_USD  immi_count  debt_ratio  \n",
       "year                                          \n",
       "2013-01-01  1.000000    0.000000    0.030303  \n",
       "2014-01-01  0.615860    0.128528    0.015152  \n",
       "2015-01-01  0.154480    0.390143    0.000000  \n",
       "2016-01-01  0.118435    0.811550    0.500000  \n",
       "2017-01-01  0.408857    0.844985    1.000000  "
      ]
     },
     "execution_count": 17,
     "metadata": {},
     "output_type": "execute_result"
    }
   ],
   "source": [
    "dataset.head()"
   ]
  },
  {
   "cell_type": "markdown",
   "metadata": {},
   "source": [
    "### 第4步：特征工程"
   ]
  },
  {
   "cell_type": "code",
   "execution_count": 18,
   "metadata": {},
   "outputs": [],
   "source": [
    "# 特征数据集\n",
    "\n",
    "X = dataset.drop(columns=['median_rent'], axis=1)\n",
    "\n",
    "# 标签数据集\n",
    "\n",
    "y = dataset['median_rent']"
   ]
  },
  {
   "cell_type": "code",
   "execution_count": 19,
   "metadata": {},
   "outputs": [
    {
     "data": {
      "text/plain": [
       "(7, 7)"
      ]
     },
     "execution_count": 19,
     "metadata": {},
     "output_type": "execute_result"
    }
   ],
   "source": [
    "X.shape"
   ]
  },
  {
   "cell_type": "code",
   "execution_count": 20,
   "metadata": {},
   "outputs": [
    {
     "data": {
      "text/plain": [
       "(7,)"
      ]
     },
     "execution_count": 20,
     "metadata": {},
     "output_type": "execute_result"
    }
   ],
   "source": [
    "y.shape"
   ]
  },
  {
   "cell_type": "code",
   "execution_count": 21,
   "metadata": {},
   "outputs": [],
   "source": [
    "# 1 数据集分离： X_train, X_test\n",
    "# 数据量太少不区分训练集测试集\n",
    "X_train, X_test, y_train, y_test = train_test_split(X, y, test_size=0.2, shuffle=False, random_state=666)\n",
    "# X_train, y_train = X, y"
   ]
  },
  {
   "cell_type": "code",
   "execution_count": 22,
   "metadata": {},
   "outputs": [
    {
     "data": {
      "text/plain": [
       "(5, 7)"
      ]
     },
     "execution_count": 22,
     "metadata": {},
     "output_type": "execute_result"
    }
   ],
   "source": [
    "X_train.shape"
   ]
  },
  {
   "cell_type": "code",
   "execution_count": 23,
   "metadata": {},
   "outputs": [
    {
     "data": {
      "text/plain": [
       "(5,)"
      ]
     },
     "execution_count": 23,
     "metadata": {},
     "output_type": "execute_result"
    }
   ],
   "source": [
    "y_train.shape"
   ]
  },
  {
   "cell_type": "code",
   "execution_count": 24,
   "metadata": {},
   "outputs": [
    {
     "data": {
      "text/html": [
       "<div>\n",
       "<style scoped>\n",
       "    .dataframe tbody tr th:only-of-type {\n",
       "        vertical-align: middle;\n",
       "    }\n",
       "\n",
       "    .dataframe tbody tr th {\n",
       "        vertical-align: top;\n",
       "    }\n",
       "\n",
       "    .dataframe thead th {\n",
       "        text-align: right;\n",
       "    }\n",
       "</style>\n",
       "<table border=\"1\" class=\"dataframe\">\n",
       "  <thead>\n",
       "    <tr style=\"text-align: right;\">\n",
       "      <th></th>\n",
       "      <th>population</th>\n",
       "      <th>bond</th>\n",
       "      <th>price_index</th>\n",
       "      <th>deal_count</th>\n",
       "      <th>to_USD</th>\n",
       "      <th>immi_count</th>\n",
       "      <th>debt_ratio</th>\n",
       "    </tr>\n",
       "    <tr>\n",
       "      <th>year</th>\n",
       "      <th></th>\n",
       "      <th></th>\n",
       "      <th></th>\n",
       "      <th></th>\n",
       "      <th></th>\n",
       "      <th></th>\n",
       "      <th></th>\n",
       "    </tr>\n",
       "  </thead>\n",
       "  <tbody>\n",
       "    <tr>\n",
       "      <th>2013-01-01</th>\n",
       "      <td>0.000000</td>\n",
       "      <td>1.000000</td>\n",
       "      <td>0.000000</td>\n",
       "      <td>0.623515</td>\n",
       "      <td>1.000000</td>\n",
       "      <td>0.000000</td>\n",
       "      <td>0.030303</td>\n",
       "    </tr>\n",
       "    <tr>\n",
       "      <th>2014-01-01</th>\n",
       "      <td>0.141660</td>\n",
       "      <td>0.689498</td>\n",
       "      <td>0.133333</td>\n",
       "      <td>0.795724</td>\n",
       "      <td>0.615860</td>\n",
       "      <td>0.128528</td>\n",
       "      <td>0.015152</td>\n",
       "    </tr>\n",
       "    <tr>\n",
       "      <th>2015-01-01</th>\n",
       "      <td>0.277989</td>\n",
       "      <td>0.607306</td>\n",
       "      <td>0.377778</td>\n",
       "      <td>1.000000</td>\n",
       "      <td>0.154480</td>\n",
       "      <td>0.390143</td>\n",
       "      <td>0.000000</td>\n",
       "    </tr>\n",
       "    <tr>\n",
       "      <th>2016-01-01</th>\n",
       "      <td>0.434120</td>\n",
       "      <td>0.547945</td>\n",
       "      <td>0.688889</td>\n",
       "      <td>0.946556</td>\n",
       "      <td>0.118435</td>\n",
       "      <td>0.811550</td>\n",
       "      <td>0.500000</td>\n",
       "    </tr>\n",
       "    <tr>\n",
       "      <th>2017-01-01</th>\n",
       "      <td>0.611577</td>\n",
       "      <td>0.575342</td>\n",
       "      <td>1.000000</td>\n",
       "      <td>0.634204</td>\n",
       "      <td>0.408857</td>\n",
       "      <td>0.844985</td>\n",
       "      <td>1.000000</td>\n",
       "    </tr>\n",
       "  </tbody>\n",
       "</table>\n",
       "</div>"
      ],
      "text/plain": [
       "            population      bond  price_index  deal_count    to_USD  \\\n",
       "year                                                                  \n",
       "2013-01-01    0.000000  1.000000     0.000000    0.623515  1.000000   \n",
       "2014-01-01    0.141660  0.689498     0.133333    0.795724  0.615860   \n",
       "2015-01-01    0.277989  0.607306     0.377778    1.000000  0.154480   \n",
       "2016-01-01    0.434120  0.547945     0.688889    0.946556  0.118435   \n",
       "2017-01-01    0.611577  0.575342     1.000000    0.634204  0.408857   \n",
       "\n",
       "            immi_count  debt_ratio  \n",
       "year                                \n",
       "2013-01-01    0.000000    0.030303  \n",
       "2014-01-01    0.128528    0.015152  \n",
       "2015-01-01    0.390143    0.000000  \n",
       "2016-01-01    0.811550    0.500000  \n",
       "2017-01-01    0.844985    1.000000  "
      ]
     },
     "execution_count": 24,
     "metadata": {},
     "output_type": "execute_result"
    }
   ],
   "source": [
    "X_train.head()"
   ]
  },
  {
   "cell_type": "code",
   "execution_count": 25,
   "metadata": {},
   "outputs": [],
   "source": [
    "# 2 构造特征数据集\n",
    "\n",
    "def create_dataset(X, y, seq_len=1):\n",
    "    features = []\n",
    "    targets = []\n",
    "    for i in range(0, len(X) - seq_len):\n",
    "        data = X.iloc[i:i+seq_len] # 序列数据\n",
    "        label = y.iloc[i+seq_len] # 标签数据\n",
    "        # 保存到features和labels\n",
    "        features.append(data)\n",
    "        targets.append(label)\n",
    "    # 返回\n",
    "    return np.array(features), np.array(targets)"
   ]
  },
  {
   "cell_type": "code",
   "execution_count": 26,
   "metadata": {},
   "outputs": [],
   "source": [
    "# 构造训练特征数据集\n",
    "\n",
    "train_dataset, train_labels = create_dataset(X_train, y_train, seq_len=1)"
   ]
  },
  {
   "cell_type": "code",
   "execution_count": 27,
   "metadata": {},
   "outputs": [
    {
     "data": {
      "text/plain": [
       "(4, 1, 7)"
      ]
     },
     "execution_count": 27,
     "metadata": {},
     "output_type": "execute_result"
    }
   ],
   "source": [
    "train_dataset.shape"
   ]
  },
  {
   "cell_type": "code",
   "execution_count": 28,
   "metadata": {},
   "outputs": [
    {
     "data": {
      "text/plain": [
       "(4,)"
      ]
     },
     "execution_count": 28,
     "metadata": {},
     "output_type": "execute_result"
    }
   ],
   "source": [
    "train_labels.shape"
   ]
  },
  {
   "cell_type": "code",
   "execution_count": 29,
   "metadata": {},
   "outputs": [],
   "source": [
    "# ② 构造测试特征数据集\n",
    "\n",
    "test_dataset, test_labels = create_dataset(X_test, y_test, seq_len=1)"
   ]
  },
  {
   "cell_type": "code",
   "execution_count": 30,
   "metadata": {},
   "outputs": [],
   "source": [
    "# 3 构造批数据\n",
    "\n",
    "def create_batch_dataset(X, y, train=True, buffer_size=1000, batch_size=128):\n",
    "    batch_data = tf.data.Dataset.from_tensor_slices((tf.constant(X), tf.constant(y))) # 数据封装，tensor类型\n",
    "    if train: # 训练集\n",
    "        return batch_data.cache().shuffle(buffer_size).batch(batch_size)\n",
    "    else: # 测试集\n",
    "        return batch_data.batch(batch_size)"
   ]
  },
  {
   "cell_type": "code",
   "execution_count": 31,
   "metadata": {},
   "outputs": [],
   "source": [
    "# 训练批数据\n",
    "\n",
    "train_batch_dataset = create_batch_dataset(train_dataset, train_labels)"
   ]
  },
  {
   "cell_type": "code",
   "execution_count": 32,
   "metadata": {},
   "outputs": [],
   "source": [
    "# 测试批数据\n",
    "\n",
    "test_batch_dataset = create_batch_dataset(test_dataset, test_labels, train=False)"
   ]
  },
  {
   "cell_type": "code",
   "execution_count": 33,
   "metadata": {
    "scrolled": true
   },
   "outputs": [
    {
     "data": {
      "text/plain": [
       "(array([[[0.        , 1.        , 0.        , 0.62351544, 1.        ,\n",
       "          0.        , 0.03030303]],\n",
       " \n",
       "        [[0.27798934, 0.60730594, 0.37777778, 1.        , 0.15447992,\n",
       "          0.39014329, 0.        ]],\n",
       " \n",
       "        [[0.43412034, 0.54794521, 0.68888889, 0.94655582, 0.1184346 ,\n",
       "          0.81155015, 0.5       ]],\n",
       " \n",
       "        [[0.14166032, 0.68949772, 0.13333333, 0.79572447, 0.61585994,\n",
       "          0.12852801, 0.01515152]]]),\n",
       " array([0.07142857, 0.09285714, 0.28571429, 0.03571429]))"
      ]
     },
     "execution_count": 33,
     "metadata": {},
     "output_type": "execute_result"
    }
   ],
   "source": [
    "# 从测试批数据中，获取一个batch_size的样本数据\n",
    "\n",
    "list(train_batch_dataset.as_numpy_iterator())[0]"
   ]
  },
  {
   "cell_type": "code",
   "execution_count": 34,
   "metadata": {},
   "outputs": [
    {
     "data": {
      "text/plain": [
       "(array([[[0.79588728, 0.52968037, 0.77777778, 0.304038  , 0.02677652,\n",
       "          1.        , 0.89393939]]]),\n",
       " array([1.]))"
      ]
     },
     "execution_count": 34,
     "metadata": {},
     "output_type": "execute_result"
    }
   ],
   "source": [
    "list(test_batch_dataset.as_numpy_iterator())[0]"
   ]
  },
  {
   "cell_type": "markdown",
   "metadata": {},
   "source": [
    "### 第5步：模型搭建、编译、训练"
   ]
  },
  {
   "cell_type": "code",
   "execution_count": 35,
   "metadata": {},
   "outputs": [],
   "source": [
    "# 模型搭建--版本1\n",
    "\n",
    "model = Sequential([\n",
    "    layers.LSTM(units=32, input_shape=train_dataset.shape[-2:], return_sequences=True),\n",
    "    layers.Dropout(0.4),\n",
    "    layers.Dense(1)\n",
    "])"
   ]
  },
  {
   "cell_type": "code",
   "execution_count": 36,
   "metadata": {},
   "outputs": [
    {
     "data": {
      "image/png": "[encoded data removed]",
      "text/plain": [
       "<IPython.core.display.Image object>"
      ]
     },
     "execution_count": 36,
     "metadata": {},
     "output_type": "execute_result"
    }
   ],
   "source": [
    "# 显示模型结构\n",
    "\n",
    "utils.plot_model(model)"
   ]
  },
  {
   "cell_type": "code",
   "execution_count": 37,
   "metadata": {},
   "outputs": [],
   "source": [
    "# 模型编译\n",
    "\n",
    "model.compile(optimizer='adam',\n",
    "              loss='mse')"
   ]
  },
  {
   "cell_type": "code",
   "execution_count": 38,
   "metadata": {},
   "outputs": [],
   "source": [
    "# 保存模型权重文件和训练日志\n",
    "log_file = '.\\\\logs\\\\'\n",
    "\n",
    "tensorboard_callback = TensorBoard(log_file)"
   ]
  },
  {
   "cell_type": "code",
   "execution_count": 39,
   "metadata": {},
   "outputs": [],
   "source": [
    "checkpoint_file = \"best_model.hdf5\"\n",
    "\n",
    "checkpoint_callback = ModelCheckpoint(filepath=checkpoint_file, \n",
    "                                      monitor='loss',\n",
    "                                      mode='min',\n",
    "                                      save_best_only=True,\n",
    "                                      save_weights_only=True)"
   ]
  },
  {
   "cell_type": "code",
   "execution_count": 40,
   "metadata": {
    "scrolled": true
   },
   "outputs": [
    {
     "name": "stdout",
     "output_type": "stream",
     "text": [
      "Epoch 1/3\n",
      "1/1 [==============================] - 1s 1s/step - loss: 0.0527\n",
      "Epoch 2/3\n",
      "1/1 [==============================] - 0s 9ms/step - loss: 0.0516\n",
      "Epoch 3/3\n",
      "1/1 [==============================] - 0s 9ms/step - loss: 0.0349\n"
     ]
    }
   ],
   "source": [
    "# 模型训练\n",
    "\n",
    "history = model.fit(train_batch_dataset,\n",
    "                    epochs=3,\n",
    "\n",
    "                    callbacks=[tensorboard_callback, checkpoint_callback])"
   ]
  },
  {
   "cell_type": "code",
   "execution_count": 41,
   "metadata": {},
   "outputs": [
    {
     "data": {
      "image/png": "[encoded data removed]",
      "text/plain": [
       "<Figure size 1600x800 with 1 Axes>"
      ]
     },
     "metadata": {},
     "output_type": "display_data"
    }
   ],
   "source": [
    "# 显示训练结果\n",
    "\n",
    "plt.figure(figsize=(16,8))\n",
    "plt.plot(history.history['loss'], label='train loss')\n",
    "plt.legend(loc='best')\n",
    "plt.show()"
   ]
  },
  {
   "cell_type": "code",
   "execution_count": null,
   "metadata": {},
   "outputs": [],
   "source": []
  }
 ],
 "metadata": {
  "kernelspec": {
   "display_name": "Python 3",
   "language": "python",
   "name": "python3"
  },
  "language_info": {
   "codemirror_mode": {
    "name": "ipython",
    "version": 3
   },
   "file_extension": ".py",
   "mimetype": "text/x-python",
   "name": "python",
   "nbconvert_exporter": "python",
   "pygments_lexer": "ipython3",
   "version": "3.8.3"
  }
 },
 "nbformat": 4,
 "nbformat_minor": 5
}
