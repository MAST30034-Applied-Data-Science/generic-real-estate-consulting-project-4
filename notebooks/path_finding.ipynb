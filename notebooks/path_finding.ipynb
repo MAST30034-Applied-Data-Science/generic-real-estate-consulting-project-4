{
 "cells": [
  {
   "cell_type": "markdown",
   "metadata": {},
   "source": [
    "## rent information with distance\n",
    "- ../data/curated/rent_distance.csv\n",
    "- rent_index (int), SA2 (int), rent (float), bedroom (int), baths (int), parking (int), Latitude (float), Longitude (float), school_dis (float), station_dis (float), cbd_dis (float)\n"
   ]
  },
  {
   "cell_type": "code",
   "execution_count": 1,
   "metadata": {},
   "outputs": [],
   "source": [
    "import geopandas as gpd\n",
    "import pandas as pd\n",
    "from openrouteservice import client\n",
    "import folium\n",
    "import numpy as np\n",
    "from folium.plugins import BeautifyIcon\n",
    "import fontawesome as fa\n",
    "from shapely.geometry import Polygon, LineString, Point\n",
    "import time\n",
    "from shapely.ops import cascaded_union\n",
    "\n",
    "INPUT_PATH = f\"../data/raw/\"\n",
    "# GIT\n",
    "TOKEN = \"5b3ce3597851110001cf62483f8783dee87f49d1a08c14865546e9d5\"\n",
    "# UNIMELB\n",
    "# TOKEN = \"5b3ce3597851110001cf62488e7bed0411524218994d57e759d00421\"\n",
    "ors = client.Client(key=TOKEN)\n",
    "SLEEP_TIME = 3.1\n",
    "\n",
    "params_route = {'profile': 'driving-car',\n",
    "            'format_out': 'geojson',\n",
    "            'geometry': 'true',\n",
    "            'format': 'geojson',\n",
    "            'instructions': 'false'\n",
    "            }\n"
   ]
  },
  {
   "cell_type": "code",
   "execution_count": 1,
   "metadata": {},
   "outputs": [],
   "source": [
    "def find_k_nearest(point, from_gdf, k):\n",
    "    \"\"\"\n",
    "        Find closed point to {point} from  {from_gdf}.geometry, return index in from_gdf\n",
    "        coor: Point,  coordinate of the start point\n",
    "        from_gdf: geopandas dataframe to search for closed point\n",
    "    \"\"\"\n",
    "    distance = from_gdf[\"geometry\"].distance(point).to_list()\n",
    "    index = from_gdf.index.to_list()\n",
    "    index_len = len(index)\n",
    "    output = sorted([[distance[i], int(index[i])] for i in range(index_len)])\n",
    "    \n",
    "    if k > len(output):\n",
    "        return [output[i][1] for i in range(len(output))]\n",
    "    else:\n",
    "        return [output[i][1] for i in range(k)]\n",
    "\n",
    "def point_wise_distance(point_from, point_to, params_route = {\n",
    "            'profile': 'driving-car',\n",
    "            'format_out': 'geojson',\n",
    "            'geometry': 'true',\n",
    "            'format': 'geojson',\n",
    "            'instructions': 'false'\n",
    "            }):\n",
    "    \"\"\"\n",
    "        Use OpenRouteService to request information about travelling\n",
    "            from {point_from} to {point_to} usingparams_route\n",
    "        point_from: Point object to travel from\n",
    "        point_to: Point object to travel to\n",
    "    \"\"\"\n",
    "    if not point_from or not point_to: return 0\n",
    "    time.sleep(SLEEP_TIME)\n",
    "    print(f\"requesting distance from {[point_from.x, point_from.y]} to {[point_to.x, point_to.y]}\")\n",
    "    params_route['coordinates'] = [[point_from.x, point_from.y], [point_to.x, point_to.y]]\n",
    "    \n",
    "    try:\n",
    "        json = ors.directions(**params_route)\n",
    "        distance = json['features'][0]['properties']['summary']['distance']\n",
    "        return distance\n",
    "    except Exception as e:\n",
    "        print(f\"\\n\\n{e}\\n\\n\")\n",
    "        return 0\n",
    "\n",
    "\n",
    "def point_wise_distance_shift(point_from, point_to, params_route = {\n",
    "            'profile': 'driving-car',\n",
    "            'format_out': 'geojson',\n",
    "            'geometry': 'true',\n",
    "            'format': 'geojson',\n",
    "            'instructions': 'false'\n",
    "            }, shift = 0.02):\n",
    "    \"\"\"\n",
    "        Use OpenRouteService to request information about travelling\n",
    "            from {point_from} to {point_to} usingparams_route\n",
    "        point_from: Point object to travel from\n",
    "        point_to: Point object to travel to\n",
    "        shift: shift the point_from's x coordinate with {shift} degree\n",
    "    \"\"\"\n",
    "    if not point_from or not point_to: return 0\n",
    "    time.sleep(SLEEP_TIME)\n",
    "    print(f\"requesting distance from {[point_from.x+shift, point_from.y]} to {[point_to.x, point_to.y]}\")\n",
    "    params_route['coordinates'] = [[point_from.x+shift, point_from.y], [point_to.x, point_to.y]]\n",
    "    \n",
    "    try:\n",
    "        json = ors.directions(**params_route)\n",
    "        distance = json['features'][0]['properties']['summary']['distance']\n",
    "        return distance\n",
    "    except Exception as e:\n",
    "        print(f\"\\n\\n{e}\\n\\n\")\n",
    "        return 0"
   ]
  },
  {
   "cell_type": "code",
   "execution_count": 3,
   "metadata": {},
   "outputs": [
    {
     "name": "stdout",
     "output_type": "stream",
     "text": [
      "requesting distance from [144.29047, -36.76841] to [144.30797, -36.76838]\n"
     ]
    }
   ],
   "source": [
    "point_a = Point(144.29047, -36.76841)\n",
    "point_b = Point(144.30797, -36.76838)\n",
    "json_route = point_wise_distance(point_a, point_b, params_route)"
   ]
  },
  {
   "cell_type": "markdown",
   "metadata": {},
   "source": [
    "## Distance to nearest school"
   ]
  },
  {
   "cell_type": "markdown",
   "metadata": {},
   "source": [
    "#### Load files"
   ]
  },
  {
   "cell_type": "code",
   "execution_count": 134,
   "metadata": {},
   "outputs": [
    {
     "name": "stdout",
     "output_type": "stream",
     "text": [
      "               SA2                     geometry\n",
      "rent_id                                        \n",
      "0        206021110  POINT (143.79387 -37.56307)\n",
      "1        206051134  POINT (143.77011 -37.54724)\n",
      "(3748, 2)\n",
      "SA2            int64\n",
      "geometry    geometry\n",
      "dtype: object\n"
     ]
    }
   ],
   "source": [
    "# read / prepare rent data\n",
    "rent_gdf = pd.read_csv(f\"../data/curated/rent.csv\").drop([\"geometry\"], axis=1).dropna()\n",
    "rent_gdf = gpd.GeoDataFrame(rent_gdf, geometry=gpd\\\n",
    "            .points_from_xy(rent_gdf[\"Longitude\"], rent_gdf[\"Latitude\"]))\n",
    "rent_gdf[\"geometry\"] = rent_gdf[\"geometry\"].set_crs(\"epsg:7844\")\n",
    "# rent_gdf[\"geometry\"] = rent_gdf[\"geometry\"].to_crs(\"+proj=longlat +ellps=WGS84 +datum=WGS84 +no_defs\")\n",
    "\n",
    "# feature seleciton on rent\n",
    "rent_gdf = rent_gdf[[\"rent_id\", \"SA2\", \"geometry\"]].set_index(\"rent_id\")\n",
    "\n",
    "print(rent_gdf.head(2))\n",
    "print(rent_gdf.shape)\n",
    "print(rent_gdf.dtypes)"
   ]
  },
  {
   "cell_type": "code",
   "execution_count": 102,
   "metadata": {},
   "outputs": [
    {
     "name": "stdout",
     "output_type": "stream",
     "text": [
      "     SA2_CODE21                                           geometry\n",
      "644   201011001  POLYGON ((143.78282 -37.56666, 143.75558 -37.5...\n",
      "645   201011002  POLYGON ((143.81896 -37.55582, 143.81644 -37.5...\n",
      "(522, 2)\n",
      "SA2_CODE21       int64\n",
      "geometry      geometry\n",
      "dtype: object\n",
      "                 SA2                     geometry\n",
      "school_id                                        \n",
      "0          201011001  POINT (143.80174 -37.55497)\n",
      "1          201011001  POINT (143.79995 -37.55349)\n",
      "(2269, 2)\n",
      "SA2            int64\n",
      "geometry    geometry\n",
      "dtype: object\n"
     ]
    }
   ],
   "source": [
    "# read local files\n",
    "boundary_gdf = gpd.read_file(f\"{INPUT_PATH}ABS/digitalBoundary/SA2_2021_AUST_GDA2020.shp\").dropna()\n",
    "school_gdf = pd.read_csv(f\"{INPUT_PATH}ACARA/School_location.csv\")\n",
    "school_gdf = gpd.GeoDataFrame(school_gdf, geometry=gpd\\\n",
    "            .points_from_xy(school_gdf[\"Longitude\"], school_gdf[\"Latitude\"])).dropna()\n",
    "school_gdf[\"geometry\"] = school_gdf[\"geometry\"].set_crs(\"epsg:7844\")\n",
    "\n",
    "# feature selction on boundary gdf\n",
    "boundary_gdf = boundary_gdf.loc[boundary_gdf[\"STE_NAME21\"] == \"Victoria\"]\n",
    "boundary_gdf = boundary_gdf[[\"SA2_CODE21\", \"geometry\"]]\n",
    "boundary_gdf[\"SA2_CODE21\"] = boundary_gdf[\"SA2_CODE21\"].astype(\"int64\")\n",
    "\n",
    "# feature seleciton on school gdf\n",
    "school_gdf = school_gdf[[\"school_id\", \"SA2\", \"geometry\"]].set_index(\"school_id\")\n",
    "school_gdf[\"SA2\"] = school_gdf[\"SA2\"].astype(\"int64\")\n",
    "school_gdf = school_gdf.drop_duplicates()\n",
    "\n",
    "print(boundary_gdf.head(2))\n",
    "print(boundary_gdf.shape)\n",
    "print(boundary_gdf.dtypes)\n",
    "\n",
    "print(school_gdf.head(2))\n",
    "print(school_gdf.shape)\n",
    "print(school_gdf.dtypes)"
   ]
  },
  {
   "cell_type": "code",
   "execution_count": 136,
   "metadata": {},
   "outputs": [],
   "source": [
    "# rent_gdf = rent_gdf.loc[rent_gdf[\"SA2\"] == 202011020]\n",
    "# boundary_gdf = boundary_gdf.loc[boundary_gdf[\"SA2_CODE21\"] == 202011020]\n",
    "# school_gdf = school_gdf.loc[school_gdf[\"SA2\"] == 202011020]\n",
    "\n",
    "# print(rent_gdf.head())\n",
    "# print(boundary_gdf.head())\n",
    "# print(school_gdf.head())"
   ]
  },
  {
   "cell_type": "markdown",
   "metadata": {},
   "source": [
    "#### Find school distance"
   ]
  },
  {
   "cell_type": "code",
   "execution_count": 137,
   "metadata": {},
   "outputs": [
    {
     "name": "stdout",
     "output_type": "stream",
     "text": [
      "(3748, 2)\n"
     ]
    }
   ],
   "source": [
    "point_class = type(Point(0, 1))\n",
    "\n",
    "rent_gdf[\"geometry\"] = rent_gdf[\"geometry\"].apply(lambda x: x if x.is_valid else None)\n",
    "rent_gdf = rent_gdf.dropna()\n",
    "\n",
    "print(rent_gdf.shape)\n"
   ]
  },
  {
   "cell_type": "code",
   "execution_count": 18,
   "metadata": {},
   "outputs": [],
   "source": [
    "rent_gdf[\"tar_point\"] = rent_gdf[\"geometry\"].apply(lambda x: school_gdf.loc[find_k_nearest(x, school_gdf, 1)][\"geometry\"].to_list()[0])\n",
    "rent_gdf[\"tar_distan\"] = 0\n",
    "\n",
    "print(rent_gdf.dtypes)\n",
    "\n",
    "# points_from_xy(rent_gdf[\"Longitude\"], rent_gdf[\"Latitude\"]))\n",
    "\n",
    "print(rent_gdf.head())\n",
    "print(rent_gdf.columns)\n",
    "print(rent_gdf.shape)\n",
    "rent_gdf[\"tar_lo\"] = rent_gdf[\"tar_point\"].apply(lambda x: x.x)\n",
    "rent_gdf[\"tar_la\"] = rent_gdf[\"tar_point\"].apply(lambda x: x.y)\n",
    "rent_gdf = rent_gdf.drop(\"tar_point\", axis=1)\n",
    "rent_gdf.to_file(filename=\"../data/curated/rent_school.shp\", index=\"rent_id\")"
   ]
  },
  {
   "cell_type": "markdown",
   "metadata": {},
   "source": [
    "#### Request distance"
   ]
  },
  {
   "cell_type": "code",
   "execution_count": 63,
   "metadata": {},
   "outputs": [],
   "source": [
    "# reqest for selected indexs only\n",
    "\n",
    "#rent_gdf = gpd.read_file(\"../data/curated/rent_school.shp\")\n",
    "# rent_gdf = rent_gdf.set_index(\"rent_id\")\n",
    "# rent_gdf[\"tar_point\"] = rent_gdf.apply(lambda x: Point(x[\"tar_lo\"], x[\"tar_la\"]), axis=1)\n",
    "# index = [2867, 2971, 3249, 3269, 3279, 3344]\n",
    "# print(start+gap*i, start+gap*(1+i))\n",
    "\n",
    "# print(rent_gdf.shape)\n",
    "\n",
    "# ## feature enginnering\n",
    "# rent_gdf.loc[index, \"tar_distan\"] = rent_gdf.loc[index].apply(lambda x: point_wise_distance(x[\"geometry\"], x[\"tar_point\"]), axis=1)\n",
    "\n",
    "\n",
    "# rent_gdf = rent_gdf.drop(\"tar_point\", axis=1)\n",
    "# rent_gdf.to_file(\"../data/curated/rent_school.shp\")\n",
    "# rent_gdf[[\"SA2\", \"tar_distan\"]].to_csv(\"../data/curated/rent_school.csv\")\n",
    "\n",
    "# print(f\"distance_pulled: from {start+gap*i} to {start+gap*(1+i)}\")\n",
    "# print(rent_gdf.loc[rent_gdf[\"tar_distan\"]!=0.0].shape)"
   ]
  },
  {
   "cell_type": "code",
   "execution_count": 16,
   "metadata": {},
   "outputs": [
    {
     "name": "stdout",
     "output_type": "stream",
     "text": [
      "      rent_id        SA2  tar_distan      tar_lo     tar_la  \\\n",
      "3743     3743  213041573       282.7  142.481482 -38.373613   \n",
      "3744     3744  203021040       931.0  142.456146 -38.378018   \n",
      "3745     3745  203021485      1306.5  142.497399 -38.389498   \n",
      "3746     3746  206011495       459.2  142.519533 -38.385247   \n",
      "3747     3747  212031458       253.6  142.477992 -38.378988   \n",
      "\n",
      "                         geometry  \n",
      "3743  POINT (142.48063 -38.37525)  \n",
      "3744  POINT (142.46395 -38.38286)  \n",
      "3745  POINT (142.49286 -38.38424)  \n",
      "3746  POINT (142.51554 -38.38682)  \n",
      "3747  POINT (142.47632 -38.38010)  \n",
      "(3748, 6)\n",
      "(0, 6)\n",
      "(3748, 6)\n"
     ]
    }
   ],
   "source": [
    "## check for failure pulls\n",
    "\n",
    "# rent_df = gpd.read_file(\"../data/curated/rent_school.shp\")\n",
    "# print(rent_df.loc[rent_df[\"tar_distan\"]!=0.0].tail())\n",
    "# print(rent_df.shape)\n",
    "# print(rent_df.loc[rent_df[\"tar_distan\"]==0.0].shape)\n",
    "# print(rent_df.loc[rent_df[\"tar_distan\"]!=0.0].shape)\n"
   ]
  },
  {
   "cell_type": "code",
   "execution_count": 18,
   "metadata": {},
   "outputs": [],
   "source": [
    "### last save: low: 2200, upper: 3350\n",
    "\n",
    "## read rent file\n",
    "# ['features'][0]['properties']['summary']['distance'])\n",
    "start = 3350\n",
    "gap = 50\n",
    "rounds = 8\n",
    "for i in range(rounds):\n",
    "    rent_gdf = gpd.read_file(\"../data/curated/rent_school.shp\")\n",
    "    rent_gdf = rent_gdf.set_index(\"rent_id\")\n",
    "    rent_gdf[\"tar_point\"] = rent_gdf.apply(lambda x: Point(x[\"tar_lo\"], x[\"tar_la\"]), axis=1)\n",
    "\n",
    "    if(start+gap*i > len(rent_gdf.index.to_list())): break\n",
    "    if(start+gap*(1+i) > len(rent_gdf.index.to_list())): \n",
    "        index = rent_gdf.index.to_list()[start+gap*i : len(rent_gdf.index.to_list())]\n",
    "    else:\n",
    "        index = rent_gdf.index.to_list()[start+gap*i : start+gap*(1+i)]\n",
    "    print(start+gap*i, start+gap*(1+i))\n",
    "\n",
    "    print(rent_gdf.shape)\n",
    "\n",
    "    ## feature enginnering\n",
    "    rent_gdf.loc[index, \"tar_distan\"] = rent_gdf.loc[index].apply(lambda x: point_wise_distance(x[\"geometry\"], x[\"tar_point\"]), axis=1)\n",
    "\n",
    "\n",
    "    rent_gdf = rent_gdf.drop(\"tar_point\", axis=1)\n",
    "    rent_gdf.to_file(\"../data/curated/rent_school.shp\")\n",
    "    rent_gdf[[\"SA2\", \"tar_distan\"]].to_csv(\"../data/curated/rent_school.csv\")\n",
    "\n",
    "    print(f\"distance_pulled: from {start+gap*i} to {start+gap*(1+i)}\")\n",
    "    print(rent_gdf.loc[rent_gdf[\"tar_distan\"]!=0.0].shape)\n",
    "    "
   ]
  },
  {
   "cell_type": "code",
   "execution_count": 10,
   "metadata": {},
   "outputs": [
    {
     "name": "stdout",
     "output_type": "stream",
     "text": [
      "(3748, 6)\n"
     ]
    }
   ],
   "source": [
    "## make backup files\n",
    "# rent_gdf = rent_gdf.drop(\"tar_point\", axis=1)\n",
    "rent_gdf.to_file(\"../data/curated/rent_school.shp\")\n",
    "rent_df = gpd.read_file(\"../data/curated/rent_school.shp\")\n",
    "print(rent_df.loc[rent_df[\"tar_distan\"]!=0.0].shape)"
   ]
  },
  {
   "cell_type": "markdown",
   "metadata": {},
   "source": [
    "## PTV station"
   ]
  },
  {
   "cell_type": "code",
   "execution_count": 129,
   "metadata": {},
   "outputs": [
    {
     "name": "stdout",
     "output_type": "stream",
     "text": [
      "(331, 1)\n",
      "                            geometry\n",
      "STOP_ID                             \n",
      "47647    POINT (144.60874 -37.87287)\n",
      "47648    POINT (144.69472 -37.83215)\n",
      "48804    POINT (144.60411 -37.71253)\n",
      "52011    POINT (144.73575 -37.76613)\n",
      "0        POINT (144.96257 -37.81361)\n"
     ]
    },
    {
     "name": "stderr",
     "output_type": "stream",
     "text": [
      "/tmp/ipykernel_561/1645532818.py:15: ShapelyDeprecationWarning: The 'cascaded_union()' function is deprecated. Use 'unary_union()' instead.\n",
      "  cbd = gpd.GeoSeries(cascaded_union(polygons))[0].centroid\n"
     ]
    }
   ],
   "source": [
    "ptv_dir = \"../data/raw/PTV/ll_gda2020/esrishape/whole_of_dataset/victoria/PUBLIC_TRANSPORT/\"\n",
    "## read data\n",
    "metro_train_gdf = gpd.read_file(f\"{ptv_dir}PTV_METRO_TRAIN_STATION.shp\")\n",
    "region_train_gdf = gpd.read_file(f\"{ptv_dir}PTV_REGIONAL_TRAIN_STATION.shp\")\n",
    "boundary_gdf = gpd.read_file(f\"{INPUT_PATH}ABS/digitalBoundary/SA2_2021_AUST_GDA2020.shp\").dropna()\n",
    "\n",
    "## feature selection on boundary data\n",
    "boundary_gdf = boundary_gdf.loc[boundary_gdf[\"STE_NAME21\"] == \"Victoria\"]\n",
    "boundary_gdf[\"SA2_CODE21\"] = boundary_gdf[\"SA2_CODE21\"].astype(\"int64\")\n",
    "\n",
    "## feature selection on station gdf\n",
    "metro_train_gdf = metro_train_gdf[[\"STOP_ID\", \"geometry\"]]\n",
    "region_train_gdf = region_train_gdf[[\"STOP_ID\", \"geometry\"]]\n",
    "polygons = boundary_gdf[boundary_gdf[\"SA2_NAME21\"].str.contains(\"Melbourne CBD\")][\"geometry\"].to_list()\n",
    "cbd = gpd.GeoSeries(cascaded_union(polygons))[0].centroid\n",
    "\n",
    "## convate station data\n",
    "station_gdf = gpd.GeoDataFrame(pd.concat([metro_train_gdf,region_train_gdf])).dropna().drop_duplicates().set_index(\"STOP_ID\")\n",
    "station_gdf.loc[0] = cbd\n",
    "station_gdf[\"geometry\"] = station_gdf[\"geometry\"].set_crs(\"epsg:7844\")\n",
    "station_gdf.index = station_gdf.index.map(int)\n",
    "\n",
    "print(station_gdf.shape)\n",
    "print(station_gdf.tail())"
   ]
  },
  {
   "cell_type": "code",
   "execution_count": 130,
   "metadata": {},
   "outputs": [
    {
     "name": "stdout",
     "output_type": "stream",
     "text": [
      "                            geometry\n",
      "STOP_ID                             \n",
      "19970    POINT (144.95231 -37.78118)\n",
      "19971    POINT (144.93933 -37.78813)\n",
      "(331, 1)\n",
      "geometry    geometry\n",
      "dtype: object\n",
      "               SA2                     geometry\n",
      "rent_id                                        \n",
      "0        206021110  POINT (143.79387 -37.56307)\n",
      "1        206051134  POINT (143.77011 -37.54724)\n",
      "(3748, 2)\n",
      "SA2            int64\n",
      "geometry    geometry\n",
      "dtype: object\n"
     ]
    }
   ],
   "source": [
    "# read / prepare rent data\n",
    "rent_gdf = pd.read_csv(f\"../data/curated/rent.csv\").drop([\"geometry\"], axis=1).dropna()\n",
    "rent_gdf = gpd.GeoDataFrame(rent_gdf, geometry=gpd\\\n",
    "            .points_from_xy(rent_gdf[\"Longitude\"], rent_gdf[\"Latitude\"]))\n",
    "rent_gdf[\"geometry\"] = rent_gdf[\"geometry\"].set_crs(\"epsg:7844\")\n",
    "\n",
    "# feature seleciton on rent\n",
    "rent_gdf = rent_gdf[[\"rent_id\", \"SA2\", \"geometry\"]].set_index(\"rent_id\")\n",
    "print(station_gdf.head(2))\n",
    "print(station_gdf.shape)\n",
    "print(station_gdf.dtypes)\n",
    "\n",
    "print(rent_gdf.head(2))\n",
    "print(rent_gdf.shape)\n",
    "print(rent_gdf.dtypes)"
   ]
  },
  {
   "cell_type": "code",
   "execution_count": 73,
   "metadata": {},
   "outputs": [
    {
     "name": "stdout",
     "output_type": "stream",
     "text": [
      "Int64Index([19970, 19971, 19972, 19973, 19974, 19975, 19976, 19977, 19978,\n",
      "            19979,\n",
      "            ...\n",
      "            44953, 45918, 47482, 47641, 47642, 47647, 47648, 48804, 52011,\n",
      "                0],\n",
      "           dtype='int64', name='STOP_ID', length=331)\n"
     ]
    }
   ],
   "source": [
    "print(station_gdf.index)"
   ]
  },
  {
   "cell_type": "code",
   "execution_count": 77,
   "metadata": {},
   "outputs": [
    {
     "name": "stdout",
     "output_type": "stream",
     "text": [
      "               SA2                     geometry  tar_distan      tar_lo  \\\n",
      "rent_id                                                                   \n",
      "0        206021110  POINT (143.79387 -37.56307)           0  143.820074   \n",
      "1        206051134  POINT (143.77011 -37.54724)           0  143.820074   \n",
      "2        206051514  POINT (143.80033 -37.56632)           0  143.820074   \n",
      "3        206071517  POINT (143.78949 -37.56345)           0  143.820074   \n",
      "4        207011520  POINT (143.78604 -37.55055)           0  143.820074   \n",
      "\n",
      "            tar_la  \n",
      "rent_id             \n",
      "0       -37.539703  \n",
      "1       -37.539703  \n",
      "2       -37.539703  \n",
      "3       -37.539703  \n",
      "4       -37.539703  \n",
      "Index(['SA2', 'geometry', 'tar_distan', 'tar_lo', 'tar_la'], dtype='object')\n",
      "(3748, 5)\n"
     ]
    }
   ],
   "source": [
    "rent_gdf[\"tar_point\"] = rent_gdf[\"geometry\"].apply(lambda x: station_gdf.loc[find_k_nearest(x, station_gdf, 1)][\"geometry\"].to_list()[0])\n",
    "rent_gdf[\"tar_distan\"] = 0\n",
    "\n",
    "print(rent_gdf.head())\n",
    "print(rent_gdf.columns)\n",
    "print(rent_gdf.shape)\n",
    "rent_gdf[\"tar_lo\"] = rent_gdf[\"tar_point\"].apply(lambda x: x.x)\n",
    "rent_gdf[\"tar_la\"] = rent_gdf[\"tar_point\"].apply(lambda x: x.y)\n",
    "rent_gdf = rent_gdf.drop(\"tar_point\", axis=1)\n",
    "rent_gdf.to_file(filename=\"../data/curated/rent_station.shp\", index=\"rent_id\")"
   ]
  },
  {
   "cell_type": "code",
   "execution_count": 11,
   "metadata": {},
   "outputs": [
    {
     "name": "stderr",
     "output_type": "stream",
     "text": [
      "/home/bruce/.venv/lib/python3.8/site-packages/pandas/core/dtypes/cast.py:122: ShapelyDeprecationWarning: The array interface is deprecated and will no longer work in Shapely 2.0. Convert the '.coords' to a numpy array instead.\n",
      "  arr = construct_1d_object_array_from_listlike(values)\n"
     ]
    },
    {
     "name": "stdout",
     "output_type": "stream",
     "text": [
      "(3748, 6)\n",
      "requesting distance from [142.0336453, -36.7882751] to [142.20056163846513, -36.707487637483]\n",
      "\n",
      "\n",
      "404 ({'error': {'code': 2010, 'message': 'Could not find routable point within a radius of 350.0 meters of specified coordinate 0: 142.0336453 -36.7882751.'}, 'info': {'engine': {'version': '6.7.0', 'build_date': '2022-02-18T19:37:41Z'}, 'timestamp': 1663390866404}})\n",
      "\n",
      "\n"
     ]
    }
   ],
   "source": [
    "## pull according to index\n",
    "\n",
    "# rent_gdf = gpd.read_file(\"../data/curated/rent_station.shp\")\n",
    "# rent_gdf = rent_gdf.set_index(\"rent_id\")\n",
    "# rent_gdf[\"tar_point\"] = rent_gdf.apply(lambda x: Point(x[\"tar_lo\"], x[\"tar_la\"]), axis=1)\n",
    "\n",
    "# index = [3671]\n",
    "\n",
    "# print(rent_gdf.shape)\n",
    "\n",
    "# ## feature enginnering\n",
    "# rent_gdf.loc[index, \"tar_distan\"] = rent_gdf.loc[index].apply(lambda x: point_wise_distance(x[\"geometry\"], x[\"tar_point\"]), axis=1)\n",
    "\n",
    "\n",
    "# rent_gdf = rent_gdf.drop(\"tar_point\", axis=1)\n",
    "# rent_gdf.to_file(\"../data/curated/rent_station.shp\")\n",
    "# rent_gdf[[\"SA2\", \"tar_distan\"]].to_csv(\"../data/curated/rent_station.csv\")"
   ]
  },
  {
   "cell_type": "code",
   "execution_count": 14,
   "metadata": {},
   "outputs": [
    {
     "name": "stdout",
     "output_type": "stream",
     "text": [
      "      rent_id        SA2  tar_distan      tar_lo     tar_la  \\\n",
      "3743     3743  213041573      1397.1  142.475551 -38.385001   \n",
      "3744     3744  203021040      1365.4  142.475551 -38.385001   \n",
      "3745     3745  203021485      2163.9  142.475551 -38.385001   \n",
      "3746     3746  206011495      4168.1  142.538877 -38.386379   \n",
      "3747     3747  212031458       875.8  142.475551 -38.385001   \n",
      "\n",
      "                         geometry  \n",
      "3743  POINT (142.48063 -38.37525)  \n",
      "3744  POINT (142.46395 -38.38286)  \n",
      "3745  POINT (142.49286 -38.38424)  \n",
      "3746  POINT (142.51554 -38.38682)  \n",
      "3747  POINT (142.47632 -38.38010)  \n",
      "(3748, 6)\n",
      "(0, 6)\n",
      "(3748, 6)\n",
      "Int64Index([], dtype='int64')\n"
     ]
    }
   ],
   "source": [
    "## check for unsuccessful pulls\n",
    "\n",
    "# rent_df = gpd.read_file(\"../data/curated/rent_station.shp\")\n",
    "# print(rent_df.loc[rent_df[\"tar_distan\"]!=0.0].tail())\n",
    "# print(rent_df.shape)\n",
    "# print(rent_df.loc[rent_df[\"tar_distan\"]==0.0].shape)\n",
    "# print(rent_df.loc[rent_df[\"tar_distan\"]!=0.0].shape)\n",
    "# print(rent_df.loc[(rent_df[\"tar_distan\"]==0.0) & (rent_df[\"rent_id\"] <= 3500)].index)"
   ]
  },
  {
   "cell_type": "code",
   "execution_count": 15,
   "metadata": {},
   "outputs": [],
   "source": [
    "# ### last save: low: 1500, upper: 3500\n",
    "\n",
    "# ## read rent file\n",
    "# # ['features'][0]['properties']['summary']['distance'])\n",
    "start = 3500\n",
    "gap = 50\n",
    "rounds = 5\n",
    "for i in range(rounds):\n",
    "    rent_gdf = gpd.read_file(\"../data/curated/rent_station.shp\")\n",
    "    rent_gdf = rent_gdf.set_index(\"rent_id\")\n",
    "    rent_gdf[\"tar_point\"] = rent_gdf.apply(lambda x: Point(x[\"tar_lo\"], x[\"tar_la\"]), axis=1)\n",
    "\n",
    "    if(start+gap*i > len(rent_gdf.index.to_list())): break\n",
    "    if(start+gap*(1+i) > len(rent_gdf.index.to_list())): \n",
    "        index = rent_gdf.index.to_list()[start+gap*i : len(rent_gdf.index.to_list())]\n",
    "    else:\n",
    "        index = rent_gdf.index.to_list()[start+gap*i : start+gap*(1+i)]\n",
    "    print(start+gap*i, start+gap*(1+i))\n",
    "\n",
    "    print(rent_gdf.shape)\n",
    "\n",
    "    ## feature enginnering\n",
    "    rent_gdf.loc[index, \"tar_distan\"] = rent_gdf.loc[index].apply(lambda x: point_wise_distance(x[\"geometry\"], x[\"tar_point\"]), axis=1)\n",
    "\n",
    "\n",
    "    rent_gdf = rent_gdf.drop(\"tar_point\", axis=1)\n",
    "    rent_gdf.to_file(\"../data/curated/rent_station.shp\")\n",
    "    rent_gdf[[\"SA2\", \"tar_distan\"]].to_csv(\"../data/curated/rent_station.csv\")\n",
    "\n",
    "    print(f\"distance_pulled: from {start+gap*i} to {start+gap*(1+i)}\")\n",
    "    print(rent_gdf.loc[rent_gdf[\"tar_distan\"]!=0.0].shape)\n",
    "    "
   ]
  },
  {
   "cell_type": "code",
   "execution_count": 16,
   "metadata": {},
   "outputs": [
    {
     "name": "stdout",
     "output_type": "stream",
     "text": [
      "(3748, 6)\n"
     ]
    }
   ],
   "source": [
    "## make backups\n",
    "\n",
    "## rent_gdf = rent_gdf.drop(\"tar_point\", axis=1)\n",
    "# rent_gdf.to_file(\"../data/curated/rent_station_bac.shp\")\n",
    "# rent_df = gpd.read_file(\"../data/curated/rent_station_bac.shp\")\n",
    "# print(rent_df.loc[rent_df[\"tar_distan\"]!=0.0].shape)"
   ]
  },
  {
   "cell_type": "markdown",
   "metadata": {},
   "source": [
    "## Distance to CBD\n",
    "- ../data/curated/rent_distance.csv\n",
    "- SA2 (int), cbd_dis (float)\n"
   ]
  },
  {
   "cell_type": "code",
   "execution_count": 8,
   "metadata": {},
   "outputs": [
    {
     "name": "stderr",
     "output_type": "stream",
     "text": [
      "/tmp/ipykernel_505/2060779769.py:6: ShapelyDeprecationWarning: The 'cascaded_union()' function is deprecated. Use 'unary_union()' instead.\n",
      "  cbd = gpd.GeoSeries(cascaded_union(polygons))[0].centroid\n"
     ]
    },
    {
     "name": "stdout",
     "output_type": "stream",
     "text": [
      "(522, 4)\n",
      "                              geometry     tar_lo     tar_la  cbd_dis\n",
      "SA2                                                                  \n",
      "201011001  POINT (143.74933 -37.54174)  144.96257 -37.813612        0\n",
      "201011002  POINT (143.83665 -37.55614)  144.96257 -37.813612        0\n"
     ]
    }
   ],
   "source": [
    "# read boundary data\n",
    "boundary_gdf = gpd.read_file(f\"{INPUT_PATH}ABS/digitalBoundary/SA2_2021_AUST_GDA2020.shp\").dropna()\n",
    "\n",
    "# find centroid\n",
    "polygons = boundary_gdf[boundary_gdf[\"SA2_NAME21\"].str.contains(\"Melbourne CBD\")][\"geometry\"].to_list()\n",
    "cbd = gpd.GeoSeries(cascaded_union(polygons))[0].centroid\n",
    "boundary_gdf[\"geometry\"] = boundary_gdf[\"geometry\"].apply(lambda x: x.centroid)\n",
    "boundary_gdf[\"tar_lo\"] = cbd.x\n",
    "boundary_gdf[\"tar_la\"] = cbd.y\n",
    "\n",
    "\n",
    "# feature engineering\n",
    "boundary_gdf = boundary_gdf.loc[boundary_gdf[\"STE_CODE21\"] == \"2\"]\n",
    "boundary_gdf = boundary_gdf[[\"SA2_CODE21\", \"geometry\", \"tar_lo\", \"tar_la\"]]\\\n",
    "    .rename(columns = {\"SA2_CODE21\": \"SA2\"}).astype({\"SA2\": int})\n",
    "boundary_gdf[\"cbd_dis\"] = 0\n",
    "boundary_gdf = boundary_gdf.set_index(\"SA2\")\n",
    "\n",
    "\n",
    "print(boundary_gdf.shape)\n",
    "print(boundary_gdf.head(2))\n",
    "boundary_gdf.to_file(\"../data/curated/sa2_to_cbd.shp\")"
   ]
  },
  {
   "cell_type": "code",
   "execution_count": 31,
   "metadata": {},
   "outputs": [],
   "source": [
    "# ## read rent file\n",
    "# # ['features'][0]['properties']['summary']['distance'])\n",
    "start = 0\n",
    "gap = 50\n",
    "rounds = 11\n",
    "for i in range(rounds):\n",
    "    boundary_gdf = gpd.read_file(\"../data/curated/sa2_to_cbd.shp\")\n",
    "    boundary_gdf = boundary_gdf.set_index(\"SA2\")\n",
    "    boundary_gdf[\"tar_point\"] = boundary_gdf.apply(lambda x: Point(x[\"tar_lo\"], x[\"tar_la\"]), axis=1)\n",
    "\n",
    "    if(start+gap*i > len(boundary_gdf.index.to_list())): break\n",
    "    if(start+gap*(1+i) > len(boundary_gdf.index.to_list())): \n",
    "        index = boundary_gdf.index.to_list()[start+gap*i : len(boundary_gdf.index.to_list())]\n",
    "    else:\n",
    "        index = boundary_gdf.index.to_list()[start+gap*i : start+gap*(1+i)]\n",
    "    print(start+gap*i, start+gap*(1+i))\n",
    "\n",
    "    print(boundary_gdf.shape)\n",
    "\n",
    "    ## feature enginnering\n",
    "    boundary_gdf.loc[index, \"cbd_dis\"] = boundary_gdf.loc[index].apply(lambda x: point_wise_distance(x[\"geometry\"], x[\"tar_point\"]), axis=1)\n",
    "\n",
    "\n",
    "    boundary_gdf = boundary_gdf.drop(\"tar_point\", axis=1)\n",
    "    boundary_gdf.to_file(\"../data/curated/sa2_to_cbd.shp\")\n",
    "\n",
    "    print(f\"distance_pulled: from {start+gap*i} to {start+gap*(1+i)}\")\n",
    "    print(boundary_gdf.loc[boundary_gdf[\"cbd_dis\"]!=0.0].shape)\n",
    "    "
   ]
  },
  {
   "cell_type": "code",
   "execution_count": null,
   "metadata": {},
   "outputs": [],
   "source": [
    "# # check for unsuccessful pulls\n",
    "\n",
    "boundary_df = gpd.read_file(\"../data/curated/sa2_to_cbd.shp\").set_index(\"SA2\")\n",
    "print(boundary_df.loc[boundary_df[\"cbd_dis\"]!=0.0].tail())\n",
    "print(boundary_df.shape)\n",
    "print(boundary_df.loc[boundary_df[\"cbd_dis\"]==0.0].shape)\n",
    "print(boundary_df.loc[boundary_df[\"cbd_dis\"]!=0.0].shape)\n",
    "print(boundary_df.loc[(boundary_df[\"cbd_dis\"]==0.0) & (boundary_df[\"cbd_dis\"] <= 3500)].index)"
   ]
  },
  {
   "cell_type": "code",
   "execution_count": 13,
   "metadata": {},
   "outputs": [],
   "source": [
    "shift_gdf = boundary_gdf.query(\"cbd_dis == 0\")\n",
    "shift_gdf.to_file(\"../data/curated/distance_shift.shp\")"
   ]
  },
  {
   "cell_type": "code",
   "execution_count": 32,
   "metadata": {},
   "outputs": [
    {
     "name": "stdout",
     "output_type": "stream",
     "text": [
      "[]\n",
      "500 550\n",
      "(522, 5)\n",
      "distance_pulled: from 500 to 550\n",
      "(522, 4)\n"
     ]
    },
    {
     "name": "stderr",
     "output_type": "stream",
     "text": [
      "/home/bruce/.venv/lib/python3.8/site-packages/pandas/core/dtypes/cast.py:122: ShapelyDeprecationWarning: The array interface is deprecated and will no longer work in Shapely 2.0. Convert the '.coords' to a numpy array instead.\n",
      "  arr = construct_1d_object_array_from_listlike(values)\n"
     ]
    }
   ],
   "source": [
    "## shift center vertically then request for route\n",
    "boundary_gdf = gpd.read_file(\"../data/curated/sa2_to_cbd.shp\")\n",
    "boundary_gdf = boundary_gdf.set_index(\"SA2\")\n",
    "boundary_gdf[\"tar_point\"] = boundary_gdf.apply(lambda x: Point(x[\"tar_lo\"], x[\"tar_la\"]), axis=1)\n",
    "\n",
    "index = boundary_gdf.query(\"cbd_dis == 0\").index.to_list()\n",
    "print(index)\n",
    "print(start+gap*i, start+gap*(1+i))\n",
    "print(boundary_gdf.shape)\n",
    "\n",
    "## feature enginnering\n",
    "boundary_gdf.loc[index, \"cbd_dis\"] = boundary_gdf.loc[index].apply(lambda x: point_wise_distance_shift(x[\"geometry\"], x[\"tar_point\"], shift=0.08), axis=1)\n",
    "\n",
    "boundary_gdf = boundary_gdf.drop(\"tar_point\", axis=1)\n",
    "boundary_gdf.to_file(\"../data/curated/sa2_to_cbd.shp\")\n",
    "\n",
    "print(f\"distance_pulled: from {start+gap*i} to {start+gap*(1+i)}\")\n",
    "print(boundary_gdf.loc[boundary_gdf[\"cbd_dis\"]!=0.0].shape)\n"
   ]
  },
  {
   "cell_type": "code",
   "execution_count": 33,
   "metadata": {},
   "outputs": [
    {
     "name": "stdout",
     "output_type": "stream",
     "text": [
      "         SA2   cbd_dis\n",
      "0  201011001  125495.6\n",
      "1  201011002  116047.5\n"
     ]
    }
   ],
   "source": [
    "# Reformate dataframe\n",
    "distance_df = pd.DataFrame(gpd.read_file(\"../data/curated/sa2_to_cbd.shp\")[[\"SA2\", \"cbd_dis\"]])\n",
    "\n",
    "print(distance_df.head(2))\n",
    "distance_df.to_csv(\"../data/curated/sa2_to_cbd.csv\")"
   ]
  },
  {
   "cell_type": "markdown",
   "metadata": {},
   "source": [
    "## Combine distance"
   ]
  },
  {
   "cell_type": "code",
   "execution_count": 34,
   "metadata": {},
   "outputs": [
    {
     "name": "stdout",
     "output_type": "stream",
     "text": [
      "         school_dis\n",
      "rent_id            \n",
      "0            1651.7\n",
      "1            1249.5\n",
      "2            2094.0\n",
      "3            3988.4\n",
      "4            1120.8\n",
      "         station_dis\n",
      "rent_id             \n",
      "0             5895.5\n",
      "1             7529.9\n",
      "2             6864.2\n",
      "3             7111.3\n",
      "4             6272.3\n",
      "         SA2   cbd_dis\n",
      "0  201011001  125495.6\n",
      "1  201011002  116047.5\n",
      "2  201011005  121414.4\n",
      "3  201011006  122687.8\n",
      "4  201011007  127252.4\n"
     ]
    }
   ],
   "source": [
    "## read files\n",
    "rent_df = pd.read_csv(\"../data/curated/rent.csv\", index_col=\"rent_id\")\n",
    "schooldis_gdf = gpd.read_file(\"../data/curated/rent_school.shp\")\n",
    "stationdis_gdf = gpd.read_file(\"../data/curated/rent_station.shp\")\n",
    "boundary_gdf = gpd.read_file(\"../data/raw/ABS/digitalBoundary/SA2_2021_AUST_GDA2020.shp\")\n",
    "cbd_gdf = pd.read_csv(\"../data/curated/sa2_to_cbd.csv\")[[\"SA2\", \"cbd_dis\"]]\n",
    "\n",
    "## feature selection\n",
    "schooldis_gdf = schooldis_gdf.set_index(\"rent_id\")\n",
    "schooldis_gdf = schooldis_gdf[[\"tar_distan\"]].rename(columns={\"tar_distan\": \"school_dis\"})\n",
    "stationdis_gdf = stationdis_gdf.set_index(\"rent_id\")\n",
    "stationdis_gdf = stationdis_gdf[[\"tar_distan\"]].rename(columns={\"tar_distan\": \"station_dis\"})\n",
    "\n",
    "\n",
    "# print(rent_df.head())\n",
    "print(schooldis_gdf.head())\n",
    "print(stationdis_gdf.head())\n",
    "print(cbd_gdf.head())"
   ]
  },
  {
   "cell_type": "code",
   "execution_count": 35,
   "metadata": {},
   "outputs": [
    {
     "name": "stdout",
     "output_type": "stream",
     "text": [
      "(3748, 10)\n",
      "         SA2   rent  bedroom  baths  parking   Latitude   Longitude  \\\n",
      "0  201011001  490.0        4      2        2 -37.563073  143.793875   \n",
      "1  201011001  420.0        4      2        2 -37.547241  143.770106   \n",
      "2  201011001  520.0        4      2        2 -37.566319  143.800328   \n",
      "3  201011001  440.0        4      2        2 -37.563453  143.789489   \n",
      "4  201011001  440.0        4      2        2 -37.550549  143.786038   \n",
      "\n",
      "   school_dis  station_dis   cbd_dis  \n",
      "0      1651.7       5895.5  125495.6  \n",
      "1      1249.5       7529.9  125495.6  \n",
      "2      2094.0       6864.2  125495.6  \n",
      "3      3988.4       7111.3  125495.6  \n",
      "4      1120.8       6272.3  125495.6  \n"
     ]
    }
   ],
   "source": [
    "## match distances\n",
    "rentdis_df = rent_df.join(schooldis_gdf, how=\"inner\")\n",
    "rentdis_df = rentdis_df.join(stationdis_gdf, how=\"inner\")\n",
    "\n",
    "## recheck SA2\n",
    "rentdis_gdf = gpd.GeoDataFrame(rentdis_df, geometry=gpd\\\n",
    "        .points_from_xy(rentdis_df[\"Longitude\"], rentdis_df[\"Latitude\"])).set_crs(\"EPSG:7844\")\n",
    "rentdis_gdf  = gpd.sjoin(rentdis_gdf, boundary_gdf, how=\"right\")\n",
    "rentdis_gdf = rentdis_gdf[['index_left', 'SA2_CODE21', 'rent', 'bedroom', 'baths', 'parking', 'Latitude',\n",
    "       'Longitude', 'school_dis', 'station_dis']]\n",
    "rentdis_gdf = rentdis_gdf.dropna().rename(columns={\"index_left\": \"rent_index\", \"SA2_CODE21\": \"SA2\"})\n",
    "rentdis_gdf = rentdis_gdf.astype({\n",
    "        \"rent_index\": int, \n",
    "        \"SA2\": int,\n",
    "        'bedroom': int,\n",
    "        'baths': int,\n",
    "        'parking': int})\n",
    "rentdis_gdf = rentdis_gdf.set_index(\"rent_index\")\n",
    "rentdis_gdf = pd.merge(rentdis_gdf, cbd_gdf, left_on=\"SA2\", right_on=\"SA2\", how=\"inner\")\n",
    "\n",
    "pd.DataFrame(rentdis_gdf).to_csv(\"../data/curated/rent_distance.csv\")\n",
    "print(rentdis_gdf.shape)\n",
    "print(rentdis_gdf.head())"
   ]
  },
  {
   "cell_type": "markdown",
   "metadata": {},
   "source": [
    "## Plot / showcase"
   ]
  },
  {
   "cell_type": "code",
   "execution_count": 4,
   "metadata": {},
   "outputs": [
    {
     "name": "stdout",
     "output_type": "stream",
     "text": [
      "SA2              int64\n",
      "tar_distan     float64\n",
      "tar_lo         float64\n",
      "tar_la         float64\n",
      "geometry      geometry\n",
      "tar_point     geometry\n",
      "dtype: object\n",
      "(5, 6)\n",
      "               SA2  tar_distan      tar_lo     tar_la  \\\n",
      "rent_id                                                 \n",
      "0        206021110      5895.5  143.820074 -37.539703   \n",
      "1        206051134      7529.9  143.820074 -37.539703   \n",
      "2        206051514      6864.2  143.820074 -37.539703   \n",
      "3        206071517      7111.3  143.820074 -37.539703   \n",
      "4        207011520      6272.3  143.820074 -37.539703   \n",
      "\n",
      "                            geometry                    tar_point  \n",
      "rent_id                                                            \n",
      "0        POINT (143.79387 -37.56307)  POINT (143.82007 -37.53970)  \n",
      "1        POINT (143.77011 -37.54724)  POINT (143.82007 -37.53970)  \n",
      "2        POINT (143.80033 -37.56632)  POINT (143.82007 -37.53970)  \n",
      "3        POINT (143.78949 -37.56345)  POINT (143.82007 -37.53970)  \n",
      "4        POINT (143.78604 -37.55055)  POINT (143.82007 -37.53970)  \n"
     ]
    },
    {
     "name": "stderr",
     "output_type": "stream",
     "text": [
      "/home/bruce/.venv/lib/python3.8/site-packages/pandas/core/dtypes/cast.py:122: ShapelyDeprecationWarning: The array interface is deprecated and will no longer work in Shapely 2.0. Convert the '.coords' to a numpy array instead.\n",
      "  arr = construct_1d_object_array_from_listlike(values)\n"
     ]
    },
    {
     "data": {
      "text/html": [
       "<div style=\"width:100%;\"><div style=\"position:relative;width:100%;height:0;padding-bottom:60%;\"><span style=\"color:#565656\">Make this Notebook Trusted to load map: File -> Trust Notebook</span><iframe srcdoc=\"&lt;!DOCTYPE html&gt;\n",
       "&lt;head&gt;    \n",
       "    &lt;meta http-equiv=&quot;content-type&quot; content=&quot;text/html; charset=UTF-8&quot; /&gt;\n",
       "    \n",
       "        &lt;script&gt;\n",
       "            L_NO_TOUCH = false;\n",
       "            L_DISABLE_3D = false;\n",
       "        &lt;/script&gt;\n",
       "    \n",
       "    &lt;style&gt;html, body {width: 100%;height: 100%;margin: 0;padding: 0;}&lt;/style&gt;\n",
       "    &lt;style&gt;#map {position:absolute;top:0;bottom:0;right:0;left:0;}&lt;/style&gt;\n",
       "    &lt;script src=&quot;https://cdn.jsdelivr.net/npm/leaflet@1.6.0/dist/leaflet.js&quot;&gt;&lt;/script&gt;\n",
       "    &lt;script src=&quot;https://code.jquery.com/jquery-1.12.4.min.js&quot;&gt;&lt;/script&gt;\n",
       "    &lt;script src=&quot;https://maxcdn.bootstrapcdn.com/bootstrap/3.2.0/js/bootstrap.min.js&quot;&gt;&lt;/script&gt;\n",
       "    &lt;script src=&quot;https://cdnjs.cloudflare.com/ajax/libs/Leaflet.awesome-markers/2.0.2/leaflet.awesome-markers.js&quot;&gt;&lt;/script&gt;\n",
       "    &lt;link rel=&quot;stylesheet&quot; href=&quot;https://cdn.jsdelivr.net/npm/leaflet@1.6.0/dist/leaflet.css&quot;/&gt;\n",
       "    &lt;link rel=&quot;stylesheet&quot; href=&quot;https://maxcdn.bootstrapcdn.com/bootstrap/3.2.0/css/bootstrap.min.css&quot;/&gt;\n",
       "    &lt;link rel=&quot;stylesheet&quot; href=&quot;https://maxcdn.bootstrapcdn.com/bootstrap/3.2.0/css/bootstrap-theme.min.css&quot;/&gt;\n",
       "    &lt;link rel=&quot;stylesheet&quot; href=&quot;https://maxcdn.bootstrapcdn.com/font-awesome/4.6.3/css/font-awesome.min.css&quot;/&gt;\n",
       "    &lt;link rel=&quot;stylesheet&quot; href=&quot;https://cdnjs.cloudflare.com/ajax/libs/Leaflet.awesome-markers/2.0.2/leaflet.awesome-markers.css&quot;/&gt;\n",
       "    &lt;link rel=&quot;stylesheet&quot; href=&quot;https://cdn.jsdelivr.net/gh/python-visualization/folium/folium/templates/leaflet.awesome.rotate.min.css&quot;/&gt;\n",
       "    \n",
       "            &lt;meta name=&quot;viewport&quot; content=&quot;width=device-width,\n",
       "                initial-scale=1.0, maximum-scale=1.0, user-scalable=no&quot; /&gt;\n",
       "            &lt;style&gt;\n",
       "                #map_425c1e305a6005e5899e93b85cf35dff {\n",
       "                    position: relative;\n",
       "                    width: 100.0%;\n",
       "                    height: 100.0%;\n",
       "                    left: 0.0%;\n",
       "                    top: 0.0%;\n",
       "                }\n",
       "            &lt;/style&gt;\n",
       "        \n",
       "&lt;/head&gt;\n",
       "&lt;body&gt;    \n",
       "    \n",
       "            &lt;div class=&quot;folium-map&quot; id=&quot;map_425c1e305a6005e5899e93b85cf35dff&quot; &gt;&lt;/div&gt;\n",
       "        \n",
       "&lt;/body&gt;\n",
       "&lt;script&gt;    \n",
       "    \n",
       "            var map_425c1e305a6005e5899e93b85cf35dff = L.map(\n",
       "                &quot;map_425c1e305a6005e5899e93b85cf35dff&quot;,\n",
       "                {\n",
       "                    center: [-37.5397, 143.82007],\n",
       "                    crs: L.CRS.EPSG3857,\n",
       "                    zoom: 12,\n",
       "                    zoomControl: true,\n",
       "                    preferCanvas: false,\n",
       "                }\n",
       "            );\n",
       "\n",
       "            \n",
       "\n",
       "        \n",
       "    \n",
       "            var tile_layer_1d7d963be9ce4244bf98a2dda8b9100a = L.tileLayer(\n",
       "                &quot;https://stamen-tiles-{s}.a.ssl.fastly.net/terrain/{z}/{x}/{y}.jpg&quot;,\n",
       "                {&quot;attribution&quot;: &quot;Map tiles by \\u003ca href=\\&quot;http://stamen.com\\&quot;\\u003eStamen Design\\u003c/a\\u003e, under \\u003ca href=\\&quot;http://creativecommons.org/licenses/by/3.0\\&quot;\\u003eCC BY 3.0\\u003c/a\\u003e. Data by \\u0026copy; \\u003ca href=\\&quot;http://openstreetmap.org\\&quot;\\u003eOpenStreetMap\\u003c/a\\u003e, under \\u003ca href=\\&quot;http://creativecommons.org/licenses/by-sa/3.0\\&quot;\\u003eCC BY SA\\u003c/a\\u003e.&quot;, &quot;detectRetina&quot;: false, &quot;maxNativeZoom&quot;: 18, &quot;maxZoom&quot;: 18, &quot;minZoom&quot;: 0, &quot;noWrap&quot;: false, &quot;opacity&quot;: 1, &quot;subdomains&quot;: &quot;abc&quot;, &quot;tms&quot;: false}\n",
       "            ).addTo(map_425c1e305a6005e5899e93b85cf35dff);\n",
       "        \n",
       "    \n",
       "            var marker_6ad983f232a34007925e1060201d7f25 = L.marker(\n",
       "                [-37.5630731, 143.7938749],\n",
       "                {}\n",
       "            ).addTo(map_425c1e305a6005e5899e93b85cf35dff);\n",
       "        \n",
       "    \n",
       "            var icon_f79e55596d2b5176a276e1b91f753916 = L.AwesomeMarkers.icon(\n",
       "                {&quot;extraClasses&quot;: &quot;fa-rotate-0&quot;, &quot;icon&quot;: &quot;home&quot;, &quot;iconColor&quot;: &quot;#cc0000&quot;, &quot;markerColor&quot;: &quot;lightgray&quot;, &quot;prefix&quot;: &quot;fa&quot;}\n",
       "            );\n",
       "            marker_6ad983f232a34007925e1060201d7f25.setIcon(icon_f79e55596d2b5176a276e1b91f753916);\n",
       "        \n",
       "    \n",
       "            var marker_600ca287c8e26cded6cdc8deba27c5ca = L.marker(\n",
       "                [-37.5472414, 143.7701059],\n",
       "                {}\n",
       "            ).addTo(map_425c1e305a6005e5899e93b85cf35dff);\n",
       "        \n",
       "    \n",
       "            var icon_15bf1a2f2c410f37cc3db013e0690e4b = L.AwesomeMarkers.icon(\n",
       "                {&quot;extraClasses&quot;: &quot;fa-rotate-0&quot;, &quot;icon&quot;: &quot;home&quot;, &quot;iconColor&quot;: &quot;#cc0000&quot;, &quot;markerColor&quot;: &quot;lightgray&quot;, &quot;prefix&quot;: &quot;fa&quot;}\n",
       "            );\n",
       "            marker_600ca287c8e26cded6cdc8deba27c5ca.setIcon(icon_15bf1a2f2c410f37cc3db013e0690e4b);\n",
       "        \n",
       "    \n",
       "            var marker_63de629d4383e26c0163d720a9fa61f1 = L.marker(\n",
       "                [-37.5663193, 143.8003283],\n",
       "                {}\n",
       "            ).addTo(map_425c1e305a6005e5899e93b85cf35dff);\n",
       "        \n",
       "    \n",
       "            var icon_63fdf55e42fed7e93724394e20f8b4bf = L.AwesomeMarkers.icon(\n",
       "                {&quot;extraClasses&quot;: &quot;fa-rotate-0&quot;, &quot;icon&quot;: &quot;home&quot;, &quot;iconColor&quot;: &quot;#cc0000&quot;, &quot;markerColor&quot;: &quot;lightgray&quot;, &quot;prefix&quot;: &quot;fa&quot;}\n",
       "            );\n",
       "            marker_63de629d4383e26c0163d720a9fa61f1.setIcon(icon_63fdf55e42fed7e93724394e20f8b4bf);\n",
       "        \n",
       "    \n",
       "            var marker_e430baadeca2ad5a2d5b160e851ee3ee = L.marker(\n",
       "                [-37.5634529, 143.7894892],\n",
       "                {}\n",
       "            ).addTo(map_425c1e305a6005e5899e93b85cf35dff);\n",
       "        \n",
       "    \n",
       "            var icon_ec50957e4f73bafec530cac735479b5c = L.AwesomeMarkers.icon(\n",
       "                {&quot;extraClasses&quot;: &quot;fa-rotate-0&quot;, &quot;icon&quot;: &quot;home&quot;, &quot;iconColor&quot;: &quot;#cc0000&quot;, &quot;markerColor&quot;: &quot;lightgray&quot;, &quot;prefix&quot;: &quot;fa&quot;}\n",
       "            );\n",
       "            marker_e430baadeca2ad5a2d5b160e851ee3ee.setIcon(icon_ec50957e4f73bafec530cac735479b5c);\n",
       "        \n",
       "    \n",
       "            var marker_e5754348c73eeef7c014ce7a145cb67b = L.marker(\n",
       "                [-37.550549, 143.7860381],\n",
       "                {}\n",
       "            ).addTo(map_425c1e305a6005e5899e93b85cf35dff);\n",
       "        \n",
       "    \n",
       "            var icon_d9908339a9f8eff8e4bfc2b61c1a0afc = L.AwesomeMarkers.icon(\n",
       "                {&quot;extraClasses&quot;: &quot;fa-rotate-0&quot;, &quot;icon&quot;: &quot;home&quot;, &quot;iconColor&quot;: &quot;#cc0000&quot;, &quot;markerColor&quot;: &quot;lightgray&quot;, &quot;prefix&quot;: &quot;fa&quot;}\n",
       "            );\n",
       "            marker_e5754348c73eeef7c014ce7a145cb67b.setIcon(icon_d9908339a9f8eff8e4bfc2b61c1a0afc);\n",
       "        \n",
       "    \n",
       "            var marker_8f112dd8cec2b0136f3dd1add89130bc = L.marker(\n",
       "                [-37.539702800274455, 143.8200742033684],\n",
       "                {}\n",
       "            ).addTo(map_425c1e305a6005e5899e93b85cf35dff);\n",
       "        \n",
       "    \n",
       "            var icon_07c35bad6ae656171069de4cad6eeabd = L.AwesomeMarkers.icon(\n",
       "                {&quot;extraClasses&quot;: &quot;fa-rotate-0&quot;, &quot;icon&quot;: &quot;pen&quot;, &quot;iconColor&quot;: &quot;#1a1aff&quot;, &quot;markerColor&quot;: &quot;white&quot;, &quot;prefix&quot;: &quot;fa&quot;}\n",
       "            );\n",
       "            marker_8f112dd8cec2b0136f3dd1add89130bc.setIcon(icon_07c35bad6ae656171069de4cad6eeabd);\n",
       "        \n",
       "    \n",
       "            var marker_1ca2b791b0122970bae96e52a0a8d30d = L.marker(\n",
       "                [-37.539702800274455, 143.8200742033684],\n",
       "                {}\n",
       "            ).addTo(map_425c1e305a6005e5899e93b85cf35dff);\n",
       "        \n",
       "    \n",
       "            var icon_49a46ccc178fac1f15fa24e7eb91fe3d = L.AwesomeMarkers.icon(\n",
       "                {&quot;extraClasses&quot;: &quot;fa-rotate-0&quot;, &quot;icon&quot;: &quot;pen&quot;, &quot;iconColor&quot;: &quot;#1a1aff&quot;, &quot;markerColor&quot;: &quot;white&quot;, &quot;prefix&quot;: &quot;fa&quot;}\n",
       "            );\n",
       "            marker_1ca2b791b0122970bae96e52a0a8d30d.setIcon(icon_49a46ccc178fac1f15fa24e7eb91fe3d);\n",
       "        \n",
       "    \n",
       "            var marker_915a3e207cad05dff33af5cc93695112 = L.marker(\n",
       "                [-37.539702800274455, 143.8200742033684],\n",
       "                {}\n",
       "            ).addTo(map_425c1e305a6005e5899e93b85cf35dff);\n",
       "        \n",
       "    \n",
       "            var icon_a9607789c7682e2caa8157656a95a159 = L.AwesomeMarkers.icon(\n",
       "                {&quot;extraClasses&quot;: &quot;fa-rotate-0&quot;, &quot;icon&quot;: &quot;pen&quot;, &quot;iconColor&quot;: &quot;#1a1aff&quot;, &quot;markerColor&quot;: &quot;white&quot;, &quot;prefix&quot;: &quot;fa&quot;}\n",
       "            );\n",
       "            marker_915a3e207cad05dff33af5cc93695112.setIcon(icon_a9607789c7682e2caa8157656a95a159);\n",
       "        \n",
       "    \n",
       "            var marker_043e075cbd18d94469226c52be560dad = L.marker(\n",
       "                [-37.539702800274455, 143.8200742033684],\n",
       "                {}\n",
       "            ).addTo(map_425c1e305a6005e5899e93b85cf35dff);\n",
       "        \n",
       "    \n",
       "            var icon_f5306d27b4965b43c194c81dd46c5618 = L.AwesomeMarkers.icon(\n",
       "                {&quot;extraClasses&quot;: &quot;fa-rotate-0&quot;, &quot;icon&quot;: &quot;pen&quot;, &quot;iconColor&quot;: &quot;#1a1aff&quot;, &quot;markerColor&quot;: &quot;white&quot;, &quot;prefix&quot;: &quot;fa&quot;}\n",
       "            );\n",
       "            marker_043e075cbd18d94469226c52be560dad.setIcon(icon_f5306d27b4965b43c194c81dd46c5618);\n",
       "        \n",
       "    \n",
       "            var marker_33ec4719c960729131c7e28b39b59f1a = L.marker(\n",
       "                [-37.539702800274455, 143.8200742033684],\n",
       "                {}\n",
       "            ).addTo(map_425c1e305a6005e5899e93b85cf35dff);\n",
       "        \n",
       "    \n",
       "            var icon_f99314b69e8a288141939ea4eedd733f = L.AwesomeMarkers.icon(\n",
       "                {&quot;extraClasses&quot;: &quot;fa-rotate-0&quot;, &quot;icon&quot;: &quot;pen&quot;, &quot;iconColor&quot;: &quot;#1a1aff&quot;, &quot;markerColor&quot;: &quot;white&quot;, &quot;prefix&quot;: &quot;fa&quot;}\n",
       "            );\n",
       "            marker_33ec4719c960729131c7e28b39b59f1a.setIcon(icon_f99314b69e8a288141939ea4eedd733f);\n",
       "        \n",
       "&lt;/script&gt;\" style=\"position:absolute;width:100%;height:100%;left:0;top:0;border:none !important;\" allowfullscreen webkitallowfullscreen mozallowfullscreen></iframe></div></div>"
      ],
      "text/plain": [
       "<folium.folium.Map at 0x7f041ae152e0>"
      ]
     },
     "execution_count": 4,
     "metadata": {},
     "output_type": "execute_result"
    }
   ],
   "source": [
    "## icon: pen, car, cart-shopping\n",
    "rent_gdf = gpd.read_file(\"../data/curated/rent_station.shp\")\n",
    "rent_gdf = rent_gdf.set_index(\"rent_id\")\n",
    "rent_gdf[\"tar_point\"] = rent_gdf.apply(lambda x: Point(x[\"tar_lo\"], x[\"tar_la\"]), axis=1)\n",
    "print(rent_gdf.dtypes)\n",
    "\n",
    "rent_df = rent_gdf.loc[range(5)]\n",
    "# station_df = station_gdf\n",
    "\n",
    "print(rent_df.shape)\n",
    "print(rent_df.head())\n",
    "\n",
    "\n",
    "base_map = folium.Map(location=[-37.53970, 143.82007],\n",
    "    tiles=\"Stamen Terrain\", zoom_start=12)\n",
    "# geoJSON = boundary_df[[\"SA2_CODE21\", \"geometry\"]]\\\n",
    "#     .drop_duplicates(\"SA2_CODE21\").to_json()\n",
    "# base_map.add_child(folium.Choropleth(geo_data=geoJSON,\n",
    "#                                     name=\"choropleth\"))\n",
    "\n",
    "for coord in zip(rent_df[\"geometry\"].y, rent_df[\"geometry\"].x):\n",
    "    base_map.add_child(folium.Marker(location=coord, icon=folium.Icon(color='lightgray',\n",
    "                                       icon_color='#cc0000',\n",
    "                                       icon='home',\n",
    "                                       prefix='fa',\n",
    "                                       )))\n",
    "\n",
    "for coord in zip(rent_df[\"tar_point\"].y, rent_df[\"tar_point\"].x):\n",
    "    base_map.add_child(folium.Marker(location=coord, icon=folium.Icon(color='white',\n",
    "                                       icon_color='#1a1aff',\n",
    "                                       icon='pen',\n",
    "                                       prefix='fa',\n",
    "                                       )))\n",
    "\n",
    "base_map"
   ]
  },
  {
   "cell_type": "markdown",
   "metadata": {},
   "source": [
    "By Junhua Liu for study use only"
   ]
  }
 ],
 "metadata": {
  "kernelspec": {
   "display_name": "Python 3 (ipykernel)",
   "language": "python",
   "name": "python3"
  },
  "language_info": {
   "codemirror_mode": {
    "name": "ipython",
    "version": 3
   },
   "file_extension": ".py",
   "mimetype": "text/x-python",
   "name": "python",
   "nbconvert_exporter": "python",
   "pygments_lexer": "ipython3",
   "version": "3.8.10"
  },
  "orig_nbformat": 4
 },
 "nbformat": 4,
 "nbformat_minor": 2
}
