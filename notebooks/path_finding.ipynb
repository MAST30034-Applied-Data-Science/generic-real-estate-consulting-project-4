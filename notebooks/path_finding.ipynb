{
 "cells": [
  {
   "cell_type": "markdown",
   "metadata": {},
   "source": [
    "## rent information with distance\n",
    "- ../data/curated/rent_distance.csv\n",
    "- rent_index (int), SA2 (int), rent (float), bedroom (int), baths (int), parking (int), Latitude (float), Longitude (float), school_dis (float), station_dis (float)\n"
   ]
  },
  {
   "cell_type": "code",
   "execution_count": 1,
   "metadata": {
    "vscode": {
     "languageId": "python"
    }
   },
   "outputs": [],
   "source": [
    "import geopandas as gpd\n",
    "import pandas as pd\n",
    "from openrouteservice import client\n",
    "import folium\n",
    "import numpy as np\n",
    "from folium.plugins import BeautifyIcon\n",
    "import fontawesome as fa\n",
    "from shapely.geometry import Polygon, LineString, Point\n",
    "import time\n",
    "from shapely.ops import cascaded_union\n",
    "\n",
    "INPUT_PATH = f\"../data/raw/\"\n",
    "# GIT\n",
    "TOKEN = \"5b3ce3597851110001cf62483f8783dee87f49d1a08c14865546e9d5\"\n",
    "# UNIMELB\n",
    "# TOKEN = \"5b3ce3597851110001cf62488e7bed0411524218994d57e759d00421\"\n",
    "ors = client.Client(key=TOKEN)\n",
    "SLEEP_TIME = 3.1\n",
    "\n",
    "params_route = {'profile': 'driving-car',\n",
    "            'format_out': 'geojson',\n",
    "            'geometry': 'true',\n",
    "            'format': 'geojson',\n",
    "            'instructions': 'false'\n",
    "            }\n"
   ]
  },
  {
   "cell_type": "code",
   "execution_count": 12,
   "metadata": {
    "vscode": {
     "languageId": "python"
    }
   },
   "outputs": [],
   "source": [
    "def find_k_nearest(point, from_gdf, k):\n",
    "    \"\"\"\n",
    "        Find closed point to {point} from  {from_gdf}.geometry, return index in from_gdf\n",
    "        coor: Point,  coordinate of the start point\n",
    "        from_gdf: geopandas dataframe to search for closed point\n",
    "    \"\"\"\n",
    "    distance = from_gdf[\"geometry\"].distance(point).to_list()\n",
    "    index = from_gdf.index.to_list()\n",
    "    index_len = len(index)\n",
    "    output = sorted([[distance[i], int(index[i])] for i in range(index_len)])\n",
    "    \n",
    "    if k > len(output):\n",
    "        return [output[i][1] for i in range(len(output))]\n",
    "    else:\n",
    "        return [output[i][1] for i in range(k)]\n",
    "\n",
    "def point_wise_distance(point_from, point_to, params_route = {\n",
    "            'profile': 'driving-car',\n",
    "            'format_out': 'geojson',\n",
    "            'geometry': 'true',\n",
    "            'format': 'geojson',\n",
    "            'instructions': 'false'\n",
    "            }):\n",
    "    \"\"\"\n",
    "        Use OpenRouteService to request information about travelling\n",
    "            from {point_from} to {point_to} usingparams_route\n",
    "        point_from: Point object to travel from\n",
    "        point_to: Point object to travel to\n",
    "    \"\"\"\n",
    "    if not point_from or not point_to: return 0\n",
    "    time.sleep(SLEEP_TIME)\n",
    "    print(f\"requesting distance from {[point_from.x, point_from.y]} to {[point_to.x, point_to.y]}\")\n",
    "    params_route['coordinates'] = [[point_from.x, point_from.y], [point_to.x, point_to.y]]\n",
    "    \n",
    "    try:\n",
    "        json = ors.directions(**params_route)\n",
    "        distance = json['features'][0]['properties']['summary']['distance']\n",
    "        return distance\n",
    "    except Exception as e:\n",
    "        print(f\"\\n\\n{e}\\n\\n\")\n",
    "        return 0\n",
    "\n",
    "\n",
    "\n"
   ]
  },
  {
   "cell_type": "code",
   "execution_count": 3,
   "metadata": {
    "vscode": {
     "languageId": "python"
    }
   },
   "outputs": [
    {
     "name": "stdout",
     "output_type": "stream",
     "text": [
      "requesting distance from [144.29047, -36.76841] to [144.30797, -36.76838]\n"
     ]
    }
   ],
   "source": [
    "point_a = Point(144.29047, -36.76841)\n",
    "point_b = Point(144.30797, -36.76838)\n",
    "json_route = point_wise_distance(point_a, point_b, params_route)"
   ]
  },
  {
   "cell_type": "markdown",
   "metadata": {},
   "source": [
    "#### Load files"
   ]
  },
  {
   "cell_type": "code",
   "execution_count": 134,
   "metadata": {
    "vscode": {
     "languageId": "python"
    }
   },
   "outputs": [
    {
     "name": "stdout",
     "output_type": "stream",
     "text": [
      "               SA2                     geometry\n",
      "rent_id                                        \n",
      "0        206021110  POINT (143.79387 -37.56307)\n",
      "1        206051134  POINT (143.77011 -37.54724)\n",
      "(3748, 2)\n",
      "SA2            int64\n",
      "geometry    geometry\n",
      "dtype: object\n"
     ]
    }
   ],
   "source": [
    "# read / prepare rent data\n",
    "rent_gdf = pd.read_csv(f\"../data/curated/rent.csv\").drop([\"geometry\"], axis=1).dropna()\n",
    "rent_gdf = gpd.GeoDataFrame(rent_gdf, geometry=gpd\\\n",
    "            .points_from_xy(rent_gdf[\"Longitude\"], rent_gdf[\"Latitude\"]))\n",
    "rent_gdf[\"geometry\"] = rent_gdf[\"geometry\"].set_crs(\"epsg:7844\")\n",
    "# rent_gdf[\"geometry\"] = rent_gdf[\"geometry\"].to_crs(\"+proj=longlat +ellps=WGS84 +datum=WGS84 +no_defs\")\n",
    "\n",
    "# feature seleciton on rent\n",
    "rent_gdf = rent_gdf[[\"rent_id\", \"SA2\", \"geometry\"]].set_index(\"rent_id\")\n",
    "\n",
    "print(rent_gdf.head(2))\n",
    "print(rent_gdf.shape)\n",
    "print(rent_gdf.dtypes)"
   ]
  },
  {
   "cell_type": "code",
   "execution_count": 102,
   "metadata": {
    "vscode": {
     "languageId": "python"
    }
   },
   "outputs": [
    {
     "name": "stdout",
     "output_type": "stream",
     "text": [
      "     SA2_CODE21                                           geometry\n",
      "644   201011001  POLYGON ((143.78282 -37.56666, 143.75558 -37.5...\n",
      "645   201011002  POLYGON ((143.81896 -37.55582, 143.81644 -37.5...\n",
      "(522, 2)\n",
      "SA2_CODE21       int64\n",
      "geometry      geometry\n",
      "dtype: object\n",
      "                 SA2                     geometry\n",
      "school_id                                        \n",
      "0          201011001  POINT (143.80174 -37.55497)\n",
      "1          201011001  POINT (143.79995 -37.55349)\n",
      "(2269, 2)\n",
      "SA2            int64\n",
      "geometry    geometry\n",
      "dtype: object\n"
     ]
    }
   ],
   "source": [
    "# read local files\n",
    "boundary_gdf = gpd.read_file(f\"{INPUT_PATH}ABS/digitalBoundary/SA2_2021_AUST_GDA2020.shp\").dropna()\n",
    "school_gdf = pd.read_csv(f\"{INPUT_PATH}ACARA/School_location.csv\")\n",
    "school_gdf = gpd.GeoDataFrame(school_gdf, geometry=gpd\\\n",
    "            .points_from_xy(school_gdf[\"Longitude\"], school_gdf[\"Latitude\"])).dropna()\n",
    "school_gdf[\"geometry\"] = school_gdf[\"geometry\"].set_crs(\"epsg:7844\")\n",
    "\n",
    "# feature selction on boundary gdf\n",
    "boundary_gdf = boundary_gdf.loc[boundary_gdf[\"STE_NAME21\"] == \"Victoria\"]\n",
    "boundary_gdf = boundary_gdf[[\"SA2_CODE21\", \"geometry\"]]\n",
    "boundary_gdf[\"SA2_CODE21\"] = boundary_gdf[\"SA2_CODE21\"].astype(\"int64\")\n",
    "\n",
    "# feature seleciton on school gdf\n",
    "school_gdf = school_gdf[[\"school_id\", \"SA2\", \"geometry\"]].set_index(\"school_id\")\n",
    "school_gdf[\"SA2\"] = school_gdf[\"SA2\"].astype(\"int64\")\n",
    "school_gdf = school_gdf.drop_duplicates()\n",
    "\n",
    "print(boundary_gdf.head(2))\n",
    "print(boundary_gdf.shape)\n",
    "print(boundary_gdf.dtypes)\n",
    "\n",
    "print(school_gdf.head(2))\n",
    "print(school_gdf.shape)\n",
    "print(school_gdf.dtypes)"
   ]
  },
  {
   "cell_type": "code",
   "execution_count": 136,
   "metadata": {
    "vscode": {
     "languageId": "python"
    }
   },
   "outputs": [],
   "source": [
    "# rent_gdf = rent_gdf.loc[rent_gdf[\"SA2\"] == 202011020]\n",
    "# boundary_gdf = boundary_gdf.loc[boundary_gdf[\"SA2_CODE21\"] == 202011020]\n",
    "# school_gdf = school_gdf.loc[school_gdf[\"SA2\"] == 202011020]\n",
    "\n",
    "# print(rent_gdf.head())\n",
    "# print(boundary_gdf.head())\n",
    "# print(school_gdf.head())"
   ]
  },
  {
   "cell_type": "markdown",
   "metadata": {},
   "source": [
    "#### Find school distance"
   ]
  },
  {
   "cell_type": "code",
   "execution_count": 137,
   "metadata": {
    "vscode": {
     "languageId": "python"
    }
   },
   "outputs": [
    {
     "name": "stdout",
     "output_type": "stream",
     "text": [
      "(3748, 2)\n"
     ]
    }
   ],
   "source": [
    "point_class = type(Point(0, 1))\n",
    "\n",
    "rent_gdf[\"geometry\"] = rent_gdf[\"geometry\"].apply(lambda x: x if x.is_valid else None)\n",
    "rent_gdf = rent_gdf.dropna()\n",
    "\n",
    "print(rent_gdf.shape)\n"
   ]
  },
  {
   "cell_type": "code",
   "execution_count": 18,
   "metadata": {
    "vscode": {
     "languageId": "python"
    }
   },
   "outputs": [],
   "source": [
    "rent_gdf[\"tar_point\"] = rent_gdf[\"geometry\"].apply(lambda x: school_gdf.loc[find_k_nearest(x, school_gdf, 1)][\"geometry\"].to_list()[0])\n",
    "rent_gdf[\"tar_distan\"] = 0\n",
    "\n",
    "print(rent_gdf.dtypes)\n",
    "\n",
    "# points_from_xy(rent_gdf[\"Longitude\"], rent_gdf[\"Latitude\"]))\n",
    "\n",
    "print(rent_gdf.head())\n",
    "print(rent_gdf.columns)\n",
    "print(rent_gdf.shape)\n",
    "rent_gdf[\"tar_lo\"] = rent_gdf[\"tar_point\"].apply(lambda x: x.x)\n",
    "rent_gdf[\"tar_la\"] = rent_gdf[\"tar_point\"].apply(lambda x: x.y)\n",
    "rent_gdf = rent_gdf.drop(\"tar_point\", axis=1)\n",
    "rent_gdf.to_file(filename=\"../data/curated/rent_school.shp\", index=\"rent_id\")"
   ]
  },
  {
   "cell_type": "markdown",
   "metadata": {},
   "source": [
    "#### Request distance"
   ]
  },
  {
   "cell_type": "code",
   "execution_count": 63,
   "metadata": {
    "vscode": {
     "languageId": "python"
    }
   },
   "outputs": [],
   "source": [
    "# rent_gdf = gpd.read_file(\"../data/curated/rent_school.shp\")\n",
    "# rent_gdf = rent_gdf.set_index(\"rent_id\")\n",
    "# rent_gdf[\"tar_point\"] = rent_gdf.apply(lambda x: Point(x[\"tar_lo\"], x[\"tar_la\"]), axis=1)\n",
    "# index = [2867, 2971, 3249, 3269, 3279, 3344]\n",
    "# print(start+gap*i, start+gap*(1+i))\n",
    "\n",
    "# print(rent_gdf.shape)\n",
    "\n",
    "# ## feature enginnering\n",
    "# rent_gdf.loc[index, \"tar_distan\"] = rent_gdf.loc[index].apply(lambda x: point_wise_distance(x[\"geometry\"], x[\"tar_point\"]), axis=1)\n",
    "\n",
    "\n",
    "# rent_gdf = rent_gdf.drop(\"tar_point\", axis=1)\n",
    "# rent_gdf.to_file(\"../data/curated/rent_school.shp\")\n",
    "# rent_gdf[[\"SA2\", \"tar_distan\"]].to_csv(\"../data/curated/rent_school.csv\")\n",
    "\n",
    "# print(f\"distance_pulled: from {start+gap*i} to {start+gap*(1+i)}\")\n",
    "# print(rent_gdf.loc[rent_gdf[\"tar_distan\"]!=0.0].shape)"
   ]
  },
  {
   "cell_type": "code",
   "execution_count": 16,
   "metadata": {
    "vscode": {
     "languageId": "python"
    }
   },
   "outputs": [
    {
     "name": "stdout",
     "output_type": "stream",
     "text": [
      "      rent_id        SA2  tar_distan      tar_lo     tar_la  \\\n",
      "3743     3743  213041573       282.7  142.481482 -38.373613   \n",
      "3744     3744  203021040       931.0  142.456146 -38.378018   \n",
      "3745     3745  203021485      1306.5  142.497399 -38.389498   \n",
      "3746     3746  206011495       459.2  142.519533 -38.385247   \n",
      "3747     3747  212031458       253.6  142.477992 -38.378988   \n",
      "\n",
      "                         geometry  \n",
      "3743  POINT (142.48063 -38.37525)  \n",
      "3744  POINT (142.46395 -38.38286)  \n",
      "3745  POINT (142.49286 -38.38424)  \n",
      "3746  POINT (142.51554 -38.38682)  \n",
      "3747  POINT (142.47632 -38.38010)  \n",
      "(3748, 6)\n",
      "(0, 6)\n",
      "(3748, 6)\n"
     ]
    }
   ],
   "source": [
    "rent_df = gpd.read_file(\"../data/curated/rent_school.shp\")\n",
    "print(rent_df.loc[rent_df[\"tar_distan\"]!=0.0].tail())\n",
    "print(rent_df.shape)\n",
    "print(rent_df.loc[rent_df[\"tar_distan\"]==0.0].shape)\n",
    "print(rent_df.loc[rent_df[\"tar_distan\"]!=0.0].shape)\n"
   ]
  },
  {
   "cell_type": "code",
   "execution_count": 18,
   "metadata": {
    "vscode": {
     "languageId": "python"
    }
   },
   "outputs": [],
   "source": [
    "### last save: low: 2200, upper: 3350\n",
    "\n",
    "## read rent file\n",
    "# ['features'][0]['properties']['summary']['distance'])\n",
    "start = 3350\n",
    "gap = 50\n",
    "for i in range(8):\n",
    "    rent_gdf = gpd.read_file(\"../data/curated/rent_school.shp\")\n",
    "    rent_gdf = rent_gdf.set_index(\"rent_id\")\n",
    "    rent_gdf[\"tar_point\"] = rent_gdf.apply(lambda x: Point(x[\"tar_lo\"], x[\"tar_la\"]), axis=1)\n",
    "\n",
    "    if(start+gap*i > len(rent_gdf.index.to_list())): break\n",
    "    if(start+gap*(1+i) > len(rent_gdf.index.to_list())): \n",
    "        index = rent_gdf.index.to_list()[start+gap*i : len(rent_gdf.index.to_list())]\n",
    "    else:\n",
    "        index = rent_gdf.index.to_list()[start+gap*i : start+gap*(1+i)]\n",
    "    print(start+gap*i, start+gap*(1+i))\n",
    "\n",
    "    print(rent_gdf.shape)\n",
    "\n",
    "    ## feature enginnering\n",
    "    rent_gdf.loc[index, \"tar_distan\"] = rent_gdf.loc[index].apply(lambda x: point_wise_distance(x[\"geometry\"], x[\"tar_point\"]), axis=1)\n",
    "\n",
    "\n",
    "    rent_gdf = rent_gdf.drop(\"tar_point\", axis=1)\n",
    "    rent_gdf.to_file(\"../data/curated/rent_school.shp\")\n",
    "    rent_gdf[[\"SA2\", \"tar_distan\"]].to_csv(\"../data/curated/rent_school.csv\")\n",
    "\n",
    "    print(f\"distance_pulled: from {start+gap*i} to {start+gap*(1+i)}\")\n",
    "    print(rent_gdf.loc[rent_gdf[\"tar_distan\"]!=0.0].shape)\n",
    "    "
   ]
  },
  {
   "cell_type": "code",
   "execution_count": 10,
   "metadata": {
    "vscode": {
     "languageId": "python"
    }
   },
   "outputs": [
    {
     "name": "stdout",
     "output_type": "stream",
     "text": [
      "(3748, 6)\n"
     ]
    }
   ],
   "source": [
    "# rent_gdf = rent_gdf.drop(\"tar_point\", axis=1)\n",
    "rent_gdf.to_file(\"../data/curated/rent_school.shp\")\n",
    "rent_df = gpd.read_file(\"../data/curated/rent_school.shp\")\n",
    "print(rent_df.loc[rent_df[\"tar_distan\"]!=0.0].shape)"
   ]
  },
  {
   "cell_type": "markdown",
   "metadata": {},
   "source": [
    "## PTV station"
   ]
  },
  {
   "cell_type": "code",
   "execution_count": 129,
   "metadata": {
    "vscode": {
     "languageId": "python"
    }
   },
   "outputs": [
    {
     "name": "stdout",
     "output_type": "stream",
     "text": [
      "(331, 1)\n",
      "                            geometry\n",
      "STOP_ID                             \n",
      "47647    POINT (144.60874 -37.87287)\n",
      "47648    POINT (144.69472 -37.83215)\n",
      "48804    POINT (144.60411 -37.71253)\n",
      "52011    POINT (144.73575 -37.76613)\n",
      "0        POINT (144.96257 -37.81361)\n"
     ]
    },
    {
     "name": "stderr",
     "output_type": "stream",
     "text": [
      "/tmp/ipykernel_561/1645532818.py:15: ShapelyDeprecationWarning: The 'cascaded_union()' function is deprecated. Use 'unary_union()' instead.\n",
      "  cbd = gpd.GeoSeries(cascaded_union(polygons))[0].centroid\n"
     ]
    }
   ],
   "source": [
    "ptv_dir = \"../data/raw/PTV/ll_gda2020/esrishape/whole_of_dataset/victoria/PUBLIC_TRANSPORT/\"\n",
    "## read data\n",
    "metro_train_gdf = gpd.read_file(f\"{ptv_dir}PTV_METRO_TRAIN_STATION.shp\")\n",
    "region_train_gdf = gpd.read_file(f\"{ptv_dir}PTV_REGIONAL_TRAIN_STATION.shp\")\n",
    "boundary_gdf = gpd.read_file(f\"{INPUT_PATH}ABS/digitalBoundary/SA2_2021_AUST_GDA2020.shp\").dropna()\n",
    "\n",
    "## feature selection on boundary data\n",
    "boundary_gdf = boundary_gdf.loc[boundary_gdf[\"STE_NAME21\"] == \"Victoria\"]\n",
    "boundary_gdf[\"SA2_CODE21\"] = boundary_gdf[\"SA2_CODE21\"].astype(\"int64\")\n",
    "\n",
    "## feature selection on station gdf\n",
    "metro_train_gdf = metro_train_gdf[[\"STOP_ID\", \"geometry\"]]\n",
    "region_train_gdf = region_train_gdf[[\"STOP_ID\", \"geometry\"]]\n",
    "polygons = boundary_gdf[boundary_gdf[\"SA2_NAME21\"].str.contains(\"Melbourne CBD\")][\"geometry\"].to_list()\n",
    "cbd = gpd.GeoSeries(cascaded_union(polygons))[0].centroid\n",
    "\n",
    "## convate station data\n",
    "station_gdf = gpd.GeoDataFrame(pd.concat([metro_train_gdf,region_train_gdf])).dropna().drop_duplicates().set_index(\"STOP_ID\")\n",
    "station_gdf.loc[0] = cbd\n",
    "station_gdf[\"geometry\"] = station_gdf[\"geometry\"].set_crs(\"epsg:7844\")\n",
    "station_gdf.index = station_gdf.index.map(int)\n",
    "\n",
    "print(station_gdf.shape)\n",
    "print(station_gdf.tail())"
   ]
  },
  {
   "cell_type": "code",
   "execution_count": 130,
   "metadata": {
    "vscode": {
     "languageId": "python"
    }
   },
   "outputs": [
    {
     "name": "stdout",
     "output_type": "stream",
     "text": [
      "                            geometry\n",
      "STOP_ID                             \n",
      "19970    POINT (144.95231 -37.78118)\n",
      "19971    POINT (144.93933 -37.78813)\n",
      "(331, 1)\n",
      "geometry    geometry\n",
      "dtype: object\n",
      "               SA2                     geometry\n",
      "rent_id                                        \n",
      "0        206021110  POINT (143.79387 -37.56307)\n",
      "1        206051134  POINT (143.77011 -37.54724)\n",
      "(3748, 2)\n",
      "SA2            int64\n",
      "geometry    geometry\n",
      "dtype: object\n"
     ]
    }
   ],
   "source": [
    "# read / prepare rent data\n",
    "rent_gdf = pd.read_csv(f\"../data/curated/rent.csv\").drop([\"geometry\"], axis=1).dropna()\n",
    "rent_gdf = gpd.GeoDataFrame(rent_gdf, geometry=gpd\\\n",
    "            .points_from_xy(rent_gdf[\"Longitude\"], rent_gdf[\"Latitude\"]))\n",
    "rent_gdf[\"geometry\"] = rent_gdf[\"geometry\"].set_crs(\"epsg:7844\")\n",
    "\n",
    "# feature seleciton on rent\n",
    "rent_gdf = rent_gdf[[\"rent_id\", \"SA2\", \"geometry\"]].set_index(\"rent_id\")\n",
    "print(station_gdf.head(2))\n",
    "print(station_gdf.shape)\n",
    "print(station_gdf.dtypes)\n",
    "\n",
    "print(rent_gdf.head(2))\n",
    "print(rent_gdf.shape)\n",
    "print(rent_gdf.dtypes)"
   ]
  },
  {
   "cell_type": "code",
   "execution_count": 73,
   "metadata": {
    "vscode": {
     "languageId": "python"
    }
   },
   "outputs": [
    {
     "name": "stdout",
     "output_type": "stream",
     "text": [
      "Int64Index([19970, 19971, 19972, 19973, 19974, 19975, 19976, 19977, 19978,\n",
      "            19979,\n",
      "            ...\n",
      "            44953, 45918, 47482, 47641, 47642, 47647, 47648, 48804, 52011,\n",
      "                0],\n",
      "           dtype='int64', name='STOP_ID', length=331)\n"
     ]
    }
   ],
   "source": [
    "print(station_gdf.index)"
   ]
  },
  {
   "cell_type": "code",
   "execution_count": 77,
   "metadata": {
    "vscode": {
     "languageId": "python"
    }
   },
   "outputs": [
    {
     "name": "stdout",
     "output_type": "stream",
     "text": [
      "               SA2                     geometry  tar_distan      tar_lo  \\\n",
      "rent_id                                                                   \n",
      "0        206021110  POINT (143.79387 -37.56307)           0  143.820074   \n",
      "1        206051134  POINT (143.77011 -37.54724)           0  143.820074   \n",
      "2        206051514  POINT (143.80033 -37.56632)           0  143.820074   \n",
      "3        206071517  POINT (143.78949 -37.56345)           0  143.820074   \n",
      "4        207011520  POINT (143.78604 -37.55055)           0  143.820074   \n",
      "\n",
      "            tar_la  \n",
      "rent_id             \n",
      "0       -37.539703  \n",
      "1       -37.539703  \n",
      "2       -37.539703  \n",
      "3       -37.539703  \n",
      "4       -37.539703  \n",
      "Index(['SA2', 'geometry', 'tar_distan', 'tar_lo', 'tar_la'], dtype='object')\n",
      "(3748, 5)\n"
     ]
    }
   ],
   "source": [
    "rent_gdf[\"tar_point\"] = rent_gdf[\"geometry\"].apply(lambda x: station_gdf.loc[find_k_nearest(x, station_gdf, 1)][\"geometry\"].to_list()[0])\n",
    "\n",
    "rent_gdf[\"tar_distan\"] = 0\n",
    "\n",
    "print(rent_gdf.dtypes)\n",
    "\n",
    "# points_from_xy(rent_gdf[\"Longitude\"], rent_gdf[\"Latitude\"]))\n",
    "\n",
    "print(rent_gdf.head())\n",
    "print(rent_gdf.columns)\n",
    "print(rent_gdf.shape)\n",
    "rent_gdf[\"tar_lo\"] = rent_gdf[\"tar_point\"].apply(lambda x: x.x)\n",
    "rent_gdf[\"tar_la\"] = rent_gdf[\"tar_point\"].apply(lambda x: x.y)\n",
    "rent_gdf = rent_gdf.drop(\"tar_point\", axis=1)\n",
    "rent_gdf.to_file(filename=\"../data/curated/rent_station.shp\", index=\"rent_id\")"
   ]
  },
  {
   "cell_type": "markdown",
   "metadata": {},
   "source": [
    "# RUN THIS"
   ]
  },
  {
   "cell_type": "code",
   "execution_count": 11,
   "metadata": {
    "vscode": {
     "languageId": "python"
    }
   },
   "outputs": [
    {
     "name": "stderr",
     "output_type": "stream",
     "text": [
      "/home/bruce/.venv/lib/python3.8/site-packages/pandas/core/dtypes/cast.py:122: ShapelyDeprecationWarning: The array interface is deprecated and will no longer work in Shapely 2.0. Convert the '.coords' to a numpy array instead.\n",
      "  arr = construct_1d_object_array_from_listlike(values)\n"
     ]
    },
    {
     "name": "stdout",
     "output_type": "stream",
     "text": [
      "(3748, 6)\n",
      "requesting distance from [142.0336453, -36.7882751] to [142.20056163846513, -36.707487637483]\n",
      "\n",
      "\n",
      "404 ({'error': {'code': 2010, 'message': 'Could not find routable point within a radius of 350.0 meters of specified coordinate 0: 142.0336453 -36.7882751.'}, 'info': {'engine': {'version': '6.7.0', 'build_date': '2022-02-18T19:37:41Z'}, 'timestamp': 1663390866404}})\n",
      "\n",
      "\n"
     ]
    }
   ],
   "source": [
    "rent_gdf = gpd.read_file(\"../data/curated/rent_station.shp\")\n",
    "rent_gdf = rent_gdf.set_index(\"rent_id\")\n",
    "rent_gdf[\"tar_point\"] = rent_gdf.apply(lambda x: Point(x[\"tar_lo\"], x[\"tar_la\"]), axis=1)\n",
    "\n",
    "index = [3671]\n",
    "\n",
    "print(rent_gdf.shape)\n",
    "\n",
    "## feature enginnering\n",
    "rent_gdf.loc[index, \"tar_distan\"] = rent_gdf.loc[index].apply(lambda x: point_wise_distance(x[\"geometry\"], x[\"tar_point\"]), axis=1)\n",
    "\n",
    "\n",
    "rent_gdf = rent_gdf.drop(\"tar_point\", axis=1)\n",
    "rent_gdf.to_file(\"../data/curated/rent_station.shp\")\n",
    "rent_gdf[[\"SA2\", \"tar_distan\"]].to_csv(\"../data/curated/rent_station.csv\")"
   ]
  },
  {
   "cell_type": "code",
   "execution_count": 14,
   "metadata": {
    "vscode": {
     "languageId": "python"
    }
   },
   "outputs": [
    {
     "name": "stdout",
     "output_type": "stream",
     "text": [
      "      rent_id        SA2  tar_distan      tar_lo     tar_la  \\\n",
      "3743     3743  213041573      1397.1  142.475551 -38.385001   \n",
      "3744     3744  203021040      1365.4  142.475551 -38.385001   \n",
      "3745     3745  203021485      2163.9  142.475551 -38.385001   \n",
      "3746     3746  206011495      4168.1  142.538877 -38.386379   \n",
      "3747     3747  212031458       875.8  142.475551 -38.385001   \n",
      "\n",
      "                         geometry  \n",
      "3743  POINT (142.48063 -38.37525)  \n",
      "3744  POINT (142.46395 -38.38286)  \n",
      "3745  POINT (142.49286 -38.38424)  \n",
      "3746  POINT (142.51554 -38.38682)  \n",
      "3747  POINT (142.47632 -38.38010)  \n",
      "(3748, 6)\n",
      "(0, 6)\n",
      "(3748, 6)\n",
      "Int64Index([], dtype='int64')\n"
     ]
    }
   ],
   "source": [
    "rent_df = gpd.read_file(\"../data/curated/rent_station.shp\")\n",
    "print(rent_df.loc[rent_df[\"tar_distan\"]!=0.0].tail())\n",
    "print(rent_df.shape)\n",
    "print(rent_df.loc[rent_df[\"tar_distan\"]==0.0].shape)\n",
    "print(rent_df.loc[rent_df[\"tar_distan\"]!=0.0].shape)\n",
    "print(rent_df.loc[(rent_df[\"tar_distan\"]==0.0) & (rent_df[\"rent_id\"] <= 3500)].index)"
   ]
  },
  {
   "cell_type": "code",
   "execution_count": 15,
   "metadata": {
    "vscode": {
     "languageId": "python"
    }
   },
   "outputs": [],
   "source": [
    "# ### last save: low: 1500, upper: 3500\n",
    "\n",
    "# ## read rent file\n",
    "# # ['features'][0]['properties']['summary']['distance'])\n",
    "start = 3500\n",
    "gap = 50\n",
    "for i in range(5):\n",
    "    rent_gdf = gpd.read_file(\"../data/curated/rent_station.shp\")\n",
    "    rent_gdf = rent_gdf.set_index(\"rent_id\")\n",
    "    rent_gdf[\"tar_point\"] = rent_gdf.apply(lambda x: Point(x[\"tar_lo\"], x[\"tar_la\"]), axis=1)\n",
    "\n",
    "    if(start+gap*i > len(rent_gdf.index.to_list())): break\n",
    "    if(start+gap*(1+i) > len(rent_gdf.index.to_list())): \n",
    "        index = rent_gdf.index.to_list()[start+gap*i : len(rent_gdf.index.to_list())]\n",
    "    else:\n",
    "        index = rent_gdf.index.to_list()[start+gap*i : start+gap*(1+i)]\n",
    "    print(start+gap*i, start+gap*(1+i))\n",
    "\n",
    "    print(rent_gdf.shape)\n",
    "\n",
    "    ## feature enginnering\n",
    "    rent_gdf.loc[index, \"tar_distan\"] = rent_gdf.loc[index].apply(lambda x: point_wise_distance(x[\"geometry\"], x[\"tar_point\"]), axis=1)\n",
    "\n",
    "\n",
    "    rent_gdf = rent_gdf.drop(\"tar_point\", axis=1)\n",
    "    rent_gdf.to_file(\"../data/curated/rent_station.shp\")\n",
    "    rent_gdf[[\"SA2\", \"tar_distan\"]].to_csv(\"../data/curated/rent_station.csv\")\n",
    "\n",
    "    print(f\"distance_pulled: from {start+gap*i} to {start+gap*(1+i)}\")\n",
    "    print(rent_gdf.loc[rent_gdf[\"tar_distan\"]!=0.0].shape)\n",
    "    "
   ]
  },
  {
   "cell_type": "code",
   "execution_count": 16,
   "metadata": {
    "vscode": {
     "languageId": "python"
    }
   },
   "outputs": [
    {
     "name": "stdout",
     "output_type": "stream",
     "text": [
      "(3748, 6)\n"
     ]
    }
   ],
   "source": [
    "# rent_gdf = rent_gdf.drop(\"tar_point\", axis=1)\n",
    "rent_gdf.to_file(\"../data/curated/rent_station_bac.shp\")\n",
    "rent_df = gpd.read_file(\"../data/curated/rent_station_bac.shp\")\n",
    "print(rent_df.loc[rent_df[\"tar_distan\"]!=0.0].shape)"
   ]
  },
  {
   "cell_type": "markdown",
   "metadata": {},
   "source": [
    "## Combine distance"
   ]
  },
  {
   "cell_type": "code",
   "execution_count": 51,
   "metadata": {
    "vscode": {
     "languageId": "python"
    }
   },
   "outputs": [
    {
     "name": "stdout",
     "output_type": "stream",
     "text": [
      "         school_dis\n",
      "rent_id            \n",
      "0            1651.7\n",
      "1            1249.5\n",
      "2            2094.0\n",
      "3            3988.4\n",
      "4            1120.8\n",
      "         station_dis\n",
      "rent_id             \n",
      "0             5895.5\n",
      "1             7529.9\n",
      "2             6864.2\n",
      "3             7111.3\n",
      "4             6272.3\n"
     ]
    }
   ],
   "source": [
    "## read files\n",
    "rent_df = pd.read_csv(\"../data/curated/rent.csv\", index_col=\"rent_id\")\n",
    "schooldis_gdf = gpd.read_file(\"../data/curated/rent_school.shp\")\n",
    "stationdis_gdf = gpd.read_file(\"../data/curated/rent_station.shp\")\n",
    "boundary_gdf = gpd.read_file(\"../data/raw/ABS/digitalBoundary/SA2_2021_AUST_GDA2020.shp\")\n",
    "\n",
    "## feature selection\n",
    "schooldis_gdf = schooldis_gdf.set_index(\"rent_id\")\n",
    "schooldis_gdf = schooldis_gdf[[\"tar_distan\"]].rename(columns={\"tar_distan\": \"school_dis\"})\n",
    "stationdis_gdf = stationdis_gdf.set_index(\"rent_id\")\n",
    "stationdis_gdf = stationdis_gdf[[\"tar_distan\"]].rename(columns={\"tar_distan\": \"station_dis\"})\n",
    "\n",
    "\n",
    "# print(rent_df.head())\n",
    "print(schooldis_gdf.head())\n",
    "print(stationdis_gdf.head())"
   ]
  },
  {
   "cell_type": "code",
   "execution_count": 81,
   "metadata": {
    "vscode": {
     "languageId": "python"
    }
   },
   "outputs": [
    {
     "name": "stdout",
     "output_type": "stream",
     "text": [
      "(3748, 9)\n",
      "                  SA2   rent  bedroom  baths  parking   Latitude   Longitude  \\\n",
      "rent_index                                                                     \n",
      "0           201011001  490.0        4      2        2 -37.563073  143.793875   \n",
      "1           201011001  420.0        4      2        2 -37.547241  143.770106   \n",
      "2           201011001  520.0        4      2        2 -37.566319  143.800328   \n",
      "3           201011001  440.0        4      2        2 -37.563453  143.789489   \n",
      "4           201011001  440.0        4      2        2 -37.550549  143.786038   \n",
      "\n",
      "            school_dis  station_dis  \n",
      "rent_index                           \n",
      "0               1651.7       5895.5  \n",
      "1               1249.5       7529.9  \n",
      "2               2094.0       6864.2  \n",
      "3               3988.4       7111.3  \n",
      "4               1120.8       6272.3  \n"
     ]
    }
   ],
   "source": [
    "## match distances\n",
    "rentdis_df = rent_df.join(schooldis_gdf, how=\"inner\")\n",
    "rentdis_df = rentdis_df.join(stationdis_gdf, how=\"inner\")\n",
    "\n",
    "## recheck SA2\n",
    "rentdis_gdf = gpd.GeoDataFrame(rentdis_df, geometry=gpd\\\n",
    "        .points_from_xy(rentdis_df[\"Longitude\"], rentdis_df[\"Latitude\"])).set_crs(\"EPSG:7844\")\n",
    "rentdis_gdf  = gpd.sjoin(rentdis_gdf, boundary_gdf, how=\"right\")\n",
    "rentdis_gdf = rentdis_gdf[['index_left', 'SA2_CODE21', 'rent', 'bedroom', 'baths', 'parking', 'Latitude',\n",
    "       'Longitude', 'school_dis', 'station_dis']]\n",
    "rentdis_gdf = rentdis_gdf.dropna().rename(columns={\"index_left\": \"rent_index\", \"SA2_CODE21\": \"SA2\"})\n",
    "rentdis_gdf = rentdis_gdf.astype({\n",
    "        \"rent_index\": int, \n",
    "        \"SA2\": int,\n",
    "        'bedroom': int,\n",
    "        'baths': int,\n",
    "        'parking': int})\n",
    "rentdis_gdf = rentdis_gdf.set_index(\"rent_index\")\n",
    "\n",
    "pd.DataFrame(rentdis_gdf).to_csv(\"../data/curated/rent_distance.csv\")\n",
    "print(rentdis_gdf.shape)\n",
    "print(rentdis_gdf.head())"
   ]
  },
  {
   "cell_type": "markdown",
   "metadata": {},
   "source": [
    "## Plot"
   ]
  },
  {
   "cell_type": "code",
   "execution_count": 108,
   "metadata": {
    "vscode": {
     "languageId": "python"
    }
   },
   "outputs": [
    {
     "name": "stdout",
     "output_type": "stream",
     "text": [
      "SA2_CODE21       int64\n",
      "SA2_NAME21      object\n",
      "CHG_FLAG21      object\n",
      "CHG_LBL21       object\n",
      "SA3_CODE21      object\n",
      "SA3_NAME21      object\n",
      "SA4_CODE21      object\n",
      "SA4_NAME21      object\n",
      "GCC_CODE21      object\n",
      "GCC_NAME21      object\n",
      "STE_CODE21      object\n",
      "STE_NAME21      object\n",
      "AUS_CODE21      object\n",
      "AUS_NAME21      object\n",
      "AREASQKM21     float64\n",
      "LOCI_URI21      object\n",
      "geometry      geometry\n",
      "dtype: object\n"
     ]
    }
   ],
   "source": [
    "print(boundary_gdf.dtypes)"
   ]
  },
  {
   "cell_type": "code",
   "execution_count": 7,
   "metadata": {
    "vscode": {
     "languageId": "python"
    }
   },
   "outputs": [
    {
     "name": "stdout",
     "output_type": "stream",
     "text": [
      "SA2              int64\n",
      "tar_distan     float64\n",
      "tar_lo         float64\n",
      "tar_la         float64\n",
      "geometry      geometry\n",
      "tar_point     geometry\n",
      "dtype: object\n",
      "(5, 6)\n",
      "               SA2  tar_distan      tar_lo     tar_la  \\\n",
      "rent_id                                                 \n",
      "0        206021110      5895.5  143.820074 -37.539703   \n",
      "1        206051134      7529.9  143.820074 -37.539703   \n",
      "2        206051514      6864.2  143.820074 -37.539703   \n",
      "3        206071517      7111.3  143.820074 -37.539703   \n",
      "4        207011520      6272.3  143.820074 -37.539703   \n",
      "\n",
      "                            geometry                    tar_point  \n",
      "rent_id                                                            \n",
      "0        POINT (143.79387 -37.56307)  POINT (143.82007 -37.53970)  \n",
      "1        POINT (143.77011 -37.54724)  POINT (143.82007 -37.53970)  \n",
      "2        POINT (143.80033 -37.56632)  POINT (143.82007 -37.53970)  \n",
      "3        POINT (143.78949 -37.56345)  POINT (143.82007 -37.53970)  \n",
      "4        POINT (143.78604 -37.55055)  POINT (143.82007 -37.53970)  \n"
     ]
    },
    {
     "name": "stderr",
     "output_type": "stream",
     "text": [
      "/home/bruce/.venv/lib/python3.8/site-packages/pandas/core/dtypes/cast.py:122: ShapelyDeprecationWarning: The array interface is deprecated and will no longer work in Shapely 2.0. Convert the '.coords' to a numpy array instead.\n",
      "  arr = construct_1d_object_array_from_listlike(values)\n"
     ]
    },
    {
     "data": {
      "text/html": [
       "<div style=\"width:100%;\"><div style=\"position:relative;width:100%;height:0;padding-bottom:60%;\"><span style=\"color:#565656\">Make this Notebook Trusted to load map: File -> Trust Notebook</span><iframe srcdoc=\"&lt;!DOCTYPE html&gt;\n",
       "&lt;head&gt;    \n",
       "    &lt;meta http-equiv=&quot;content-type&quot; content=&quot;text/html; charset=UTF-8&quot; /&gt;\n",
       "    \n",
       "        &lt;script&gt;\n",
       "            L_NO_TOUCH = false;\n",
       "            L_DISABLE_3D = false;\n",
       "        &lt;/script&gt;\n",
       "    \n",
       "    &lt;style&gt;html, body {width: 100%;height: 100%;margin: 0;padding: 0;}&lt;/style&gt;\n",
       "    &lt;style&gt;#map {position:absolute;top:0;bottom:0;right:0;left:0;}&lt;/style&gt;\n",
       "    &lt;script src=&quot;https://cdn.jsdelivr.net/npm/leaflet@1.6.0/dist/leaflet.js&quot;&gt;&lt;/script&gt;\n",
       "    &lt;script src=&quot;https://code.jquery.com/jquery-1.12.4.min.js&quot;&gt;&lt;/script&gt;\n",
       "    &lt;script src=&quot;https://maxcdn.bootstrapcdn.com/bootstrap/3.2.0/js/bootstrap.min.js&quot;&gt;&lt;/script&gt;\n",
       "    &lt;script src=&quot;https://cdnjs.cloudflare.com/ajax/libs/Leaflet.awesome-markers/2.0.2/leaflet.awesome-markers.js&quot;&gt;&lt;/script&gt;\n",
       "    &lt;link rel=&quot;stylesheet&quot; href=&quot;https://cdn.jsdelivr.net/npm/leaflet@1.6.0/dist/leaflet.css&quot;/&gt;\n",
       "    &lt;link rel=&quot;stylesheet&quot; href=&quot;https://maxcdn.bootstrapcdn.com/bootstrap/3.2.0/css/bootstrap.min.css&quot;/&gt;\n",
       "    &lt;link rel=&quot;stylesheet&quot; href=&quot;https://maxcdn.bootstrapcdn.com/bootstrap/3.2.0/css/bootstrap-theme.min.css&quot;/&gt;\n",
       "    &lt;link rel=&quot;stylesheet&quot; href=&quot;https://maxcdn.bootstrapcdn.com/font-awesome/4.6.3/css/font-awesome.min.css&quot;/&gt;\n",
       "    &lt;link rel=&quot;stylesheet&quot; href=&quot;https://cdnjs.cloudflare.com/ajax/libs/Leaflet.awesome-markers/2.0.2/leaflet.awesome-markers.css&quot;/&gt;\n",
       "    &lt;link rel=&quot;stylesheet&quot; href=&quot;https://cdn.jsdelivr.net/gh/python-visualization/folium/folium/templates/leaflet.awesome.rotate.min.css&quot;/&gt;\n",
       "    \n",
       "            &lt;meta name=&quot;viewport&quot; content=&quot;width=device-width,\n",
       "                initial-scale=1.0, maximum-scale=1.0, user-scalable=no&quot; /&gt;\n",
       "            &lt;style&gt;\n",
       "                #map_227f912982c9003cc558269fd70c843f {\n",
       "                    position: relative;\n",
       "                    width: 100.0%;\n",
       "                    height: 100.0%;\n",
       "                    left: 0.0%;\n",
       "                    top: 0.0%;\n",
       "                }\n",
       "            &lt;/style&gt;\n",
       "        \n",
       "&lt;/head&gt;\n",
       "&lt;body&gt;    \n",
       "    \n",
       "            &lt;div class=&quot;folium-map&quot; id=&quot;map_227f912982c9003cc558269fd70c843f&quot; &gt;&lt;/div&gt;\n",
       "        \n",
       "&lt;/body&gt;\n",
       "&lt;script&gt;    \n",
       "    \n",
       "            var map_227f912982c9003cc558269fd70c843f = L.map(\n",
       "                &quot;map_227f912982c9003cc558269fd70c843f&quot;,\n",
       "                {\n",
       "                    center: [-37.5397, 143.82007],\n",
       "                    crs: L.CRS.EPSG3857,\n",
       "                    zoom: 12,\n",
       "                    zoomControl: true,\n",
       "                    preferCanvas: false,\n",
       "                }\n",
       "            );\n",
       "\n",
       "            \n",
       "\n",
       "        \n",
       "    \n",
       "            var tile_layer_bf7bd8623f44f2a76497a3ba24ad551b = L.tileLayer(\n",
       "                &quot;https://stamen-tiles-{s}.a.ssl.fastly.net/terrain/{z}/{x}/{y}.jpg&quot;,\n",
       "                {&quot;attribution&quot;: &quot;Map tiles by \\u003ca href=\\&quot;http://stamen.com\\&quot;\\u003eStamen Design\\u003c/a\\u003e, under \\u003ca href=\\&quot;http://creativecommons.org/licenses/by/3.0\\&quot;\\u003eCC BY 3.0\\u003c/a\\u003e. Data by \\u0026copy; \\u003ca href=\\&quot;http://openstreetmap.org\\&quot;\\u003eOpenStreetMap\\u003c/a\\u003e, under \\u003ca href=\\&quot;http://creativecommons.org/licenses/by-sa/3.0\\&quot;\\u003eCC BY SA\\u003c/a\\u003e.&quot;, &quot;detectRetina&quot;: false, &quot;maxNativeZoom&quot;: 18, &quot;maxZoom&quot;: 18, &quot;minZoom&quot;: 0, &quot;noWrap&quot;: false, &quot;opacity&quot;: 1, &quot;subdomains&quot;: &quot;abc&quot;, &quot;tms&quot;: false}\n",
       "            ).addTo(map_227f912982c9003cc558269fd70c843f);\n",
       "        \n",
       "    \n",
       "            var marker_19055e78f44c723057915870d6f8ab24 = L.marker(\n",
       "                [-37.5630731, 143.7938749],\n",
       "                {}\n",
       "            ).addTo(map_227f912982c9003cc558269fd70c843f);\n",
       "        \n",
       "    \n",
       "            var icon_564abb359f479000474eb305be1e8f7e = L.AwesomeMarkers.icon(\n",
       "                {&quot;extraClasses&quot;: &quot;fa-rotate-0&quot;, &quot;icon&quot;: &quot;home&quot;, &quot;iconColor&quot;: &quot;#cc0000&quot;, &quot;markerColor&quot;: &quot;lightgray&quot;, &quot;prefix&quot;: &quot;fa&quot;}\n",
       "            );\n",
       "            marker_19055e78f44c723057915870d6f8ab24.setIcon(icon_564abb359f479000474eb305be1e8f7e);\n",
       "        \n",
       "    \n",
       "            var marker_9cbc2c17fa20a18454e25151a94eb499 = L.marker(\n",
       "                [-37.5472414, 143.7701059],\n",
       "                {}\n",
       "            ).addTo(map_227f912982c9003cc558269fd70c843f);\n",
       "        \n",
       "    \n",
       "            var icon_f66507d97a3c09a3494cd4d25bcf2e84 = L.AwesomeMarkers.icon(\n",
       "                {&quot;extraClasses&quot;: &quot;fa-rotate-0&quot;, &quot;icon&quot;: &quot;home&quot;, &quot;iconColor&quot;: &quot;#cc0000&quot;, &quot;markerColor&quot;: &quot;lightgray&quot;, &quot;prefix&quot;: &quot;fa&quot;}\n",
       "            );\n",
       "            marker_9cbc2c17fa20a18454e25151a94eb499.setIcon(icon_f66507d97a3c09a3494cd4d25bcf2e84);\n",
       "        \n",
       "    \n",
       "            var marker_b1a7149a9abf3cd90cc6ee899f0aed7d = L.marker(\n",
       "                [-37.5663193, 143.8003283],\n",
       "                {}\n",
       "            ).addTo(map_227f912982c9003cc558269fd70c843f);\n",
       "        \n",
       "    \n",
       "            var icon_2db41ad91e0ff1119415d91f46dab29f = L.AwesomeMarkers.icon(\n",
       "                {&quot;extraClasses&quot;: &quot;fa-rotate-0&quot;, &quot;icon&quot;: &quot;home&quot;, &quot;iconColor&quot;: &quot;#cc0000&quot;, &quot;markerColor&quot;: &quot;lightgray&quot;, &quot;prefix&quot;: &quot;fa&quot;}\n",
       "            );\n",
       "            marker_b1a7149a9abf3cd90cc6ee899f0aed7d.setIcon(icon_2db41ad91e0ff1119415d91f46dab29f);\n",
       "        \n",
       "    \n",
       "            var marker_994e2a9c0d046c1b136922c2e321bc82 = L.marker(\n",
       "                [-37.5634529, 143.7894892],\n",
       "                {}\n",
       "            ).addTo(map_227f912982c9003cc558269fd70c843f);\n",
       "        \n",
       "    \n",
       "            var icon_c80693457d2616229a35530db6b245d0 = L.AwesomeMarkers.icon(\n",
       "                {&quot;extraClasses&quot;: &quot;fa-rotate-0&quot;, &quot;icon&quot;: &quot;home&quot;, &quot;iconColor&quot;: &quot;#cc0000&quot;, &quot;markerColor&quot;: &quot;lightgray&quot;, &quot;prefix&quot;: &quot;fa&quot;}\n",
       "            );\n",
       "            marker_994e2a9c0d046c1b136922c2e321bc82.setIcon(icon_c80693457d2616229a35530db6b245d0);\n",
       "        \n",
       "    \n",
       "            var marker_d839651460dc04142343bd29bb969759 = L.marker(\n",
       "                [-37.550549, 143.7860381],\n",
       "                {}\n",
       "            ).addTo(map_227f912982c9003cc558269fd70c843f);\n",
       "        \n",
       "    \n",
       "            var icon_4ca171b84d6647c2e03ba89903e040e6 = L.AwesomeMarkers.icon(\n",
       "                {&quot;extraClasses&quot;: &quot;fa-rotate-0&quot;, &quot;icon&quot;: &quot;home&quot;, &quot;iconColor&quot;: &quot;#cc0000&quot;, &quot;markerColor&quot;: &quot;lightgray&quot;, &quot;prefix&quot;: &quot;fa&quot;}\n",
       "            );\n",
       "            marker_d839651460dc04142343bd29bb969759.setIcon(icon_4ca171b84d6647c2e03ba89903e040e6);\n",
       "        \n",
       "    \n",
       "            var marker_742a16d89d5388f57f6ff0365fcf33ba = L.marker(\n",
       "                [-37.539702800274455, 143.8200742033684],\n",
       "                {}\n",
       "            ).addTo(map_227f912982c9003cc558269fd70c843f);\n",
       "        \n",
       "    \n",
       "            var icon_32613cf012429e674abfc73b8d1e3ea2 = L.AwesomeMarkers.icon(\n",
       "                {&quot;extraClasses&quot;: &quot;fa-rotate-0&quot;, &quot;icon&quot;: &quot;pen&quot;, &quot;iconColor&quot;: &quot;#1a1aff&quot;, &quot;markerColor&quot;: &quot;white&quot;, &quot;prefix&quot;: &quot;fa&quot;}\n",
       "            );\n",
       "            marker_742a16d89d5388f57f6ff0365fcf33ba.setIcon(icon_32613cf012429e674abfc73b8d1e3ea2);\n",
       "        \n",
       "    \n",
       "            var marker_f2a9f3bb55fc635d88633250844961b0 = L.marker(\n",
       "                [-37.539702800274455, 143.8200742033684],\n",
       "                {}\n",
       "            ).addTo(map_227f912982c9003cc558269fd70c843f);\n",
       "        \n",
       "    \n",
       "            var icon_50d5a6c0808b78bb88c1dc0fa0a444df = L.AwesomeMarkers.icon(\n",
       "                {&quot;extraClasses&quot;: &quot;fa-rotate-0&quot;, &quot;icon&quot;: &quot;pen&quot;, &quot;iconColor&quot;: &quot;#1a1aff&quot;, &quot;markerColor&quot;: &quot;white&quot;, &quot;prefix&quot;: &quot;fa&quot;}\n",
       "            );\n",
       "            marker_f2a9f3bb55fc635d88633250844961b0.setIcon(icon_50d5a6c0808b78bb88c1dc0fa0a444df);\n",
       "        \n",
       "    \n",
       "            var marker_de4db371286e48d989e8f8003eedd11d = L.marker(\n",
       "                [-37.539702800274455, 143.8200742033684],\n",
       "                {}\n",
       "            ).addTo(map_227f912982c9003cc558269fd70c843f);\n",
       "        \n",
       "    \n",
       "            var icon_6a41caf718d0fe8b1a3b8f32e3b9df6c = L.AwesomeMarkers.icon(\n",
       "                {&quot;extraClasses&quot;: &quot;fa-rotate-0&quot;, &quot;icon&quot;: &quot;pen&quot;, &quot;iconColor&quot;: &quot;#1a1aff&quot;, &quot;markerColor&quot;: &quot;white&quot;, &quot;prefix&quot;: &quot;fa&quot;}\n",
       "            );\n",
       "            marker_de4db371286e48d989e8f8003eedd11d.setIcon(icon_6a41caf718d0fe8b1a3b8f32e3b9df6c);\n",
       "        \n",
       "    \n",
       "            var marker_78c24265560bae5eb7f43d95e34cfba4 = L.marker(\n",
       "                [-37.539702800274455, 143.8200742033684],\n",
       "                {}\n",
       "            ).addTo(map_227f912982c9003cc558269fd70c843f);\n",
       "        \n",
       "    \n",
       "            var icon_db99bab8486d7d273f4798fb99448ef5 = L.AwesomeMarkers.icon(\n",
       "                {&quot;extraClasses&quot;: &quot;fa-rotate-0&quot;, &quot;icon&quot;: &quot;pen&quot;, &quot;iconColor&quot;: &quot;#1a1aff&quot;, &quot;markerColor&quot;: &quot;white&quot;, &quot;prefix&quot;: &quot;fa&quot;}\n",
       "            );\n",
       "            marker_78c24265560bae5eb7f43d95e34cfba4.setIcon(icon_db99bab8486d7d273f4798fb99448ef5);\n",
       "        \n",
       "    \n",
       "            var marker_24e0edf0c573489c1bf04154a14bec24 = L.marker(\n",
       "                [-37.539702800274455, 143.8200742033684],\n",
       "                {}\n",
       "            ).addTo(map_227f912982c9003cc558269fd70c843f);\n",
       "        \n",
       "    \n",
       "            var icon_f9cc8e5d8a430c0d39000fa858fcbbba = L.AwesomeMarkers.icon(\n",
       "                {&quot;extraClasses&quot;: &quot;fa-rotate-0&quot;, &quot;icon&quot;: &quot;pen&quot;, &quot;iconColor&quot;: &quot;#1a1aff&quot;, &quot;markerColor&quot;: &quot;white&quot;, &quot;prefix&quot;: &quot;fa&quot;}\n",
       "            );\n",
       "            marker_24e0edf0c573489c1bf04154a14bec24.setIcon(icon_f9cc8e5d8a430c0d39000fa858fcbbba);\n",
       "        \n",
       "&lt;/script&gt;\" style=\"position:absolute;width:100%;height:100%;left:0;top:0;border:none !important;\" allowfullscreen webkitallowfullscreen mozallowfullscreen></iframe></div></div>"
      ],
      "text/plain": [
       "<folium.folium.Map at 0x7f8a10b67be0>"
      ]
     },
     "execution_count": 7,
     "metadata": {},
     "output_type": "execute_result"
    }
   ],
   "source": [
    "## icon: pen, car, cart-shopping\n",
    "rent_gdf = gpd.read_file(\"../data/curated/rent_station.shp\")\n",
    "rent_gdf = rent_gdf.set_index(\"rent_id\")\n",
    "rent_gdf[\"tar_point\"] = rent_gdf.apply(lambda x: Point(x[\"tar_lo\"], x[\"tar_la\"]), axis=1)\n",
    "print(rent_gdf.dtypes)\n",
    "\n",
    "rent_df = rent_gdf.loc[range(5)]\n",
    "# station_df = station_gdf\n",
    "\n",
    "print(rent_df.shape)\n",
    "print(rent_df.head())\n",
    "\n",
    "\n",
    "base_map = folium.Map(location=[-37.53970, 143.82007],\n",
    "    tiles=\"Stamen Terrain\", zoom_start=12)\n",
    "# geoJSON = boundary_df[[\"SA2_CODE21\", \"geometry\"]]\\\n",
    "#     .drop_duplicates(\"SA2_CODE21\").to_json()\n",
    "# base_map.add_child(folium.Choropleth(geo_data=geoJSON,\n",
    "#                                     name=\"choropleth\"))\n",
    "\n",
    "for coord in zip(rent_df[\"geometry\"].y, rent_df[\"geometry\"].x):\n",
    "    base_map.add_child(folium.Marker(location=coord, icon=folium.Icon(color='lightgray',\n",
    "                                       icon_color='#cc0000',\n",
    "                                       icon='home',\n",
    "                                       prefix='fa',\n",
    "                                       )))\n",
    "\n",
    "for coord in zip(rent_df[\"tar_point\"].y, rent_df[\"tar_point\"].x):\n",
    "    base_map.add_child(folium.Marker(location=coord, icon=folium.Icon(color='white',\n",
    "                                       icon_color='#1a1aff',\n",
    "                                       icon='pen',\n",
    "                                       prefix='fa',\n",
    "                                       )))\n",
    "\n",
    "base_map"
   ]
  },
  {
   "cell_type": "code",
   "execution_count": 115,
   "metadata": {
    "vscode": {
     "languageId": "python"
    }
   },
   "outputs": [],
   "source": [
    "params_route = {'profile': 'driving-car',\n",
    "                'format_out': 'geojson',\n",
    "                'geometry': 'true',\n",
    "                'format': 'geojson',\n",
    "                'instructions': 'false',\n",
    "                'coordinates': [[144.29047, -36.76841], [144.30797, -36.76838]]\n",
    "                }\n",
    "\n",
    "json_route = ors.directions(**params_route)\n",
    "\n",
    "\n",
    "\n",
    "# POINT (144.29047 -36.76841)  202011020\n",
    "# 1  POINT (144.29047 -36.76841)  202011020\n",
    "# 2  POINT (144.29047 -36.76841)  202011020\n",
    "# 3  POINT (144.29047 -36.76841)  202011020\n",
    "# 4  POINT (144.29047 -36.76841)  202011020\n",
    "#      SA2_CODE21                                           geometry\n",
    "# 665   202011020  POLYGON ((144.29049 -36.76159, 144.29048 -36.7...\n",
    "#            SA2                     geometry\n",
    "# 107  202011020  POINT (144.30797 -36.76838)\n",
    "# 108  202011020  POINT (144.29822 -36.76643)\n",
    "# 109  202011020  POINT (144.31346 -36.78263)\n",
    "# 110  202011020  POINT (144.29099 -36.76552)\n",
    "# 111  202011020  POINT (144.31124 -36.76855)\n",
    "\n"
   ]
  },
  {
   "cell_type": "code",
   "execution_count": 123,
   "metadata": {
    "vscode": {
     "languageId": "python"
    }
   },
   "outputs": [
    {
     "name": "stdout",
     "output_type": "stream",
     "text": [
      "188.7\n"
     ]
    }
   ],
   "source": [
    "print(json_route['features'][0]['properties']['summary']['duration'])"
   ]
  },
  {
   "cell_type": "code",
   "execution_count": 134,
   "metadata": {
    "vscode": {
     "languageId": "python"
    }
   },
   "outputs": [
    {
     "data": {
      "text/html": [
       "<div style=\"width:100%;\"><div style=\"position:relative;width:100%;height:0;padding-bottom:60%;\"><span style=\"color:#565656\">Make this Notebook Trusted to load map: File -> Trust Notebook</span><iframe srcdoc=\"&lt;!DOCTYPE html&gt;\n",
       "&lt;head&gt;    \n",
       "    &lt;meta http-equiv=&quot;content-type&quot; content=&quot;text/html; charset=UTF-8&quot; /&gt;\n",
       "    \n",
       "        &lt;script&gt;\n",
       "            L_NO_TOUCH = false;\n",
       "            L_DISABLE_3D = false;\n",
       "        &lt;/script&gt;\n",
       "    \n",
       "    &lt;style&gt;html, body {width: 100%;height: 100%;margin: 0;padding: 0;}&lt;/style&gt;\n",
       "    &lt;style&gt;#map {position:absolute;top:0;bottom:0;right:0;left:0;}&lt;/style&gt;\n",
       "    &lt;script src=&quot;https://cdn.jsdelivr.net/npm/leaflet@1.6.0/dist/leaflet.js&quot;&gt;&lt;/script&gt;\n",
       "    &lt;script src=&quot;https://code.jquery.com/jquery-1.12.4.min.js&quot;&gt;&lt;/script&gt;\n",
       "    &lt;script src=&quot;https://maxcdn.bootstrapcdn.com/bootstrap/3.2.0/js/bootstrap.min.js&quot;&gt;&lt;/script&gt;\n",
       "    &lt;script src=&quot;https://cdnjs.cloudflare.com/ajax/libs/Leaflet.awesome-markers/2.0.2/leaflet.awesome-markers.js&quot;&gt;&lt;/script&gt;\n",
       "    &lt;link rel=&quot;stylesheet&quot; href=&quot;https://cdn.jsdelivr.net/npm/leaflet@1.6.0/dist/leaflet.css&quot;/&gt;\n",
       "    &lt;link rel=&quot;stylesheet&quot; href=&quot;https://maxcdn.bootstrapcdn.com/bootstrap/3.2.0/css/bootstrap.min.css&quot;/&gt;\n",
       "    &lt;link rel=&quot;stylesheet&quot; href=&quot;https://maxcdn.bootstrapcdn.com/bootstrap/3.2.0/css/bootstrap-theme.min.css&quot;/&gt;\n",
       "    &lt;link rel=&quot;stylesheet&quot; href=&quot;https://maxcdn.bootstrapcdn.com/font-awesome/4.6.3/css/font-awesome.min.css&quot;/&gt;\n",
       "    &lt;link rel=&quot;stylesheet&quot; href=&quot;https://cdnjs.cloudflare.com/ajax/libs/Leaflet.awesome-markers/2.0.2/leaflet.awesome-markers.css&quot;/&gt;\n",
       "    &lt;link rel=&quot;stylesheet&quot; href=&quot;https://cdn.jsdelivr.net/gh/python-visualization/folium/folium/templates/leaflet.awesome.rotate.min.css&quot;/&gt;\n",
       "    \n",
       "            &lt;meta name=&quot;viewport&quot; content=&quot;width=device-width,\n",
       "                initial-scale=1.0, maximum-scale=1.0, user-scalable=no&quot; /&gt;\n",
       "            &lt;style&gt;\n",
       "                #map_46dd5179bb89cc4f0cacb2cb17c3a79a {\n",
       "                    position: relative;\n",
       "                    width: 100.0%;\n",
       "                    height: 100.0%;\n",
       "                    left: 0.0%;\n",
       "                    top: 0.0%;\n",
       "                }\n",
       "            &lt;/style&gt;\n",
       "        \n",
       "&lt;/head&gt;\n",
       "&lt;body&gt;    \n",
       "    \n",
       "            &lt;div class=&quot;folium-map&quot; id=&quot;map_46dd5179bb89cc4f0cacb2cb17c3a79a&quot; &gt;&lt;/div&gt;\n",
       "        \n",
       "&lt;/body&gt;\n",
       "&lt;script&gt;    \n",
       "    \n",
       "            var map_46dd5179bb89cc4f0cacb2cb17c3a79a = L.map(\n",
       "                &quot;map_46dd5179bb89cc4f0cacb2cb17c3a79a&quot;,\n",
       "                {\n",
       "                    center: [-36.76159, 144.29048],\n",
       "                    crs: L.CRS.EPSG3857,\n",
       "                    zoom: 12,\n",
       "                    zoomControl: true,\n",
       "                    preferCanvas: false,\n",
       "                }\n",
       "            );\n",
       "\n",
       "            \n",
       "\n",
       "        \n",
       "    \n",
       "            var tile_layer_5274bd1884f6b74fe8c5e7f38ddfdbf0 = L.tileLayer(\n",
       "                &quot;https://stamen-tiles-{s}.a.ssl.fastly.net/terrain/{z}/{x}/{y}.jpg&quot;,\n",
       "                {&quot;attribution&quot;: &quot;Map tiles by \\u003ca href=\\&quot;http://stamen.com\\&quot;\\u003eStamen Design\\u003c/a\\u003e, under \\u003ca href=\\&quot;http://creativecommons.org/licenses/by/3.0\\&quot;\\u003eCC BY 3.0\\u003c/a\\u003e. Data by \\u0026copy; \\u003ca href=\\&quot;http://openstreetmap.org\\&quot;\\u003eOpenStreetMap\\u003c/a\\u003e, under \\u003ca href=\\&quot;http://creativecommons.org/licenses/by-sa/3.0\\&quot;\\u003eCC BY SA\\u003c/a\\u003e.&quot;, &quot;detectRetina&quot;: false, &quot;maxNativeZoom&quot;: 18, &quot;maxZoom&quot;: 18, &quot;minZoom&quot;: 0, &quot;noWrap&quot;: false, &quot;opacity&quot;: 1, &quot;subdomains&quot;: &quot;abc&quot;, &quot;tms&quot;: false}\n",
       "            ).addTo(map_46dd5179bb89cc4f0cacb2cb17c3a79a);\n",
       "        \n",
       "    \n",
       "            var choropleth_82d5142f24d93d07c09fb31ae4d8e4d0 = L.featureGroup(\n",
       "                {}\n",
       "            ).addTo(map_46dd5179bb89cc4f0cacb2cb17c3a79a);\n",
       "        \n",
       "    \n",
       "        function geo_json_09c1d9242c9222e0e8892411c48b32c4_styler(feature) {\n",
       "            switch(feature.id) {\n",
       "                default:\n",
       "                    return {&quot;color&quot;: &quot;black&quot;, &quot;fillColor&quot;: &quot;blue&quot;, &quot;fillOpacity&quot;: 0.6, &quot;opacity&quot;: 1, &quot;weight&quot;: 1};\n",
       "            }\n",
       "        }\n",
       "\n",
       "        function geo_json_09c1d9242c9222e0e8892411c48b32c4_onEachFeature(feature, layer) {\n",
       "            layer.on({\n",
       "            });\n",
       "        };\n",
       "        var geo_json_09c1d9242c9222e0e8892411c48b32c4 = L.geoJson(null, {\n",
       "                onEachFeature: geo_json_09c1d9242c9222e0e8892411c48b32c4_onEachFeature,\n",
       "            \n",
       "                style: geo_json_09c1d9242c9222e0e8892411c48b32c4_styler,\n",
       "        });\n",
       "\n",
       "        function geo_json_09c1d9242c9222e0e8892411c48b32c4_add (data) {\n",
       "            geo_json_09c1d9242c9222e0e8892411c48b32c4\n",
       "                .addData(data)\n",
       "                .addTo(choropleth_82d5142f24d93d07c09fb31ae4d8e4d0);\n",
       "        }\n",
       "            geo_json_09c1d9242c9222e0e8892411c48b32c4_add({&quot;features&quot;: [{&quot;geometry&quot;: {&quot;coordinates&quot;: [[[144.29048586174, -36.761592615785645], [144.29048118177698, -36.76123495578308], [144.29061364178668, -36.76092013578976], [144.29079654178724, -36.760612075799806], [144.29091064180085, -36.76028897580523], [144.2909275818285, -36.75998755580443], [144.29082425188437, -36.75960676579525], [144.29076665190917, -36.75945726579053], [144.29065686195784, -36.759157665781444], [144.2904246520697, -36.75843712576166], [144.29022882212604, -36.75820474574734], [144.29001388221297, -36.75770156573008], [144.2916300619816, -36.75731330583354], [144.29191432193636, -36.75728971585201], [144.29181252197046, -36.757121365844284], [144.29179909198498, -36.75700031584264], [144.29181632200127, -36.75681078584257], [144.29189633201577, -36.75653524584605], [144.29211219205715, -36.75576966585537], [144.29235999210468, -36.754890135866034], [144.29222968219298, -36.754233215853326], [144.29254325219128, -36.753731385870694], [144.2942521820529, -36.752272215973484], [144.29524947197237, -36.75141798603345], [144.2951432620017, -36.75130413602578], [144.29505274202685, -36.75120502601921], [144.29491181206785, -36.75103321600889], [144.29481165209867, -36.750894506001444], [144.29470767213252, -36.75073209599359], [144.29463718215698, -36.75060708598817], [144.29457331218055, -36.75047980598319], [144.2944120122248, -36.75030959597153], [144.29430978226242, -36.75010709596355], [144.2941798023257, -36.74969696595244], [144.2941520623479, -36.749523435949506], [144.2937503124353, -36.749324795921915], [144.29338356250508, -36.74924175589734], [144.2939015624937, -36.74849773592658], [144.29474355246398, -36.74739872597482], [144.2958874924236, -36.74590570604036], [144.29591585242235, -36.745871316042006], [144.296352462388, -36.7454886760682], [144.29686945233942, -36.74511368609973], [144.29743246227852, -36.744784656134556], [144.29793445221853, -36.74454667616595], [144.29833044216807, -36.744390646190936], [144.29874442211104, -36.74426965621733], [144.2991724220481, -36.74418364624484], [144.29960845198008, -36.744134626273116], [144.30004842190763, -36.7441226363019], [144.30048839183158, -36.74414663633091], [144.30092241175265, -36.74420860635976], [144.30136939166718, -36.74431361638975], [144.30512327097875, -36.744906886639754], [144.30653016097628, -36.742606696717466], [144.30879641104195, -36.73821403683832], [144.30967613106742, -36.73650927688524], [144.30980640107094, -36.73625908689221], [144.31067277109548, -36.734586296938446], [144.31081457105662, -36.734735556948706], [144.3109580110398, -36.734664976957674], [144.3107469710976, -36.73444299694241], [144.3108322711, -36.73427836694696], [144.31073332112334, -36.73421127694005], [144.3106573611439, -36.73413389693457], [144.31060517115856, -36.734075376930775], [144.3100752613387, -36.73317187689029], [144.30941895150883, -36.73257661684343], [144.30885050160623, -36.732553936805985], [144.308346511721, -36.732253236771], [144.30727228194093, -36.73185643669802], [144.31058425182275, -36.727552276888055], [144.31215098151685, -36.72798499699361], [144.31361510122989, -36.72840042709235], [144.31541766083933, -36.729279107216236], [144.3164555306526, -36.72940843728518], [144.31667731073375, -36.72824149729235], [144.32277495963632, -36.72900632769758], [144.32354185991255, -36.725015227722636], [144.32882315896256, -36.72567378807373], [144.33276475825355, -36.726165138335844], [144.33914666731093, -36.724936048747516], [144.3418542368244, -36.725268858927635], [144.34671158595148, -36.72586594925085], [144.34786856576952, -36.72575293932623], [144.34663814534156, -36.7319958392849], [144.3465021453522, -36.73211478927671], [144.3464641853397, -36.732300789275385], [144.34492315481342, -36.74002379922301], [144.34465513488152, -36.739794789203934], [144.34442416495213, -36.739479789186746], [144.34422815500227, -36.73930878917277], [144.34376614510282, -36.73907977914094], [144.34319718524443, -36.738622789100624], [144.34266716534853, -36.73847079906481], [144.34225814541554, -36.738484779038004], [144.3419561854559, -36.73858479901879], [144.3415701555016, -36.73877078899458], [144.34141616552301, -36.73881378898473], [144.34113715556978, -36.738812788966364], [144.34092315561574, -36.73871279895167], [144.34071014566885, -36.738540778936574], [144.3405851657057, -36.738383788927365], [144.34031817576673, -36.738222788908786], [144.34012216580376, -36.738180788895626], [144.3398911558425, -36.73817978888044], [144.33960715588424, -36.738236788862125], [144.33941114590547, -36.73835078884996], [144.3392871559117, -36.738493788842725], [144.33925317591016, -36.73856479884093], [144.33924215588107, -36.738869788842145], [144.33931916583438, -36.73920278884932], [144.33928313582592, -36.73934578884786], [144.33912914583328, -36.73952679883888], [144.33887116587516, -36.73953977882201], [144.33848415593556, -36.73958279879684], [144.33818116596876, -36.73975478877801], [144.33796815597836, -36.74001178876563], [144.3378611759789, -36.74018278875968], [144.3377901459719, -36.74036878875618], [144.33780817593987, -36.740654798759195], [144.33818215581346, -36.741283798787755], [144.3382551557795, -36.741497788793914], [144.3382531457421, -36.74186977879616], [144.33816415573233, -36.742112778791835], [144.33802213573722, -36.74229877878368], [144.33772017576163, -36.742555778765464], [144.33764815575776, -36.742712788761715], [144.33761315574037, -36.74294178876086], [144.33763114572002, -36.743112778763134], [144.33811316553198, -36.74417079880152], [144.33814715550326, -36.7443977888052], [144.33811116548011, -36.744684778804654], [144.33802213547617, -36.74487079879997], [144.33780916548994, -36.74508578878734], [144.33777514548703, -36.74517079878565], [144.33777415547115, -36.74532878878659], [144.3378581454373, -36.745523788793335], [144.3377071454644, -36.745505788783305], [144.33773116545035, -36.7456047887855], [144.33230014642334, -36.74497378842456], [144.3271421473473, -36.744374798081864], [144.3270321773687, -36.74434578807445], [144.3257361668364, -36.75173177803613], [144.32561315680354, -36.752258788031384], [144.32513114674234, -36.75365777800859], [144.3251012867054, -36.754071238009246], [144.3250717566685, -36.754483248009926], [144.32487713657824, -36.75569479800482], [144.32486009656995, -36.75580425800438], [144.3244068363801, -36.75842380799122], [144.3249641161076, -36.760190148039], [144.3248787761251, -36.76015854803321], [144.323686436338, -36.76002838795407], [144.32198513664173, -36.759842387841154], [144.3214796767296, -36.75981070780775], [144.3214761767164, -36.759946777808395], [144.32146416659353, -36.7611776978154], [144.3206660967315, -36.76113540776273], [144.32048786676145, -36.76113416775101], [144.32048786667954, -36.761941637756124], [144.32046395654686, -36.763289337763105], [144.32063915651744, -36.76328978777461], [144.32128615640858, -36.76329477781713], [144.32197717629245, -36.76329879786253], [144.32296614612608, -36.76330578792753], [144.32299413610468, -36.76347078793041], [144.3228941660901, -36.76377979792579], [144.32279316607574, -36.76408778792112], [144.32169714621244, -36.76454978785207], [144.3221281760888, -36.76505679788359], [144.32212985598738, -36.766053337890014], [144.32246215590146, -36.76635179791373], [144.32259603585013, -36.76663695792433], [144.3221325958396, -36.76750574789938], [144.3222371657636, -36.76808178790991], [144.32181420580426, -36.768379537884016], [144.3222961157067, -36.76854548791671], [144.32234414566892, -36.76883850792173], [144.322222165672, -36.7690097779148], [144.32190114572393, -36.76902777789383], [144.32165415573473, -36.769328797879524], [144.3215293557453, -36.76943098787198], [144.3214141657551, -36.769524787864995], [144.32137415571688, -36.769967787865184], [144.32120410567995, -36.77061219785809], [144.32137806558598, -36.77125114787358], [144.32135751556115, -36.771529757873985], [144.3215460355028, -36.77179377788804], [144.3217690554558, -36.77188854790327], [144.3219394353978, -36.772178607916324], [144.32194918532136, -36.772916187921616], [144.32214919523994, -36.773387827937746], [144.32249558514292, -36.77377223796292], [144.32223380517172, -36.773920547946666], [144.3224036451067, -36.77428065796012], [144.3224827750735, -36.77447741796656], [144.32281751499892, -36.774659557989686], [144.32288814496138, -36.77491290799594], [144.32303315488429, -36.77543279800876], [144.32263815493906, -36.77554579798352], [144.32213616492777, -36.7764857779565], [144.32175616498475, -36.77655178793197], [144.3216061549743, -36.77690278792435], [144.32164732495087, -36.777065197928074], [144.32169324492483, -36.77724616793223], [144.3217201449012, -36.777434667935196], [144.3212641849377, -36.77782778790773], [144.32093451498318, -36.77792424788671], [144.32068562495854, -36.7785775378745], [144.32074613490173, -36.779037777881385], [144.32014268499907, -36.779075037842], [144.31980392503462, -36.779284057821066], [144.31963497503003, -36.77960804781203], [144.31970191496416, -36.78014689781983], [144.31997796489392, -36.78038302783946], [144.31919686489408, -36.78167153779632], [144.31767247520935, -36.78108250769251], [144.3174692752512, -36.78100579767869], [144.31736817522955, -36.78138576767445], [144.31657397522955, -36.782697967630625], [144.31639395518317, -36.783452457623575], [144.31619345524265, -36.7831975576088], [144.3144956955966, -36.78251374749302], [144.31415080568212, -36.782240867468666], [144.31365327568236, -36.78306030744118], [144.31288936568302, -36.784315997399], [144.31299810558895, -36.78506354741086], [144.3129696355844, -36.78515550740959], [144.31288290560184, -36.7851266274037], [144.31268668564783, -36.78499757739001], [144.31259780567137, -36.784912607383625], [144.3123838057392, -36.784597607367594], [144.31213484583026, -36.78411160734818], [144.31200979586131, -36.78401161733934], [144.31186780588655, -36.78399762732993], [144.31152740589067, -36.7845196473109], [144.3116461458471, -36.78475278732016], [144.31150215583455, -36.785114787313], [144.31106900590504, -36.78513547728471], [144.31062315593826, -36.78554478725804], [144.3106472159093, -36.785790427261176], [144.31001948593172, -36.786606947225145], [144.3099690059067, -36.78693692722393], [144.3096958059321, -36.787138187207276], [144.3094738859527, -36.78730167719374], [144.3093138659665, -36.787430677184055], [144.3092078659797, -36.78747566717739], [144.3089938760157, -36.78747368716334], [144.30876289606027, -36.78741668714782], [144.3084429061153, -36.78740268712673], [144.30822985614375, -36.7874746871132], [144.3079458861768, -36.78761769709548], [144.3077858661902, -36.78775070708582], [144.30774987621177, -36.78759671708249], [144.30787386621935, -36.787317677088865], [144.3078918962439, -36.787045687088316], [144.3078188963185, -36.78643069707964], [144.3076588863569, -36.78631667706842], [144.30723186646622, -36.78594467703804], [144.30705385650467, -36.78585970702583], [144.306804896552, -36.78580470700914], [144.30669889656994, -36.78580271700217], [144.3064498566045, -36.785873696986286], [144.30632586661363, -36.78598870697888], [144.30630787659197, -36.78623170697923], [144.30623786658924, -36.78637469697555], [144.30613088659845, -36.78646070696907], [144.30588188662864, -36.78657471695345], [144.30565189664398, -36.78680372693982], [144.30549089667815, -36.78673272692879], [144.30540289670017, -36.78666072692258], [144.3052058667593, -36.786403716908026], [144.3049928868081, -36.78627471689324], [144.30486885683317, -36.786232726884826], [144.30452086689007, -36.78624674686209], [144.30444294690525, -36.786225736856835], [144.30444188691234, -36.78615774685634], [144.3044538569167, -36.786094736856725], [144.30454886691984, -36.78590671686177], [144.30460386692104, -36.78580372686472], [144.304657856926, -36.78566571686739], [144.30470585693195, -36.785527726869674], [144.30473187693752, -36.785429716870745], [144.3046761769773, -36.785129796865206], [144.30464339704426, -36.78452354685922], [144.30485217701604, -36.78445678687249], [144.3051099069439, -36.7847420668912], [144.30541073688482, -36.78482707691147], [144.30626155678473, -36.784407886964644], [144.30614416689824, -36.7834827969511], [144.30588191700247, -36.78288799693011], [144.30544585708682, -36.78277707690081], [144.30503080712924, -36.783044936875285], [144.30453419715442, -36.783617636846316], [144.30415349723182, -36.78348345682049], [144.3037838272586, -36.78383057679844], [144.30324048739627, -36.783371646759896], [144.30316387741533, -36.78330974675447], [144.30306389743902, -36.783241736747485], [144.30302422744705, -36.7832282367448], [144.30293538751445, -36.782709496735684], [144.30311065755296, -36.782040066742944], [144.30345736761478, -36.78085729675819], [144.3029331978041, -36.77985614671748], [144.3027251480858, -36.77742126668841], [144.30201266820478, -36.7774255966417], [144.30141814832498, -36.77722278660142], [144.3012842383527, -36.77717048659231], [144.30141289839332, -36.77655709659686], [144.30086594857178, -36.775700736555564], [144.3003364787445, -36.7748717265156], [144.30008991882497, -36.774485746496985], [144.29995139885838, -36.77438480648726], [144.29874503915033, -36.77349884640254], [144.29781329937572, -36.77281552633711], [144.2973132194967, -36.77244859630199], [144.29665190965645, -36.771965566255574], [144.29672140967557, -36.771661906258196], [144.2969455497542, -36.770514846265634], [144.29716097982947, -36.7694155962728], [144.29702165986012, -36.76934333626321], [144.2949964202027, -36.769311316130214], [144.29429073032205, -36.76930033608387], [144.29228217066176, -36.76926877595202], [144.292102260708, -36.769110305939215], [144.29038577094803, -36.769579765829675], [144.2890750611904, -36.769355085742355], [144.2898752812803, -36.767142905780794], [144.29000851129538, -36.76677383578719], [144.2900876813043, -36.766554685790986], [144.29074818130502, -36.76545478582731], [144.29090345130808, -36.76516758583567], [144.29097149131297, -36.7650065858391], [144.29099813132058, -36.7648875158401], [144.29100244132593, -36.764827575839995], [144.2909722213392, -36.764746655837506], [144.29092648136148, -36.76460185583359], [144.290873961383, -36.76447653582936], [144.2908343213992, -36.76438189582616], [144.29065507146402, -36.764038455812226], [144.29057415149626, -36.76385379580576], [144.29051148152678, -36.76365602580041], [144.2903991715836, -36.76328079579067], [144.29042822159852, -36.763085085791325], [144.29044217161996, -36.76285077579075], [144.2904601616865, -36.76216377578759], [144.29048586174, -36.761592615785645]]], &quot;type&quot;: &quot;Polygon&quot;}, &quot;id&quot;: &quot;665&quot;, &quot;properties&quot;: {&quot;SA2_CODE21&quot;: 202011020}, &quot;type&quot;: &quot;Feature&quot;}], &quot;type&quot;: &quot;FeatureCollection&quot;});\n",
       "\n",
       "        \n",
       "    \n",
       "            var marker_235fbd3e20b2d0683e8bd4924a3f6daa = L.marker(\n",
       "                [-36.7684112, 144.290465],\n",
       "                {}\n",
       "            ).addTo(map_46dd5179bb89cc4f0cacb2cb17c3a79a);\n",
       "        \n",
       "    \n",
       "            var icon_1edca292f3fec5e106d77699f821970d = L.AwesomeMarkers.icon(\n",
       "                {&quot;extraClasses&quot;: &quot;fa-rotate-0&quot;, &quot;icon&quot;: &quot;home&quot;, &quot;iconColor&quot;: &quot;#cc0000&quot;, &quot;markerColor&quot;: &quot;lightgray&quot;, &quot;prefix&quot;: &quot;fa&quot;}\n",
       "            );\n",
       "            marker_235fbd3e20b2d0683e8bd4924a3f6daa.setIcon(icon_1edca292f3fec5e106d77699f821970d);\n",
       "        \n",
       "    \n",
       "            var marker_59ad632e7be3a71447c9555047ce7a65 = L.marker(\n",
       "                [-36.768376, 144.307972],\n",
       "                {}\n",
       "            ).addTo(map_46dd5179bb89cc4f0cacb2cb17c3a79a);\n",
       "        \n",
       "    \n",
       "            var icon_ddace23430c37d858c6c615b2f2d1533 = L.AwesomeMarkers.icon(\n",
       "                {&quot;extraClasses&quot;: &quot;fa-rotate-0&quot;, &quot;icon&quot;: &quot;pen&quot;, &quot;iconColor&quot;: &quot;#1a1aff&quot;, &quot;markerColor&quot;: &quot;white&quot;, &quot;prefix&quot;: &quot;fa&quot;}\n",
       "            );\n",
       "            marker_59ad632e7be3a71447c9555047ce7a65.setIcon(icon_ddace23430c37d858c6c615b2f2d1533);\n",
       "        \n",
       "    \n",
       "            var marker_4ff3ed81fb245958d95cb0dac411ad96 = L.marker(\n",
       "                [-36.7664256799501, 144.298217968388],\n",
       "                {}\n",
       "            ).addTo(map_46dd5179bb89cc4f0cacb2cb17c3a79a);\n",
       "        \n",
       "    \n",
       "            var icon_47bb42656147414242f0982c729ad2de = L.AwesomeMarkers.icon(\n",
       "                {&quot;extraClasses&quot;: &quot;fa-rotate-0&quot;, &quot;icon&quot;: &quot;pen&quot;, &quot;iconColor&quot;: &quot;#1a1aff&quot;, &quot;markerColor&quot;: &quot;white&quot;, &quot;prefix&quot;: &quot;fa&quot;}\n",
       "            );\n",
       "            marker_4ff3ed81fb245958d95cb0dac411ad96.setIcon(icon_47bb42656147414242f0982c729ad2de);\n",
       "        \n",
       "    \n",
       "            var marker_ae49bf27471d9bf8f7f355d58bd68753 = L.marker(\n",
       "                [-36.782625, 144.313456],\n",
       "                {}\n",
       "            ).addTo(map_46dd5179bb89cc4f0cacb2cb17c3a79a);\n",
       "        \n",
       "    \n",
       "            var icon_f5bc59a83046c9d2480b3d9f10a0b3a7 = L.AwesomeMarkers.icon(\n",
       "                {&quot;extraClasses&quot;: &quot;fa-rotate-0&quot;, &quot;icon&quot;: &quot;pen&quot;, &quot;iconColor&quot;: &quot;#1a1aff&quot;, &quot;markerColor&quot;: &quot;white&quot;, &quot;prefix&quot;: &quot;fa&quot;}\n",
       "            );\n",
       "            marker_ae49bf27471d9bf8f7f355d58bd68753.setIcon(icon_f5bc59a83046c9d2480b3d9f10a0b3a7);\n",
       "        \n",
       "    \n",
       "            var marker_8e5395318662db74f332e3b704efce8d = L.marker(\n",
       "                [-36.7655191, 144.2909881],\n",
       "                {}\n",
       "            ).addTo(map_46dd5179bb89cc4f0cacb2cb17c3a79a);\n",
       "        \n",
       "    \n",
       "            var icon_f97862eef13cab6253be5cb601fe9bba = L.AwesomeMarkers.icon(\n",
       "                {&quot;extraClasses&quot;: &quot;fa-rotate-0&quot;, &quot;icon&quot;: &quot;pen&quot;, &quot;iconColor&quot;: &quot;#1a1aff&quot;, &quot;markerColor&quot;: &quot;white&quot;, &quot;prefix&quot;: &quot;fa&quot;}\n",
       "            );\n",
       "            marker_8e5395318662db74f332e3b704efce8d.setIcon(icon_f97862eef13cab6253be5cb601fe9bba);\n",
       "        \n",
       "    \n",
       "            var marker_c8c1617f8bbf776a3dc3d12b5a3f0cec = L.marker(\n",
       "                [-36.7685464, 144.3112361],\n",
       "                {}\n",
       "            ).addTo(map_46dd5179bb89cc4f0cacb2cb17c3a79a);\n",
       "        \n",
       "    \n",
       "            var icon_29186306845a84a4448dbd7dd670b58c = L.AwesomeMarkers.icon(\n",
       "                {&quot;extraClasses&quot;: &quot;fa-rotate-0&quot;, &quot;icon&quot;: &quot;pen&quot;, &quot;iconColor&quot;: &quot;#1a1aff&quot;, &quot;markerColor&quot;: &quot;white&quot;, &quot;prefix&quot;: &quot;fa&quot;}\n",
       "            );\n",
       "            marker_c8c1617f8bbf776a3dc3d12b5a3f0cec.setIcon(icon_29186306845a84a4448dbd7dd670b58c);\n",
       "        \n",
       "    \n",
       "\n",
       "        function geo_json_0d59ba74022e1bd6e8520c556d7d65d7_onEachFeature(feature, layer) {\n",
       "            layer.on({\n",
       "            });\n",
       "        };\n",
       "        var geo_json_0d59ba74022e1bd6e8520c556d7d65d7 = L.geoJson(null, {\n",
       "                onEachFeature: geo_json_0d59ba74022e1bd6e8520c556d7d65d7_onEachFeature,\n",
       "            \n",
       "        });\n",
       "\n",
       "        function geo_json_0d59ba74022e1bd6e8520c556d7d65d7_add (data) {\n",
       "            geo_json_0d59ba74022e1bd6e8520c556d7d65d7\n",
       "                .addData(data)\n",
       "                .addTo(map_46dd5179bb89cc4f0cacb2cb17c3a79a);\n",
       "        }\n",
       "            geo_json_0d59ba74022e1bd6e8520c556d7d65d7_add({&quot;bbox&quot;: [144.290933, -36.77319, 144.308306, -36.768091], &quot;features&quot;: [{&quot;bbox&quot;: [144.290933, -36.77319, 144.308306, -36.768091], &quot;geometry&quot;: {&quot;coordinates&quot;: [[144.290933, -36.768091], [144.291447, -36.768569], [144.291476, -36.768594], [144.291758, -36.768797], [144.291964, -36.768945], [144.292053, -36.768999], [144.292095, -36.769001], [144.292164, -36.769023], [144.292218, -36.769063], [144.292255, -36.769118], [144.292295, -36.769174], [144.292367, -36.769223], [144.29247, -36.769246], [144.293652, -36.769258], [144.296364, -36.769289], [144.296519, -36.76929], [144.296593, -36.769295], [144.296686, -36.769301], [144.296834, -36.769316], [144.296913, -36.76933], [144.296963, -36.769338], [144.297089, -36.76937], [144.297201, -36.769409], [144.29744, -36.769516], [144.297946, -36.769778], [144.298571, -36.770102], [144.298831, -36.770242], [144.299272, -36.770528], [144.299368, -36.770594], [144.30014, -36.771156], [144.300812, -36.771639], [144.300991, -36.771766], [144.301219, -36.771895], [144.301343, -36.771942], [144.302082, -36.772183], [144.303705, -36.772706], [144.303766, -36.772725], [144.30409, -36.772828], [144.304438, -36.772939], [144.305098, -36.773148], [144.305231, -36.77319], [144.305292, -36.773105], [144.305753, -36.772462], [144.305835, -36.772348], [144.306097, -36.771983], [144.30621, -36.771818], [144.306167, -36.771782], [144.306143, -36.771719], [144.30615, -36.771679], [144.306161, -36.771659], [144.306194, -36.771627], [144.306218, -36.771613], [144.30628, -36.771599], [144.306335, -36.771604], [144.306524, -36.771209], [144.306739, -36.770453], [144.306909, -36.769651], [144.306914, -36.769498], [144.30691, -36.769356], [144.307017, -36.769342], [144.307493, -36.769064], [144.307603, -36.768979], [144.307841, -36.76888], [144.308148, -36.768851], [144.308242, -36.768841], [144.30827, -36.768787], [144.308306, -36.768749]], &quot;type&quot;: &quot;LineString&quot;}, &quot;properties&quot;: {&quot;summary&quot;: {&quot;distance&quot;: 2071.5, &quot;duration&quot;: 188.7}, &quot;way_points&quot;: [0, 66]}, &quot;type&quot;: &quot;Feature&quot;}], &quot;metadata&quot;: {&quot;attribution&quot;: &quot;openrouteservice.org | OpenStreetMap contributors&quot;, &quot;engine&quot;: {&quot;build_date&quot;: &quot;2022-02-18T19:37:41Z&quot;, &quot;graph_date&quot;: &quot;2022-09-04T14:30:21Z&quot;, &quot;version&quot;: &quot;6.7.0&quot;}, &quot;query&quot;: {&quot;coordinates&quot;: [[144.29047, -36.76841], [144.30797, -36.76838]], &quot;format&quot;: &quot;geojson&quot;, &quot;geometry&quot;: true, &quot;profile&quot;: &quot;driving-car&quot;}, &quot;service&quot;: &quot;routing&quot;, &quot;timestamp&quot;: 1663167913871}, &quot;type&quot;: &quot;FeatureCollection&quot;});\n",
       "\n",
       "        \n",
       "&lt;/script&gt;\" style=\"position:absolute;width:100%;height:100%;left:0;top:0;border:none !important;\" allowfullscreen webkitallowfullscreen mozallowfullscreen></iframe></div></div>"
      ],
      "text/plain": [
       "<folium.folium.Map at 0x7fca23c96d60>"
      ]
     },
     "execution_count": 134,
     "metadata": {},
     "output_type": "execute_result"
    }
   ],
   "source": [
    "folium.features.GeoJson(json_route).add_to(base_map)\n",
    "\n",
    "base_map"
   ]
  }
 ],
 "metadata": {
  "kernelspec": {
   "display_name": "Python 3 (ipykernel)",
   "language": "python",
   "name": "python3"
  },
  "orig_nbformat": 4
 },
 "nbformat": 4,
 "nbformat_minor": 2
}
