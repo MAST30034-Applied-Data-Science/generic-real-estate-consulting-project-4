{
 "cells": [
  {
   "cell_type": "code",
   "execution_count": 71,
   "metadata": {
    "vscode": {
     "languageId": "python"
    }
   },
   "outputs": [],
   "source": [
    "import pandas as pd\n",
    "import numpy as np\n",
    "import statsmodels.api as sm\n",
    "from sklearn.linear_model import LinearRegression"
   ]
  },
  {
   "cell_type": "markdown",
   "metadata": {},
   "source": [
    "## SA2 only"
   ]
  },
  {
   "cell_type": "code",
   "execution_count": 52,
   "metadata": {
    "vscode": {
     "languageId": "python"
    }
   },
   "outputs": [
    {
     "name": "stdout",
     "output_type": "stream",
     "text": [
      "(376, 16)\n",
      "Index(['Unnamed: 0', 'SA2', 'school_count', 'ERP_population', 'median_income',\n",
      "       'metrobus_count', 'metrotrain_count', 'metrotram_count', 'regbus_count',\n",
      "       'regcoach_count', 'regtrain_count', 'skybus_count', 'recr_count',\n",
      "       'comm_count', 'deal_count', 'median_rent'],\n",
      "      dtype='object')\n",
      "   Unnamed: 0        SA2  school_count  ERP_population  median_income  \\\n",
      "0           0  202011018            13           14951           1267   \n",
      "\n",
      "   metrobus_count  metrotrain_count  metrotram_count  regbus_count  \\\n",
      "0               0                 0                0           142   \n",
      "\n",
      "   regcoach_count  regtrain_count  skybus_count  recr_count  comm_count  \\\n",
      "0               2               1             0           1           1   \n",
      "\n",
      "   deal_count  median_rent  \n",
      "0         739        350.0  \n"
     ]
    }
   ],
   "source": [
    "sa2_df = pd.read_csv(f\"../data/curated/sa2_info.csv\")\n",
    "print(sa2_df.shape)\n",
    "print(sa2_df.columns)\n",
    "print(sa2_df.head(1))"
   ]
  },
  {
   "cell_type": "markdown",
   "metadata": {},
   "source": [
    "By Junhua Liu for study use only"
   ]
  },
  {
   "cell_type": "code",
   "execution_count": 63,
   "metadata": {
    "vscode": {
     "languageId": "python"
    }
   },
   "outputs": [
    {
     "name": "stdout",
     "output_type": "stream",
     "text": [
      "                                 OLS Regression Results                                \n",
      "=======================================================================================\n",
      "Dep. Variable:            median_rent   R-squared (uncentered):                   0.978\n",
      "Model:                            OLS   Adj. R-squared (uncentered):              0.977\n",
      "Method:                 Least Squares   F-statistic:                              1256.\n",
      "Date:                Mon, 19 Sep 2022   Prob (F-statistic):                   1.47e-292\n",
      "Time:                        00:25:21   Log-Likelihood:                         -2047.8\n",
      "No. Observations:                 376   AIC:                                      4122.\n",
      "Df Residuals:                     363   BIC:                                      4173.\n",
      "Df Model:                          13                                                  \n",
      "Covariance Type:            nonrobust                                                  \n",
      "====================================================================================\n",
      "                       coef    std err          t      P>|t|      [0.025      0.975]\n",
      "------------------------------------------------------------------------------------\n",
      "school_count         4.7565      1.197      3.975      0.000       2.403       7.110\n",
      "ERP_population       0.0009      0.001      1.116      0.265      -0.001       0.002\n",
      "median_income        0.1686      0.004     39.238      0.000       0.160       0.177\n",
      "metrobus_count       0.4989      0.143      3.484      0.001       0.217       0.780\n",
      "metrotrain_count    -8.7607      4.333     -2.022      0.044     -17.281      -0.241\n",
      "metrotram_count     -0.8650      0.460     -1.880      0.061      -1.770       0.040\n",
      "regbus_count         0.5225      0.149      3.514      0.000       0.230       0.815\n",
      "regcoach_count       2.6265      0.838      3.136      0.002       0.979       4.273\n",
      "regtrain_count      11.5780      6.542      1.770      0.078      -1.287      24.443\n",
      "skybus_count       -12.5179     32.335     -0.387      0.699     -76.106      51.070\n",
      "recr_count           2.4878      1.054      2.361      0.019       0.416       4.560\n",
      "comm_count         -11.5422      8.970     -1.287      0.199     -29.181       6.097\n",
      "deal_count           0.0048      0.003      1.571      0.117      -0.001       0.011\n",
      "==============================================================================\n",
      "Omnibus:                        3.623   Durbin-Watson:                   1.747\n",
      "Prob(Omnibus):                  0.163   Jarque-Bera (JB):                3.336\n",
      "Skew:                          -0.165   Prob(JB):                        0.189\n",
      "Kurtosis:                       2.678   Cond. No.                     1.56e+05\n",
      "==============================================================================\n",
      "\n",
      "Notes:\n",
      "[1] R² is computed without centering (uncentered) since the model does not contain a constant.\n",
      "[2] Standard Errors assume that the covariance matrix of the errors is correctly specified.\n",
      "[3] The condition number is large, 1.56e+05. This might indicate that there are\n",
      "strong multicollinearity or other numerical problems.\n"
     ]
    }
   ],
   "source": [
    "x_col = ['school_count', 'ERP_population', 'median_income',\n",
    "       'metrobus_count', 'metrotrain_count', 'metrotram_count', 'regbus_count',\n",
    "       'regcoach_count', 'regtrain_count', 'skybus_count', 'recr_count',\n",
    "       'comm_count', 'deal_count']\n",
    "y = sa2_df['median_rent']\n",
    "\n",
    "\n",
    "print(sm.OLS(y, sa2_df[x_col]).fit().summary())"
   ]
  },
  {
   "cell_type": "code",
   "execution_count": 64,
   "metadata": {
    "vscode": {
     "languageId": "python"
    }
   },
   "outputs": [
    {
     "name": "stdout",
     "output_type": "stream",
     "text": [
      "                                 OLS Regression Results                                \n",
      "=======================================================================================\n",
      "Dep. Variable:            median_rent   R-squared (uncentered):                   0.978\n",
      "Model:                            OLS   Adj. R-squared (uncentered):              0.978\n",
      "Method:                 Least Squares   F-statistic:                              1364.\n",
      "Date:                Mon, 19 Sep 2022   Prob (F-statistic):                   4.20e-294\n",
      "Time:                        00:25:28   Log-Likelihood:                         -2047.9\n",
      "No. Observations:                 376   AIC:                                      4120.\n",
      "Df Residuals:                     364   BIC:                                      4167.\n",
      "Df Model:                          12                                                  \n",
      "Covariance Type:            nonrobust                                                  \n",
      "====================================================================================\n",
      "                       coef    std err          t      P>|t|      [0.025      0.975]\n",
      "------------------------------------------------------------------------------------\n",
      "school_count         4.7766      1.194      4.000      0.000       2.428       7.125\n",
      "ERP_population       0.0009      0.001      1.104      0.270      -0.001       0.002\n",
      "median_income        0.1688      0.004     39.801      0.000       0.161       0.177\n",
      "metrobus_count       0.5030      0.143      3.527      0.000       0.223       0.783\n",
      "metrotrain_count    -8.7761      4.327     -2.028      0.043     -17.286      -0.266\n",
      "metrotram_count     -0.8455      0.457     -1.851      0.065      -1.744       0.053\n",
      "regbus_count         0.5241      0.148      3.530      0.000       0.232       0.816\n",
      "regcoach_count       2.6104      0.836      3.124      0.002       0.967       4.253\n",
      "regtrain_count      11.2727      6.487      1.738      0.083      -1.483      24.029\n",
      "recr_count           2.4787      1.052      2.356      0.019       0.410       4.548\n",
      "comm_count         -11.3803      8.949     -1.272      0.204     -28.979       6.219\n",
      "deal_count           0.0043      0.003      1.555      0.121      -0.001       0.010\n",
      "==============================================================================\n",
      "Omnibus:                        3.513   Durbin-Watson:                   1.752\n",
      "Prob(Omnibus):                  0.173   Jarque-Bera (JB):                3.220\n",
      "Skew:                          -0.159   Prob(JB):                        0.200\n",
      "Kurtosis:                       2.677   Cond. No.                     4.33e+04\n",
      "==============================================================================\n",
      "\n",
      "Notes:\n",
      "[1] R² is computed without centering (uncentered) since the model does not contain a constant.\n",
      "[2] Standard Errors assume that the covariance matrix of the errors is correctly specified.\n",
      "[3] The condition number is large, 4.33e+04. This might indicate that there are\n",
      "strong multicollinearity or other numerical problems.\n"
     ]
    }
   ],
   "source": [
    "x_col.remove(\"skybus_count\")\n",
    "print(sm.OLS(y, sa2_df[x_col]).fit().summary())"
   ]
  },
  {
   "cell_type": "code",
   "execution_count": 65,
   "metadata": {
    "vscode": {
     "languageId": "python"
    }
   },
   "outputs": [
    {
     "name": "stdout",
     "output_type": "stream",
     "text": [
      "                                 OLS Regression Results                                \n",
      "=======================================================================================\n",
      "Dep. Variable:            median_rent   R-squared (uncentered):                   0.978\n",
      "Model:                            OLS   Adj. R-squared (uncentered):              0.978\n",
      "Method:                 Least Squares   F-statistic:                              1487.\n",
      "Date:                Mon, 19 Sep 2022   Prob (F-statistic):                   1.95e-295\n",
      "Time:                        00:25:38   Log-Likelihood:                         -2048.5\n",
      "No. Observations:                 376   AIC:                                      4119.\n",
      "Df Residuals:                     365   BIC:                                      4162.\n",
      "Df Model:                          11                                                  \n",
      "Covariance Type:            nonrobust                                                  \n",
      "====================================================================================\n",
      "                       coef    std err          t      P>|t|      [0.025      0.975]\n",
      "------------------------------------------------------------------------------------\n",
      "school_count         5.1348      1.150      4.467      0.000       2.874       7.395\n",
      "median_income        0.1711      0.004     46.107      0.000       0.164       0.178\n",
      "metrobus_count       0.5976      0.114      5.240      0.000       0.373       0.822\n",
      "metrotrain_count    -8.5343      4.323     -1.974      0.049     -17.036      -0.033\n",
      "metrotram_count     -0.7989      0.455     -1.756      0.080      -1.693       0.096\n",
      "regbus_count         0.6027      0.130      4.626      0.000       0.347       0.859\n",
      "regcoach_count       2.6286      0.836      3.146      0.002       0.985       4.272\n",
      "regtrain_count      11.6928      6.477      1.805      0.072      -1.045      24.431\n",
      "recr_count           2.4191      1.051      2.302      0.022       0.352       4.486\n",
      "comm_count         -11.8692      8.941     -1.327      0.185     -29.452       5.713\n",
      "deal_count           0.0047      0.003      1.690      0.092      -0.001       0.010\n",
      "==============================================================================\n",
      "Omnibus:                        3.303   Durbin-Watson:                   1.754\n",
      "Prob(Omnibus):                  0.192   Jarque-Bera (JB):                3.134\n",
      "Skew:                          -0.167   Prob(JB):                        0.209\n",
      "Kurtosis:                       2.702   Cond. No.                     7.26e+03\n",
      "==============================================================================\n",
      "\n",
      "Notes:\n",
      "[1] R² is computed without centering (uncentered) since the model does not contain a constant.\n",
      "[2] Standard Errors assume that the covariance matrix of the errors is correctly specified.\n",
      "[3] The condition number is large, 7.26e+03. This might indicate that there are\n",
      "strong multicollinearity or other numerical problems.\n"
     ]
    }
   ],
   "source": [
    "x_col.remove(\"ERP_population\")\n",
    "print(sm.OLS(y, sa2_df[x_col]).fit().summary())"
   ]
  },
  {
   "cell_type": "code",
   "execution_count": 66,
   "metadata": {
    "vscode": {
     "languageId": "python"
    }
   },
   "outputs": [
    {
     "name": "stdout",
     "output_type": "stream",
     "text": [
      "                                 OLS Regression Results                                \n",
      "=======================================================================================\n",
      "Dep. Variable:            median_rent   R-squared (uncentered):                   0.978\n",
      "Model:                            OLS   Adj. R-squared (uncentered):              0.977\n",
      "Method:                 Least Squares   F-statistic:                              1633.\n",
      "Date:                Mon, 19 Sep 2022   Prob (F-statistic):                   1.14e-296\n",
      "Time:                        00:25:48   Log-Likelihood:                         -2049.4\n",
      "No. Observations:                 376   AIC:                                      4119.\n",
      "Df Residuals:                     366   BIC:                                      4158.\n",
      "Df Model:                          10                                                  \n",
      "Covariance Type:            nonrobust                                                  \n",
      "====================================================================================\n",
      "                       coef    std err          t      P>|t|      [0.025      0.975]\n",
      "------------------------------------------------------------------------------------\n",
      "school_count         4.9440      1.142      4.330      0.000       2.699       7.189\n",
      "median_income        0.1713      0.004     46.152      0.000       0.164       0.179\n",
      "metrobus_count       0.6044      0.114      5.300      0.000       0.380       0.829\n",
      "metrotrain_count    -8.5951      4.327     -1.986      0.048     -17.105      -0.086\n",
      "metrotram_count     -0.7658      0.455     -1.684      0.093      -1.660       0.128\n",
      "regbus_count         0.5762      0.129      4.471      0.000       0.323       0.830\n",
      "regcoach_count       2.7171      0.834      3.259      0.001       1.078       4.357\n",
      "regtrain_count      10.8137      6.450      1.676      0.094      -1.870      23.498\n",
      "recr_count           2.4944      1.051      2.374      0.018       0.428       4.560\n",
      "deal_count           0.0044      0.003      1.586      0.114      -0.001       0.010\n",
      "==============================================================================\n",
      "Omnibus:                        3.453   Durbin-Watson:                   1.747\n",
      "Prob(Omnibus):                  0.178   Jarque-Bera (JB):                3.274\n",
      "Skew:                          -0.173   Prob(JB):                        0.195\n",
      "Kurtosis:                       2.700   Cond. No.                     5.21e+03\n",
      "==============================================================================\n",
      "\n",
      "Notes:\n",
      "[1] R² is computed without centering (uncentered) since the model does not contain a constant.\n",
      "[2] Standard Errors assume that the covariance matrix of the errors is correctly specified.\n",
      "[3] The condition number is large, 5.21e+03. This might indicate that there are\n",
      "strong multicollinearity or other numerical problems.\n"
     ]
    }
   ],
   "source": [
    "x_col.remove(\"comm_count\")\n",
    "print(sm.OLS(y, sa2_df[x_col]).fit().summary())"
   ]
  },
  {
   "cell_type": "code",
   "execution_count": 67,
   "metadata": {
    "vscode": {
     "languageId": "python"
    }
   },
   "outputs": [
    {
     "name": "stdout",
     "output_type": "stream",
     "text": [
      "                                 OLS Regression Results                                \n",
      "=======================================================================================\n",
      "Dep. Variable:            median_rent   R-squared (uncentered):                   0.978\n",
      "Model:                            OLS   Adj. R-squared (uncentered):              0.977\n",
      "Method:                 Least Squares   F-statistic:                              1806.\n",
      "Date:                Mon, 19 Sep 2022   Prob (F-statistic):                   9.08e-298\n",
      "Time:                        00:25:54   Log-Likelihood:                         -2050.7\n",
      "No. Observations:                 376   AIC:                                      4119.\n",
      "Df Residuals:                     367   BIC:                                      4155.\n",
      "Df Model:                           9                                                  \n",
      "Covariance Type:            nonrobust                                                  \n",
      "====================================================================================\n",
      "                       coef    std err          t      P>|t|      [0.025      0.975]\n",
      "------------------------------------------------------------------------------------\n",
      "school_count         4.7402      1.137      4.170      0.000       2.505       6.976\n",
      "median_income        0.1737      0.003     51.105      0.000       0.167       0.180\n",
      "metrobus_count       0.6348      0.113      5.636      0.000       0.413       0.856\n",
      "metrotrain_count    -8.6249      4.336     -1.989      0.047     -17.152      -0.098\n",
      "metrotram_count     -0.3987      0.392     -1.017      0.310      -1.170       0.373\n",
      "regbus_count         0.5884      0.129      4.564      0.000       0.335       0.842\n",
      "regcoach_count       2.6325      0.834      3.157      0.002       0.993       4.272\n",
      "regtrain_count      10.9482      6.463      1.694      0.091      -1.761      23.657\n",
      "recr_count           2.4865      1.053      2.362      0.019       0.416       4.557\n",
      "==============================================================================\n",
      "Omnibus:                        2.372   Durbin-Watson:                   1.759\n",
      "Prob(Omnibus):                  0.306   Jarque-Bera (JB):                2.322\n",
      "Skew:                          -0.138   Prob(JB):                        0.313\n",
      "Kurtosis:                       2.732   Cond. No.                     3.97e+03\n",
      "==============================================================================\n",
      "\n",
      "Notes:\n",
      "[1] R² is computed without centering (uncentered) since the model does not contain a constant.\n",
      "[2] Standard Errors assume that the covariance matrix of the errors is correctly specified.\n",
      "[3] The condition number is large, 3.97e+03. This might indicate that there are\n",
      "strong multicollinearity or other numerical problems.\n"
     ]
    }
   ],
   "source": [
    "x_col.remove(\"deal_count\")\n",
    "print(sm.OLS(y, sa2_df[x_col]).fit().summary())"
   ]
  },
  {
   "cell_type": "code",
   "execution_count": 68,
   "metadata": {
    "vscode": {
     "languageId": "python"
    }
   },
   "outputs": [
    {
     "name": "stdout",
     "output_type": "stream",
     "text": [
      "                                 OLS Regression Results                                \n",
      "=======================================================================================\n",
      "Dep. Variable:            median_rent   R-squared (uncentered):                   0.978\n",
      "Model:                            OLS   Adj. R-squared (uncentered):              0.977\n",
      "Method:                 Least Squares   F-statistic:                              2032.\n",
      "Date:                Mon, 19 Sep 2022   Prob (F-statistic):                   3.27e-299\n",
      "Time:                        00:26:05   Log-Likelihood:                         -2051.2\n",
      "No. Observations:                 376   AIC:                                      4118.\n",
      "Df Residuals:                     368   BIC:                                      4150.\n",
      "Df Model:                           8                                                  \n",
      "Covariance Type:            nonrobust                                                  \n",
      "====================================================================================\n",
      "                       coef    std err          t      P>|t|      [0.025      0.975]\n",
      "------------------------------------------------------------------------------------\n",
      "school_count         4.6150      1.130      4.083      0.000       2.393       6.838\n",
      "median_income        0.1728      0.003     52.535      0.000       0.166       0.179\n",
      "metrobus_count       0.6647      0.109      6.112      0.000       0.451       0.879\n",
      "metrotrain_count   -10.0966      4.088     -2.470      0.014     -18.135      -2.059\n",
      "regbus_count         0.6093      0.127      4.788      0.000       0.359       0.860\n",
      "regcoach_count       2.7345      0.828      3.303      0.001       1.107       4.362\n",
      "regtrain_count      11.1640      6.460      1.728      0.085      -1.539      23.867\n",
      "recr_count           2.5549      1.051      2.432      0.016       0.489       4.621\n",
      "==============================================================================\n",
      "Omnibus:                        2.873   Durbin-Watson:                   1.768\n",
      "Prob(Omnibus):                  0.238   Jarque-Bera (JB):                2.587\n",
      "Skew:                          -0.123   Prob(JB):                        0.274\n",
      "Kurtosis:                       2.676   Cond. No.                     3.97e+03\n",
      "==============================================================================\n",
      "\n",
      "Notes:\n",
      "[1] R² is computed without centering (uncentered) since the model does not contain a constant.\n",
      "[2] Standard Errors assume that the covariance matrix of the errors is correctly specified.\n",
      "[3] The condition number is large, 3.97e+03. This might indicate that there are\n",
      "strong multicollinearity or other numerical problems.\n"
     ]
    }
   ],
   "source": [
    "x_col.remove(\"metrotram_count\")\n",
    "print(sm.OLS(y, sa2_df[x_col]).fit().summary())"
   ]
  },
  {
   "cell_type": "code",
   "execution_count": 69,
   "metadata": {
    "vscode": {
     "languageId": "python"
    }
   },
   "outputs": [
    {
     "name": "stdout",
     "output_type": "stream",
     "text": [
      "                                 OLS Regression Results                                \n",
      "=======================================================================================\n",
      "Dep. Variable:            median_rent   R-squared (uncentered):                   0.978\n",
      "Model:                            OLS   Adj. R-squared (uncentered):              0.977\n",
      "Method:                 Least Squares   F-statistic:                              2309.\n",
      "Date:                Mon, 19 Sep 2022   Prob (F-statistic):                   2.90e-300\n",
      "Time:                        00:26:28   Log-Likelihood:                         -2052.7\n",
      "No. Observations:                 376   AIC:                                      4119.\n",
      "Df Residuals:                     369   BIC:                                      4147.\n",
      "Df Model:                           7                                                  \n",
      "Covariance Type:            nonrobust                                                  \n",
      "====================================================================================\n",
      "                       coef    std err          t      P>|t|      [0.025      0.975]\n",
      "------------------------------------------------------------------------------------\n",
      "school_count         4.9873      1.112      4.483      0.000       2.800       7.175\n",
      "median_income        0.1733      0.003     52.690      0.000       0.167       0.180\n",
      "metrobus_count       0.6384      0.108      5.912      0.000       0.426       0.851\n",
      "metrotrain_count   -10.5274      4.091     -2.573      0.010     -18.572      -2.483\n",
      "regbus_count         0.6378      0.127      5.041      0.000       0.389       0.887\n",
      "regcoach_count       2.8698      0.826      3.473      0.001       1.245       4.495\n",
      "recr_count           2.4301      1.051      2.312      0.021       0.363       4.497\n",
      "==============================================================================\n",
      "Omnibus:                        2.836   Durbin-Watson:                   1.772\n",
      "Prob(Omnibus):                  0.242   Jarque-Bera (JB):                2.731\n",
      "Skew:                          -0.154   Prob(JB):                        0.255\n",
      "Kurtosis:                       2.717   Cond. No.                     2.51e+03\n",
      "==============================================================================\n",
      "\n",
      "Notes:\n",
      "[1] R² is computed without centering (uncentered) since the model does not contain a constant.\n",
      "[2] Standard Errors assume that the covariance matrix of the errors is correctly specified.\n",
      "[3] The condition number is large, 2.51e+03. This might indicate that there are\n",
      "strong multicollinearity or other numerical problems.\n"
     ]
    }
   ],
   "source": [
    "x_col.remove(\"regtrain_count\")\n",
    "print(sm.OLS(y, sa2_df[x_col]).fit().summary())"
   ]
  },
  {
   "cell_type": "code",
   "execution_count": 73,
   "metadata": {
    "vscode": {
     "languageId": "python"
    }
   },
   "outputs": [
    {
     "name": "stdout",
     "output_type": "stream",
     "text": [
      "282.7472224938583 [-1.47751125  0.04966455  0.42269908  0.78723401  0.19752125 -1.02243447\n",
      "  0.24517699]\n"
     ]
    }
   ],
   "source": [
    "x = sa2_df[x_col]\n",
    "model = LinearRegression()\n",
    "model.fit(x, y)\n",
    "print(model.intercept_, model.coef_)"
   ]
  },
  {
   "cell_type": "markdown",
   "metadata": {},
   "source": [
    "## rent_basic + rent_distance only"
   ]
  },
  {
   "cell_type": "code",
   "execution_count": 43,
   "metadata": {
    "vscode": {
     "languageId": "python"
    }
   },
   "outputs": [
    {
     "name": "stdout",
     "output_type": "stream",
     "text": [
      "(3748, 10)\n",
      "Index(['rent_index', 'SA2', 'rent', 'bedroom', 'baths', 'parking', 'Latitude',\n",
      "       'Longitude', 'school_dis', 'station_dis'],\n",
      "      dtype='object')\n",
      "   rent_index        SA2   rent  bedroom  baths  parking   Latitude  \\\n",
      "0           0  201011001  490.0        4      2        2 -37.563073   \n",
      "\n",
      "    Longitude  school_dis  station_dis  \n",
      "0  143.793875      1651.7       5895.5  \n"
     ]
    }
   ],
   "source": [
    "rent_df = pd.read_csv(f\"../data/curated/rent_distance.csv\")\n",
    "print(rent_df.shape)\n",
    "print(rent_df.columns)\n",
    "print(rent_df.head(1))"
   ]
  },
  {
   "cell_type": "code",
   "execution_count": 46,
   "metadata": {
    "vscode": {
     "languageId": "python"
    }
   },
   "outputs": [
    {
     "name": "stdout",
     "output_type": "stream",
     "text": [
      "                                 OLS Regression Results                                \n",
      "=======================================================================================\n",
      "Dep. Variable:                   rent   R-squared (uncentered):                   0.002\n",
      "Model:                            OLS   Adj. R-squared (uncentered):              0.001\n",
      "Method:                 Least Squares   F-statistic:                              1.579\n",
      "Date:                Mon, 19 Sep 2022   Prob (F-statistic):                       0.163\n",
      "Time:                        00:08:02   Log-Likelihood:                         -42733.\n",
      "No. Observations:                3748   AIC:                                  8.548e+04\n",
      "Df Residuals:                    3743   BIC:                                  8.551e+04\n",
      "Df Model:                           5                                                  \n",
      "Covariance Type:            nonrobust                                                  \n",
      "===============================================================================\n",
      "                  coef    std err          t      P>|t|      [0.025      0.975]\n",
      "-------------------------------------------------------------------------------\n",
      "bedroom      -105.8751    451.252     -0.235      0.815    -990.598     778.848\n",
      "baths         358.1213    681.304      0.526      0.599    -977.641    1693.884\n",
      "parking       249.4889    496.264      0.503      0.615    -723.486    1222.464\n",
      "school_dis      0.1587      0.192      0.827      0.408      -0.217       0.535\n",
      "station_dis    -0.0043      0.018     -0.246      0.806      -0.039       0.030\n",
      "==============================================================================\n",
      "Omnibus:                    11028.349   Durbin-Watson:                   2.001\n",
      "Prob(Omnibus):                  0.000   Jarque-Bera (JB):        511656765.566\n",
      "Skew:                          40.908   Prob(JB):                         0.00\n",
      "Kurtosis:                    1811.219   Cond. No.                     4.55e+04\n",
      "==============================================================================\n",
      "\n",
      "Notes:\n",
      "[1] R² is computed without centering (uncentered) since the model does not contain a constant.\n",
      "[2] Standard Errors assume that the covariance matrix of the errors is correctly specified.\n",
      "[3] The condition number is large, 4.55e+04. This might indicate that there are\n",
      "strong multicollinearity or other numerical problems.\n"
     ]
    }
   ],
   "source": [
    "x_col = ['bedroom', 'baths', 'parking', 'school_dis', 'station_dis']\n",
    "y = rent_df['rent']\n",
    "\n",
    "\n",
    "print(sm.OLS(y, rent_df[x_col]).fit().summary())"
   ]
  },
  {
   "cell_type": "code",
   "execution_count": 47,
   "metadata": {
    "vscode": {
     "languageId": "python"
    }
   },
   "outputs": [
    {
     "name": "stdout",
     "output_type": "stream",
     "text": [
      "                                 OLS Regression Results                                \n",
      "=======================================================================================\n",
      "Dep. Variable:                   rent   R-squared (uncentered):                   0.002\n",
      "Model:                            OLS   Adj. R-squared (uncentered):              0.001\n",
      "Method:                 Least Squares   F-statistic:                              1.960\n",
      "Date:                Mon, 19 Sep 2022   Prob (F-statistic):                      0.0979\n",
      "Time:                        00:08:18   Log-Likelihood:                         -42733.\n",
      "No. Observations:                3748   AIC:                                  8.547e+04\n",
      "Df Residuals:                    3744   BIC:                                  8.550e+04\n",
      "Df Model:                           4                                                  \n",
      "Covariance Type:            nonrobust                                                  \n",
      "===============================================================================\n",
      "                  coef    std err          t      P>|t|      [0.025      0.975]\n",
      "-------------------------------------------------------------------------------\n",
      "baths         243.8002    476.135      0.512      0.609    -689.710    1177.310\n",
      "parking       193.5437    435.172      0.445      0.657    -659.653    1046.741\n",
      "school_dis      0.1511      0.189      0.799      0.424      -0.220       0.522\n",
      "station_dis    -0.0046      0.017     -0.264      0.792      -0.039       0.030\n",
      "==============================================================================\n",
      "Omnibus:                    11028.266   Durbin-Watson:                   2.000\n",
      "Prob(Omnibus):                  0.000   Jarque-Bera (JB):        511598171.531\n",
      "Skew:                          40.907   Prob(JB):                         0.00\n",
      "Kurtosis:                    1811.116   Cond. No.                     3.62e+04\n",
      "==============================================================================\n",
      "\n",
      "Notes:\n",
      "[1] R² is computed without centering (uncentered) since the model does not contain a constant.\n",
      "[2] Standard Errors assume that the covariance matrix of the errors is correctly specified.\n",
      "[3] The condition number is large, 3.62e+04. This might indicate that there are\n",
      "strong multicollinearity or other numerical problems.\n"
     ]
    }
   ],
   "source": [
    "x_col.remove(\"bedroom\")\n",
    "print(sm.OLS(y, rent_df[x_col]).fit().summary())"
   ]
  },
  {
   "cell_type": "code",
   "execution_count": 48,
   "metadata": {
    "vscode": {
     "languageId": "python"
    }
   },
   "outputs": [
    {
     "name": "stdout",
     "output_type": "stream",
     "text": [
      "                                 OLS Regression Results                                \n",
      "=======================================================================================\n",
      "Dep. Variable:                   rent   R-squared (uncentered):                   0.002\n",
      "Model:                            OLS   Adj. R-squared (uncentered):              0.001\n",
      "Method:                 Least Squares   F-statistic:                              2.591\n",
      "Date:                Mon, 19 Sep 2022   Prob (F-statistic):                      0.0511\n",
      "Time:                        00:08:30   Log-Likelihood:                         -42733.\n",
      "No. Observations:                3748   AIC:                                  8.547e+04\n",
      "Df Residuals:                    3745   BIC:                                  8.549e+04\n",
      "Df Model:                           3                                                  \n",
      "Covariance Type:            nonrobust                                                  \n",
      "==============================================================================\n",
      "                 coef    std err          t      P>|t|      [0.025      0.975]\n",
      "------------------------------------------------------------------------------\n",
      "baths        238.9446    475.720      0.502      0.616    -693.752    1171.641\n",
      "parking      185.3299    434.003      0.427      0.669    -665.575    1036.235\n",
      "school_dis     0.1495      0.189      0.791      0.429      -0.221       0.520\n",
      "==============================================================================\n",
      "Omnibus:                    11028.320   Durbin-Watson:                   2.000\n",
      "Prob(Omnibus):                  0.000   Jarque-Bera (JB):        511611675.630\n",
      "Skew:                          40.908   Prob(JB):                         0.00\n",
      "Kurtosis:                    1811.139   Cond. No.                     4.33e+03\n",
      "==============================================================================\n",
      "\n",
      "Notes:\n",
      "[1] R² is computed without centering (uncentered) since the model does not contain a constant.\n",
      "[2] Standard Errors assume that the covariance matrix of the errors is correctly specified.\n",
      "[3] The condition number is large, 4.33e+03. This might indicate that there are\n",
      "strong multicollinearity or other numerical problems.\n"
     ]
    }
   ],
   "source": [
    "x_col.remove(\"station_dis\")\n",
    "print(sm.OLS(y, rent_df[x_col]).fit().summary())"
   ]
  },
  {
   "cell_type": "code",
   "execution_count": 49,
   "metadata": {
    "vscode": {
     "languageId": "python"
    }
   },
   "outputs": [
    {
     "name": "stdout",
     "output_type": "stream",
     "text": [
      "                                 OLS Regression Results                                \n",
      "=======================================================================================\n",
      "Dep. Variable:                   rent   R-squared (uncentered):                   0.002\n",
      "Model:                            OLS   Adj. R-squared (uncentered):              0.001\n",
      "Method:                 Least Squares   F-statistic:                              3.796\n",
      "Date:                Mon, 19 Sep 2022   Prob (F-statistic):                      0.0226\n",
      "Time:                        00:08:42   Log-Likelihood:                         -42733.\n",
      "No. Observations:                3748   AIC:                                  8.547e+04\n",
      "Df Residuals:                    3746   BIC:                                  8.548e+04\n",
      "Df Model:                           2                                                  \n",
      "Covariance Type:            nonrobust                                                  \n",
      "==============================================================================\n",
      "                 coef    std err          t      P>|t|      [0.025      0.975]\n",
      "------------------------------------------------------------------------------\n",
      "baths        401.8658    284.130      1.414      0.157    -155.199     958.931\n",
      "school_dis     0.1609      0.187      0.860      0.390      -0.206       0.528\n",
      "==============================================================================\n",
      "Omnibus:                    11027.821   Durbin-Watson:                   2.001\n",
      "Prob(Omnibus):                  0.000   Jarque-Bera (JB):        511433808.339\n",
      "Skew:                          40.903   Prob(JB):                         0.00\n",
      "Kurtosis:                    1810.825   Cond. No.                     2.01e+03\n",
      "==============================================================================\n",
      "\n",
      "Notes:\n",
      "[1] R² is computed without centering (uncentered) since the model does not contain a constant.\n",
      "[2] Standard Errors assume that the covariance matrix of the errors is correctly specified.\n",
      "[3] The condition number is large, 2.01e+03. This might indicate that there are\n",
      "strong multicollinearity or other numerical problems.\n"
     ]
    }
   ],
   "source": [
    "x_col.remove(\"parking\")\n",
    "print(sm.OLS(y, rent_df[x_col]).fit().summary())"
   ]
  },
  {
   "cell_type": "code",
   "execution_count": 50,
   "metadata": {
    "vscode": {
     "languageId": "python"
    }
   },
   "outputs": [
    {
     "name": "stdout",
     "output_type": "stream",
     "text": [
      "                                 OLS Regression Results                                \n",
      "=======================================================================================\n",
      "Dep. Variable:                   rent   R-squared (uncentered):                   0.002\n",
      "Model:                            OLS   Adj. R-squared (uncentered):              0.002\n",
      "Method:                 Least Squares   F-statistic:                              6.852\n",
      "Date:                Mon, 19 Sep 2022   Prob (F-statistic):                     0.00889\n",
      "Time:                        00:08:53   Log-Likelihood:                         -42733.\n",
      "No. Observations:                3748   AIC:                                  8.547e+04\n",
      "Df Residuals:                    3747   BIC:                                  8.547e+04\n",
      "Df Model:                           1                                                  \n",
      "Covariance Type:            nonrobust                                                  \n",
      "==============================================================================\n",
      "                 coef    std err          t      P>|t|      [0.025      0.975]\n",
      "------------------------------------------------------------------------------\n",
      "baths        561.9200    214.663      2.618      0.009     141.052     982.788\n",
      "==============================================================================\n",
      "Omnibus:                    11029.594   Durbin-Watson:                   2.001\n",
      "Prob(Omnibus):                  0.000   Jarque-Bera (JB):        512093120.977\n",
      "Skew:                          40.920   Prob(JB):                         0.00\n",
      "Kurtosis:                    1811.991   Cond. No.                         1.00\n",
      "==============================================================================\n",
      "\n",
      "Notes:\n",
      "[1] R² is computed without centering (uncentered) since the model does not contain a constant.\n",
      "[2] Standard Errors assume that the covariance matrix of the errors is correctly specified.\n"
     ]
    }
   ],
   "source": [
    "x_col.remove(\"school_dis\")\n",
    "print(sm.OLS(y, rent_df[x_col]).fit().summary())"
   ]
  },
  {
   "cell_type": "markdown",
   "metadata": {},
   "source": [
    "## Include SA2 data"
   ]
  },
  {
   "cell_type": "code",
   "execution_count": 25,
   "metadata": {
    "vscode": {
     "languageId": "python"
    }
   },
   "outputs": [
    {
     "name": "stdout",
     "output_type": "stream",
     "text": [
      "(2640, 20)\n",
      "Index(['Unnamed: 0', 'rent', 'bedroom', 'baths', 'parking', 'school_dis',\n",
      "       'station_dis', 'SA2', 'school_count', 'ERP_population', 'median_income',\n",
      "       'metrobus_count', 'metrotrain_count', 'metrotram_count', 'regbus_count',\n",
      "       'regcoach_count', 'regtrain_count', 'skybus_count', 'recr_count',\n",
      "       'comm_count'],\n",
      "      dtype='object')\n",
      "   Unnamed: 0   rent  bedroom  baths  parking  school_dis  station_dis  \\\n",
      "0           0  490.0        4      2        2      1651.7       5895.5   \n",
      "\n",
      "         SA2  school_count  ERP_population  median_income  metrobus_count  \\\n",
      "0  201011001             4           16823           1952               0   \n",
      "\n",
      "   metrotrain_count  metrotram_count  regbus_count  regcoach_count  \\\n",
      "0                 0                0            43               0   \n",
      "\n",
      "   regtrain_count  skybus_count  recr_count  comm_count  \n",
      "0               0             0           0           0  \n"
     ]
    }
   ],
   "source": [
    "rent_df = pd.read_csv(f\"../data/curated/rent_info.csv\")\n",
    "print(rent_df.shape)\n",
    "print(rent_df.columns)\n",
    "print(rent_df.head(1))"
   ]
  },
  {
   "cell_type": "code",
   "execution_count": 26,
   "metadata": {
    "vscode": {
     "languageId": "python"
    }
   },
   "outputs": [
    {
     "name": "stdout",
     "output_type": "stream",
     "text": [
      "                                 OLS Regression Results                                \n",
      "=======================================================================================\n",
      "Dep. Variable:                   rent   R-squared (uncentered):                   0.006\n",
      "Model:                            OLS   Adj. R-squared (uncentered):             -0.000\n",
      "Method:                 Least Squares   F-statistic:                             0.9496\n",
      "Date:                Sun, 18 Sep 2022   Prob (F-statistic):                       0.514\n",
      "Time:                        23:36:45   Log-Likelihood:                         -28410.\n",
      "No. Observations:                2640   AIC:                                  5.685e+04\n",
      "Df Residuals:                    2623   BIC:                                  5.695e+04\n",
      "Df Model:                          17                                                  \n",
      "Covariance Type:            nonrobust                                                  \n",
      "====================================================================================\n",
      "                       coef    std err          t      P>|t|      [0.025      0.975]\n",
      "------------------------------------------------------------------------------------\n",
      "bedroom           -211.8787    310.552     -0.682      0.495    -820.830     397.073\n",
      "baths               65.1378    454.069      0.143      0.886    -825.231     955.507\n",
      "parking            182.8330    311.951      0.586      0.558    -428.862     794.528\n",
      "school_dis           0.0848      0.222      0.382      0.702      -0.350       0.520\n",
      "station_dis         -0.0016      0.010     -0.152      0.879      -0.022       0.019\n",
      "school_count        -5.4299     95.281     -0.057      0.955    -192.264     181.404\n",
      "ERP_population       0.0142      0.060      0.238      0.812      -0.103       0.131\n",
      "median_income        0.5057      0.463      1.091      0.275      -0.403       1.414\n",
      "metrobus_count      -2.3052      9.602     -0.240      0.810     -21.133      16.522\n",
      "metrotrain_count  -193.6247    236.456     -0.819      0.413    -657.284     270.034\n",
      "metrotram_count      0.8443     20.923      0.040      0.968     -40.182      41.871\n",
      "regbus_count        -3.6498     12.855     -0.284      0.776     -28.857      21.557\n",
      "regcoach_count     -35.2111    103.718     -0.339      0.734    -238.588     168.166\n",
      "regtrain_count     -81.7945    562.925     -0.145      0.884   -1185.617    1022.028\n",
      "skybus_count      -136.8452   1194.955     -0.115      0.909   -2479.995    2206.304\n",
      "recr_count         161.9244    153.567      1.054      0.292    -139.201     463.050\n",
      "comm_count          34.7698    620.336      0.056      0.955   -1181.629    1251.168\n",
      "==============================================================================\n",
      "Omnibus:                     8368.105   Durbin-Watson:                   2.004\n",
      "Prob(Omnibus):                  0.000   Jarque-Bera (JB):        688600921.141\n",
      "Skew:                          49.513   Prob(JB):                         0.00\n",
      "Kurtosis:                    2503.040   Cond. No.                     1.37e+05\n",
      "==============================================================================\n",
      "\n",
      "Notes:\n",
      "[1] R² is computed without centering (uncentered) since the model does not contain a constant.\n",
      "[2] Standard Errors assume that the covariance matrix of the errors is correctly specified.\n",
      "[3] The condition number is large, 1.37e+05. This might indicate that there are\n",
      "strong multicollinearity or other numerical problems.\n"
     ]
    }
   ],
   "source": [
    "x_col = ['bedroom', 'baths', 'parking', 'school_dis',\n",
    "       'station_dis', 'school_count', 'ERP_population', 'median_income',\n",
    "       'metrobus_count', 'metrotrain_count', 'metrotram_count', 'regbus_count',\n",
    "       'regcoach_count', 'regtrain_count', 'skybus_count', 'recr_count',\n",
    "       'comm_count']\n",
    "y = rent_df['rent']\n",
    "\n",
    "\n",
    "print(sm.OLS(y, rent_df[x_col]).fit().summary())"
   ]
  },
  {
   "cell_type": "code",
   "execution_count": 27,
   "metadata": {
    "vscode": {
     "languageId": "python"
    }
   },
   "outputs": [
    {
     "name": "stdout",
     "output_type": "stream",
     "text": [
      "                                 OLS Regression Results                                \n",
      "=======================================================================================\n",
      "Dep. Variable:                   rent   R-squared (uncentered):                   0.006\n",
      "Model:                            OLS   Adj. R-squared (uncentered):              0.000\n",
      "Method:                 Least Squares   F-statistic:                              1.009\n",
      "Date:                Sun, 18 Sep 2022   Prob (F-statistic):                       0.443\n",
      "Time:                        23:36:59   Log-Likelihood:                         -28410.\n",
      "No. Observations:                2640   AIC:                                  5.685e+04\n",
      "Df Residuals:                    2624   BIC:                                  5.695e+04\n",
      "Df Model:                          16                                                  \n",
      "Covariance Type:            nonrobust                                                  \n",
      "====================================================================================\n",
      "                       coef    std err          t      P>|t|      [0.025      0.975]\n",
      "------------------------------------------------------------------------------------\n",
      "bedroom           -213.5448    307.736     -0.694      0.488    -816.975     389.886\n",
      "baths               65.6961    453.772      0.145      0.885    -824.090     955.482\n",
      "parking            182.6682    311.865      0.586      0.558    -428.858     794.194\n",
      "school_dis           0.0841      0.221      0.380      0.704      -0.349       0.518\n",
      "station_dis         -0.0016      0.010     -0.151      0.880      -0.022       0.019\n",
      "school_count        -4.6195     93.123     -0.050      0.960    -187.221     177.982\n",
      "ERP_population       0.0147      0.058      0.251      0.802      -0.100       0.129\n",
      "median_income        0.5091      0.456      1.118      0.264      -0.384       1.402\n",
      "metrobus_count      -2.4634      8.763     -0.281      0.779     -19.646      14.720\n",
      "metrotrain_count  -191.5726    230.879     -0.830      0.407    -644.296     261.150\n",
      "regbus_count        -3.8022     12.286     -0.309      0.757     -27.893      20.289\n",
      "regcoach_count     -35.5447    103.368     -0.344      0.731    -238.236     167.147\n",
      "regtrain_count     -81.9124    562.811     -0.146      0.884   -1185.510    1021.685\n",
      "skybus_count      -131.3429   1186.924     -0.111      0.912   -2458.745    2196.059\n",
      "recr_count         161.9232    153.538      1.055      0.292    -139.145     462.991\n",
      "comm_count          34.6080    620.205      0.056      0.956   -1181.533    1250.749\n",
      "==============================================================================\n",
      "Omnibus:                     8368.051   Durbin-Watson:                   2.004\n",
      "Prob(Omnibus):                  0.000   Jarque-Bera (JB):        688565643.864\n",
      "Skew:                          49.512   Prob(JB):                         0.00\n",
      "Kurtosis:                    2502.976   Cond. No.                     1.36e+05\n",
      "==============================================================================\n",
      "\n",
      "Notes:\n",
      "[1] R² is computed without centering (uncentered) since the model does not contain a constant.\n",
      "[2] Standard Errors assume that the covariance matrix of the errors is correctly specified.\n",
      "[3] The condition number is large, 1.36e+05. This might indicate that there are\n",
      "strong multicollinearity or other numerical problems.\n"
     ]
    }
   ],
   "source": [
    "x_col.remove(\"metrotram_count\")\n",
    "print(sm.OLS(y, rent_df[x_col]).fit().summary())"
   ]
  },
  {
   "cell_type": "code",
   "execution_count": 28,
   "metadata": {
    "vscode": {
     "languageId": "python"
    }
   },
   "outputs": [
    {
     "name": "stdout",
     "output_type": "stream",
     "text": [
      "                                 OLS Regression Results                                \n",
      "=======================================================================================\n",
      "Dep. Variable:                   rent   R-squared (uncentered):                   0.006\n",
      "Model:                            OLS   Adj. R-squared (uncentered):              0.000\n",
      "Method:                 Least Squares   F-statistic:                              1.077\n",
      "Date:                Sun, 18 Sep 2022   Prob (F-statistic):                       0.373\n",
      "Time:                        23:37:09   Log-Likelihood:                         -28410.\n",
      "No. Observations:                2640   AIC:                                  5.685e+04\n",
      "Df Residuals:                    2625   BIC:                                  5.694e+04\n",
      "Df Model:                          15                                                  \n",
      "Covariance Type:            nonrobust                                                  \n",
      "====================================================================================\n",
      "                       coef    std err          t      P>|t|      [0.025      0.975]\n",
      "------------------------------------------------------------------------------------\n",
      "bedroom           -213.5796    307.677     -0.694      0.488    -816.894     389.735\n",
      "baths               65.5358    453.674      0.144      0.885    -824.059     955.130\n",
      "parking            182.5114    311.790      0.585      0.558    -428.867     793.890\n",
      "school_dis           0.0856      0.219      0.391      0.696      -0.344       0.515\n",
      "station_dis         -0.0016      0.010     -0.151      0.880      -0.022       0.019\n",
      "ERP_population       0.0141      0.057      0.246      0.805      -0.098       0.126\n",
      "median_income        0.5062      0.452      1.121      0.263      -0.380       1.392\n",
      "metrobus_count      -2.5931      8.362     -0.310      0.757     -18.990      13.804\n",
      "metrotrain_count  -193.5417    227.398     -0.851      0.395    -639.439     252.355\n",
      "regbus_count        -4.0200     11.472     -0.350      0.726     -26.515      18.475\n",
      "regcoach_count     -36.1061    102.727     -0.351      0.725    -237.541     165.329\n",
      "regtrain_count     -87.3825    551.797     -0.158      0.874   -1169.384     994.619\n",
      "skybus_count      -122.0998   1171.985     -0.104      0.917   -2420.208    2176.008\n",
      "recr_count         160.4122    150.458      1.066      0.286    -134.617     455.441\n",
      "comm_count          32.4592    618.573      0.052      0.958   -1180.482    1245.400\n",
      "==============================================================================\n",
      "Omnibus:                     8368.082   Durbin-Watson:                   2.004\n",
      "Prob(Omnibus):                  0.000   Jarque-Bera (JB):        688585957.356\n",
      "Skew:                          49.512   Prob(JB):                         0.00\n",
      "Kurtosis:                    2503.013   Cond. No.                     1.34e+05\n",
      "==============================================================================\n",
      "\n",
      "Notes:\n",
      "[1] R² is computed without centering (uncentered) since the model does not contain a constant.\n",
      "[2] Standard Errors assume that the covariance matrix of the errors is correctly specified.\n",
      "[3] The condition number is large, 1.34e+05. This might indicate that there are\n",
      "strong multicollinearity or other numerical problems.\n"
     ]
    }
   ],
   "source": [
    "x_col.remove(\"school_count\")\n",
    "print(sm.OLS(y, rent_df[x_col]).fit().summary())"
   ]
  },
  {
   "cell_type": "code",
   "execution_count": 29,
   "metadata": {
    "vscode": {
     "languageId": "python"
    }
   },
   "outputs": [
    {
     "name": "stdout",
     "output_type": "stream",
     "text": [
      "                                 OLS Regression Results                                \n",
      "=======================================================================================\n",
      "Dep. Variable:                   rent   R-squared (uncentered):                   0.006\n",
      "Model:                            OLS   Adj. R-squared (uncentered):              0.001\n",
      "Method:                 Least Squares   F-statistic:                              1.154\n",
      "Date:                Sun, 18 Sep 2022   Prob (F-statistic):                       0.305\n",
      "Time:                        23:37:25   Log-Likelihood:                         -28410.\n",
      "No. Observations:                2640   AIC:                                  5.685e+04\n",
      "Df Residuals:                    2626   BIC:                                  5.693e+04\n",
      "Df Model:                          14                                                  \n",
      "Covariance Type:            nonrobust                                                  \n",
      "====================================================================================\n",
      "                       coef    std err          t      P>|t|      [0.025      0.975]\n",
      "------------------------------------------------------------------------------------\n",
      "bedroom           -213.9165    307.552     -0.696      0.487    -816.985     389.152\n",
      "baths               65.5684    453.587      0.145      0.885    -823.856     954.993\n",
      "parking            181.6852    311.333      0.584      0.560    -428.797     792.167\n",
      "school_dis           0.0853      0.219      0.390      0.697      -0.344       0.514\n",
      "station_dis         -0.0016      0.010     -0.154      0.878      -0.022       0.019\n",
      "ERP_population       0.0137      0.057      0.241      0.809      -0.097       0.125\n",
      "median_income        0.5091      0.448      1.135      0.256      -0.370       1.388\n",
      "metrobus_count      -2.5098      8.208     -0.306      0.760     -18.605      13.586\n",
      "metrotrain_count  -193.0455    227.158     -0.850      0.395    -638.472     252.381\n",
      "regbus_count        -3.7638     10.379     -0.363      0.717     -24.116      16.588\n",
      "regcoach_count     -36.5788    102.312     -0.358      0.721    -237.200     164.042\n",
      "regtrain_count     -82.5125    543.833     -0.152      0.879   -1148.898     983.873\n",
      "skybus_count      -123.2211   1171.568     -0.105      0.916   -2420.510    2174.068\n",
      "recr_count         160.4237    150.430      1.066      0.286    -134.549     455.396\n",
      "==============================================================================\n",
      "Omnibus:                     8368.075   Durbin-Watson:                   2.004\n",
      "Prob(Omnibus):                  0.000   Jarque-Bera (JB):        688582293.274\n",
      "Skew:                          49.512   Prob(JB):                         0.00\n",
      "Kurtosis:                    2503.007   Cond. No.                     1.34e+05\n",
      "==============================================================================\n",
      "\n",
      "Notes:\n",
      "[1] R² is computed without centering (uncentered) since the model does not contain a constant.\n",
      "[2] Standard Errors assume that the covariance matrix of the errors is correctly specified.\n",
      "[3] The condition number is large, 1.34e+05. This might indicate that there are\n",
      "strong multicollinearity or other numerical problems.\n"
     ]
    }
   ],
   "source": [
    "x_col.remove(\"comm_count\")\n",
    "print(sm.OLS(y, rent_df[x_col]).fit().summary())"
   ]
  },
  {
   "cell_type": "code",
   "execution_count": 30,
   "metadata": {
    "vscode": {
     "languageId": "python"
    }
   },
   "outputs": [
    {
     "name": "stdout",
     "output_type": "stream",
     "text": [
      "                                 OLS Regression Results                                \n",
      "=======================================================================================\n",
      "Dep. Variable:                   rent   R-squared (uncentered):                   0.006\n",
      "Model:                            OLS   Adj. R-squared (uncentered):              0.001\n",
      "Method:                 Least Squares   F-statistic:                              1.242\n",
      "Date:                Sun, 18 Sep 2022   Prob (F-statistic):                       0.242\n",
      "Time:                        23:37:33   Log-Likelihood:                         -28410.\n",
      "No. Observations:                2640   AIC:                                  5.685e+04\n",
      "Df Residuals:                    2627   BIC:                                  5.692e+04\n",
      "Df Model:                          13                                                  \n",
      "Covariance Type:            nonrobust                                                  \n",
      "====================================================================================\n",
      "                       coef    std err          t      P>|t|      [0.025      0.975]\n",
      "------------------------------------------------------------------------------------\n",
      "bedroom           -211.3555    306.529     -0.690      0.491    -812.417     389.706\n",
      "baths               62.9981    452.843      0.139      0.889    -824.967     950.964\n",
      "parking            182.1753    311.239      0.585      0.558    -428.123     792.474\n",
      "school_dis           0.0854      0.219      0.390      0.696      -0.344       0.514\n",
      "station_dis         -0.0017      0.010     -0.160      0.873      -0.022       0.019\n",
      "ERP_population       0.0131      0.056      0.233      0.816      -0.097       0.124\n",
      "median_income        0.5075      0.448      1.132      0.258      -0.371       1.386\n",
      "metrobus_count      -2.3936      8.132     -0.294      0.769     -18.340      13.553\n",
      "metrotrain_count  -193.2620    227.106     -0.851      0.395    -638.587     252.063\n",
      "regbus_count        -3.6111     10.275     -0.351      0.725     -23.760      16.537\n",
      "regcoach_count     -36.4300    102.283     -0.356      0.722    -236.994     164.134\n",
      "regtrain_count     -93.9620    532.726     -0.176      0.860   -1138.567     950.643\n",
      "recr_count         161.0772    150.273      1.072      0.284    -133.588     455.742\n",
      "==============================================================================\n",
      "Omnibus:                     8368.106   Durbin-Watson:                   2.004\n",
      "Prob(Omnibus):                  0.000   Jarque-Bera (JB):        688599349.817\n",
      "Skew:                          49.513   Prob(JB):                         0.00\n",
      "Kurtosis:                    2503.038   Cond. No.                     6.09e+04\n",
      "==============================================================================\n",
      "\n",
      "Notes:\n",
      "[1] R² is computed without centering (uncentered) since the model does not contain a constant.\n",
      "[2] Standard Errors assume that the covariance matrix of the errors is correctly specified.\n",
      "[3] The condition number is large, 6.09e+04. This might indicate that there are\n",
      "strong multicollinearity or other numerical problems.\n"
     ]
    }
   ],
   "source": [
    "x_col.remove(\"skybus_count\")\n",
    "print(sm.OLS(y, rent_df[x_col]).fit().summary())"
   ]
  },
  {
   "cell_type": "code",
   "execution_count": 31,
   "metadata": {
    "vscode": {
     "languageId": "python"
    }
   },
   "outputs": [
    {
     "name": "stdout",
     "output_type": "stream",
     "text": [
      "                                 OLS Regression Results                                \n",
      "=======================================================================================\n",
      "Dep. Variable:                   rent   R-squared (uncentered):                   0.006\n",
      "Model:                            OLS   Adj. R-squared (uncentered):              0.002\n",
      "Method:                 Least Squares   F-statistic:                              1.345\n",
      "Date:                Sun, 18 Sep 2022   Prob (F-statistic):                       0.186\n",
      "Time:                        23:37:59   Log-Likelihood:                         -28410.\n",
      "No. Observations:                2640   AIC:                                  5.684e+04\n",
      "Df Residuals:                    2628   BIC:                                  5.691e+04\n",
      "Df Model:                          12                                                  \n",
      "Covariance Type:            nonrobust                                                  \n",
      "====================================================================================\n",
      "                       coef    std err          t      P>|t|      [0.025      0.975]\n",
      "------------------------------------------------------------------------------------\n",
      "bedroom           -189.4344    262.878     -0.721      0.471    -704.902     326.034\n",
      "parking            185.3903    310.322      0.597      0.550    -423.110     793.891\n",
      "school_dis           0.0870      0.218      0.398      0.690      -0.341       0.515\n",
      "station_dis         -0.0017      0.010     -0.159      0.873      -0.022       0.019\n",
      "ERP_population       0.0135      0.056      0.241      0.810      -0.097       0.124\n",
      "median_income        0.5203      0.438      1.187      0.235      -0.339       1.380\n",
      "metrobus_count      -2.4274      8.127     -0.299      0.765     -18.364      13.509\n",
      "metrotrain_count  -193.6946    227.042     -0.853      0.394    -638.894     251.505\n",
      "regbus_count        -3.6334     10.272     -0.354      0.724     -23.776      16.509\n",
      "regcoach_count     -36.6560    102.251     -0.358      0.720    -237.157     163.845\n",
      "regtrain_count     -94.6617    532.603     -0.178      0.859   -1139.025     949.702\n",
      "recr_count         161.2966    150.237      1.074      0.283    -133.297     455.891\n",
      "==============================================================================\n",
      "Omnibus:                     8367.805   Durbin-Watson:                   2.004\n",
      "Prob(Omnibus):                  0.000   Jarque-Bera (JB):        688397428.082\n",
      "Skew:                          49.508   Prob(JB):                         0.00\n",
      "Kurtosis:                    2502.671   Cond. No.                     6.08e+04\n",
      "==============================================================================\n",
      "\n",
      "Notes:\n",
      "[1] R² is computed without centering (uncentered) since the model does not contain a constant.\n",
      "[2] Standard Errors assume that the covariance matrix of the errors is correctly specified.\n",
      "[3] The condition number is large, 6.08e+04. This might indicate that there are\n",
      "strong multicollinearity or other numerical problems.\n"
     ]
    }
   ],
   "source": [
    "x_col.remove(\"baths\")\n",
    "print(sm.OLS(y, rent_df[x_col]).fit().summary())"
   ]
  },
  {
   "cell_type": "code",
   "execution_count": 32,
   "metadata": {
    "vscode": {
     "languageId": "python"
    }
   },
   "outputs": [
    {
     "name": "stdout",
     "output_type": "stream",
     "text": [
      "                                 OLS Regression Results                                \n",
      "=======================================================================================\n",
      "Dep. Variable:                   rent   R-squared (uncentered):                   0.006\n",
      "Model:                            OLS   Adj. R-squared (uncentered):              0.002\n",
      "Method:                 Least Squares   F-statistic:                              1.465\n",
      "Date:                Sun, 18 Sep 2022   Prob (F-statistic):                       0.138\n",
      "Time:                        23:38:15   Log-Likelihood:                         -28410.\n",
      "No. Observations:                2640   AIC:                                  5.684e+04\n",
      "Df Residuals:                    2629   BIC:                                  5.691e+04\n",
      "Df Model:                          11                                                  \n",
      "Covariance Type:            nonrobust                                                  \n",
      "====================================================================================\n",
      "                       coef    std err          t      P>|t|      [0.025      0.975]\n",
      "------------------------------------------------------------------------------------\n",
      "bedroom           -192.2060    262.253     -0.733      0.464    -706.449     322.037\n",
      "parking            184.9726    310.253      0.596      0.551    -423.393     793.338\n",
      "school_dis           0.0840      0.218      0.386      0.699      -0.343       0.511\n",
      "ERP_population       0.0137      0.056      0.244      0.807      -0.097       0.124\n",
      "median_income        0.5228      0.438      1.193      0.233      -0.336       1.382\n",
      "metrobus_count      -2.4750      8.120     -0.305      0.761     -18.397      13.448\n",
      "metrotrain_count  -192.5249    226.881     -0.849      0.396    -637.409     252.359\n",
      "regbus_count        -4.1423      9.761     -0.424      0.671     -23.282      14.998\n",
      "regcoach_count     -38.7630    101.374     -0.382      0.702    -237.543     160.017\n",
      "regtrain_count     -74.7252    517.598     -0.144      0.885   -1089.665     940.215\n",
      "recr_count         159.0556    149.549      1.064      0.288    -134.190     452.301\n",
      "==============================================================================\n",
      "Omnibus:                     8367.864   Durbin-Watson:                   2.004\n",
      "Prob(Omnibus):                  0.000   Jarque-Bera (JB):        688435093.733\n",
      "Skew:                          49.509   Prob(JB):                         0.00\n",
      "Kurtosis:                    2502.739   Cond. No.                     3.97e+04\n",
      "==============================================================================\n",
      "\n",
      "Notes:\n",
      "[1] R² is computed without centering (uncentered) since the model does not contain a constant.\n",
      "[2] Standard Errors assume that the covariance matrix of the errors is correctly specified.\n",
      "[3] The condition number is large, 3.97e+04. This might indicate that there are\n",
      "strong multicollinearity or other numerical problems.\n"
     ]
    }
   ],
   "source": [
    "x_col.remove(\"station_dis\")\n",
    "print(sm.OLS(y, rent_df[x_col]).fit().summary())"
   ]
  },
  {
   "cell_type": "code",
   "execution_count": 33,
   "metadata": {
    "vscode": {
     "languageId": "python"
    }
   },
   "outputs": [
    {
     "name": "stdout",
     "output_type": "stream",
     "text": [
      "                                 OLS Regression Results                                \n",
      "=======================================================================================\n",
      "Dep. Variable:                   rent   R-squared (uncentered):                   0.006\n",
      "Model:                            OLS   Adj. R-squared (uncentered):              0.002\n",
      "Method:                 Least Squares   F-statistic:                              1.610\n",
      "Date:                Sun, 18 Sep 2022   Prob (F-statistic):                      0.0974\n",
      "Time:                        23:38:27   Log-Likelihood:                         -28410.\n",
      "No. Observations:                2640   AIC:                                  5.684e+04\n",
      "Df Residuals:                    2630   BIC:                                  5.690e+04\n",
      "Df Model:                          10                                                  \n",
      "Covariance Type:            nonrobust                                                  \n",
      "====================================================================================\n",
      "                       coef    std err          t      P>|t|      [0.025      0.975]\n",
      "------------------------------------------------------------------------------------\n",
      "bedroom           -193.6365    262.017     -0.739      0.460    -707.416     320.143\n",
      "parking            184.6020    310.185      0.595      0.552    -423.629     792.833\n",
      "school_dis           0.0803      0.216      0.372      0.710      -0.343       0.504\n",
      "ERP_population       0.0128      0.056      0.230      0.818      -0.097       0.122\n",
      "median_income        0.5260      0.437      1.202      0.229      -0.332       1.384\n",
      "metrobus_count      -2.3667      8.084     -0.293      0.770     -18.218      13.485\n",
      "metrotrain_count  -190.8891    226.556     -0.843      0.400    -635.136     253.357\n",
      "regbus_count        -4.3421      9.661     -0.449      0.653     -23.285      14.601\n",
      "regcoach_count     -41.0832    100.073     -0.411      0.681    -237.313     155.146\n",
      "recr_count         159.1977    149.518      1.065      0.287    -133.987     452.382\n",
      "==============================================================================\n",
      "Omnibus:                     8367.978   Durbin-Watson:                   2.004\n",
      "Prob(Omnibus):                  0.000   Jarque-Bera (JB):        688516370.443\n",
      "Skew:                          49.511   Prob(JB):                         0.00\n",
      "Kurtosis:                    2502.887   Cond. No.                     2.69e+04\n",
      "==============================================================================\n",
      "\n",
      "Notes:\n",
      "[1] R² is computed without centering (uncentered) since the model does not contain a constant.\n",
      "[2] Standard Errors assume that the covariance matrix of the errors is correctly specified.\n",
      "[3] The condition number is large, 2.69e+04. This might indicate that there are\n",
      "strong multicollinearity or other numerical problems.\n"
     ]
    }
   ],
   "source": [
    "x_col.remove(\"regtrain_count\")\n",
    "print(sm.OLS(y, rent_df[x_col]).fit().summary())"
   ]
  },
  {
   "cell_type": "code",
   "execution_count": 34,
   "metadata": {
    "vscode": {
     "languageId": "python"
    }
   },
   "outputs": [
    {
     "name": "stdout",
     "output_type": "stream",
     "text": [
      "                                 OLS Regression Results                                \n",
      "=======================================================================================\n",
      "Dep. Variable:                   rent   R-squared (uncentered):                   0.006\n",
      "Model:                            OLS   Adj. R-squared (uncentered):              0.003\n",
      "Method:                 Least Squares   F-statistic:                              1.780\n",
      "Date:                Sun, 18 Sep 2022   Prob (F-statistic):                      0.0670\n",
      "Time:                        23:38:42   Log-Likelihood:                         -28410.\n",
      "No. Observations:                2640   AIC:                                  5.684e+04\n",
      "Df Residuals:                    2631   BIC:                                  5.689e+04\n",
      "Df Model:                           9                                                  \n",
      "Covariance Type:            nonrobust                                                  \n",
      "====================================================================================\n",
      "                       coef    std err          t      P>|t|      [0.025      0.975]\n",
      "------------------------------------------------------------------------------------\n",
      "bedroom           -200.4723    260.929     -0.768      0.442    -712.119     311.174\n",
      "parking            176.1925    308.798      0.571      0.568    -429.320     781.705\n",
      "school_dis           0.0799      0.216      0.370      0.711      -0.344       0.503\n",
      "ERP_population       0.0025      0.043      0.058      0.954      -0.082       0.087\n",
      "median_income        0.5591      0.422      1.323      0.186      -0.269       1.388\n",
      "metrotrain_count  -197.4564    225.404     -0.876      0.381    -639.443     244.530\n",
      "regbus_count        -2.8504      8.206     -0.347      0.728     -18.942      13.241\n",
      "regcoach_count     -37.8759     99.454     -0.381      0.703    -232.892     157.140\n",
      "recr_count         158.6972    149.482      1.062      0.288    -134.417     451.811\n",
      "==============================================================================\n",
      "Omnibus:                     8368.181   Durbin-Watson:                   2.004\n",
      "Prob(Omnibus):                  0.000   Jarque-Bera (JB):        688645144.033\n",
      "Skew:                          49.514   Prob(JB):                         0.00\n",
      "Kurtosis:                    2503.121   Cond. No.                     2.69e+04\n",
      "==============================================================================\n",
      "\n",
      "Notes:\n",
      "[1] R² is computed without centering (uncentered) since the model does not contain a constant.\n",
      "[2] Standard Errors assume that the covariance matrix of the errors is correctly specified.\n",
      "[3] The condition number is large, 2.69e+04. This might indicate that there are\n",
      "strong multicollinearity or other numerical problems.\n"
     ]
    }
   ],
   "source": [
    "x_col.remove(\"metrobus_count\")\n",
    "print(sm.OLS(y, rent_df[x_col]).fit().summary())"
   ]
  },
  {
   "cell_type": "code",
   "execution_count": 35,
   "metadata": {
    "vscode": {
     "languageId": "python"
    }
   },
   "outputs": [
    {
     "name": "stdout",
     "output_type": "stream",
     "text": [
      "                                 OLS Regression Results                                \n",
      "=======================================================================================\n",
      "Dep. Variable:                   rent   R-squared (uncentered):                   0.006\n",
      "Model:                            OLS   Adj. R-squared (uncentered):              0.003\n",
      "Method:                 Least Squares   F-statistic:                              2.003\n",
      "Date:                Sun, 18 Sep 2022   Prob (F-statistic):                      0.0425\n",
      "Time:                        23:39:02   Log-Likelihood:                         -28410.\n",
      "No. Observations:                2640   AIC:                                  5.684e+04\n",
      "Df Residuals:                    2632   BIC:                                  5.688e+04\n",
      "Df Model:                           8                                                  \n",
      "Covariance Type:            nonrobust                                                  \n",
      "====================================================================================\n",
      "                       coef    std err          t      P>|t|      [0.025      0.975]\n",
      "------------------------------------------------------------------------------------\n",
      "bedroom           -197.4426    255.543     -0.773      0.440    -698.528     303.643\n",
      "parking            177.2400    308.206      0.575      0.565    -427.111     781.591\n",
      "school_dis           0.0810      0.215      0.376      0.707      -0.341       0.503\n",
      "median_income        0.5722      0.357      1.603      0.109      -0.128       1.272\n",
      "metrotrain_count  -194.5616    219.708     -0.886      0.376    -625.380     236.257\n",
      "regbus_count        -2.7748      8.099     -0.343      0.732     -18.657      13.107\n",
      "regcoach_count     -37.2641     98.869     -0.377      0.706    -231.132     156.604\n",
      "recr_count         158.5984    149.444      1.061      0.289    -134.441     451.638\n",
      "==============================================================================\n",
      "Omnibus:                     8368.189   Durbin-Watson:                   2.004\n",
      "Prob(Omnibus):                  0.000   Jarque-Bera (JB):        688650310.781\n",
      "Skew:                          49.514   Prob(JB):                         0.00\n",
      "Kurtosis:                    2503.130   Cond. No.                     3.58e+03\n",
      "==============================================================================\n",
      "\n",
      "Notes:\n",
      "[1] R² is computed without centering (uncentered) since the model does not contain a constant.\n",
      "[2] Standard Errors assume that the covariance matrix of the errors is correctly specified.\n",
      "[3] The condition number is large, 3.58e+03. This might indicate that there are\n",
      "strong multicollinearity or other numerical problems.\n"
     ]
    }
   ],
   "source": [
    "x_col.remove(\"ERP_population\")\n",
    "print(sm.OLS(y, rent_df[x_col]).fit().summary())"
   ]
  },
  {
   "cell_type": "code",
   "execution_count": 36,
   "metadata": {
    "vscode": {
     "languageId": "python"
    }
   },
   "outputs": [
    {
     "name": "stdout",
     "output_type": "stream",
     "text": [
      "                                 OLS Regression Results                                \n",
      "=======================================================================================\n",
      "Dep. Variable:                   rent   R-squared (uncentered):                   0.006\n",
      "Model:                            OLS   Adj. R-squared (uncentered):              0.003\n",
      "Method:                 Least Squares   F-statistic:                              2.270\n",
      "Date:                Sun, 18 Sep 2022   Prob (F-statistic):                      0.0265\n",
      "Time:                        23:39:22   Log-Likelihood:                         -28410.\n",
      "No. Observations:                2640   AIC:                                  5.683e+04\n",
      "Df Residuals:                    2633   BIC:                                  5.688e+04\n",
      "Df Model:                           7                                                  \n",
      "Covariance Type:            nonrobust                                                  \n",
      "====================================================================================\n",
      "                       coef    std err          t      P>|t|      [0.025      0.975]\n",
      "------------------------------------------------------------------------------------\n",
      "bedroom           -179.2277    250.873     -0.714      0.475    -671.155     312.700\n",
      "parking            184.2397    307.594      0.599      0.549    -418.910     787.390\n",
      "median_income        0.5857      0.355      1.650      0.099      -0.111       1.282\n",
      "metrotrain_count  -200.7610    219.054     -0.916      0.359    -630.296     228.774\n",
      "regbus_count        -2.8776      8.094     -0.356      0.722     -18.748      12.993\n",
      "regcoach_count     -32.3887     98.000     -0.330      0.741    -224.553     159.775\n",
      "recr_count         160.6607    149.319      1.076      0.282    -132.134     453.455\n",
      "==============================================================================\n",
      "Omnibus:                     8368.678   Durbin-Watson:                   2.004\n",
      "Prob(Omnibus):                  0.000   Jarque-Bera (JB):        688959417.627\n",
      "Skew:                          49.522   Prob(JB):                         0.00\n",
      "Kurtosis:                    2503.691   Cond. No.                     3.07e+03\n",
      "==============================================================================\n",
      "\n",
      "Notes:\n",
      "[1] R² is computed without centering (uncentered) since the model does not contain a constant.\n",
      "[2] Standard Errors assume that the covariance matrix of the errors is correctly specified.\n",
      "[3] The condition number is large, 3.07e+03. This might indicate that there are\n",
      "strong multicollinearity or other numerical problems.\n"
     ]
    }
   ],
   "source": [
    "x_col.remove(\"school_dis\")\n",
    "print(sm.OLS(y, rent_df[x_col]).fit().summary())"
   ]
  },
  {
   "cell_type": "code",
   "execution_count": 37,
   "metadata": {
    "vscode": {
     "languageId": "python"
    }
   },
   "outputs": [
    {
     "name": "stdout",
     "output_type": "stream",
     "text": [
      "                                 OLS Regression Results                                \n",
      "=======================================================================================\n",
      "Dep. Variable:                   rent   R-squared (uncentered):                   0.006\n",
      "Model:                            OLS   Adj. R-squared (uncentered):              0.004\n",
      "Method:                 Least Squares   F-statistic:                              2.631\n",
      "Date:                Sun, 18 Sep 2022   Prob (F-statistic):                      0.0152\n",
      "Time:                        23:39:35   Log-Likelihood:                         -28410.\n",
      "No. Observations:                2640   AIC:                                  5.683e+04\n",
      "Df Residuals:                    2634   BIC:                                  5.687e+04\n",
      "Df Model:                           6                                                  \n",
      "Covariance Type:            nonrobust                                                  \n",
      "====================================================================================\n",
      "                       coef    std err          t      P>|t|      [0.025      0.975]\n",
      "------------------------------------------------------------------------------------\n",
      "bedroom           -183.5858    250.484     -0.733      0.464    -674.750     307.579\n",
      "parking            183.3865    307.531      0.596      0.551    -419.640     786.413\n",
      "median_income        0.5909      0.355      1.666      0.096      -0.105       1.286\n",
      "metrotrain_count  -200.5118    219.015     -0.916      0.360    -629.971     228.948\n",
      "regbus_count        -3.8456      7.544     -0.510      0.610     -18.638      10.947\n",
      "recr_count         148.2395    144.487      1.026      0.305    -135.081     431.560\n",
      "==============================================================================\n",
      "Omnibus:                     8368.873   Durbin-Watson:                   2.004\n",
      "Prob(Omnibus):                  0.000   Jarque-Bera (JB):        689082681.539\n",
      "Skew:                          49.526   Prob(JB):                         0.00\n",
      "Kurtosis:                    2503.915   Cond. No.                     3.07e+03\n",
      "==============================================================================\n",
      "\n",
      "Notes:\n",
      "[1] R² is computed without centering (uncentered) since the model does not contain a constant.\n",
      "[2] Standard Errors assume that the covariance matrix of the errors is correctly specified.\n",
      "[3] The condition number is large, 3.07e+03. This might indicate that there are\n",
      "strong multicollinearity or other numerical problems.\n"
     ]
    }
   ],
   "source": [
    "x_col.remove(\"regcoach_count\")\n",
    "print(sm.OLS(y, rent_df[x_col]).fit().summary())"
   ]
  },
  {
   "cell_type": "code",
   "execution_count": 38,
   "metadata": {
    "vscode": {
     "languageId": "python"
    }
   },
   "outputs": [
    {
     "name": "stdout",
     "output_type": "stream",
     "text": [
      "                                 OLS Regression Results                                \n",
      "=======================================================================================\n",
      "Dep. Variable:                   rent   R-squared (uncentered):                   0.006\n",
      "Model:                            OLS   Adj. R-squared (uncentered):              0.004\n",
      "Method:                 Least Squares   F-statistic:                              3.106\n",
      "Date:                Sun, 18 Sep 2022   Prob (F-statistic):                     0.00845\n",
      "Time:                        23:39:49   Log-Likelihood:                         -28410.\n",
      "No. Observations:                2640   AIC:                                  5.683e+04\n",
      "Df Residuals:                    2635   BIC:                                  5.686e+04\n",
      "Df Model:                           5                                                  \n",
      "Covariance Type:            nonrobust                                                  \n",
      "====================================================================================\n",
      "                       coef    std err          t      P>|t|      [0.025      0.975]\n",
      "------------------------------------------------------------------------------------\n",
      "bedroom           -202.7630    247.608     -0.819      0.413    -688.288     282.762\n",
      "parking            174.2598    306.966      0.568      0.570    -427.659     776.179\n",
      "median_income        0.6000      0.354      1.694      0.090      -0.094       1.294\n",
      "metrotrain_count  -181.2605    215.705     -0.840      0.401    -604.228     241.707\n",
      "recr_count         142.6425    144.049      0.990      0.322    -139.819     425.104\n",
      "==============================================================================\n",
      "Omnibus:                     8369.175   Durbin-Watson:                   2.004\n",
      "Prob(Omnibus):                  0.000   Jarque-Bera (JB):        689258688.847\n",
      "Skew:                          49.531   Prob(JB):                         0.00\n",
      "Kurtosis:                    2504.235   Cond. No.                     3.07e+03\n",
      "==============================================================================\n",
      "\n",
      "Notes:\n",
      "[1] R² is computed without centering (uncentered) since the model does not contain a constant.\n",
      "[2] Standard Errors assume that the covariance matrix of the errors is correctly specified.\n",
      "[3] The condition number is large, 3.07e+03. This might indicate that there are\n",
      "strong multicollinearity or other numerical problems.\n"
     ]
    }
   ],
   "source": [
    "x_col.remove(\"regbus_count\")\n",
    "print(sm.OLS(y, rent_df[x_col]).fit().summary())"
   ]
  },
  {
   "cell_type": "code",
   "execution_count": 39,
   "metadata": {
    "vscode": {
     "languageId": "python"
    }
   },
   "outputs": [
    {
     "name": "stdout",
     "output_type": "stream",
     "text": [
      "                                 OLS Regression Results                                \n",
      "=======================================================================================\n",
      "Dep. Variable:                   rent   R-squared (uncentered):                   0.006\n",
      "Model:                            OLS   Adj. R-squared (uncentered):              0.004\n",
      "Method:                 Least Squares   F-statistic:                              3.803\n",
      "Date:                Sun, 18 Sep 2022   Prob (F-statistic):                     0.00436\n",
      "Time:                        23:40:00   Log-Likelihood:                         -28411.\n",
      "No. Observations:                2640   AIC:                                  5.683e+04\n",
      "Df Residuals:                    2636   BIC:                                  5.685e+04\n",
      "Df Model:                           4                                                  \n",
      "Covariance Type:            nonrobust                                                  \n",
      "====================================================================================\n",
      "                       coef    std err          t      P>|t|      [0.025      0.975]\n",
      "------------------------------------------------------------------------------------\n",
      "bedroom           -128.3494    210.037     -0.611      0.541    -540.204     283.505\n",
      "median_income        0.6359      0.348      1.825      0.068      -0.047       1.319\n",
      "metrotrain_count  -183.1337    215.652     -0.849      0.396    -605.997     239.730\n",
      "recr_count         148.7801    143.625      1.036      0.300    -132.848     430.408\n",
      "==============================================================================\n",
      "Omnibus:                     8367.897   Durbin-Watson:                   2.004\n",
      "Prob(Omnibus):                  0.000   Jarque-Bera (JB):        688325440.586\n",
      "Skew:                          49.509   Prob(JB):                         0.00\n",
      "Kurtosis:                    2502.540   Cond. No.                     2.10e+03\n",
      "==============================================================================\n",
      "\n",
      "Notes:\n",
      "[1] R² is computed without centering (uncentered) since the model does not contain a constant.\n",
      "[2] Standard Errors assume that the covariance matrix of the errors is correctly specified.\n",
      "[3] The condition number is large, 2.1e+03. This might indicate that there are\n",
      "strong multicollinearity or other numerical problems.\n"
     ]
    }
   ],
   "source": [
    "x_col.remove(\"parking\")\n",
    "print(sm.OLS(y, rent_df[x_col]).fit().summary())"
   ]
  },
  {
   "cell_type": "code",
   "execution_count": 40,
   "metadata": {
    "vscode": {
     "languageId": "python"
    }
   },
   "outputs": [
    {
     "name": "stdout",
     "output_type": "stream",
     "text": [
      "                                 OLS Regression Results                                \n",
      "=======================================================================================\n",
      "Dep. Variable:                   rent   R-squared (uncentered):                   0.006\n",
      "Model:                            OLS   Adj. R-squared (uncentered):              0.004\n",
      "Method:                 Least Squares   F-statistic:                              4.947\n",
      "Date:                Sun, 18 Sep 2022   Prob (F-statistic):                     0.00199\n",
      "Time:                        23:40:11   Log-Likelihood:                         -28411.\n",
      "No. Observations:                2640   AIC:                                  5.683e+04\n",
      "Df Residuals:                    2637   BIC:                                  5.685e+04\n",
      "Df Model:                           3                                                  \n",
      "Covariance Type:            nonrobust                                                  \n",
      "====================================================================================\n",
      "                       coef    std err          t      P>|t|      [0.025      0.975]\n",
      "------------------------------------------------------------------------------------\n",
      "median_income        0.4456      0.156      2.857      0.004       0.140       0.751\n",
      "metrotrain_count  -149.2895    208.394     -0.716      0.474    -557.921     259.342\n",
      "recr_count         144.6337    143.447      1.008      0.313    -136.647     425.914\n",
      "==============================================================================\n",
      "Omnibus:                     8369.772   Durbin-Watson:                   2.003\n",
      "Prob(Omnibus):                  0.000   Jarque-Bera (JB):        689486275.706\n",
      "Skew:                          49.541   Prob(JB):                         0.00\n",
      "Kurtosis:                    2504.647   Cond. No.                     1.84e+03\n",
      "==============================================================================\n",
      "\n",
      "Notes:\n",
      "[1] R² is computed without centering (uncentered) since the model does not contain a constant.\n",
      "[2] Standard Errors assume that the covariance matrix of the errors is correctly specified.\n",
      "[3] The condition number is large, 1.84e+03. This might indicate that there are\n",
      "strong multicollinearity or other numerical problems.\n"
     ]
    }
   ],
   "source": [
    "x_col.remove(\"bedroom\")\n",
    "print(sm.OLS(y, rent_df[x_col]).fit().summary())"
   ]
  },
  {
   "cell_type": "code",
   "execution_count": 41,
   "metadata": {
    "vscode": {
     "languageId": "python"
    }
   },
   "outputs": [
    {
     "name": "stdout",
     "output_type": "stream",
     "text": [
      "                                 OLS Regression Results                                \n",
      "=======================================================================================\n",
      "Dep. Variable:                   rent   R-squared (uncentered):                   0.005\n",
      "Model:                            OLS   Adj. R-squared (uncentered):              0.005\n",
      "Method:                 Least Squares   F-statistic:                              7.165\n",
      "Date:                Sun, 18 Sep 2022   Prob (F-statistic):                    0.000788\n",
      "Time:                        23:40:25   Log-Likelihood:                         -28411.\n",
      "No. Observations:                2640   AIC:                                  5.683e+04\n",
      "Df Residuals:                    2638   BIC:                                  5.684e+04\n",
      "Df Model:                           2                                                  \n",
      "Covariance Type:            nonrobust                                                  \n",
      "=================================================================================\n",
      "                    coef    std err          t      P>|t|      [0.025      0.975]\n",
      "---------------------------------------------------------------------------------\n",
      "median_income     0.3737      0.119      3.131      0.002       0.140       0.608\n",
      "recr_count      152.8124    142.979      1.069      0.285    -127.550     433.175\n",
      "==============================================================================\n",
      "Omnibus:                     8370.818   Durbin-Watson:                   2.003\n",
      "Prob(Omnibus):                  0.000   Jarque-Bera (JB):        690163185.718\n",
      "Skew:                          49.558   Prob(JB):                         0.00\n",
      "Kurtosis:                    2505.876   Cond. No.                     1.26e+03\n",
      "==============================================================================\n",
      "\n",
      "Notes:\n",
      "[1] R² is computed without centering (uncentered) since the model does not contain a constant.\n",
      "[2] Standard Errors assume that the covariance matrix of the errors is correctly specified.\n",
      "[3] The condition number is large, 1.26e+03. This might indicate that there are\n",
      "strong multicollinearity or other numerical problems.\n"
     ]
    }
   ],
   "source": [
    "x_col.remove(\"metrotrain_count\")\n",
    "print(sm.OLS(y, rent_df[x_col]).fit().summary())"
   ]
  },
  {
   "cell_type": "code",
   "execution_count": 42,
   "metadata": {
    "vscode": {
     "languageId": "python"
    }
   },
   "outputs": [
    {
     "name": "stdout",
     "output_type": "stream",
     "text": [
      "                                 OLS Regression Results                                \n",
      "=======================================================================================\n",
      "Dep. Variable:                   rent   R-squared (uncentered):                   0.005\n",
      "Model:                            OLS   Adj. R-squared (uncentered):              0.005\n",
      "Method:                 Least Squares   F-statistic:                              13.19\n",
      "Date:                Sun, 18 Sep 2022   Prob (F-statistic):                    0.000287\n",
      "Time:                        23:40:41   Log-Likelihood:                         -28412.\n",
      "No. Observations:                2640   AIC:                                  5.683e+04\n",
      "Df Residuals:                    2639   BIC:                                  5.683e+04\n",
      "Df Model:                           1                                                  \n",
      "Covariance Type:            nonrobust                                                  \n",
      "=================================================================================\n",
      "                    coef    std err          t      P>|t|      [0.025      0.975]\n",
      "---------------------------------------------------------------------------------\n",
      "median_income     0.4127      0.114      3.631      0.000       0.190       0.636\n",
      "==============================================================================\n",
      "Omnibus:                     8372.218   Durbin-Watson:                   2.002\n",
      "Prob(Omnibus):                  0.000   Jarque-Bera (JB):        691023393.342\n",
      "Skew:                          49.581   Prob(JB):                         0.00\n",
      "Kurtosis:                    2507.436   Cond. No.                         1.00\n",
      "==============================================================================\n",
      "\n",
      "Notes:\n",
      "[1] R² is computed without centering (uncentered) since the model does not contain a constant.\n",
      "[2] Standard Errors assume that the covariance matrix of the errors is correctly specified.\n"
     ]
    }
   ],
   "source": [
    "x_col.remove(\"recr_count\")\n",
    "print(sm.OLS(y, rent_df[x_col]).fit().summary())"
   ]
  }
 ],
 "metadata": {
  "kernelspec": {
   "display_name": "Python 3",
   "language": "python",
   "name": "python3"
  },
  "language_info": {
   "codemirror_mode": {
    "name": "ipython",
    "version": 3
   },
   "file_extension": ".py",
   "mimetype": "text/x-python",
   "name": "python",
   "nbconvert_exporter": "python",
   "pygments_lexer": "ipython3",
   "version": "3.8.3"
  }
 },
 "nbformat": 4,
 "nbformat_minor": 4
}
