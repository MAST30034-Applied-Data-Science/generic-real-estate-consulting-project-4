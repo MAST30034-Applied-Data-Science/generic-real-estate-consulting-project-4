{
 "cells": [
  {
   "cell_type": "markdown",
   "metadata": {},
   "source": [
    "final outputs:\n",
    "\n",
    "Digital boundary:\n",
    "- ../data/raw/ABS/digitalBoundary/SA2_2021_AUST_GDA2020.shp\n",
    "\n",
    "SA2 code to district names\n",
    "- ../data/raw/ABS/SA2_TO_Name.csv\n",
    "- code(int), name(String)\n",
    "\n",
    "\n",
    "Estimated Resident Population (ERP) (2001 to 2021) (By SA2)\n",
    "- ../data/raw/ABS/ERP/ERP.csv\n",
    "- SA2 (int), year (int), population (int)\n",
    "\n",
    "Household income (weekly) (exclude visitor/non-classifiable) (2021) (By SA2)\n",
    "- ../data/raw/ABS/Household_income/Household_income.csv\n",
    "- SA2 (int), year (int),  household_type (String), income_level (String), popultaion (int)\n",
    "\n",
    "Population projection (2017 - 2066) (VIC overall)\n",
    "- ../data/raw/ABS/Population/Population.csv\n",
    "- year (int), popultaion (int)\n",
    "\n",
    "School location\n",
    "- ../data/raw/ABS/School_location/School_location.csv\n",
    "- School Name (String), SA2 (int), Latitude (float), Longitude (float), School Type (String)\n",
    "\n"
   ]
  },
  {
   "cell_type": "code",
   "execution_count": null,
   "metadata": {},
   "outputs": [],
   "source": []
  },
  {
   "cell_type": "code",
   "execution_count": 9,
   "metadata": {},
   "outputs": [],
   "source": [
    "from urllib.request import urlretrieve\n",
    "import sys\n",
    "import pandas as pd\n",
    "import geopandas as gpd \n",
    "import folium\n",
    "import requests\n",
    "import math\n",
    "import zipfile\n",
    "import os\n",
    "from pyspark.sql import SparkSession\n",
    "from pyspark.sql import functions as F\n",
    "\n",
    "\n",
    "spark = (\n",
    "    SparkSession.builder.appName(\"Assignment_2\")\n",
    "    .config(\"spark.sql.repl.eagerEval.enabled\", True)\n",
    "    .config(\"spark.sql.parquet.cacheMetadata\", \"true\")\n",
    "    .config(\"spark.sql.session.timeZone\", \"Etc/UTC\")\n",
    "    .getOrCreate()\n",
    ")\n",
    "pd.options.display.float_format = '{:,.4f}'.format\n",
    "\n",
    "OUTPUT_DIR = \"../data/raw/ABS/\"\n",
    "\n",
    "headers = {\n",
    "    \"accept\": \"text/csv\"\n",
    "}"
   ]
  },
  {
   "cell_type": "code",
   "execution_count": 3,
   "metadata": {},
   "outputs": [],
   "source": [
    "def pull_direct(url, output_dir, file_name):\n",
    "    if not os.path.exists(output_dir):\n",
    "        os.makedirs(output_dir)\n",
    "\n",
    "    try:\n",
    "        urlretrieve(url, f\"{output_dir}{file_name}\")\n",
    "        print(f\"Request succeed: pulling from{url}\\nFile saved in: {output_dir}{file_name}\")\n",
    "    except Exception as e:\n",
    "        print(f\"********\\nRequest failure: \")\n",
    "        print(e)\n",
    "        print(\"********\")\n",
    "\n",
    "def write_file(output_dir, file_name, content, mod = \"w\"):\n",
    "    if not os.path.exists(output_dir):\n",
    "        os.makedirs(output_dir)\n",
    "\n",
    "    try:\n",
    "        with open(f\"{output_dir}{file_name}\", mod) as f:\n",
    "            f.write(content)\n",
    "    except Exception as e:\n",
    "        print(f\"****** Writing file failure: {output_dir}{file_name}\")\n",
    "        print(e)\n",
    "        print(\"******\")\n",
    "        return False\n",
    "    return True\n",
    "\n",
    "def get_match_list(url, output_dir, file_name, xpath = \".//structure:Code\",\n",
    "    name_space = {\"structure\": \"http://www.sdmx.org/resources/sdmxml/schemas/v2_1/structure\"}):\n",
    "    \n",
    "    # pull_direct(url, output_dir, f\"{file_name}.xml\")\n",
    "    response = requests.get(url, allow_redirects=True)\n",
    "    if not os.path.exists(output_dir):\n",
    "        os.makedirs(output_dir)\n",
    "    with open(f\"{output_dir}{file_name}.xml\", \"w\") as f:\n",
    "        f.write(response.text)\n",
    "\n",
    "    print(f\"{output_dir}{file_name}.xml\")\n",
    "\n",
    "    df = pd.read_xml(f\"{output_dir}{file_name}.xml\", \n",
    "        xpath=xpath,\n",
    "        namespaces=name_space\n",
    "    )\n",
    "    print(True)\n",
    "\n",
    "    df.to_csv(f\"{output_dir}{file_name}.csv\")\n",
    "\n",
    "\n"
   ]
  },
  {
   "cell_type": "markdown",
   "metadata": {},
   "source": [
    "SA2 match tabel"
   ]
  },
  {
   "cell_type": "code",
   "execution_count": 53,
   "metadata": {},
   "outputs": [
    {
     "name": "stdout",
     "output_type": "stream",
     "text": [
      "Request succeed: pulling fromhttps://www.abs.gov.au/statistics/standards/australian-statistical-geography-standard-asgs-edition-3/jul2021-jun2026/access-and-downloads/allocation-files/SA2_2021_AUST.xlsx\n",
      "File saved in: ../data/raw/ABS/SA2_TO_Name.xlsx\n"
     ]
    }
   ],
   "source": [
    "### Pull SA2 match table\n",
    "url = f\"https://www.abs.gov.au/statistics/standards/australian-statistical-geography-standard-asgs-edition-3/jul2021-jun2026/access-and-downloads/allocation-files/SA2_2021_AUST.xlsx\"\n",
    "file_name = \"SA2_TO_Name.xlsx\"\n",
    "pull_direct(url, OUTPUT_DIR, file_name)\n",
    "\n",
    "vic_df = pd.read_excel(f\"{OUTPUT_DIR}{file_name}\")\n",
    "vic_df = vic_df.loc[vic_df[\"STATE_NAME_2021\"] == \"Victoria\"]\n",
    "vic_df = vic_df[[\"SA2_CODE_2021\", \"SA2_NAME_2021\"]]\\\n",
    "        .rename(columns={\"SA2_CODE_2021\": \"code\", \"SA2_NAME_2021\": \"name\"})\n",
    "vic_df.to_csv(f\"{OUTPUT_DIR}SA2_TO_Name.csv\")"
   ]
  },
  {
   "cell_type": "markdown",
   "metadata": {},
   "source": [
    "SA2 shape file"
   ]
  },
  {
   "cell_type": "code",
   "execution_count": 4,
   "metadata": {},
   "outputs": [
    {
     "name": "stdout",
     "output_type": "stream",
     "text": [
      "Request succeed: pulling fromhttps://www.abs.gov.au/statistics/standards/australian-statistical-geography-standard-asgs-edition-3/jul2021-jun2026/access-and-downloads/digital-boundary-files/SA2_2021_AUST_SHP_GDA2020.zip\n",
      "File saved in: ../data/raw/ABS/SA2_2021_AUST_SHP_GDA2020.zip\n"
     ]
    }
   ],
   "source": [
    "url = f\"https://www.abs.gov.au/statistics/standards/australian-statistical-geography-standard-asgs-edition-3/jul2021-jun2026/access-and-downloads/digital-boundary-files/SA2_2021_AUST_SHP_GDA2020.zip\"\n",
    "file_name = \"SA2_2021_AUST_SHP_GDA2020.zip\"\n",
    "pull_direct(url, OUTPUT_DIR, file_name)\n",
    "\n",
    "with zipfile.ZipFile(f\"{OUTPUT_DIR}{file_name}\", \"r\") as zip_ref:\n",
    "    zip_ref.extractall(f\"{OUTPUT_DIR}digitalBoundary/\")"
   ]
  },
  {
   "cell_type": "code",
   "execution_count": 5,
   "metadata": {},
   "outputs": [],
   "source": [
    "with zipfile.ZipFile(f\"{OUTPUT_DIR}{file_name}\", \"r\") as zip_ref:\n",
    "    zip_ref.extractall(f\"{OUTPUT_DIR}digitalBoundary/\")"
   ]
  },
  {
   "cell_type": "markdown",
   "metadata": {},
   "source": [
    "ABS Data"
   ]
  },
  {
   "cell_type": "markdown",
   "metadata": {},
   "source": [
    "List of all Victoria SA2 codes"
   ]
  },
  {
   "cell_type": "markdown",
   "metadata": {},
   "source": [
    "Estimated Resident Population (ERP) (2001 to 2021)"
   ]
  },
  {
   "cell_type": "code",
   "execution_count": 23,
   "metadata": {},
   "outputs": [
    {
     "name": "stdout",
     "output_type": "stream",
     "text": [
      "../data/raw/ABS/ERP/ERP_match.xml\n",
      "True\n"
     ]
    }
   ],
   "source": [
    "url = \"https://api.data.abs.gov.au/data/ABS,ABS_ANNUAL_ERP_ASGS2021,1.2.0/.SA2..A?startPeriod=2010&endPeriod=2021&dimensionAtObservation=AllDimensions\"\n",
    "\n",
    "response = requests.get(url, headers=headers)\n",
    "# response = requests.get(url)\n",
    "write_file(f\"{OUTPUT_DIR}ERP/\", \"ERP_raw.csv\", response.text)\n",
    "\n",
    "match_url = \"https://api.data.abs.gov.au/datastructure/ABS/ABS_ANNUAL_ERP_ASGS2021/1.2.0?references=all\"\n",
    "match_output_dir = f\"{OUTPUT_DIR}ERP/\"\n",
    "match_file_name = \"ERP_match\"\n",
    "get_match_list(match_url, match_output_dir, match_file_name)"
   ]
  },
  {
   "cell_type": "code",
   "execution_count": 54,
   "metadata": {},
   "outputs": [
    {
     "name": "stdout",
     "output_type": "stream",
     "text": [
      "-RECORD 0---------------\n",
      " SA2        | 201011481 \n",
      " year       | 2010      \n",
      " population | 8664      \n",
      "-RECORD 1---------------\n",
      " SA2        | 201011481 \n",
      " year       | 2011      \n",
      " population | 8814      \n",
      "only showing top 2 rows\n",
      "\n"
     ]
    }
   ],
   "source": [
    "# feature selection / rename / reset datatype\n",
    "erp_sdf = spark.read.csv(f\"{OUTPUT_DIR}ERP/ERP_raw.csv\", header=True)[[\"ASGS_2021\", \"TIME_PERIOD\", \"OBS_VALUE\"]]\n",
    "erp_sdf = erp_sdf.withColumnRenamed(\"ASGS_2021\", \"SA2\").withColumn(\"SA2\", F.col(\"SA2\").cast(\"int\"))\\\n",
    "        .withColumnRenamed(\"TIME_PERIOD\", \"year\").withColumn(\"year\", F.col(\"year\").cast(\"int\"))\\\n",
    "        .withColumnRenamed(\"OBS_VALUE\", \"population\").withColumn(\"population\", F.col(\"population\").cast(\"int\"))\n",
    "\n",
    "# Filter: victoria SA2\n",
    "vic_df = pd.read_csv(f\"{OUTPUT_DIR}SA2_TO_Name.csv\")\n",
    "vic_sa2 = vic_df[\"code\"].tolist()\n",
    "erp_sdf = erp_sdf.filter(F.col(\"SA2\").isin(vic_sa2))\n",
    "\n",
    "erp_sdf.show(2, vertical = True, truncate=100)\n",
    "erp_sdf.write.mode('overwrite').csv(f\"{OUTPUT_DIR}ERP/ERP.csv\")"
   ]
  },
  {
   "cell_type": "markdown",
   "metadata": {},
   "source": [
    "Household income (weekly) (exclude visitor/non-classifiable) (2021)"
   ]
  },
  {
   "cell_type": "code",
   "execution_count": 24,
   "metadata": {},
   "outputs": [
    {
     "name": "stdout",
     "output_type": "stream",
     "text": [
      "../data/raw/ABS/Household_income/Household_income_match.xml\n",
      "True\n"
     ]
    }
   ],
   "source": [
    "url = \"https://api.data.abs.gov.au/data/ABS,C21_G33_SA2,1.0.0/...SA2.?startPeriod=2021&dimensionAtObservation=AllDimensions\"\n",
    "\n",
    "\n",
    "response = requests.get(url, headers=headers)\n",
    "write_file(f\"{OUTPUT_DIR}Household_income/\", \"Household_income_raw.csv\", response.text)\n",
    "\n",
    "\n",
    "match_url = \"https://api.data.abs.gov.au/datastructure/ABS/C21_G33_SA2/1.0.0?references=all\"\n",
    "match_output_dir = f\"{OUTPUT_DIR}Household_income/\"\n",
    "match_file_name = \"Household_income_match\"\n",
    "get_match_list(match_url, match_output_dir, match_file_name)\n"
   ]
  },
  {
   "cell_type": "code",
   "execution_count": 46,
   "metadata": {},
   "outputs": [
    {
     "name": "stdout",
     "output_type": "stream",
     "text": [
      "-RECORD 0---------------------------\n",
      " SA2            | 201011002         \n",
      " year           | 2021              \n",
      " household_type | Family households \n",
      " income_level   | Total             \n",
      " popultaion     | 3032              \n",
      "only showing top 1 row\n",
      "\n"
     ]
    }
   ],
   "source": [
    "# feature selection / rename / reset datatype\n",
    "income_sdf = spark.read.csv(f\"{OUTPUT_DIR}Household_income/Household_income_raw.csv\", header=True)[[\"REGION\", \"HIND\", \"HHCD\", \"OBS_VALUE\", \"STATE\", \"TIME_PERIOD\"]]\n",
    "income_sdf = income_sdf.withColumnRenamed(\"REGION\", \"SA2\").withColumn(\"SA2\", F.col(\"SA2\").cast(\"int\"))\\\n",
    "        .withColumnRenamed(\"TIME_PERIOD\", \"year\").withColumn(\"year\", F.col(\"year\").cast(\"int\"))\\\n",
    "        .withColumnRenamed(\"OBS_VALUE\", \"popultaion\").withColumn(\"popultaion\", F.col(\"popultaion\").cast(\"int\"))\\\n",
    "        .withColumnRenamed(\"STATE\", \"state\").withColumn(\"state\", F.col(\"state\").cast(\"int\"))\\\n",
    "        .withColumnRenamed(\"HIND\", \"income_level\").withColumnRenamed(\"HHCD\", \"household_type\")\n",
    "match_sdf = spark.read.csv(f\"{OUTPUT_DIR}Household_income/Household_income_match.csv\", header=True)[[\"id\", \"Name\"]]\\\n",
    "    .withColumnRenamed(\"id\", \"code\")\n",
    "\n",
    "# Filter: victoria\n",
    "income_sdf = income_sdf.filter(F.col(\"state\")==2)\n",
    "income_sdf = income_sdf[[\"SA2\", \"year\", \"household_type\", \"income_level\", \"popultaion\"]]\n",
    "\n",
    "\n",
    "# inner join\n",
    "match_sdf.createOrReplaceTempView(\"match\")\n",
    "income_sdf.createOrReplaceTempView(\"income_sdf\")\n",
    "matched_sdf = spark.sql(\"\"\"\n",
    "    SELECT SA2, year, Name AS household_type, income_level, popultaion\n",
    "    FROM(\n",
    "        SELECT SA2, year, household_type, Name AS income_level, popultaion\n",
    "        FROM income_sdf\n",
    "        INNER JOIN match ON income_sdf.income_level = match.code) AS half\n",
    "    INNER JOIN match ON half.household_type = match.code\n",
    "\"\"\")\n",
    "\n",
    "\n",
    "matched_sdf.show(1, vertical = True, truncate=100)\n",
    "matched_sdf.write.mode('overwrite').csv(f\"{OUTPUT_DIR}Household_income/Household_income.csv\")"
   ]
  },
  {
   "cell_type": "markdown",
   "metadata": {},
   "source": [
    "Population projection (2017 - 2066)"
   ]
  },
  {
   "cell_type": "code",
   "execution_count": 4,
   "metadata": {},
   "outputs": [
    {
     "name": "stdout",
     "output_type": "stream",
     "text": [
      "../data/raw/ABS/Population/Population_match.xml\n",
      "True\n"
     ]
    }
   ],
   "source": [
    "url = \"https://api.data.abs.gov.au/data/ABS,POP_PROJ_REGION_2012_2061,1.0.0/2.3.TT.1.1.1.1.A?startPeriod=2017&dimensionAtObservation=AllDimensions\"\n",
    "\n",
    "response = requests.get(url, headers=headers)\n",
    "write_file(f\"{OUTPUT_DIR}Population/\", \"Population_raw.csv\", response.text)\n",
    "\n",
    "match_url = \"https://api.data.abs.gov.au/datastructure/ABS/POP_PROJ_REGION_2012_2061/1.0.0?references=all\"\n",
    "match_output_dir = f\"{OUTPUT_DIR}Population/\"\n",
    "match_file_name = \"Population_match\"\n",
    "get_match_list(match_url, match_output_dir, match_file_name)"
   ]
  },
  {
   "cell_type": "code",
   "execution_count": 45,
   "metadata": {},
   "outputs": [
    {
     "name": "stdout",
     "output_type": "stream",
     "text": [
      "-RECORD 0-------------\n",
      " year       | 2017    \n",
      " popultaion | 6321648 \n",
      "only showing top 1 row\n",
      "\n"
     ]
    }
   ],
   "source": [
    "\n",
    "# feature selection / rename / reset datatype\n",
    "population_sdf = spark.read.csv(f\"{OUTPUT_DIR}Population/Population_raw.csv\", header=True)[[\"TIME_PERIOD\", \"OBS_VALUE\"]]\n",
    "population_sdf = population_sdf.withColumnRenamed(\"TIME_PERIOD\", \"year\").withColumn(\"year\", F.col(\"year\").cast(\"int\"))\\\n",
    "        .withColumnRenamed(\"OBS_VALUE\", \"popultaion\").withColumn(\"popultaion\", F.col(\"popultaion\").cast(\"int\"))\n",
    "\n",
    "population_sdf.show(1, vertical = True, truncate=100)\n",
    "population_sdf.write.mode('overwrite').csv(f\"{OUTPUT_DIR}Population/Population.csv\")"
   ]
  },
  {
   "cell_type": "markdown",
   "metadata": {},
   "source": [
    "School location"
   ]
  },
  {
   "cell_type": "code",
   "execution_count": 35,
   "metadata": {},
   "outputs": [
    {
     "data": {
      "text/plain": [
       "True"
      ]
     },
     "execution_count": 35,
     "metadata": {},
     "output_type": "execute_result"
    }
   ],
   "source": [
    "url = \"https://www.acara.edu.au/docs/default-source/default-document-library/school-location-2021e23a2f404c94637ead88ff00003e0139.xlsx?sfvrsn=51ae4c07_0\"\n",
    "\n",
    "\n",
    "response = requests.get(url)\n",
    "\n",
    "write_file(f\"{OUTPUT_DIR}School_location/\", \"School_location_raw.xlsx\", response.content, \"wb\")\n",
    "# pull_direct(url, OUTPUT_DIR, f\"School_location.xlsx\")"
   ]
  },
  {
   "cell_type": "code",
   "execution_count": 44,
   "metadata": {},
   "outputs": [
    {
     "name": "stdout",
     "output_type": "stream",
     "text": [
      "                             School Name        SA2  Latitude  Longitude  \\\n",
      "241   Kurnai College - University Campus  205041094  -38.3094   146.4249   \n",
      "295         Learning Co-Operative School  209031212  -37.6294   145.2133   \n",
      "297                        Andale School  207011153  -37.8055   145.0360   \n",
      "298                 The Currajong School  208041195  -37.8760   145.0599   \n",
      "299  Mansfield Autism Statewide Services  204011057  -37.0608   146.0859   \n",
      "\n",
      "    School Type  \n",
      "241   Secondary  \n",
      "295     Primary  \n",
      "297    Combined  \n",
      "298    Combined  \n",
      "299    Combined  \n",
      "(2729, 5)\n"
     ]
    }
   ],
   "source": [
    "# feature selection / VIC filtering\n",
    "school_df = pd.read_excel(f\"{OUTPUT_DIR}School_location/School_location_raw.xlsx\", sheet_name=\"SchoolLocations 2021\")\\\n",
    "    [[\"School Name\", \"Statistical Area 2\", \"State\", \"Latitude\", \"Longitude\", \"School Type\"]]\n",
    "school_df = school_df.loc[school_df[\"State\"] == \"VIC\"]\n",
    "school_df = school_df.rename(columns={\"Statistical Area 2\": \"SA2\"})\n",
    "school_df = school_df.drop(columns = \"State\")\n",
    "\n",
    "print(school_df.head())\n",
    "print(school_df.shape)\n",
    "\n",
    "school_df.to_csv(f\"{OUTPUT_DIR}School_location/School_location.csv\")"
   ]
  },
  {
   "cell_type": "markdown",
   "metadata": {},
   "source": [
    "Geopandas"
   ]
  },
  {
   "cell_type": "code",
   "execution_count": null,
   "metadata": {},
   "outputs": [],
   "source": [
    "shape_gdf = gpd.read_file(\"../data/raw/ABS/digitalBoundary/SA2_2021_AUST_GDA2020.shp\")\n",
    "shape_gdf = shape_gdf.loc[shape_gdf[\"STE_NAME21\"] == \"Victoria\"]\n",
    "shape_gdf[\"geometry\"] = shape_gdf[\"geometry\"].to_crs(\"+proj=longlat +ellps=WGS84 +datum=WGS84 +no_defs\")\n",
    "\n",
    "geoJSON = shape_gdf[[\"SA2_CODE21\", \"geometry\"]].drop_duplicates('SA2_CODE21').to_json()\n",
    "base_map = folium.Map(location=[-37.79, 144.96], tiles=\"Stamen Terrain\", zoom_start=7.3)\n",
    "\n",
    "base_map.add_child(folium.Choropleth(geo_data=geoJSON, name=\"choropleth\"))\n",
    "base_map\n"
   ]
  },
  {
   "cell_type": "code",
   "execution_count": 8,
   "metadata": {},
   "outputs": [
    {
     "data": {
      "text/html": [
       "<div>\n",
       "<style scoped>\n",
       "    .dataframe tbody tr th:only-of-type {\n",
       "        vertical-align: middle;\n",
       "    }\n",
       "\n",
       "    .dataframe tbody tr th {\n",
       "        vertical-align: top;\n",
       "    }\n",
       "\n",
       "    .dataframe thead th {\n",
       "        text-align: right;\n",
       "    }\n",
       "</style>\n",
       "<table border=\"1\" class=\"dataframe\">\n",
       "  <thead>\n",
       "    <tr style=\"text-align: right;\">\n",
       "      <th></th>\n",
       "      <th>SA2_CODE21</th>\n",
       "      <th>SA2_NAME21</th>\n",
       "      <th>CHG_FLAG21</th>\n",
       "      <th>CHG_LBL21</th>\n",
       "      <th>SA3_CODE21</th>\n",
       "      <th>SA3_NAME21</th>\n",
       "      <th>SA4_CODE21</th>\n",
       "      <th>SA4_NAME21</th>\n",
       "      <th>GCC_CODE21</th>\n",
       "      <th>GCC_NAME21</th>\n",
       "      <th>STE_CODE21</th>\n",
       "      <th>STE_NAME21</th>\n",
       "      <th>AUS_CODE21</th>\n",
       "      <th>AUS_NAME21</th>\n",
       "      <th>AREASQKM21</th>\n",
       "      <th>LOCI_URI21</th>\n",
       "      <th>geometry</th>\n",
       "    </tr>\n",
       "  </thead>\n",
       "  <tbody>\n",
       "    <tr>\n",
       "      <th>644</th>\n",
       "      <td>201011001</td>\n",
       "      <td>Alfredton</td>\n",
       "      <td>0</td>\n",
       "      <td>No change</td>\n",
       "      <td>20101</td>\n",
       "      <td>Ballarat</td>\n",
       "      <td>201</td>\n",
       "      <td>Ballarat</td>\n",
       "      <td>2RVIC</td>\n",
       "      <td>Rest of Vic.</td>\n",
       "      <td>2</td>\n",
       "      <td>Victoria</td>\n",
       "      <td>AUS</td>\n",
       "      <td>Australia</td>\n",
       "      <td>52.7109</td>\n",
       "      <td>http://linked.data.gov.au/dataset/asgsed3/SA2/...</td>\n",
       "      <td>POLYGON ((143.78282 -37.56666, 143.75558 -37.5...</td>\n",
       "    </tr>\n",
       "    <tr>\n",
       "      <th>645</th>\n",
       "      <td>201011002</td>\n",
       "      <td>Ballarat</td>\n",
       "      <td>0</td>\n",
       "      <td>No change</td>\n",
       "      <td>20101</td>\n",
       "      <td>Ballarat</td>\n",
       "      <td>201</td>\n",
       "      <td>Ballarat</td>\n",
       "      <td>2RVIC</td>\n",
       "      <td>Rest of Vic.</td>\n",
       "      <td>2</td>\n",
       "      <td>Victoria</td>\n",
       "      <td>AUS</td>\n",
       "      <td>Australia</td>\n",
       "      <td>12.3787</td>\n",
       "      <td>http://linked.data.gov.au/dataset/asgsed3/SA2/...</td>\n",
       "      <td>POLYGON ((143.81896 -37.55582, 143.81644 -37.5...</td>\n",
       "    </tr>\n",
       "    <tr>\n",
       "      <th>646</th>\n",
       "      <td>201011005</td>\n",
       "      <td>Buninyong</td>\n",
       "      <td>0</td>\n",
       "      <td>No change</td>\n",
       "      <td>20101</td>\n",
       "      <td>Ballarat</td>\n",
       "      <td>201</td>\n",
       "      <td>Ballarat</td>\n",
       "      <td>2RVIC</td>\n",
       "      <td>Rest of Vic.</td>\n",
       "      <td>2</td>\n",
       "      <td>Victoria</td>\n",
       "      <td>AUS</td>\n",
       "      <td>Australia</td>\n",
       "      <td>51.5855</td>\n",
       "      <td>http://linked.data.gov.au/dataset/asgsed3/SA2/...</td>\n",
       "      <td>POLYGON ((143.84171 -37.61596, 143.84176 -37.6...</td>\n",
       "    </tr>\n",
       "    <tr>\n",
       "      <th>647</th>\n",
       "      <td>201011006</td>\n",
       "      <td>Delacombe</td>\n",
       "      <td>0</td>\n",
       "      <td>No change</td>\n",
       "      <td>20101</td>\n",
       "      <td>Ballarat</td>\n",
       "      <td>201</td>\n",
       "      <td>Ballarat</td>\n",
       "      <td>2RVIC</td>\n",
       "      <td>Rest of Vic.</td>\n",
       "      <td>2</td>\n",
       "      <td>Victoria</td>\n",
       "      <td>AUS</td>\n",
       "      <td>Australia</td>\n",
       "      <td>34.1607</td>\n",
       "      <td>http://linked.data.gov.au/dataset/asgsed3/SA2/...</td>\n",
       "      <td>POLYGON ((143.75050 -37.59119, 143.75044 -37.5...</td>\n",
       "    </tr>\n",
       "    <tr>\n",
       "      <th>648</th>\n",
       "      <td>201011007</td>\n",
       "      <td>Smythes Creek</td>\n",
       "      <td>0</td>\n",
       "      <td>No change</td>\n",
       "      <td>20101</td>\n",
       "      <td>Ballarat</td>\n",
       "      <td>201</td>\n",
       "      <td>Ballarat</td>\n",
       "      <td>2RVIC</td>\n",
       "      <td>Rest of Vic.</td>\n",
       "      <td>2</td>\n",
       "      <td>Victoria</td>\n",
       "      <td>AUS</td>\n",
       "      <td>Australia</td>\n",
       "      <td>104.7274</td>\n",
       "      <td>http://linked.data.gov.au/dataset/asgsed3/SA2/...</td>\n",
       "      <td>POLYGON ((143.73296 -37.62333, 143.73263 -37.6...</td>\n",
       "    </tr>\n",
       "  </tbody>\n",
       "</table>\n",
       "</div>"
      ],
      "text/plain": [
       "    SA2_CODE21     SA2_NAME21 CHG_FLAG21  CHG_LBL21 SA3_CODE21 SA3_NAME21  \\\n",
       "644  201011001      Alfredton          0  No change      20101   Ballarat   \n",
       "645  201011002       Ballarat          0  No change      20101   Ballarat   \n",
       "646  201011005      Buninyong          0  No change      20101   Ballarat   \n",
       "647  201011006      Delacombe          0  No change      20101   Ballarat   \n",
       "648  201011007  Smythes Creek          0  No change      20101   Ballarat   \n",
       "\n",
       "    SA4_CODE21 SA4_NAME21 GCC_CODE21    GCC_NAME21 STE_CODE21 STE_NAME21  \\\n",
       "644        201   Ballarat      2RVIC  Rest of Vic.          2   Victoria   \n",
       "645        201   Ballarat      2RVIC  Rest of Vic.          2   Victoria   \n",
       "646        201   Ballarat      2RVIC  Rest of Vic.          2   Victoria   \n",
       "647        201   Ballarat      2RVIC  Rest of Vic.          2   Victoria   \n",
       "648        201   Ballarat      2RVIC  Rest of Vic.          2   Victoria   \n",
       "\n",
       "    AUS_CODE21 AUS_NAME21  AREASQKM21  \\\n",
       "644        AUS  Australia     52.7109   \n",
       "645        AUS  Australia     12.3787   \n",
       "646        AUS  Australia     51.5855   \n",
       "647        AUS  Australia     34.1607   \n",
       "648        AUS  Australia    104.7274   \n",
       "\n",
       "                                            LOCI_URI21  \\\n",
       "644  http://linked.data.gov.au/dataset/asgsed3/SA2/...   \n",
       "645  http://linked.data.gov.au/dataset/asgsed3/SA2/...   \n",
       "646  http://linked.data.gov.au/dataset/asgsed3/SA2/...   \n",
       "647  http://linked.data.gov.au/dataset/asgsed3/SA2/...   \n",
       "648  http://linked.data.gov.au/dataset/asgsed3/SA2/...   \n",
       "\n",
       "                                              geometry  \n",
       "644  POLYGON ((143.78282 -37.56666, 143.75558 -37.5...  \n",
       "645  POLYGON ((143.81896 -37.55582, 143.81644 -37.5...  \n",
       "646  POLYGON ((143.84171 -37.61596, 143.84176 -37.6...  \n",
       "647  POLYGON ((143.75050 -37.59119, 143.75044 -37.5...  \n",
       "648  POLYGON ((143.73296 -37.62333, 143.73263 -37.6...  "
      ]
     },
     "execution_count": 8,
     "metadata": {},
     "output_type": "execute_result"
    }
   ],
   "source": [
    "shape_gdf.head()"
   ]
  },
  {
   "cell_type": "code",
   "execution_count": null,
   "metadata": {},
   "outputs": [],
   "source": []
  }
 ],
 "metadata": {
  "kernelspec": {
   "display_name": "Python 3 (ipykernel)",
   "language": "python",
   "name": "python3"
  },
  "language_info": {
   "codemirror_mode": {
    "name": "ipython",
    "version": 3
   },
   "file_extension": ".py",
   "mimetype": "text/x-python",
   "name": "python",
   "nbconvert_exporter": "python",
   "pygments_lexer": "ipython3",
   "version": "3.8.10"
  },
  "orig_nbformat": 4
 },
 "nbformat": 4,
 "nbformat_minor": 2
}
