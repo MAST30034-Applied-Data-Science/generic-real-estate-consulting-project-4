{
 "cells": [
  {
   "cell_type": "markdown",
   "metadata": {},
   "source": []
  },
  {
   "cell_type": "code",
   "execution_count": 1,
   "metadata": {},
   "outputs": [
    {
     "name": "stdout",
     "output_type": "stream",
     "text": [
      "22/09/01 20:46:09 WARN Utils: Your hostname, Bruce-PC resolves to a loopback address: 127.0.1.1; using 172.21.207.231 instead (on interface eth0)\n",
      "22/09/01 20:46:09 WARN Utils: Set SPARK_LOCAL_IP if you need to bind to another address\n"
     ]
    },
    {
     "name": "stderr",
     "output_type": "stream",
     "text": [
      "Setting default log level to \"WARN\".\n",
      "To adjust logging level use sc.setLogLevel(newLevel). For SparkR, use setLogLevel(newLevel).\n"
     ]
    },
    {
     "name": "stdout",
     "output_type": "stream",
     "text": [
      "22/09/01 20:46:11 WARN NativeCodeLoader: Unable to load native-hadoop library for your platform... using builtin-java classes where applicable\n"
     ]
    }
   ],
   "source": [
    "from urllib.request import urlretrieve\n",
    "import sys\n",
    "import pandas as pd\n",
    "import requests\n",
    "import math\n",
    "import zipfile\n",
    "import os\n",
    "from pyspark.sql import SparkSession\n",
    "from pyspark.sql import functions as F\n",
    "\n",
    "\n",
    "spark = (\n",
    "    SparkSession.builder.appName(\"Assignment_2\")\n",
    "    .config(\"spark.sql.repl.eagerEval.enabled\", True)\n",
    "    .config(\"spark.sql.parquet.cacheMetadata\", \"true\")\n",
    "    .config(\"spark.sql.session.timeZone\", \"Etc/UTC\")\n",
    "    .getOrCreate()\n",
    ")\n",
    "pd.options.display.float_format = '{:,.4f}'.format\n",
    "\n",
    "OUTPUT_DIR = \"../data/raw/ABS/\""
   ]
  },
  {
   "cell_type": "code",
   "execution_count": 19,
   "metadata": {},
   "outputs": [],
   "source": [
    "def pull_direct(url, output_dir, file_name):\n",
    "    if not os.path.exists(output_dir):\n",
    "        os.makedirs(output_dir)\n",
    "\n",
    "    try:\n",
    "        urlretrieve(url, f\"{output_dir}{file_name}\")\n",
    "        print(f\"Request succeed: pulling from{url}\\nFile saved in: {output_dir}{file_name}\")\n",
    "    except Exception as e:\n",
    "        print(f\"********\\nRequest failure: \")\n",
    "        print(e)\n",
    "        print(\"********\")\n",
    "\n",
    "def write_file(output_dir, file_name, content, mod = \"w\"):\n",
    "    if not os.path.exists(output_dir):\n",
    "        os.makedirs(output_dir)\n",
    "\n",
    "    try:\n",
    "        with open(f\"{output_dir}{file_name}\", mod) as f:\n",
    "            f.write(content)\n",
    "    except Exception as e:\n",
    "        print(f\"****** Writing file failure: {output_dir}{file_name}\")\n",
    "        print(e)\n",
    "        print(\"******\")\n",
    "        return False\n",
    "    return True\n",
    "\n",
    "def get_match_list(url, output_dir, file_name, xpath = \".//structure:Code\",\n",
    "    name_space = {\"structure\": \"http://www.sdmx.org/resources/sdmxml/schemas/v2_1/structure\"}):\n",
    "    \n",
    "    # pull_direct(url, output_dir, f\"{file_name}.xml\")\n",
    "    response = requests.get(url, allow_redirects=True)\n",
    "    if not os.path.exists(output_dir):\n",
    "        os.makedirs(output_dir)\n",
    "    with open(f\"{output_dir}{file_name}.xml\", \"w\") as f:\n",
    "        f.write(response.text)\n",
    "\n",
    "    print(f\"{output_dir}{file_name}.xml\")\n",
    "\n",
    "    df = pd.read_xml(f\"{output_dir}{file_name}.xml\", \n",
    "        xpath=xpath,\n",
    "        namespaces=name_space\n",
    "    )\n",
    "    print(True)\n",
    "\n",
    "    df.to_csv(f\"{output_dir}{file_name}.csv\")\n",
    "\n",
    "\n"
   ]
  },
  {
   "cell_type": "markdown",
   "metadata": {},
   "source": [
    "SA2 match tabel"
   ]
  },
  {
   "cell_type": "code",
   "execution_count": 3,
   "metadata": {},
   "outputs": [
    {
     "name": "stdout",
     "output_type": "stream",
     "text": [
      "Request succeed: pulling fromhttps://www.abs.gov.au/statistics/standards/australian-statistical-geography-standard-asgs-edition-3/jul2021-jun2026/access-and-downloads/allocation-files/SA2_2021_AUST.xlsx\n",
      "File saved in: ../data/raw/ABS/SA2_2021_AUST.xlsx\n"
     ]
    }
   ],
   "source": [
    "### Pull SA2 match table\n",
    "url = f\"https://www.abs.gov.au/statistics/standards/australian-statistical-geography-standard-asgs-edition-3/jul2021-jun2026/access-and-downloads/allocation-files/SA2_2021_AUST.xlsx\"\n",
    "file_name = \"SA2_2021_AUST.xlsx\"\n",
    "pull_direct(url, OUTPUT_DIR, file_name)"
   ]
  },
  {
   "cell_type": "markdown",
   "metadata": {},
   "source": [
    "SA2 shape file"
   ]
  },
  {
   "cell_type": "code",
   "execution_count": 4,
   "metadata": {},
   "outputs": [
    {
     "name": "stdout",
     "output_type": "stream",
     "text": [
      "Request succeed: pulling fromhttps://www.abs.gov.au/statistics/standards/australian-statistical-geography-standard-asgs-edition-3/jul2021-jun2026/access-and-downloads/digital-boundary-files/SA2_2021_AUST_SHP_GDA2020.zip\n",
      "File saved in: ../data/raw/ABS/SA2_2021_AUST_SHP_GDA2020.zip\n"
     ]
    }
   ],
   "source": [
    "url = f\"https://www.abs.gov.au/statistics/standards/australian-statistical-geography-standard-asgs-edition-3/jul2021-jun2026/access-and-downloads/digital-boundary-files/SA2_2021_AUST_SHP_GDA2020.zip\"\n",
    "file_name = \"SA2_2021_AUST_SHP_GDA2020.zip\"\n",
    "pull_direct(url, OUTPUT_DIR, file_name)\n",
    "\n",
    "with zipfile.ZipFile(f\"{OUTPUT_DIR}{file_name}\", \"r\") as zip_ref:\n",
    "    zip_ref.extractall(f\"{OUTPUT_DIR}digitalBoundary/\")"
   ]
  },
  {
   "cell_type": "code",
   "execution_count": 5,
   "metadata": {},
   "outputs": [],
   "source": [
    "with zipfile.ZipFile(f\"{OUTPUT_DIR}{file_name}\", \"r\") as zip_ref:\n",
    "    zip_ref.extractall(f\"{OUTPUT_DIR}digitalBoundary/\")"
   ]
  },
  {
   "cell_type": "markdown",
   "metadata": {},
   "source": [
    "ABS Data"
   ]
  },
  {
   "cell_type": "code",
   "execution_count": 6,
   "metadata": {},
   "outputs": [],
   "source": [
    "headers = {\n",
    "    \"accept\": \"text/csv\"\n",
    "}"
   ]
  },
  {
   "cell_type": "markdown",
   "metadata": {},
   "source": [
    "Estimated Resident Population (ERP) (2001 to 2021)"
   ]
  },
  {
   "cell_type": "code",
   "execution_count": 23,
   "metadata": {},
   "outputs": [
    {
     "name": "stdout",
     "output_type": "stream",
     "text": [
      "../data/raw/ABS/ERP/ERP_match.xml\n",
      "True\n"
     ]
    }
   ],
   "source": [
    "url = \"https://api.data.abs.gov.au/data/ABS,ABS_ANNUAL_ERP_ASGS2021,1.2.0/.SA2..A?startPeriod=2010&endPeriod=2021&dimensionAtObservation=AllDimensions\"\n",
    "\n",
    "response = requests.get(url, headers=headers)\n",
    "# response = requests.get(url)\n",
    "write_file(f\"{OUTPUT_DIR}ERP/\", \"ERP_raw.csv\", response.text)\n",
    "\n",
    "match_url = \"https://api.data.abs.gov.au/datastructure/ABS/ABS_ANNUAL_ERP_ASGS2021/1.2.0?references=all\"\n",
    "match_output_dir = f\"{OUTPUT_DIR}ERP/\"\n",
    "match_file_name = \"ERP_match\"\n",
    "get_match_list(match_url, match_output_dir, match_file_name)\n",
    "\n"
   ]
  },
  {
   "cell_type": "code",
   "execution_count": 20,
   "metadata": {},
   "outputs": [
    {
     "name": "stdout",
     "output_type": "stream",
     "text": [
      "-RECORD 0---------------------------------\n",
      " _c0 | DATAFLOW                           \n",
      " _c1 | MEASURE                            \n",
      " _c2 | REGION_TYPE                        \n",
      " _c3 | ASGS_2021                          \n",
      " _c4 | FREQ                               \n",
      " _c5 | TIME_PERIOD                        \n",
      " _c6 | OBS_VALUE                          \n",
      " _c7 | UNIT_MEASURE                       \n",
      " _c8 | OBS_STATUS                         \n",
      " _c9 | OBS_COMMENT                        \n",
      "-RECORD 1---------------------------------\n",
      " _c0 | ABS:ABS_ANNUAL_ERP_ASGS2021(1.2.0) \n",
      " _c1 | ERP                                \n",
      " _c2 | SA2                                \n",
      " _c3 | 101021010                          \n",
      " _c4 | A                                  \n",
      " _c5 | 2010                               \n",
      " _c6 | 4813                               \n",
      " _c7 | PSNS                               \n",
      " _c8 | null                               \n",
      " _c9 | null                               \n",
      "only showing top 2 rows\n",
      "\n"
     ]
    }
   ],
   "source": [
    "rsdf = spark.read.csv(f\"{OUTPUT_DIR}ERP/ERP.csv\")\n",
    "rsdf.show(2, vertical = True, truncate=100)"
   ]
  },
  {
   "cell_type": "markdown",
   "metadata": {},
   "source": [
    "Household income (weekly) (exclude visitor/non-classifiable) (2021)"
   ]
  },
  {
   "cell_type": "code",
   "execution_count": 24,
   "metadata": {},
   "outputs": [
    {
     "name": "stdout",
     "output_type": "stream",
     "text": [
      "../data/raw/ABS/Household_income/Household_income_match.xml\n",
      "True\n"
     ]
    }
   ],
   "source": [
    "url = \"https://api.data.abs.gov.au/data/ABS,C21_G33_SA2,1.0.0/...SA2.?startPeriod=2021&dimensionAtObservation=AllDimensions\"\n",
    "\n",
    "\n",
    "response = requests.get(url, headers=headers)\n",
    "write_file(f\"{OUTPUT_DIR}Household_income/\", \"Household_income_raw.csv\", response.text)\n",
    "\n",
    "\n",
    "match_url = \"https://api.data.abs.gov.au/datastructure/ABS/C21_G33_SA2/1.0.0?references=all\"\n",
    "match_output_dir = f\"{OUTPUT_DIR}Household_income/\"\n",
    "match_file_name = \"Household_income_match\"\n",
    "get_match_list(match_url, match_output_dir, match_file_name)\n"
   ]
  },
  {
   "cell_type": "code",
   "execution_count": 7,
   "metadata": {},
   "outputs": [
    {
     "name": "stdout",
     "output_type": "stream",
     "text": [
      "-RECORD 0---------------------\n",
      " _c0 | DATAFLOW               \n",
      " _c1 | HIND                   \n",
      " _c2 | HHCD                   \n",
      " _c3 | REGION                 \n",
      " _c4 | REGION_TYPE            \n",
      " _c5 | STATE                  \n",
      " _c6 | TIME_PERIOD            \n",
      " _c7 | OBS_VALUE              \n",
      "-RECORD 1---------------------\n",
      " _c0 | ABS:C21_G33_SA2(1.0.0) \n",
      " _c1 | 7                      \n",
      " _c2 | 1_2                    \n",
      " _c3 | 101021008              \n",
      " _c4 | SA2                    \n",
      " _c5 | 1                      \n",
      " _c6 | 2021                   \n",
      " _c7 | 94                     \n",
      "only showing top 2 rows\n",
      "\n"
     ]
    }
   ],
   "source": [
    "rsdf = spark.read.csv(f\"{OUTPUT_DIR}Household_income/Household_income.csv\")\n",
    "rsdf.show(2, vertical = True, truncate=100)"
   ]
  },
  {
   "cell_type": "markdown",
   "metadata": {},
   "source": [
    "Population projection (2017 - 2066)"
   ]
  },
  {
   "cell_type": "code",
   "execution_count": 25,
   "metadata": {},
   "outputs": [
    {
     "name": "stdout",
     "output_type": "stream",
     "text": [
      "../data/raw/ABS/Population/Population_match.xml\n",
      "True\n"
     ]
    }
   ],
   "source": [
    "url = \"https://api.data.abs.gov.au/data/ABS,POP_PROJ_REGION_2012_2061,1.0.0/2+21+22.3.TT.1.1.1.1.A?startPeriod=2017&dimensionAtObservation=AllDimensions\"\n",
    "\n",
    "response = requests.get(url, headers=headers)\n",
    "write_file(f\"{OUTPUT_DIR}Population/\", \"Population_raw.csv\", response.text)\n",
    "\n",
    "match_url = \"https://api.data.abs.gov.au/datastructure/ABS/POP_PROJ_REGION_2012_2061/1.0.0?references=all\"\n",
    "match_output_dir = f\"{OUTPUT_DIR}Population/\"\n",
    "match_file_name = \"Population_match\"\n",
    "get_match_list(match_url, match_output_dir, match_file_name)"
   ]
  },
  {
   "cell_type": "code",
   "execution_count": 21,
   "metadata": {},
   "outputs": [
    {
     "name": "stdout",
     "output_type": "stream",
     "text": [
      "-RECORD 0------------------------------------\n",
      " _c0  | DATAFLOW                             \n",
      " _c1  | REGION                               \n",
      " _c2  | SEX_ABS                              \n",
      " _c3  | AGE                                  \n",
      " _c4  | FERTILITY                            \n",
      " _c5  | MORTALITY                            \n",
      " _c6  | NOM                                  \n",
      " _c7  | NIM                                  \n",
      " _c8  | FREQUENCY                            \n",
      " _c9  | TIME_PERIOD                          \n",
      " _c10 | OBS_VALUE                            \n",
      " _c11 | UNIT_MEASURE                         \n",
      " _c12 | OBS_STATUS                           \n",
      " _c13 | OBS_COMMENT                          \n",
      "-RECORD 1------------------------------------\n",
      " _c0  | ABS:POP_PROJ_REGION_2012_2061(1.0.0) \n",
      " _c1  | 4                                    \n",
      " _c2  | 3                                    \n",
      " _c3  | TT                                   \n",
      " _c4  | 1                                    \n",
      " _c5  | 1                                    \n",
      " _c6  | 1                                    \n",
      " _c7  | 1                                    \n",
      " _c8  | A                                    \n",
      " _c9  | 2017                                 \n",
      " _c10 | 1723671                              \n",
      " _c11 | PSNS                                 \n",
      " _c12 | null                                 \n",
      " _c13 | null                                 \n",
      "only showing top 2 rows\n",
      "\n"
     ]
    }
   ],
   "source": [
    "rsdf = spark.read.csv(f\"{OUTPUT_DIR}Population/Population.csv\")\n",
    "rsdf.show(2, vertical = True, truncate=100)"
   ]
  },
  {
   "cell_type": "markdown",
   "metadata": {},
   "source": [
    "School location"
   ]
  },
  {
   "cell_type": "code",
   "execution_count": 26,
   "metadata": {},
   "outputs": [
    {
     "data": {
      "text/plain": [
       "True"
      ]
     },
     "execution_count": 26,
     "metadata": {},
     "output_type": "execute_result"
    }
   ],
   "source": [
    "url = \"https://www.acara.edu.au/docs/default-source/default-document-library/school-location-2021e23a2f404c94637ead88ff00003e0139.xlsx?sfvrsn=51ae4c07_0\"\n",
    "\n",
    "\n",
    "response = requests.get(url)\n",
    "\n",
    "write_file(f\"{OUTPUT_DIR}School_location/\", \"School_location.csv\", response.content, \"wb\")\n",
    "# pull_direct(url, OUTPUT_DIR, f\"School_location.xlsx\")"
   ]
  },
  {
   "cell_type": "code",
   "execution_count": 15,
   "metadata": {},
   "outputs": [
    {
     "name": "stdout",
     "output_type": "stream",
     "text": [
      "   Calendar Year  ACARA SML ID  Location AGE ID  School AGE ID  \\\n",
      "0           2021         40000      40,003.0000         3.0000   \n",
      "1           2021         40001      40,004.0000         4.0000   \n",
      "2           2021         40002      40,005.0000         5.0000   \n",
      "3           2021         40003      40,007.0000         7.0000   \n",
      "4           2021         40004      40,009.0000         9.0000   \n",
      "\n",
      "                                School Name        Suburb State  Postcode  \\\n",
      "0            Corpus Christi Catholic School     BELLERIVE   TAS      7018   \n",
      "1                              Fahan School     SANDY BAY   TAS      7005   \n",
      "2                  Geneva Christian College       LATROBE   TAS      7307   \n",
      "3               Holy Rosary Catholic School     CLAREMONT   TAS      7011   \n",
      "4  Immaculate Heart of Mary Catholic School  LENAH VALLEY   TAS      7008   \n",
      "\n",
      "  School Sector School Type  ... Statistical Area 3 Statistical Area 3 Name  \\\n",
      "0      Catholic     Primary  ...              60102     Hobart - North East   \n",
      "1   Independent    Combined  ...              60105            Hobart Inner   \n",
      "2   Independent    Combined  ...              60402               Devonport   \n",
      "3      Catholic     Primary  ...              60103     Hobart - North West   \n",
      "4      Catholic     Primary  ...              60105            Hobart Inner   \n",
      "\n",
      "   Statistical Area 4  Statistical Area 4 Name  Local Government Area  \\\n",
      "0                 601                   Hobart                  61410   \n",
      "1                 601                   Hobart                  62810   \n",
      "2                 604      West and North West                  63810   \n",
      "3                 601                   Hobart                  62610   \n",
      "4                 601                   Hobart                  62810   \n",
      "\n",
      "  Local Government Area Name  State Electoral Division  \\\n",
      "0               Clarence (C)                     60411   \n",
      "1                 Hobart (C)                     60310   \n",
      "2         Latrobe (M) (Tas.)                     60207   \n",
      "3              Glenorchy (C)                     60301   \n",
      "4                 Hobart (C)                     60303   \n",
      "\n",
      "   State Electoral Division Name  Commonwealth Electoral Division  \\\n",
      "0            Franklin (Pembroke)                              604   \n",
      "1                 Clark (Nelson)                              603   \n",
      "2               Braddon (Mersey)                              602   \n",
      "3                Clark (Derwent)                              603   \n",
      "4                 Clark (Hobart)                              603   \n",
      "\n",
      "  Commonwealth Electoral Division Name  \n",
      "0                             Franklin  \n",
      "1                                Clark  \n",
      "2                              Braddon  \n",
      "3                                Clark  \n",
      "4                                Clark  \n",
      "\n",
      "[5 rows x 30 columns]\n"
     ]
    }
   ],
   "source": [
    "s_df = pd.read_excel(f\"{OUTPUT_DIR}School_location.xlsx\", sheet_name=\"SchoolLocations 2021\")\n",
    "print(s_df.head())"
   ]
  },
  {
   "cell_type": "code",
   "execution_count": 12,
   "metadata": {},
   "outputs": [
    {
     "data": {
      "text/plain": [
       "bytes"
      ]
     },
     "execution_count": 12,
     "metadata": {},
     "output_type": "execute_result"
    }
   ],
   "source": [
    "type(response.content)"
   ]
  },
  {
   "cell_type": "markdown",
   "metadata": {},
   "source": [
    "API test (draft)"
   ]
  },
  {
   "cell_type": "code",
   "execution_count": 6,
   "metadata": {},
   "outputs": [
    {
     "data": {
      "text/html": [
       "<div>\n",
       "<style scoped>\n",
       "    .dataframe tbody tr th:only-of-type {\n",
       "        vertical-align: middle;\n",
       "    }\n",
       "\n",
       "    .dataframe tbody tr th {\n",
       "        vertical-align: top;\n",
       "    }\n",
       "\n",
       "    .dataframe thead th {\n",
       "        text-align: right;\n",
       "    }\n",
       "</style>\n",
       "<table border=\"1\" class=\"dataframe\">\n",
       "  <thead>\n",
       "    <tr style=\"text-align: right;\">\n",
       "      <th></th>\n",
       "      <th>Summary of ASGS resources</th>\n",
       "    </tr>\n",
       "  </thead>\n",
       "  <tbody>\n",
       "    <tr>\n",
       "      <th>Action</th>\n",
       "      <td>ASGS Resource</td>\n",
       "    </tr>\n",
       "    <tr>\n",
       "      <th>View and compare boundaries</th>\n",
       "      <td>ABS Maps</td>\n",
       "    </tr>\n",
       "    <tr>\n",
       "      <th>View a list of ASGS regions</th>\n",
       "      <td>Allocation files</td>\n",
       "    </tr>\n",
       "    <tr>\n",
       "      <th>Convert data from one region to another</th>\n",
       "      <td>Correspondences</td>\n",
       "    </tr>\n",
       "    <tr>\n",
       "      <th>View and analyse boundaries in desktop Geospatial Information Systems</th>\n",
       "      <td>Digital boundary files</td>\n",
       "    </tr>\n",
       "  </tbody>\n",
       "</table>\n",
       "</div>"
      ],
      "text/plain": [
       "                                                   Summary of ASGS resources\n",
       "Action                                                         ASGS Resource\n",
       "View and compare boundaries                                         ABS Maps\n",
       "View a list of ASGS regions                                 Allocation files\n",
       "Convert data from one region to another                      Correspondences\n",
       "View and analyse boundaries in desktop Geospati...    Digital boundary files"
      ]
     },
     "execution_count": 6,
     "metadata": {},
     "output_type": "execute_result"
    }
   ],
   "source": [
    "boundary_df = pd.read_csv(\"../data/raw/ABS/Summary of ASGS resources.csv\")\n",
    "boundary_df.head()"
   ]
  }
 ],
 "metadata": {
  "kernelspec": {
   "display_name": "Python 3 (ipykernel)",
   "language": "python",
   "name": "python3"
  },
  "language_info": {
   "codemirror_mode": {
    "name": "ipython",
    "version": 3
   },
   "file_extension": ".py",
   "mimetype": "text/x-python",
   "name": "python",
   "nbconvert_exporter": "python",
   "pygments_lexer": "ipython3",
   "version": "3.8.10"
  },
  "orig_nbformat": 4
 },
 "nbformat": 4,
 "nbformat_minor": 2
}
