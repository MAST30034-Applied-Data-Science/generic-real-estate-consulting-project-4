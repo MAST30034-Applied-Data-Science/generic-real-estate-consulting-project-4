{
 "cells": [
  {
   "cell_type": "markdown",
   "metadata": {},
   "source": []
  },
  {
   "cell_type": "code",
   "execution_count": 1,
   "metadata": {
    "vscode": {
     "languageId": "python"
    }
   },
   "outputs": [
    {
     "name": "stdout",
     "output_type": "stream",
     "text": [
      "22/08/31 00:41:43 WARN Utils: Your hostname, Bruce-PC resolves to a loopback address: 127.0.1.1; using 172.21.202.84 instead (on interface eth0)\n",
      "22/08/31 00:41:43 WARN Utils: Set SPARK_LOCAL_IP if you need to bind to another address\n"
     ]
    },
    {
     "name": "stderr",
     "output_type": "stream",
     "text": [
      "Setting default log level to \"WARN\".\n",
      "To adjust logging level use sc.setLogLevel(newLevel). For SparkR, use setLogLevel(newLevel).\n"
     ]
    },
    {
     "name": "stdout",
     "output_type": "stream",
     "text": [
      "22/08/31 00:41:45 WARN NativeCodeLoader: Unable to load native-hadoop library for your platform... using builtin-java classes where applicable\n"
     ]
    }
   ],
   "source": [
    "from urllib.request import urlretrieve\n",
    "import sys\n",
    "import pandas as pd\n",
    "import requests\n",
    "import math\n",
    "import zipfile\n",
    "import os\n",
    "from pyspark.sql import SparkSession\n",
    "from pyspark.sql import functions as F\n",
    "\n",
    "\n",
    "spark = (\n",
    "    SparkSession.builder.appName(\"Assignment_2\")\n",
    "    .config(\"spark.sql.repl.eagerEval.enabled\", True)\n",
    "    .config(\"spark.sql.parquet.cacheMetadata\", \"true\")\n",
    "    .config(\"spark.sql.session.timeZone\", \"Etc/UTC\")\n",
    "    .getOrCreate()\n",
    ")\n",
    "pd.options.display.float_format = '{:,.4f}'.format\n",
    "\n",
    "OUTPUT_DIR = \"../data/raw/ABS/\""
   ]
  },
  {
   "cell_type": "code",
   "execution_count": 4,
   "metadata": {
    "vscode": {
     "languageId": "python"
    }
   },
   "outputs": [],
   "source": [
    "def pull_direct(url, output_dir, file_name):\n",
    "    if not os.path.exists(output_dir):\n",
    "        os.makedirs(output_dir)\n",
    "\n",
    "    try:\n",
    "        urlretrieve(url, f\"{output_dir}{file_name}\")\n",
    "        print(f\"Request succeed: pulling from{url}\\nFile saved in: {output_dir}{file_name}\")\n",
    "    except Exception as e:\n",
    "        print(f\"********\\nRequest failure: \")\n",
    "        print(e)\n",
    "        print(\"********\")"
   ]
  },
  {
   "cell_type": "markdown",
   "metadata": {},
   "source": [
    "SA2 match tabel"
   ]
  },
  {
   "cell_type": "code",
   "execution_count": 40,
   "metadata": {
    "vscode": {
     "languageId": "python"
    }
   },
   "outputs": [
    {
     "name": "stdout",
     "output_type": "stream",
     "text": [
      "Request succeed: pulling fromhttps://www.abs.gov.au/statistics/standards/australian-statistical-geography-standard-asgs-edition-3/jul2021-jun2026/access-and-downloads/allocation-files/SA2_2021_AUST.xlsx\n",
      "File saved in: ../data/raw/ABS/SA2_2021_AUST.xlsx\n"
     ]
    }
   ],
   "source": [
    "### Pull SA2 match table\n",
    "url = f\"https://www.abs.gov.au/statistics/standards/australian-statistical-geography-standard-asgs-edition-3/jul2021-jun2026/access-and-downloads/allocation-files/SA2_2021_AUST.xlsx\"\n",
    "file_name = \"SA2_2021_AUST.xlsx\"\n",
    "pull_direct(url, OUTPUT_DIR, file_name)"
   ]
  },
  {
   "cell_type": "markdown",
   "metadata": {},
   "source": [
    "SA2 shape file"
   ]
  },
  {
   "cell_type": "code",
   "execution_count": 41,
   "metadata": {
    "vscode": {
     "languageId": "python"
    }
   },
   "outputs": [
    {
     "name": "stdout",
     "output_type": "stream",
     "text": [
      "Request succeed: pulling fromhttps://www.abs.gov.au/statistics/standards/australian-statistical-geography-standard-asgs-edition-3/jul2021-jun2026/access-and-downloads/digital-boundary-files/SA2_2021_AUST_SHP_GDA2020.zip\n",
      "File saved in: ../data/raw/ABS/SA2_2021_AUST_SHP_GDA2020.zip\n"
     ]
    }
   ],
   "source": [
    "url = f\"https://www.abs.gov.au/statistics/standards/australian-statistical-geography-standard-asgs-edition-3/jul2021-jun2026/access-and-downloads/digital-boundary-files/SA2_2021_AUST_SHP_GDA2020.zip\"\n",
    "file_name = \"SA2_2021_AUST_SHP_GDA2020.zip\"\n",
    "pull_direct(url, OUTPUT_DIR, file_name)"
   ]
  },
  {
   "cell_type": "code",
   "execution_count": 18,
   "metadata": {
    "vscode": {
     "languageId": "python"
    }
   },
   "outputs": [],
   "source": [
    "with zipfile.ZipFile(f\"{OUTPUT_DIR}{file_name}\", \"r\") as zip_ref:\n",
    "    zip_ref.extractall(f\"{OUTPUT_DIR}digitalBoundary/\")"
   ]
  },
  {
   "cell_type": "markdown",
   "metadata": {},
   "source": [
    "ABS Data"
   ]
  },
  {
   "cell_type": "code",
   "execution_count": 3,
   "metadata": {
    "vscode": {
     "languageId": "python"
    }
   },
   "outputs": [],
   "source": [
    "headers = {\n",
    "    \"accept\": \"text/csv\"\n",
    "}"
   ]
  },
  {
   "cell_type": "markdown",
   "metadata": {},
   "source": [
    "Estimated Resident Population (ERP) (2001 to 2021)"
   ]
  },
  {
   "cell_type": "code",
   "execution_count": 4,
   "metadata": {
    "vscode": {
     "languageId": "python"
    }
   },
   "outputs": [],
   "source": [
    "headers = {\n",
    "    \"accept\": \"text/csv\"\n",
    "}\n",
    "url = \"https://api.data.abs.gov.au/data/ABS,ABS_ANNUAL_ERP_ASGS2021,1.2.0/.SA2..A?startPeriod=2010&endPeriod=2021&dimensionAtObservation=AllDimensions\"\n",
    "\n",
    "\n",
    "response = requests.get(url, headers=headers)\n",
    "# response = requests.get(url)\n",
    "\n",
    "with open(f\"{OUTPUT_DIR}ERP.csv\", \"w\") as f:\n",
    "    f.write(response.text)"
   ]
  },
  {
   "cell_type": "code",
   "execution_count": 5,
   "metadata": {
    "vscode": {
     "languageId": "python"
    }
   },
   "outputs": [
    {
     "name": "stdout",
     "output_type": "stream",
     "text": [
      "-RECORD 0---------------------------------\n",
      " _c0 | DATAFLOW                           \n",
      " _c1 | MEASURE                            \n",
      " _c2 | REGION_TYPE                        \n",
      " _c3 | ASGS_2021                          \n",
      " _c4 | FREQ                               \n",
      " _c5 | TIME_PERIOD                        \n",
      " _c6 | OBS_VALUE                          \n",
      " _c7 | UNIT_MEASURE                       \n",
      " _c8 | OBS_STATUS                         \n",
      " _c9 | OBS_COMMENT                        \n",
      "-RECORD 1---------------------------------\n",
      " _c0 | ABS:ABS_ANNUAL_ERP_ASGS2021(1.2.0) \n",
      " _c1 | ERP                                \n",
      " _c2 | SA2                                \n",
      " _c3 | 101021010                          \n",
      " _c4 | A                                  \n",
      " _c5 | 2010                               \n",
      " _c6 | 4813                               \n",
      " _c7 | PSNS                               \n",
      " _c8 | null                               \n",
      " _c9 | null                               \n",
      "only showing top 2 rows\n",
      "\n"
     ]
    }
   ],
   "source": [
    "rsdf = spark.read.csv(f\"{OUTPUT_DIR}ERP.csv\")\n",
    "rsdf.show(2, vertical = True, truncate=100)"
   ]
  },
  {
   "cell_type": "markdown",
   "metadata": {},
   "source": [
    "Household income (weekly) (exclude visitor/non-classifiable) (2021)"
   ]
  },
  {
   "cell_type": "code",
   "execution_count": 6,
   "metadata": {
    "vscode": {
     "languageId": "python"
    }
   },
   "outputs": [],
   "source": [
    "url = \"https://api.data.abs.gov.au/data/ABS,C21_G33_SA2,1.0.0/...SA2.?startPeriod=2021&dimensionAtObservation=AllDimensions\"\n",
    "\n",
    "\n",
    "response = requests.get(url, headers=headers)\n",
    "\n",
    "with open(f\"{OUTPUT_DIR}Household_income.csv\", \"w\") as f:\n",
    "    f.write(response.text)"
   ]
  },
  {
   "cell_type": "code",
   "execution_count": 7,
   "metadata": {
    "vscode": {
     "languageId": "python"
    }
   },
   "outputs": [
    {
     "name": "stdout",
     "output_type": "stream",
     "text": [
      "-RECORD 0---------------------\n",
      " _c0 | DATAFLOW               \n",
      " _c1 | HIND                   \n",
      " _c2 | HHCD                   \n",
      " _c3 | REGION                 \n",
      " _c4 | REGION_TYPE            \n",
      " _c5 | STATE                  \n",
      " _c6 | TIME_PERIOD            \n",
      " _c7 | OBS_VALUE              \n",
      "-RECORD 1---------------------\n",
      " _c0 | ABS:C21_G33_SA2(1.0.0) \n",
      " _c1 | 7                      \n",
      " _c2 | 1_2                    \n",
      " _c3 | 101021008              \n",
      " _c4 | SA2                    \n",
      " _c5 | 1                      \n",
      " _c6 | 2021                   \n",
      " _c7 | 94                     \n",
      "only showing top 2 rows\n",
      "\n"
     ]
    }
   ],
   "source": [
    "rsdf = spark.read.csv(f\"{OUTPUT_DIR}Household_income.csv\")\n",
    "rsdf.show(2, vertical = True, truncate=100)"
   ]
  },
  {
   "cell_type": "markdown",
   "metadata": {},
   "source": [
    "Population projection (2017 - 2066)"
   ]
  },
  {
   "cell_type": "code",
   "execution_count": 8,
   "metadata": {
    "vscode": {
     "languageId": "python"
    }
   },
   "outputs": [],
   "source": [
    "url = \"https://api.data.abs.gov.au/data/ABS,POP_PROJ_REGION_2012_2061,1.0.0/8+7+6+5+4+3+1+2+11+12+21+22+31+32+41+42+51+52+61+62+71+72.3.TT.1.1.1.1.A?startPeriod=2017&dimensionAtObservation=AllDimensions\"\n",
    "\n",
    "\n",
    "response = requests.get(url, headers=headers)\n",
    "\n",
    "with open(f\"{OUTPUT_DIR}Household_income.csv\", \"w\") as f:\n",
    "    f.write(response.text)"
   ]
  },
  {
   "cell_type": "code",
   "execution_count": 9,
   "metadata": {
    "vscode": {
     "languageId": "python"
    }
   },
   "outputs": [
    {
     "name": "stdout",
     "output_type": "stream",
     "text": [
      "-RECORD 0------------------------------------\n",
      " _c0  | DATAFLOW                             \n",
      " _c1  | REGION                               \n",
      " _c2  | SEX_ABS                              \n",
      " _c3  | AGE                                  \n",
      " _c4  | FERTILITY                            \n",
      " _c5  | MORTALITY                            \n",
      " _c6  | NOM                                  \n",
      " _c7  | NIM                                  \n",
      " _c8  | FREQUENCY                            \n",
      " _c9  | TIME_PERIOD                          \n",
      " _c10 | OBS_VALUE                            \n",
      " _c11 | UNIT_MEASURE                         \n",
      " _c12 | OBS_STATUS                           \n",
      " _c13 | OBS_COMMENT                          \n",
      "-RECORD 1------------------------------------\n",
      " _c0  | ABS:POP_PROJ_REGION_2012_2061(1.0.0) \n",
      " _c1  | 4                                    \n",
      " _c2  | 3                                    \n",
      " _c3  | TT                                   \n",
      " _c4  | 1                                    \n",
      " _c5  | 1                                    \n",
      " _c6  | 1                                    \n",
      " _c7  | 1                                    \n",
      " _c8  | A                                    \n",
      " _c9  | 2017                                 \n",
      " _c10 | 1723671                              \n",
      " _c11 | PSNS                                 \n",
      " _c12 | null                                 \n",
      " _c13 | null                                 \n",
      "only showing top 2 rows\n",
      "\n"
     ]
    }
   ],
   "source": [
    "rsdf = spark.read.csv(f\"{OUTPUT_DIR}Household_income.csv\")\n",
    "rsdf.show(2, vertical = True, truncate=100)"
   ]
  },
  {
   "cell_type": "markdown",
   "metadata": {},
   "source": [
    "School location"
   ]
  },
  {
   "cell_type": "code",
   "execution_count": 5,
   "metadata": {
    "vscode": {
     "languageId": "python"
    }
   },
   "outputs": [],
   "source": [
    "url = \"https://www.acara.edu.au/docs/default-source/default-document-library/school-location-2021e23a2f404c94637ead88ff00003e0139.xlsx?sfvrsn=51ae4c07_0\"\n",
    "\n",
    "\n",
    "response = requests.get(url)\n",
    "\n",
    "with open(f\"{OUTPUT_DIR}School_location.xlsx\", \"wb\") as f:\n",
    "    f.write(response.content)\n",
    "\n",
    "# pull_direct(url, OUTPUT_DIR, f\"School_location.xlsx\")"
   ]
  },
  {
   "cell_type": "code",
   "execution_count": 15,
   "metadata": {
    "vscode": {
     "languageId": "python"
    }
   },
   "outputs": [
    {
     "name": "stdout",
     "output_type": "stream",
     "text": [
      "   Calendar Year  ACARA SML ID  Location AGE ID  School AGE ID  \\\n",
      "0           2021         40000      40,003.0000         3.0000   \n",
      "1           2021         40001      40,004.0000         4.0000   \n",
      "2           2021         40002      40,005.0000         5.0000   \n",
      "3           2021         40003      40,007.0000         7.0000   \n",
      "4           2021         40004      40,009.0000         9.0000   \n",
      "\n",
      "                                School Name        Suburb State  Postcode  \\\n",
      "0            Corpus Christi Catholic School     BELLERIVE   TAS      7018   \n",
      "1                              Fahan School     SANDY BAY   TAS      7005   \n",
      "2                  Geneva Christian College       LATROBE   TAS      7307   \n",
      "3               Holy Rosary Catholic School     CLAREMONT   TAS      7011   \n",
      "4  Immaculate Heart of Mary Catholic School  LENAH VALLEY   TAS      7008   \n",
      "\n",
      "  School Sector School Type  ... Statistical Area 3 Statistical Area 3 Name  \\\n",
      "0      Catholic     Primary  ...              60102     Hobart - North East   \n",
      "1   Independent    Combined  ...              60105            Hobart Inner   \n",
      "2   Independent    Combined  ...              60402               Devonport   \n",
      "3      Catholic     Primary  ...              60103     Hobart - North West   \n",
      "4      Catholic     Primary  ...              60105            Hobart Inner   \n",
      "\n",
      "   Statistical Area 4  Statistical Area 4 Name  Local Government Area  \\\n",
      "0                 601                   Hobart                  61410   \n",
      "1                 601                   Hobart                  62810   \n",
      "2                 604      West and North West                  63810   \n",
      "3                 601                   Hobart                  62610   \n",
      "4                 601                   Hobart                  62810   \n",
      "\n",
      "  Local Government Area Name  State Electoral Division  \\\n",
      "0               Clarence (C)                     60411   \n",
      "1                 Hobart (C)                     60310   \n",
      "2         Latrobe (M) (Tas.)                     60207   \n",
      "3              Glenorchy (C)                     60301   \n",
      "4                 Hobart (C)                     60303   \n",
      "\n",
      "   State Electoral Division Name  Commonwealth Electoral Division  \\\n",
      "0            Franklin (Pembroke)                              604   \n",
      "1                 Clark (Nelson)                              603   \n",
      "2               Braddon (Mersey)                              602   \n",
      "3                Clark (Derwent)                              603   \n",
      "4                 Clark (Hobart)                              603   \n",
      "\n",
      "  Commonwealth Electoral Division Name  \n",
      "0                             Franklin  \n",
      "1                                Clark  \n",
      "2                              Braddon  \n",
      "3                                Clark  \n",
      "4                                Clark  \n",
      "\n",
      "[5 rows x 30 columns]\n"
     ]
    }
   ],
   "source": [
    "s_df = pd.read_excel(f\"{OUTPUT_DIR}School_location.xlsx\", sheet_name=\"SchoolLocations 2021\")\n",
    "print(s_df.head())"
   ]
  },
  {
   "cell_type": "code",
   "execution_count": 12,
   "metadata": {
    "vscode": {
     "languageId": "python"
    }
   },
   "outputs": [
    {
     "data": {
      "text/plain": [
       "bytes"
      ]
     },
     "execution_count": 12,
     "metadata": {},
     "output_type": "execute_result"
    }
   ],
   "source": [
    "type(response.content)"
   ]
  },
  {
   "cell_type": "markdown",
   "metadata": {},
   "source": [
    "API test"
   ]
  },
  {
   "cell_type": "code",
   "execution_count": 9,
   "metadata": {
    "vscode": {
     "languageId": "python"
    }
   },
   "outputs": [
    {
     "name": "stdout",
     "output_type": "stream",
     "text": [
      "-RECORD 0------------------------------------\n",
      " _c0 | DATAFLOW                              \n",
      " _c1 | HIND: Total household income (weekly) \n",
      " _c2 | HHCD: Household composition           \n",
      " _c3 | REGION: Region                        \n",
      " _c4 | REGION_TYPE: Region Type              \n",
      " _c5 | STATE: State                          \n",
      " _c6 | TIME_PERIOD: Time Period              \n",
      " _c7 | OBS_VALUE                             \n",
      "-RECORD 1------------------------------------\n",
      " _c0 | ABS:C21_G33_SA2(1.0.0)                \n",
      " _c1 | 7: $650-$799                          \n",
      " _c2 | 1_2: Family households                \n",
      " _c3 | 101021008: Karabar                    \n",
      " _c4 | SA2: Statistical Area Level 2         \n",
      " _c5 | 1: New South Wales                    \n",
      " _c6 | 2021                                  \n",
      " _c7 | 94                                    \n",
      "only showing top 2 rows\n",
      "\n"
     ]
    }
   ],
   "source": [
    "rsdf = spark.read.csv(f\"{OUTPUT_DIR}ABS_C21_G33_SA2_1.0.0_...SA2..csv\")\n",
    "rsdf.show(2, vertical = True, truncate=100)"
   ]
  },
  {
   "cell_type": "code",
   "execution_count": 12,
   "metadata": {
    "vscode": {
     "languageId": "python"
    }
   },
   "outputs": [
    {
     "name": "stdout",
     "output_type": "stream",
     "text": [
      "<?xml version=\"1.0\" encoding=\"utf-8\"?>\n",
      "<!--NSI Web Service v8.8.0.0-->\n",
      "<message:Structure xmlns:message=\"http://www.sdmx.org/resources/sdmxml/schemas/v2_1/message\" xmlns:structure=\"http://www.sdmx.org/resources/sdmxml/schemas/v2_1/structure\" xmlns:common=\"http://www.sdmx.org/resources/sdmxml/schemas/v2_1/common\">\n",
      "  <message:Header>\n",
      "    <message:ID>IDREF66461</message:ID>\n",
      "    <message:Test>false</message:Test>\n",
      "    <message:Prepared>2022-08-31T01:35:26.2611534+10:00</message:Prepared>\n",
      "    <message:Sender id=\"Unknown\" />\n",
      "    <message:Receiver id=\"Unknown\" />\n",
      "  </message:Header>\n",
      "  <message:Structures>\n",
      "    <structure:DataStructures>\n",
      "      <structure:DataStructure id=\"ALC\" agencyID=\"ABS\" version=\"1.0.0\" isFinal=\"true\">\n",
      "        <common:Name xml:lang=\"en\">Apparent Consumption of Alcohol, Australia</common:Name>\n",
      "        <structure:DataStructureComponents>\n",
      "          <structure:DimensionList id=\"DimensionDescriptor\">\n",
      "            <structure:Dimension id=\"TYP\" position=\"1\">\n",
      "              <structure:ConceptIdentity>\n",
      "                <Ref id=\"TYP\" maintainableParentID=\"CS_ALC\" maintainableParentVersion=\"1.0.0\" agencyID=\"ABS\" package=\"conceptscheme\" class=\"Concept\" />\n",
      "              </structure:ConceptIdentity>\n",
      "              <structure:LocalRepresentation>\n",
      "                <structure:Enumeration>\n",
      "                  <Ref id=\"CL_ALC_TYP\" version=\"1.0.0\" agencyID=\"ABS\" package=\"codelist\" class=\"Codelist\" />\n",
      "                </structure:Enumeration>\n",
      "              </structure:LocalRepresentation>\n",
      "            </structure:Dimension>\n",
      "            <structure:Dimension id=\"MEA\" position=\"2\">\n",
      "              <structure:ConceptIdentity>\n",
      "                <Ref id=\"MEASURE\" maintainableParentID=\"CS_COMMON\" maintainableParentVersion=\"1.0.0\" agencyID=\"ABS\" package=\"conceptscheme\" class=\"Concept\" />\n",
      "              </structure:ConceptIdentity>\n",
      "              <structure:LocalRepresentation>\n",
      "                <structure:Enumeration>\n",
      "                  <Ref id=\"CL_ALC_MEASURE\" version=\"1.0.0\" agencyID=\"ABS\" package=\"codelist\" class=\"Codelist\" />\n",
      "                </structure:Enumeration>\n",
      "              </structure:LocalRepresentation>\n",
      "            </structure:Dimension>\n",
      "            <structure:Dimension id=\"BEVT\" position=\"3\">\n",
      "              <structure:ConceptIdentity>\n",
      "                <Ref id=\"BEVT\" maintainableParentID=\"CS_ALC\" maintainableParentVersion=\"1.0.0\" agencyID=\"ABS\" package=\"conceptscheme\" class=\"Concept\" />\n",
      "              </structure:ConceptIdentity>\n",
      "              <structure:LocalRepresentation>\n",
      "                <structure:Enumeration>\n",
      "                  <Ref id=\"CL_ALC_BEVT\" version=\"1.0.0\" agencyID=\"ABS\" package=\"codelist\" class=\"Codelist\" />\n",
      "                </structure:Enumeration>\n",
      "              </structure:LocalRepresentation>\n",
      "            </structure:Dimension>\n",
      "            <structure:Dimension id=\"SUB\" position=\"4\">\n",
      "              <structure:ConceptIdentity>\n",
      "                <Ref id=\"SUB\" maintainableParentID=\"CS_ALC\" maintainableParentVersion=\"1.0.0\" agencyID=\"ABS\" package=\"conceptscheme\" class=\"Concept\" />\n",
      "              </structure:ConceptIdentity>\n",
      "              <structure:LocalRepresentation>\n",
      "                <structure:Enumeration>\n",
      "                  <Ref id=\"CL_ALC_SUB\" version=\"1.0.0\" agencyID=\"ABS\" package=\"codelist\" class=\"Codelist\" />\n",
      "                </structure:Enumeration>\n",
      "              </structure:LocalRepresentation>\n",
      "            </structure:Dimension>\n",
      "            <structure:Dimension id=\"FREQUENCY\" position=\"5\">\n",
      "              <structure:ConceptIdentity>\n",
      "                <Ref id=\"FREQ\" maintainableParentID=\"CS_COMMON\" maintainableParentVersion=\"1.0.0\" agencyID=\"ABS\" package=\"conceptscheme\" class=\"Concept\" />\n",
      "              </structure:ConceptIdentity>\n",
      "              <structure:LocalRepresentation>\n",
      "                <structure:Enumeration>\n",
      "                  <Ref id=\"CL_FREQ\" version=\"1.0.0\" agencyID=\"ABS\" package=\"codelist\" class=\"Codelist\" />\n",
      "                </structure:Enumeration>\n",
      "              </structure:LocalRepresentation>\n",
      "            </structure:Dimension>\n",
      "            <structure:TimeDimension id=\"TIME_PERIOD\" position=\"6\">\n",
      "              <structure:ConceptIdentity>\n",
      "                <Ref id=\"TIME_PERIOD\" maintainableParentID=\"CS_COMMON\" maintainableParentVersion=\"1.0.0\" agencyID=\"ABS\" package=\"conceptscheme\" class=\"Concept\" />\n",
      "              </structure:ConceptIdentity>\n",
      "              <structure:LocalRepresentation>\n",
      "                <structure:TextFormat textType=\"ObservationalTimePeriod\" />\n",
      "              </structure:LocalRepresentation>\n",
      "            </structure:TimeDimension>\n",
      "          </structure:DimensionList>\n",
      "          <structure:AttributeList id=\"AttributeDescriptor\">\n",
      "            <structure:Attribute id=\"UNIT_MEASURE\" assignmentStatus=\"Conditional\">\n",
      "              <structure:ConceptIdentity>\n",
      "                <Ref id=\"UNIT_MEASURE\" maintainableParentID=\"CS_ATTRIBUTE\" maintainableParentVersion=\"1.0.0\" agencyID=\"ABS\" package=\"conceptscheme\" class=\"Concept\" />\n",
      "              </structure:ConceptIdentity>\n",
      "              <structure:LocalRepresentation>\n",
      "                <structure:Enumeration>\n",
      "                  <Ref id=\"CL_UNIT_MEASURE\" version=\"1.0.0\" agencyID=\"ABS\" package=\"codelist\" class=\"Codelist\" />\n",
      "                </structure:Enumeration>\n",
      "              </structure:LocalRepresentation>\n",
      "              <structure:AttributeRelationship>\n",
      "                <structure:None />\n",
      "              </structure:AttributeRelationship>\n",
      "            </structure:Attribute>\n",
      "            <structure:Attribute id=\"UNIT_MULT\" assignmentStatus=\"Conditional\">\n",
      "              <structure:ConceptIdentity>\n",
      "                <Ref id=\"UNIT_MULT\" maintainableParentID=\"CS_ATTRIBUTE\" maintainableParentVersion=\"1.0.0\" agencyID=\"ABS\" package=\"conceptscheme\" class=\"Concept\" />\n",
      "              </structure:ConceptIdentity>\n",
      "              <structure:LocalRepresentation>\n",
      "                <structure:Enumeration>\n",
      "                  <Ref id=\"CL_UNIT_MULT\" version=\"1.0.0\" agencyID=\"ABS\" package=\"codelist\" class=\"Codelist\" />\n",
      "                </structure:Enumeration>\n",
      "              </structure:LocalRepresentation>\n",
      "              <structure:AttributeRelationship>\n",
      "                <structure:Dimension>\n",
      "                  <Ref id=\"MEA\" />\n",
      "                </structure:Dimension>\n",
      "              </structure:AttributeRelationship>\n",
      "            </structure:Attribute>\n",
      "            <structure:Attribute id=\"OBS_STATUS\" assignmentStatus=\"Conditional\">\n",
      "              <structure:ConceptIdentity>\n",
      "                <Ref id=\"OBS_STATUS\" maintainableParentID=\"CS_ATTRIBUTE\" maintainableParentVersion=\"1.0.0\" agencyID=\"ABS\" package=\"conceptscheme\" class=\"Concept\" />\n",
      "              </structure:ConceptIdentity>\n",
      "              <structure:LocalRepresentation>\n",
      "                <structure:Enumeration>\n",
      "                  <Ref id=\"CL_OBS_STATUS\" version=\"1.0.0\" agencyID=\"ABS\" package=\"codelist\" class=\"Codelist\" />\n",
      "                </structure:Enumeration>\n",
      "              </structure:LocalRepresentation>\n",
      "              <structure:AttributeRelationship>\n",
      "                <structure:PrimaryMeasure>\n",
      "                  <Ref id=\"OBS_VALUE\" />\n",
      "                </structure:PrimaryMeasure>\n",
      "              </structure:AttributeRelationship>\n",
      "            </structure:Attribute>\n",
      "            <structure:Attribute id=\"OBS_COMMENT\" assignmentStatus=\"Conditional\">\n",
      "              <structure:ConceptIdentity>\n",
      "                <Ref id=\"OBS_COMMENT\" maintainableParentID=\"CS_ATTRIBUTE\" maintainableParentVersion=\"1.0.0\" agencyID=\"ABS\" package=\"conceptscheme\" class=\"Concept\" />\n",
      "              </structure:ConceptIdentity>\n",
      "              <structure:AttributeRelationship>\n",
      "                <structure:PrimaryMeasure>\n",
      "                  <Ref id=\"OBS_VALUE\" />\n",
      "                </structure:PrimaryMeasure>\n",
      "              </structure:AttributeRelationship>\n",
      "            </structure:Attribute>\n",
      "          </structure:AttributeList>\n",
      "          <structure:MeasureList id=\"MeasureDescriptor\">\n",
      "            <structure:PrimaryMeasure id=\"OBS_VALUE\">\n",
      "              <structure:ConceptIdentity>\n",
      "                <Ref id=\"OBS_VALUE\" maintainableParentID=\"CS_COMMON\" maintainableParentVersion=\"1.0.0\" agencyID=\"ABS\" package=\"conceptscheme\" class=\"Concept\" />\n",
      "              </structure:ConceptIdentity>\n",
      "              <structure:LocalRepresentation>\n",
      "                <structure:TextFormat textType=\"Double\" />\n",
      "              </structure:LocalRepresentation>\n",
      "            </structure:PrimaryMeasure>\n",
      "          </structure:MeasureList>\n",
      "        </structure:DataStructureComponents>\n",
      "      </structure:DataStructure>\n",
      "    </structure:DataStructures>\n",
      "  </message:Structures>\n",
      "</message:Structure>\n"
     ]
    }
   ],
   "source": [
    "\n",
    "\n",
    "# https://api.data.abs.gov.au/datastructure/ABS/ALC\n",
    "# https://api.data.abs.gov.au/datastructure/ABS/ALC?references=codelist\n",
    "# https://api.data.abs.gov.au/datastructure/ABS/ALC?references=children\n",
    "# https://api.data.abs.gov.au/data/ALC/1.2.1.4.A.\n",
    "# https://api.data.abs.gov.au/data/ALC/1.2.1.4.A?startPeriod=2008&endPeriod=2008\n",
    "\n",
    "\n",
    "\n",
    "\n",
    "# url = \"https://api.data.abs.gov.au/data/ABS,C21_G33_SA2,1.0.0/...SA2.?startPeriod=2021&dimensionAtObservation=AllDimensions\"\n",
    "url = \"https://api.data.abs.gov.au/datastructure/ABS/ALC\"\n",
    "\n",
    "\n",
    "\n",
    "response = requests.get(url)\n",
    "print(response.text)"
   ]
  },
  {
   "cell_type": "code",
   "execution_count": 37,
   "metadata": {
    "vscode": {
     "languageId": "python"
    }
   },
   "outputs": [
    {
     "name": "stdout",
     "output_type": "stream",
     "text": [
      "-RECORD 0---------------------------------\n",
      " _c0 | DATAFLOW                           \n",
      " _c1 | MEASURE: Measure                   \n",
      " _c2 | REGION_TYPE: Geography Level       \n",
      " _c3 | ASGS_2021: Region                  \n",
      " _c4 | FREQ: Frequency                    \n",
      " _c5 | TIME_PERIOD: Time Period           \n",
      " _c6 | OBS_VALUE                          \n",
      " _c7 | UNIT_MEASURE: Unit of Measure      \n",
      " _c8 | OBS_STATUS: Observation Status     \n",
      " _c9 | OBS_COMMENT: Observation Comment   \n",
      "-RECORD 1---------------------------------\n",
      " _c0 | ABS:ABS_ANNUAL_ERP_ASGS2021(1.2.0) \n",
      " _c1 | ERP: Estimated Resident Population \n",
      " _c2 | SA2: Statistical Area Level 2      \n",
      " _c3 | 101021010: Queanbeyan - East       \n",
      " _c4 | A: Annual                          \n",
      " _c5 | 2010                               \n",
      " _c6 | 4813                               \n",
      " _c7 | PSNS: Persons                      \n",
      " _c8 | null                               \n",
      " _c9 | null                               \n",
      "only showing top 2 rows\n",
      "\n"
     ]
    }
   ],
   "source": [
    "# .SA2..A?startPeriod=2010&endPeriod=2021&dimensionAtObservation=AllDimensions\n",
    "temp_sdf = spark.read.csv(f\"{OUTPUT_DIR}ABS_ABS_ANNUAL_ERP_ASGS2021_1.2.0_.SA2..A.csv\")\n",
    "temp_sdf.show(2, vertical = True, truncate=100)"
   ]
  },
  {
   "cell_type": "code",
   "execution_count": null,
   "metadata": {
    "vscode": {
     "languageId": "python"
    }
   },
   "outputs": [],
   "source": []
  },
  {
   "cell_type": "code",
   "execution_count": 19,
   "metadata": {
    "vscode": {
     "languageId": "python"
    }
   },
   "outputs": [
    {
     "ename": "TypeError",
     "evalue": "request() got an unexpected keyword argument 'header'",
     "output_type": "error",
     "traceback": [
      "\u001b[0;31m---------------------------------------------------------------------------\u001b[0m",
      "\u001b[0;31mTypeError\u001b[0m                                 Traceback (most recent call last)",
      "\u001b[1;32m/home/bruce/projects/ass2/notebooks/JunhuaLiu.ipynb Cell 11\u001b[0m in \u001b[0;36m<cell line: 6>\u001b[0;34m()\u001b[0m\n\u001b[1;32m      <a href='vscode-notebook-cell://wsl%2Bubuntu-20.04/home/bruce/projects/ass2/notebooks/JunhuaLiu.ipynb#W2sdnNjb2RlLXJlbW90ZQ%3D%3D?line=0'>1</a>\u001b[0m headers \u001b[39m=\u001b[39m {\n\u001b[1;32m      <a href='vscode-notebook-cell://wsl%2Bubuntu-20.04/home/bruce/projects/ass2/notebooks/JunhuaLiu.ipynb#W2sdnNjb2RlLXJlbW90ZQ%3D%3D?line=1'>2</a>\u001b[0m     \u001b[39m\"\u001b[39m\u001b[39maccept\u001b[39m\u001b[39m\"\u001b[39m: \u001b[39m\"\u001b[39m\u001b[39mtext/csv\u001b[39m\u001b[39m\"\u001b[39m\n\u001b[1;32m      <a href='vscode-notebook-cell://wsl%2Bubuntu-20.04/home/bruce/projects/ass2/notebooks/JunhuaLiu.ipynb#W2sdnNjb2RlLXJlbW90ZQ%3D%3D?line=2'>3</a>\u001b[0m }\n\u001b[1;32m      <a href='vscode-notebook-cell://wsl%2Bubuntu-20.04/home/bruce/projects/ass2/notebooks/JunhuaLiu.ipynb#W2sdnNjb2RlLXJlbW90ZQ%3D%3D?line=3'>4</a>\u001b[0m url \u001b[39m=\u001b[39m \u001b[39m\"\u001b[39m\u001b[39mhttps://api.data.abs.gov.au/data/ABS,ABS_ANNUAL_ERP_ASGS2021,1.2.0/.SA2..A?startPeriod=2010&endPeriod=2021&dimensionAtObservation=AllDimensions\u001b[39m\u001b[39m\"\u001b[39m\n\u001b[0;32m----> <a href='vscode-notebook-cell://wsl%2Bubuntu-20.04/home/bruce/projects/ass2/notebooks/JunhuaLiu.ipynb#W2sdnNjb2RlLXJlbW90ZQ%3D%3D?line=5'>6</a>\u001b[0m response \u001b[39m=\u001b[39m requests\u001b[39m.\u001b[39;49mget(url, header\u001b[39m=\u001b[39;49mheaders)\n\u001b[1;32m      <a href='vscode-notebook-cell://wsl%2Bubuntu-20.04/home/bruce/projects/ass2/notebooks/JunhuaLiu.ipynb#W2sdnNjb2RlLXJlbW90ZQ%3D%3D?line=7'>8</a>\u001b[0m \u001b[39mprint\u001b[39m(response)\n",
      "File \u001b[0;32m~/.venv/lib/python3.8/site-packages/requests/api.py:73\u001b[0m, in \u001b[0;36mget\u001b[0;34m(url, params, **kwargs)\u001b[0m\n\u001b[1;32m     62\u001b[0m \u001b[39mdef\u001b[39;00m \u001b[39mget\u001b[39m(url, params\u001b[39m=\u001b[39m\u001b[39mNone\u001b[39;00m, \u001b[39m*\u001b[39m\u001b[39m*\u001b[39mkwargs):\n\u001b[1;32m     63\u001b[0m     \u001b[39mr\u001b[39m\u001b[39m\"\"\"Sends a GET request.\u001b[39;00m\n\u001b[1;32m     64\u001b[0m \n\u001b[1;32m     65\u001b[0m \u001b[39m    :param url: URL for the new :class:`Request` object.\u001b[39;00m\n\u001b[0;32m   (...)\u001b[0m\n\u001b[1;32m     70\u001b[0m \u001b[39m    :rtype: requests.Response\u001b[39;00m\n\u001b[1;32m     71\u001b[0m \u001b[39m    \"\"\"\u001b[39;00m\n\u001b[0;32m---> 73\u001b[0m     \u001b[39mreturn\u001b[39;00m request(\u001b[39m\"\u001b[39;49m\u001b[39mget\u001b[39;49m\u001b[39m\"\u001b[39;49m, url, params\u001b[39m=\u001b[39;49mparams, \u001b[39m*\u001b[39;49m\u001b[39m*\u001b[39;49mkwargs)\n",
      "File \u001b[0;32m~/.venv/lib/python3.8/site-packages/requests/api.py:59\u001b[0m, in \u001b[0;36mrequest\u001b[0;34m(method, url, **kwargs)\u001b[0m\n\u001b[1;32m     55\u001b[0m \u001b[39m# By using the 'with' statement we are sure the session is closed, thus we\u001b[39;00m\n\u001b[1;32m     56\u001b[0m \u001b[39m# avoid leaving sockets open which can trigger a ResourceWarning in some\u001b[39;00m\n\u001b[1;32m     57\u001b[0m \u001b[39m# cases, and look like a memory leak in others.\u001b[39;00m\n\u001b[1;32m     58\u001b[0m \u001b[39mwith\u001b[39;00m sessions\u001b[39m.\u001b[39mSession() \u001b[39mas\u001b[39;00m session:\n\u001b[0;32m---> 59\u001b[0m     \u001b[39mreturn\u001b[39;00m session\u001b[39m.\u001b[39;49mrequest(method\u001b[39m=\u001b[39;49mmethod, url\u001b[39m=\u001b[39;49murl, \u001b[39m*\u001b[39;49m\u001b[39m*\u001b[39;49mkwargs)\n",
      "\u001b[0;31mTypeError\u001b[0m: request() got an unexpected keyword argument 'header'"
     ]
    }
   ],
   "source": [
    "\n",
    "\n",
    "\n",
    "\n",
    "\n",
    "\n",
    "# try:\n",
    "#     df.to_csv(cur_dir+\"Housing_index.json\")\n",
    "# except Exception as e:\n",
    "#     print(e)\n",
    "\n",
    "# cur_df =  pd.json_normalize(response.json(), record_path=\"results\")\n",
    "\n",
    "# if(cur_df.empty): break\n",
    "# # start pattern search if required\n",
    "# if search:\n",
    "#     cur_df = cur_df.loc[cur_df[search[0]].str.contains(search[1], case=False)]\n",
    "\n",
    "# # update dataframe\n",
    "# if(df.empty):\n",
    "#     if not cur_df.empty:\n",
    "#         df = cur_df.copy(deep=True)\n",
    "\n",
    "#         # stop search if greedy True\n",
    "#         if greedy: return cur_df\n",
    "# else: df = pd.concat([df, cur_df])\n",
    "\n",
    "# if save and math.floor(df.shape[0] / save[0]) > 0:\n",
    "#     print(df.shape[0] % save[0])\n",
    "#     file_count += 1\n",
    "#     save_data(df, save[1], save[2]+str(file_count).zfill(3))\n",
    "#     df = pd.DataFrame(data={\"A\": []})\n"
   ]
  },
  {
   "cell_type": "code",
   "execution_count": 3,
   "metadata": {
    "vscode": {
     "languageId": "python"
    }
   },
   "outputs": [
    {
     "ename": "KeyError",
     "evalue": "\"Key 'dataSets' not found. If specifying a record_path, all elements of data should have the path.\"",
     "output_type": "error",
     "traceback": [
      "\u001b[0;31m---------------------------------------------------------------------------\u001b[0m",
      "\u001b[0;31mKeyError\u001b[0m                                  Traceback (most recent call last)",
      "File \u001b[0;32m~/.venv/lib/python3.8/site-packages/pandas/io/json/_normalize.py:396\u001b[0m, in \u001b[0;36m_json_normalize.<locals>._pull_field\u001b[0;34m(js, spec, extract_record)\u001b[0m\n\u001b[1;32m    395\u001b[0m     \u001b[39melse\u001b[39;00m:\n\u001b[0;32m--> 396\u001b[0m         result \u001b[39m=\u001b[39m result[spec]\n\u001b[1;32m    397\u001b[0m \u001b[39mexcept\u001b[39;00m \u001b[39mKeyError\u001b[39;00m \u001b[39mas\u001b[39;00m e:\n",
      "\u001b[0;31mKeyError\u001b[0m: 'dataSets'",
      "\nThe above exception was the direct cause of the following exception:\n",
      "\u001b[0;31mKeyError\u001b[0m                                  Traceback (most recent call last)",
      "\u001b[1;32m/home/bruce/projects/ass2/notebook/Data_pulling.ipynb Cell 4\u001b[0m in \u001b[0;36m<cell line: 3>\u001b[0;34m()\u001b[0m\n\u001b[1;32m      <a href='vscode-notebook-cell://wsl%2Bubuntu-20.04/home/bruce/projects/ass2/notebook/Data_pulling.ipynb#W3sdnNjb2RlLXJlbW90ZQ%3D%3D?line=0'>1</a>\u001b[0m \u001b[39m# print(response)\u001b[39;00m\n\u001b[1;32m      <a href='vscode-notebook-cell://wsl%2Bubuntu-20.04/home/bruce/projects/ass2/notebook/Data_pulling.ipynb#W3sdnNjb2RlLXJlbW90ZQ%3D%3D?line=1'>2</a>\u001b[0m \u001b[39m# print(response.text)\u001b[39;00m\n\u001b[0;32m----> <a href='vscode-notebook-cell://wsl%2Bubuntu-20.04/home/bruce/projects/ass2/notebook/Data_pulling.ipynb#W3sdnNjb2RlLXJlbW90ZQ%3D%3D?line=2'>3</a>\u001b[0m cur_df \u001b[39m=\u001b[39m  pd\u001b[39m.\u001b[39;49mjson_normalize(response\u001b[39m.\u001b[39;49mjson(), record_path\u001b[39m=\u001b[39;49m\u001b[39m\"\u001b[39;49m\u001b[39mdataSets\u001b[39;49m\u001b[39m\"\u001b[39;49m)\n",
      "File \u001b[0;32m~/.venv/lib/python3.8/site-packages/pandas/io/json/_normalize.py:515\u001b[0m, in \u001b[0;36m_json_normalize\u001b[0;34m(data, record_path, meta, meta_prefix, record_prefix, errors, sep, max_level)\u001b[0m\n\u001b[1;32m    512\u001b[0m                 meta_vals[key]\u001b[39m.\u001b[39mappend(meta_val)\n\u001b[1;32m    513\u001b[0m             records\u001b[39m.\u001b[39mextend(recs)\n\u001b[0;32m--> 515\u001b[0m _recursive_extract(data, record_path, {}, level\u001b[39m=\u001b[39;49m\u001b[39m0\u001b[39;49m)\n\u001b[1;32m    517\u001b[0m result \u001b[39m=\u001b[39m DataFrame(records)\n\u001b[1;32m    519\u001b[0m \u001b[39mif\u001b[39;00m record_prefix \u001b[39mis\u001b[39;00m \u001b[39mnot\u001b[39;00m \u001b[39mNone\u001b[39;00m:\n\u001b[1;32m    520\u001b[0m     \u001b[39m# Incompatible types in assignment (expression has type \"Optional[DataFrame]\",\u001b[39;00m\n\u001b[1;32m    521\u001b[0m     \u001b[39m# variable has type \"DataFrame\")\u001b[39;00m\n",
      "File \u001b[0;32m~/.venv/lib/python3.8/site-packages/pandas/io/json/_normalize.py:497\u001b[0m, in \u001b[0;36m_json_normalize.<locals>._recursive_extract\u001b[0;34m(data, path, seen_meta, level)\u001b[0m\n\u001b[1;32m    495\u001b[0m \u001b[39melse\u001b[39;00m:\n\u001b[1;32m    496\u001b[0m     \u001b[39mfor\u001b[39;00m obj \u001b[39min\u001b[39;00m data:\n\u001b[0;32m--> 497\u001b[0m         recs \u001b[39m=\u001b[39m _pull_records(obj, path[\u001b[39m0\u001b[39;49m])\n\u001b[1;32m    498\u001b[0m         recs \u001b[39m=\u001b[39m [\n\u001b[1;32m    499\u001b[0m             nested_to_record(r, sep\u001b[39m=\u001b[39msep, max_level\u001b[39m=\u001b[39mmax_level)\n\u001b[1;32m    500\u001b[0m             \u001b[39mif\u001b[39;00m \u001b[39misinstance\u001b[39m(r, \u001b[39mdict\u001b[39m)\n\u001b[1;32m    501\u001b[0m             \u001b[39melse\u001b[39;00m r\n\u001b[1;32m    502\u001b[0m             \u001b[39mfor\u001b[39;00m r \u001b[39min\u001b[39;00m recs\n\u001b[1;32m    503\u001b[0m         ]\n\u001b[1;32m    505\u001b[0m         \u001b[39m# For repeating the metadata later\u001b[39;00m\n",
      "File \u001b[0;32m~/.venv/lib/python3.8/site-packages/pandas/io/json/_normalize.py:419\u001b[0m, in \u001b[0;36m_json_normalize.<locals>._pull_records\u001b[0;34m(js, spec)\u001b[0m\n\u001b[1;32m    413\u001b[0m \u001b[39mdef\u001b[39;00m \u001b[39m_pull_records\u001b[39m(js: \u001b[39mdict\u001b[39m[\u001b[39mstr\u001b[39m, Any], spec: \u001b[39mlist\u001b[39m \u001b[39m|\u001b[39m \u001b[39mstr\u001b[39m) \u001b[39m-\u001b[39m\u001b[39m>\u001b[39m \u001b[39mlist\u001b[39m:\n\u001b[1;32m    414\u001b[0m     \u001b[39m\"\"\"\u001b[39;00m\n\u001b[1;32m    415\u001b[0m \u001b[39m    Internal function to pull field for records, and similar to\u001b[39;00m\n\u001b[1;32m    416\u001b[0m \u001b[39m    _pull_field, but require to return list. And will raise error\u001b[39;00m\n\u001b[1;32m    417\u001b[0m \u001b[39m    if has non iterable value.\u001b[39;00m\n\u001b[1;32m    418\u001b[0m \u001b[39m    \"\"\"\u001b[39;00m\n\u001b[0;32m--> 419\u001b[0m     result \u001b[39m=\u001b[39m _pull_field(js, spec, extract_record\u001b[39m=\u001b[39;49m\u001b[39mTrue\u001b[39;49;00m)\n\u001b[1;32m    421\u001b[0m     \u001b[39m# GH 31507 GH 30145, GH 26284 if result is not list, raise TypeError if not\u001b[39;00m\n\u001b[1;32m    422\u001b[0m     \u001b[39m# null, otherwise return an empty list\u001b[39;00m\n\u001b[1;32m    423\u001b[0m     \u001b[39mif\u001b[39;00m \u001b[39mnot\u001b[39;00m \u001b[39misinstance\u001b[39m(result, \u001b[39mlist\u001b[39m):\n",
      "File \u001b[0;32m~/.venv/lib/python3.8/site-packages/pandas/io/json/_normalize.py:399\u001b[0m, in \u001b[0;36m_json_normalize.<locals>._pull_field\u001b[0;34m(js, spec, extract_record)\u001b[0m\n\u001b[1;32m    397\u001b[0m \u001b[39mexcept\u001b[39;00m \u001b[39mKeyError\u001b[39;00m \u001b[39mas\u001b[39;00m e:\n\u001b[1;32m    398\u001b[0m     \u001b[39mif\u001b[39;00m extract_record:\n\u001b[0;32m--> 399\u001b[0m         \u001b[39mraise\u001b[39;00m \u001b[39mKeyError\u001b[39;00m(\n\u001b[1;32m    400\u001b[0m             \u001b[39mf\u001b[39m\u001b[39m\"\u001b[39m\u001b[39mKey \u001b[39m\u001b[39m{\u001b[39;00me\u001b[39m}\u001b[39;00m\u001b[39m not found. If specifying a record_path, all elements of \u001b[39m\u001b[39m\"\u001b[39m\n\u001b[1;32m    401\u001b[0m             \u001b[39mf\u001b[39m\u001b[39m\"\u001b[39m\u001b[39mdata should have the path.\u001b[39m\u001b[39m\"\u001b[39m\n\u001b[1;32m    402\u001b[0m         ) \u001b[39mfrom\u001b[39;00m \u001b[39me\u001b[39;00m\n\u001b[1;32m    403\u001b[0m     \u001b[39melif\u001b[39;00m errors \u001b[39m==\u001b[39m \u001b[39m\"\u001b[39m\u001b[39mignore\u001b[39m\u001b[39m\"\u001b[39m:\n\u001b[1;32m    404\u001b[0m         \u001b[39mreturn\u001b[39;00m np\u001b[39m.\u001b[39mnan\n",
      "\u001b[0;31mKeyError\u001b[0m: \"Key 'dataSets' not found. If specifying a record_path, all elements of data should have the path.\""
     ]
    }
   ],
   "source": [
    "# print(response)\n",
    "# print(response.text)\n",
    "cur_df =  pd.json_normalize(response.json(), record_path=\"dataSets\")"
   ]
  },
  {
   "cell_type": "code",
   "execution_count": 6,
   "metadata": {
    "vscode": {
     "languageId": "python"
    }
   },
   "outputs": [
    {
     "data": {
      "text/html": [
       "<div>\n",
       "<style scoped>\n",
       "    .dataframe tbody tr th:only-of-type {\n",
       "        vertical-align: middle;\n",
       "    }\n",
       "\n",
       "    .dataframe tbody tr th {\n",
       "        vertical-align: top;\n",
       "    }\n",
       "\n",
       "    .dataframe thead th {\n",
       "        text-align: right;\n",
       "    }\n",
       "</style>\n",
       "<table border=\"1\" class=\"dataframe\">\n",
       "  <thead>\n",
       "    <tr style=\"text-align: right;\">\n",
       "      <th></th>\n",
       "      <th>Summary of ASGS resources</th>\n",
       "    </tr>\n",
       "  </thead>\n",
       "  <tbody>\n",
       "    <tr>\n",
       "      <th>Action</th>\n",
       "      <td>ASGS Resource</td>\n",
       "    </tr>\n",
       "    <tr>\n",
       "      <th>View and compare boundaries</th>\n",
       "      <td>ABS Maps</td>\n",
       "    </tr>\n",
       "    <tr>\n",
       "      <th>View a list of ASGS regions</th>\n",
       "      <td>Allocation files</td>\n",
       "    </tr>\n",
       "    <tr>\n",
       "      <th>Convert data from one region to another</th>\n",
       "      <td>Correspondences</td>\n",
       "    </tr>\n",
       "    <tr>\n",
       "      <th>View and analyse boundaries in desktop Geospatial Information Systems</th>\n",
       "      <td>Digital boundary files</td>\n",
       "    </tr>\n",
       "  </tbody>\n",
       "</table>\n",
       "</div>"
      ],
      "text/plain": [
       "                                                   Summary of ASGS resources\n",
       "Action                                                         ASGS Resource\n",
       "View and compare boundaries                                         ABS Maps\n",
       "View a list of ASGS regions                                 Allocation files\n",
       "Convert data from one region to another                      Correspondences\n",
       "View and analyse boundaries in desktop Geospati...    Digital boundary files"
      ]
     },
     "execution_count": 6,
     "metadata": {},
     "output_type": "execute_result"
    }
   ],
   "source": [
    "boundary_df = pd.read_csv(\"../data/raw/ABS/Summary of ASGS resources.csv\")\n",
    "boundary_df.head()"
   ]
  }
 ],
 "metadata": {
  "kernelspec": {
   "display_name": "Python 3 (ipykernel)",
   "language": "python",
   "name": "python3"
  },
  "orig_nbformat": 4
 },
 "nbformat": 4,
 "nbformat_minor": 2
}
