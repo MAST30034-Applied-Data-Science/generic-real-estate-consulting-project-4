{
 "cells": [
  {
   "cell_type": "markdown",
   "metadata": {},
   "source": [
    "TO USE: run all\n",
    "\n",
    "To request PTV.data manually:\n",
    "- https://data.gov.au/dataset/ds-vic-f8155dba-4f9c-43ee-ad83-f149fc3f1e9e/details?q=tram%20station\n",
    "- sign up (free)\n",
    "- select geographical of GDA2020 and ESRI shape file format with \"select all area available\" option checked\n",
    "- file will be sent to the given email\n",
    "- download and rename the file as PTV.zip, move it to ../data/raw/\n",
    "\n",
    "transport count (by SA2)\n",
    "- ../data/raw/PTV/public_trans.csv\n",
    "- SA2_CODE21: int, id of district in SA2 formate\n",
    "- metrobus_count: int, count of PTV_METRO_BUS_STOP\n",
    "- metrotrain_count: int, count of PTV_METRO_TRAIN_STATION\n",
    "- metrotram_count: int, count of PTV_METRO_TRAM_STOP\n",
    "- regbus_count: int, count of PTV_REGIONAL_BUS_STOP\n",
    "- regcoach_count: int, count of PTV_REGIONAL_COACH_STOP\n",
    "- regtrain_count: int, count of PTV_REGIONAL_TRAIN_STATION\n",
    "- skybus_count: int, count of PTV_SKYBUS_STOP\n"
   ]
  },
  {
   "cell_type": "code",
   "execution_count": 1,
   "metadata": {},
   "outputs": [],
   "source": [
    "import zipfile\n",
    "import os\n",
    "import pandas as pd\n",
    "import geopandas as gpd\n",
    "\n",
    "import folium\n",
    "pd.options.display.float_format = \"{:,.4f}\".format\n",
    "\n",
    "OUTPUT_DIR = \"../data/raw/PTV/ll_gda2020/esrishape/whole_of_dataset/victoria/PUBLIC_TRANSPORT/\"\n",
    "\n",
    "headers = {\"accept\": \"text/csv\"}"
   ]
  },
  {
   "cell_type": "code",
   "execution_count": 2,
   "metadata": {},
   "outputs": [],
   "source": [
    "# unzip zip file\n",
    "with zipfile.ZipFile(f\"../data/raw/PTV.zip\", \"r\") as zip_ref:\n",
    "    zip_ref.extractall(f\"../data/raw/PTV/\")\n",
    "\n"
   ]
  },
  {
   "cell_type": "code",
   "execution_count": 3,
   "metadata": {},
   "outputs": [],
   "source": [
    "def gpd_station_merge(poly_gdf, file_path, by_id_name = \"SA2_CODE21\",\\\n",
    "    station_id_name = \"STOP_ID\", method={\"STOP_ID\": \"count\"}):\n",
    "    \"\"\"\n",
    "        A function used to merge shape file in path: {file_path} to a \n",
    "        geopandas dataframe {poly_gdf} with POLYGON geometry. \n",
    "        poly_gdf: a geopandas.GeoDataFrame object contains POLYGON geometry\n",
    "        file_path: a String of file path to read target shape file\n",
    "        by_id_name: a String of id name to perform groupby option\n",
    "        station_id_name: a String of id name stated in the readed gdf\n",
    "        method: a Dict of operations to perform after groupby\n",
    "    \"\"\"\n",
    "\n",
    "    ### read station file\n",
    "    station_gdf = gpd.read_file(file_path)\n",
    "\n",
    "    # metro bus station feature selection\n",
    "    station_gdf = station_gdf[[station_id_name, \"geometry\"]]\n",
    "\n",
    "\n",
    "    # merge tabels\n",
    "    join_gdf = gpd.sjoin(poly_gdf, station_gdf, how=\"left\")\n",
    "    join_gdf = join_gdf.groupby(by_id_name).agg(method)\n",
    "    \n",
    "    return join_gdf"
   ]
  },
  {
   "cell_type": "code",
   "execution_count": 4,
   "metadata": {},
   "outputs": [
    {
     "name": "stdout",
     "output_type": "stream",
     "text": [
      "(524, 1)\n",
      "                                                     geometry\n",
      "SA2_CODE21                                                   \n",
      "201011001   POLYGON ((143.78282 -37.56666, 143.75558 -37.5...\n"
     ]
    }
   ],
   "source": [
    "### read shape file and make geometry readable\n",
    "boundary_gdf = gpd.read_file(\"../data/raw/ABS/digitalBoundary/\\\n",
    "SA2_2021_AUST_GDA2020.shp\")\n",
    "boundary_gdf = boundary_gdf.loc[boundary_gdf[\"STE_NAME21\"] == \"Victoria\"]\n",
    "# boundary_gdf[\"geometry\"] = boundary_gdf[\"geometry\"].to_crs(\n",
    "#     \" proj=longlat  ellps=WGS84  datum=WGS84  no_defs\"\n",
    "# )\n",
    "\n",
    "# digital boundary feature selection\n",
    "boundary_gdf = boundary_gdf.reset_index()[[\"SA2_CODE21\", \"geometry\"]].set_index(\"SA2_CODE21\")\n",
    "print(boundary_gdf.shape)\n",
    "print(boundary_gdf.head(1))"
   ]
  },
  {
   "cell_type": "code",
   "execution_count": 5,
   "metadata": {},
   "outputs": [
    {
     "name": "stdout",
     "output_type": "stream",
     "text": [
      "metrobus_count ../data/raw/PTV/ll_gda2020/esrishape/whole_of_dataset/victoria/PUBLIC_TRANSPORT/PTV_METRO_BUS_STOP.shp\n",
      "metrotrain_count ../data/raw/PTV/ll_gda2020/esrishape/whole_of_dataset/victoria/PUBLIC_TRANSPORT/PTV_METRO_TRAIN_STATION.shp\n",
      "metrotram_count ../data/raw/PTV/ll_gda2020/esrishape/whole_of_dataset/victoria/PUBLIC_TRANSPORT/PTV_METRO_TRAM_STOP.shp\n",
      "regbus_count ../data/raw/PTV/ll_gda2020/esrishape/whole_of_dataset/victoria/PUBLIC_TRANSPORT/PTV_REGIONAL_BUS_STOP.shp\n",
      "regcoach_count ../data/raw/PTV/ll_gda2020/esrishape/whole_of_dataset/victoria/PUBLIC_TRANSPORT/PTV_REGIONAL_COACH_STOP.shp\n",
      "regtrain_count ../data/raw/PTV/ll_gda2020/esrishape/whole_of_dataset/victoria/PUBLIC_TRANSPORT/PTV_REGIONAL_TRAIN_STATION.shp\n",
      "skybus_count ../data/raw/PTV/ll_gda2020/esrishape/whole_of_dataset/victoria/PUBLIC_TRANSPORT/PTV_SKYBUS_STOP.shp\n",
      "(524, 8)\n",
      "                                                     geometry  metrobus_count  \\\n",
      "SA2_CODE21                                                                      \n",
      "201011001   POLYGON ((143.78282 -37.56666, 143.75558 -37.5...               0   \n",
      "201011002   POLYGON ((143.81896 -37.55582, 143.81644 -37.5...               0   \n",
      "201011005   POLYGON ((143.84171 -37.61596, 143.84176 -37.6...               0   \n",
      "201011006   POLYGON ((143.75050 -37.59119, 143.75044 -37.5...               0   \n",
      "201011007   POLYGON ((143.73296 -37.62333, 143.73263 -37.6...               0   \n",
      "\n",
      "            metrotrain_count  metrotram_count  regbus_count  regcoach_count  \\\n",
      "SA2_CODE21                                                                    \n",
      "201011001                  0                0            43               0   \n",
      "201011002                  0                0           105               2   \n",
      "201011005                  0                0            32               4   \n",
      "201011006                  0                0            34               2   \n",
      "201011007                  0                0             3               2   \n",
      "\n",
      "            regtrain_count  skybus_count  \n",
      "SA2_CODE21                                \n",
      "201011001                0             0  \n",
      "201011002                0             0  \n",
      "201011005                0             0  \n",
      "201011006                0             0  \n",
      "201011007                0             0  \n"
     ]
    }
   ],
   "source": [
    "mix_gdf = boundary_gdf.sort_values(by=[\"SA2_CODE21\"])\n",
    "file_paths = [\n",
    "    f\"{OUTPUT_DIR}PTV_METRO_BUS_STOP.shp\",\n",
    "    f\"{OUTPUT_DIR}PTV_METRO_TRAIN_STATION.shp\",\n",
    "    f\"{OUTPUT_DIR}PTV_METRO_TRAM_STOP.shp\",\n",
    "    f\"{OUTPUT_DIR}PTV_REGIONAL_BUS_STOP.shp\",\n",
    "    f\"{OUTPUT_DIR}PTV_REGIONAL_COACH_STOP.shp\",\n",
    "    f\"{OUTPUT_DIR}PTV_REGIONAL_TRAIN_STATION.shp\",\n",
    "    f\"{OUTPUT_DIR}PTV_SKYBUS_STOP.shp\"\n",
    "]\n",
    "\n",
    "col_names = [\"metrobus_count\", \"metrotrain_count\", \"metrotram_count\",\n",
    "    \"regbus_count\", \"regcoach_count\", \"regtrain_count\", \"skybus_count\"]\n",
    "\n",
    "\n",
    "for col_name, file_path in zip(col_names, file_paths):\n",
    "    print(col_name, file_path)\n",
    "    cur_gdf = gpd_station_merge(boundary_gdf, file_path).rename({\"STOP_ID\": col_name}, axis=1)\n",
    "    cur_gdf = cur_gdf.sort_values(by = col_name)\n",
    "    mix_gdf = pd.concat([mix_gdf, cur_gdf], axis=1)\n",
    "\n",
    "print(mix_gdf.shape)\n",
    "print(mix_gdf.head())\n",
    "mix_gdf.to_csv(\"../data/raw/PTV/public_trans.csv\")"
   ]
  }
 ],
 "metadata": {
  "kernelspec": {
   "display_name": "Python 3 (ipykernel)",
   "language": "python",
   "name": "python3"
  },
  "language_info": {
   "codemirror_mode": {
    "name": "ipython",
    "version": 3
   },
   "file_extension": ".py",
   "mimetype": "text/x-python",
   "name": "python",
   "nbconvert_exporter": "python",
   "pygments_lexer": "ipython3",
   "version": "3.8.10"
  },
  "orig_nbformat": 4
 },
 "nbformat": 4,
 "nbformat_minor": 2
}
