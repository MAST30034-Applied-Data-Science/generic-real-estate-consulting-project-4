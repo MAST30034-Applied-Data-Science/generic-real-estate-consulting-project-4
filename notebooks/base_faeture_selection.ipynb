{
 "cells": [
  {
   "cell_type": "code",
   "execution_count": 1,
   "metadata": {},
   "outputs": [
    {
     "name": "stdout",
     "output_type": "stream",
     "text": [
      "Collecting pydot\n",
      "  Downloading pydot-1.4.2-py2.py3-none-any.whl (21 kB)\n",
      "Requirement already satisfied: pyparsing>=2.1.4 in /Users/vicky/opt/anaconda3/lib/python3.8/site-packages (from pydot) (2.4.7)\n",
      "Installing collected packages: pydot\n",
      "Successfully installed pydot-1.4.2\n"
     ]
    }
   ],
   "source": [
    "!pip install pydot"
   ]
  },
  {
   "cell_type": "code",
   "execution_count": 2,
   "metadata": {},
   "outputs": [],
   "source": [
    "import os\n",
    "import pydot\n",
    "import matplotlib.pyplot as plt\n",
    "import numpy as np\n",
    "import pandas as pd\n",
    "from sklearn.ensemble import RandomForestRegressor\n",
    "from sklearn.tree import export_graphviz\n"
   ]
  },
  {
   "cell_type": "code",
   "execution_count": 3,
   "metadata": {},
   "outputs": [],
   "source": [
    "DATA_FOLDER = \"../data/curated/\"\n",
    "RANDOM_FOREST_SEED = 66\n",
    "tree_graph_dot_path='../data/curated/rf_data/tree.dot'\n",
    "tree_graph_png_path='../data/curated/rf_data/tree.png'"
   ]
  },
  {
   "cell_type": "markdown",
   "metadata": {},
   "source": [
    "# Data Preprocess"
   ]
  },
  {
   "cell_type": "code",
   "execution_count": 5,
   "metadata": {},
   "outputs": [],
   "source": [
    "# get data\n",
    "history_data = pd.read_csv(os.path.join(DATA_FOLDER,\n",
    "                                        \"history_data/part-00000-44a6dfb2-eac8-4885-a1f9-702081825d93-c000.csv\"))\n",
    "sa2_info_data = pd.read_csv(os.path.join(DATA_FOLDER,\n",
    "                                         \"sa2_info/part-00000-57c0f807-02d7-4b2e-9d38-aae4903505b5-c000.csv\"))\n",
    "rent_data = pd.read_csv(os.path.join(DATA_FOLDER, \"rent.csv\"))\n",
    "\n",
    "parking_spot_sa2 = pd.read_csv(os.path.join(DATA_FOLDER,\n",
    "                                        \"parking_spot_sa2.csv\"))\n",
    "station_sa2 = pd.read_csv(os.path.join(DATA_FOLDER,\n",
    "                                        \"station_sa2.csv\"))\n",
    "tram_stop_sa2 = pd.read_csv(os.path.join(DATA_FOLDER,\n",
    "                                        \"tram_stop_sa2.csv\"))"
   ]
  },
  {
   "cell_type": "code",
   "execution_count": 6,
   "metadata": {},
   "outputs": [
    {
     "name": "stdout",
     "output_type": "stream",
     "text": [
      "(522, 5)\n",
      "(393, 11)\n",
      "(3748, 10)\n",
      "(22573, 4)\n",
      "(219, 4)\n",
      "(28, 4)\n"
     ]
    }
   ],
   "source": [
    "print(history_data.shape)\n",
    "print(sa2_info_data.shape)\n",
    "print(rent_data.shape)\n",
    "print(parking_spot_sa2.shape)\n",
    "print(station_sa2.shape)\n",
    "print(tram_stop_sa2.shape)"
   ]
  },
  {
   "cell_type": "code",
   "execution_count": 7,
   "metadata": {},
   "outputs": [],
   "source": [
    "# get ave rent as label\n",
    "ave_rent_for_sa2 = rent_data.groupby('SA2').agg({'rent':'mean'})"
   ]
  },
  {
   "cell_type": "code",
   "execution_count": 8,
   "metadata": {},
   "outputs": [],
   "source": [
    "# join feature data\n",
    "deature_data = history_data.set_index(\"SA2\").join(sa2_info_data.set_index(\"SA2\"), on=\"SA2\", how=\"inner\")\n",
    "# join label\n",
    "all_data = deature_data.join(ave_rent_for_sa2, on=\"SA2\", how=\"inner\")"
   ]
  },
  {
   "cell_type": "code",
   "execution_count": 9,
   "metadata": {},
   "outputs": [
    {
     "data": {
      "text/plain": [
       "(298, 15)"
      ]
     },
     "execution_count": 9,
     "metadata": {},
     "output_type": "execute_result"
    }
   ],
   "source": [
    "all_data.shape"
   ]
  },
  {
   "cell_type": "code",
   "execution_count": 10,
   "metadata": {},
   "outputs": [
    {
     "data": {
      "text/html": [
       "<div>\n",
       "<style scoped>\n",
       "    .dataframe tbody tr th:only-of-type {\n",
       "        vertical-align: middle;\n",
       "    }\n",
       "\n",
       "    .dataframe tbody tr th {\n",
       "        vertical-align: top;\n",
       "    }\n",
       "\n",
       "    .dataframe thead th {\n",
       "        text-align: right;\n",
       "    }\n",
       "</style>\n",
       "<table border=\"1\" class=\"dataframe\">\n",
       "  <thead>\n",
       "    <tr style=\"text-align: right;\">\n",
       "      <th></th>\n",
       "      <th>year</th>\n",
       "      <th>population</th>\n",
       "      <th>bond</th>\n",
       "      <th>price_index</th>\n",
       "      <th>school_count</th>\n",
       "      <th>ERP_population</th>\n",
       "      <th>median_income</th>\n",
       "      <th>metrobus_count</th>\n",
       "      <th>metrotrain_count</th>\n",
       "      <th>metrotram_count</th>\n",
       "      <th>regbus_count</th>\n",
       "      <th>regcoach_count</th>\n",
       "      <th>regtrain_count</th>\n",
       "      <th>skybus_count</th>\n",
       "      <th>rent</th>\n",
       "    </tr>\n",
       "    <tr>\n",
       "      <th>SA2</th>\n",
       "      <th></th>\n",
       "      <th></th>\n",
       "      <th></th>\n",
       "      <th></th>\n",
       "      <th></th>\n",
       "      <th></th>\n",
       "      <th></th>\n",
       "      <th></th>\n",
       "      <th></th>\n",
       "      <th></th>\n",
       "      <th></th>\n",
       "      <th></th>\n",
       "      <th></th>\n",
       "      <th></th>\n",
       "      <th></th>\n",
       "    </tr>\n",
       "  </thead>\n",
       "  <tbody>\n",
       "    <tr>\n",
       "      <th>202011018</th>\n",
       "      <td>2021</td>\n",
       "      <td>14951</td>\n",
       "      <td>0.93</td>\n",
       "      <td>185</td>\n",
       "      <td>13</td>\n",
       "      <td>14951</td>\n",
       "      <td>1267</td>\n",
       "      <td>0</td>\n",
       "      <td>0</td>\n",
       "      <td>0</td>\n",
       "      <td>142</td>\n",
       "      <td>2</td>\n",
       "      <td>1</td>\n",
       "      <td>0</td>\n",
       "      <td>525.263158</td>\n",
       "    </tr>\n",
       "    <tr>\n",
       "      <th>202011022</th>\n",
       "      <td>2021</td>\n",
       "      <td>21060</td>\n",
       "      <td>0.93</td>\n",
       "      <td>185</td>\n",
       "      <td>9</td>\n",
       "      <td>21060</td>\n",
       "      <td>1238</td>\n",
       "      <td>0</td>\n",
       "      <td>0</td>\n",
       "      <td>0</td>\n",
       "      <td>130</td>\n",
       "      <td>3</td>\n",
       "      <td>1</td>\n",
       "      <td>0</td>\n",
       "      <td>425.833333</td>\n",
       "    </tr>\n",
       "    <tr>\n",
       "      <th>203031048</th>\n",
       "      <td>2021</td>\n",
       "      <td>16716</td>\n",
       "      <td>0.93</td>\n",
       "      <td>185</td>\n",
       "      <td>6</td>\n",
       "      <td>16716</td>\n",
       "      <td>1424</td>\n",
       "      <td>0</td>\n",
       "      <td>0</td>\n",
       "      <td>0</td>\n",
       "      <td>74</td>\n",
       "      <td>0</td>\n",
       "      <td>0</td>\n",
       "      <td>0</td>\n",
       "      <td>340.000000</td>\n",
       "    </tr>\n",
       "    <tr>\n",
       "      <th>204011062</th>\n",
       "      <td>2021</td>\n",
       "      <td>4142</td>\n",
       "      <td>0.93</td>\n",
       "      <td>185</td>\n",
       "      <td>4</td>\n",
       "      <td>4142</td>\n",
       "      <td>1222</td>\n",
       "      <td>0</td>\n",
       "      <td>0</td>\n",
       "      <td>0</td>\n",
       "      <td>0</td>\n",
       "      <td>10</td>\n",
       "      <td>0</td>\n",
       "      <td>0</td>\n",
       "      <td>595.000000</td>\n",
       "    </tr>\n",
       "    <tr>\n",
       "      <th>204021065</th>\n",
       "      <td>2021</td>\n",
       "      <td>4019</td>\n",
       "      <td>0.93</td>\n",
       "      <td>185</td>\n",
       "      <td>4</td>\n",
       "      <td>4019</td>\n",
       "      <td>1344</td>\n",
       "      <td>0</td>\n",
       "      <td>0</td>\n",
       "      <td>0</td>\n",
       "      <td>7</td>\n",
       "      <td>3</td>\n",
       "      <td>0</td>\n",
       "      <td>0</td>\n",
       "      <td>380.000000</td>\n",
       "    </tr>\n",
       "    <tr>\n",
       "      <th>...</th>\n",
       "      <td>...</td>\n",
       "      <td>...</td>\n",
       "      <td>...</td>\n",
       "      <td>...</td>\n",
       "      <td>...</td>\n",
       "      <td>...</td>\n",
       "      <td>...</td>\n",
       "      <td>...</td>\n",
       "      <td>...</td>\n",
       "      <td>...</td>\n",
       "      <td>...</td>\n",
       "      <td>...</td>\n",
       "      <td>...</td>\n",
       "      <td>...</td>\n",
       "      <td>...</td>\n",
       "    </tr>\n",
       "    <tr>\n",
       "      <th>209031209</th>\n",
       "      <td>2021</td>\n",
       "      <td>23711</td>\n",
       "      <td>0.93</td>\n",
       "      <td>185</td>\n",
       "      <td>7</td>\n",
       "      <td>23711</td>\n",
       "      <td>2464</td>\n",
       "      <td>68</td>\n",
       "      <td>1</td>\n",
       "      <td>0</td>\n",
       "      <td>0</td>\n",
       "      <td>0</td>\n",
       "      <td>0</td>\n",
       "      <td>0</td>\n",
       "      <td>458.000000</td>\n",
       "    </tr>\n",
       "    <tr>\n",
       "      <th>211011448</th>\n",
       "      <td>2021</td>\n",
       "      <td>15448</td>\n",
       "      <td>0.93</td>\n",
       "      <td>185</td>\n",
       "      <td>4</td>\n",
       "      <td>15448</td>\n",
       "      <td>1960</td>\n",
       "      <td>79</td>\n",
       "      <td>1</td>\n",
       "      <td>0</td>\n",
       "      <td>0</td>\n",
       "      <td>0</td>\n",
       "      <td>0</td>\n",
       "      <td>0</td>\n",
       "      <td>405.000000</td>\n",
       "    </tr>\n",
       "    <tr>\n",
       "      <th>213031352</th>\n",
       "      <td>2021</td>\n",
       "      <td>15653</td>\n",
       "      <td>0.93</td>\n",
       "      <td>185</td>\n",
       "      <td>5</td>\n",
       "      <td>15653</td>\n",
       "      <td>2483</td>\n",
       "      <td>86</td>\n",
       "      <td>1</td>\n",
       "      <td>0</td>\n",
       "      <td>0</td>\n",
       "      <td>0</td>\n",
       "      <td>0</td>\n",
       "      <td>0</td>\n",
       "      <td>516.000000</td>\n",
       "    </tr>\n",
       "    <tr>\n",
       "      <th>215011386</th>\n",
       "      <td>2021</td>\n",
       "      <td>8468</td>\n",
       "      <td>0.93</td>\n",
       "      <td>185</td>\n",
       "      <td>7</td>\n",
       "      <td>8468</td>\n",
       "      <td>1216</td>\n",
       "      <td>0</td>\n",
       "      <td>0</td>\n",
       "      <td>0</td>\n",
       "      <td>63</td>\n",
       "      <td>2</td>\n",
       "      <td>1</td>\n",
       "      <td>0</td>\n",
       "      <td>648.000000</td>\n",
       "    </tr>\n",
       "    <tr>\n",
       "      <th>215021469</th>\n",
       "      <td>2021</td>\n",
       "      <td>18088</td>\n",
       "      <td>0.93</td>\n",
       "      <td>185</td>\n",
       "      <td>10</td>\n",
       "      <td>18088</td>\n",
       "      <td>1210</td>\n",
       "      <td>0</td>\n",
       "      <td>0</td>\n",
       "      <td>0</td>\n",
       "      <td>139</td>\n",
       "      <td>1</td>\n",
       "      <td>0</td>\n",
       "      <td>0</td>\n",
       "      <td>543.636364</td>\n",
       "    </tr>\n",
       "  </tbody>\n",
       "</table>\n",
       "<p>298 rows × 15 columns</p>\n",
       "</div>"
      ],
      "text/plain": [
       "           year  population  bond  price_index  school_count  ERP_population  \\\n",
       "SA2                                                                            \n",
       "202011018  2021       14951  0.93          185            13           14951   \n",
       "202011022  2021       21060  0.93          185             9           21060   \n",
       "203031048  2021       16716  0.93          185             6           16716   \n",
       "204011062  2021        4142  0.93          185             4            4142   \n",
       "204021065  2021        4019  0.93          185             4            4019   \n",
       "...         ...         ...   ...          ...           ...             ...   \n",
       "209031209  2021       23711  0.93          185             7           23711   \n",
       "211011448  2021       15448  0.93          185             4           15448   \n",
       "213031352  2021       15653  0.93          185             5           15653   \n",
       "215011386  2021        8468  0.93          185             7            8468   \n",
       "215021469  2021       18088  0.93          185            10           18088   \n",
       "\n",
       "           median_income  metrobus_count  metrotrain_count  metrotram_count  \\\n",
       "SA2                                                                           \n",
       "202011018           1267               0                 0                0   \n",
       "202011022           1238               0                 0                0   \n",
       "203031048           1424               0                 0                0   \n",
       "204011062           1222               0                 0                0   \n",
       "204021065           1344               0                 0                0   \n",
       "...                  ...             ...               ...              ...   \n",
       "209031209           2464              68                 1                0   \n",
       "211011448           1960              79                 1                0   \n",
       "213031352           2483              86                 1                0   \n",
       "215011386           1216               0                 0                0   \n",
       "215021469           1210               0                 0                0   \n",
       "\n",
       "           regbus_count  regcoach_count  regtrain_count  skybus_count  \\\n",
       "SA2                                                                     \n",
       "202011018           142               2               1             0   \n",
       "202011022           130               3               1             0   \n",
       "203031048            74               0               0             0   \n",
       "204011062             0              10               0             0   \n",
       "204021065             7               3               0             0   \n",
       "...                 ...             ...             ...           ...   \n",
       "209031209             0               0               0             0   \n",
       "211011448             0               0               0             0   \n",
       "213031352             0               0               0             0   \n",
       "215011386            63               2               1             0   \n",
       "215021469           139               1               0             0   \n",
       "\n",
       "                 rent  \n",
       "SA2                    \n",
       "202011018  525.263158  \n",
       "202011022  425.833333  \n",
       "203031048  340.000000  \n",
       "204011062  595.000000  \n",
       "204021065  380.000000  \n",
       "...               ...  \n",
       "209031209  458.000000  \n",
       "211011448  405.000000  \n",
       "213031352  516.000000  \n",
       "215011386  648.000000  \n",
       "215021469  543.636364  \n",
       "\n",
       "[298 rows x 15 columns]"
      ]
     },
     "execution_count": 10,
     "metadata": {},
     "output_type": "execute_result"
    }
   ],
   "source": [
    "all_data"
   ]
  },
  {
   "cell_type": "markdown",
   "metadata": {},
   "source": [
    "# Feature Selection"
   ]
  },
  {
   "cell_type": "code",
   "execution_count": 11,
   "metadata": {},
   "outputs": [],
   "source": [
    "# Separate independent and dependent variables\n",
    "train_Y=np.array(all_data['rent'])\n",
    "train_X=all_data.drop(['year', 'rent'],axis=1)\n",
    "train_X_column_name=list(train_X.columns)\n",
    "train_X=np.array(train_X)\n"
   ]
  },
  {
   "cell_type": "code",
   "execution_count": 12,
   "metadata": {},
   "outputs": [
    {
     "data": {
      "text/plain": [
       "(298, 13)"
      ]
     },
     "execution_count": 12,
     "metadata": {},
     "output_type": "execute_result"
    }
   ],
   "source": [
    "train_X.shape"
   ]
  },
  {
   "cell_type": "code",
   "execution_count": 13,
   "metadata": {},
   "outputs": [
    {
     "data": {
      "text/plain": [
       "RandomForestRegressor(n_estimators=10, random_state=66)"
      ]
     },
     "execution_count": 13,
     "metadata": {},
     "output_type": "execute_result"
    }
   ],
   "source": [
    "# Build RF regression model\n",
    "random_forest_model=RandomForestRegressor(n_estimators=10,random_state=RANDOM_FOREST_SEED)\n",
    "random_forest_model.fit(train_X,train_Y)"
   ]
  },
  {
   "cell_type": "code",
   "execution_count": 14,
   "metadata": {},
   "outputs": [
    {
     "ename": "FileNotFoundError",
     "evalue": "[Errno 2] \"dot\" not found in path.",
     "output_type": "error",
     "traceback": [
      "\u001b[0;31m---------------------------------------------------------------------------\u001b[0m",
      "\u001b[0;31mFileNotFoundError\u001b[0m                         Traceback (most recent call last)",
      "\u001b[0;32m~/opt/anaconda3/lib/python3.8/site-packages/pydot.py\u001b[0m in \u001b[0;36mcreate\u001b[0;34m(self, prog, format, encoding)\u001b[0m\n\u001b[1;32m   1922\u001b[0m         \u001b[0;32mtry\u001b[0m\u001b[0;34m:\u001b[0m\u001b[0;34m\u001b[0m\u001b[0;34m\u001b[0m\u001b[0m\n\u001b[0;32m-> 1923\u001b[0;31m             stdout_data, stderr_data, process = call_graphviz(\n\u001b[0m\u001b[1;32m   1924\u001b[0m                 \u001b[0mprogram\u001b[0m\u001b[0;34m=\u001b[0m\u001b[0mprog\u001b[0m\u001b[0;34m,\u001b[0m\u001b[0;34m\u001b[0m\u001b[0;34m\u001b[0m\u001b[0m\n",
      "\u001b[0;32m~/opt/anaconda3/lib/python3.8/site-packages/pydot.py\u001b[0m in \u001b[0;36mcall_graphviz\u001b[0;34m(program, arguments, working_dir, **kwargs)\u001b[0m\n\u001b[1;32m    131\u001b[0m \u001b[0;34m\u001b[0m\u001b[0m\n\u001b[0;32m--> 132\u001b[0;31m     process = subprocess.Popen(\n\u001b[0m\u001b[1;32m    133\u001b[0m         \u001b[0mprogram_with_args\u001b[0m\u001b[0;34m,\u001b[0m\u001b[0;34m\u001b[0m\u001b[0;34m\u001b[0m\u001b[0m\n",
      "\u001b[0;32m~/opt/anaconda3/lib/python3.8/subprocess.py\u001b[0m in \u001b[0;36m__init__\u001b[0;34m(self, args, bufsize, executable, stdin, stdout, stderr, preexec_fn, close_fds, shell, cwd, env, universal_newlines, startupinfo, creationflags, restore_signals, start_new_session, pass_fds, encoding, errors, text)\u001b[0m\n\u001b[1;32m    853\u001b[0m \u001b[0;34m\u001b[0m\u001b[0m\n\u001b[0;32m--> 854\u001b[0;31m             self._execute_child(args, executable, preexec_fn, close_fds,\n\u001b[0m\u001b[1;32m    855\u001b[0m                                 \u001b[0mpass_fds\u001b[0m\u001b[0;34m,\u001b[0m \u001b[0mcwd\u001b[0m\u001b[0;34m,\u001b[0m \u001b[0menv\u001b[0m\u001b[0;34m,\u001b[0m\u001b[0;34m\u001b[0m\u001b[0;34m\u001b[0m\u001b[0m\n",
      "\u001b[0;32m~/opt/anaconda3/lib/python3.8/subprocess.py\u001b[0m in \u001b[0;36m_execute_child\u001b[0;34m(self, args, executable, preexec_fn, close_fds, pass_fds, cwd, env, startupinfo, creationflags, shell, p2cread, p2cwrite, c2pread, c2pwrite, errread, errwrite, restore_signals, start_new_session)\u001b[0m\n\u001b[1;32m   1701\u001b[0m                         \u001b[0merr_msg\u001b[0m \u001b[0;34m=\u001b[0m \u001b[0mos\u001b[0m\u001b[0;34m.\u001b[0m\u001b[0mstrerror\u001b[0m\u001b[0;34m(\u001b[0m\u001b[0merrno_num\u001b[0m\u001b[0;34m)\u001b[0m\u001b[0;34m\u001b[0m\u001b[0;34m\u001b[0m\u001b[0m\n\u001b[0;32m-> 1702\u001b[0;31m                     \u001b[0;32mraise\u001b[0m \u001b[0mchild_exception_type\u001b[0m\u001b[0;34m(\u001b[0m\u001b[0merrno_num\u001b[0m\u001b[0;34m,\u001b[0m \u001b[0merr_msg\u001b[0m\u001b[0;34m,\u001b[0m \u001b[0merr_filename\u001b[0m\u001b[0;34m)\u001b[0m\u001b[0;34m\u001b[0m\u001b[0;34m\u001b[0m\u001b[0m\n\u001b[0m\u001b[1;32m   1703\u001b[0m                 \u001b[0;32mraise\u001b[0m \u001b[0mchild_exception_type\u001b[0m\u001b[0;34m(\u001b[0m\u001b[0merr_msg\u001b[0m\u001b[0;34m)\u001b[0m\u001b[0;34m\u001b[0m\u001b[0;34m\u001b[0m\u001b[0m\n",
      "\u001b[0;31mFileNotFoundError\u001b[0m: [Errno 2] No such file or directory: 'dot'",
      "\nDuring handling of the above exception, another exception occurred:\n",
      "\u001b[0;31mFileNotFoundError\u001b[0m                         Traceback (most recent call last)",
      "\u001b[0;32m<ipython-input-14-fb8934550cfe>\u001b[0m in \u001b[0;36m<module>\u001b[0;34m\u001b[0m\n\u001b[1;32m      4\u001b[0m                 feature_names=train_X_column_name,rounded=True,precision=1)\n\u001b[1;32m      5\u001b[0m \u001b[0;34m(\u001b[0m\u001b[0mrandom_forest_graph\u001b[0m\u001b[0;34m,\u001b[0m\u001b[0;34m)\u001b[0m\u001b[0;34m=\u001b[0m\u001b[0mpydot\u001b[0m\u001b[0;34m.\u001b[0m\u001b[0mgraph_from_dot_file\u001b[0m\u001b[0;34m(\u001b[0m\u001b[0mtree_graph_dot_path\u001b[0m\u001b[0;34m)\u001b[0m\u001b[0;34m\u001b[0m\u001b[0;34m\u001b[0m\u001b[0m\n\u001b[0;32m----> 6\u001b[0;31m \u001b[0mrandom_forest_graph\u001b[0m\u001b[0;34m.\u001b[0m\u001b[0mwrite_png\u001b[0m\u001b[0;34m(\u001b[0m\u001b[0mtree_graph_png_path\u001b[0m\u001b[0;34m)\u001b[0m\u001b[0;34m\u001b[0m\u001b[0;34m\u001b[0m\u001b[0m\n\u001b[0m",
      "\u001b[0;32m~/opt/anaconda3/lib/python3.8/site-packages/pydot.py\u001b[0m in \u001b[0;36mnew_method\u001b[0;34m(path, f, prog, encoding)\u001b[0m\n\u001b[1;32m   1741\u001b[0m                     encoding=None):\n\u001b[1;32m   1742\u001b[0m                 \u001b[0;34m\"\"\"Refer to docstring of method `write.`\"\"\"\u001b[0m\u001b[0;34m\u001b[0m\u001b[0;34m\u001b[0m\u001b[0m\n\u001b[0;32m-> 1743\u001b[0;31m                 self.write(\n\u001b[0m\u001b[1;32m   1744\u001b[0m                     \u001b[0mpath\u001b[0m\u001b[0;34m,\u001b[0m \u001b[0mformat\u001b[0m\u001b[0;34m=\u001b[0m\u001b[0mf\u001b[0m\u001b[0;34m,\u001b[0m \u001b[0mprog\u001b[0m\u001b[0;34m=\u001b[0m\u001b[0mprog\u001b[0m\u001b[0;34m,\u001b[0m\u001b[0;34m\u001b[0m\u001b[0;34m\u001b[0m\u001b[0m\n\u001b[1;32m   1745\u001b[0m                     encoding=encoding)\n",
      "\u001b[0;32m~/opt/anaconda3/lib/python3.8/site-packages/pydot.py\u001b[0m in \u001b[0;36mwrite\u001b[0;34m(self, path, prog, format, encoding)\u001b[0m\n\u001b[1;32m   1826\u001b[0m                 \u001b[0mf\u001b[0m\u001b[0;34m.\u001b[0m\u001b[0mwrite\u001b[0m\u001b[0;34m(\u001b[0m\u001b[0ms\u001b[0m\u001b[0;34m)\u001b[0m\u001b[0;34m\u001b[0m\u001b[0;34m\u001b[0m\u001b[0m\n\u001b[1;32m   1827\u001b[0m         \u001b[0;32melse\u001b[0m\u001b[0;34m:\u001b[0m\u001b[0;34m\u001b[0m\u001b[0;34m\u001b[0m\u001b[0m\n\u001b[0;32m-> 1828\u001b[0;31m             \u001b[0ms\u001b[0m \u001b[0;34m=\u001b[0m \u001b[0mself\u001b[0m\u001b[0;34m.\u001b[0m\u001b[0mcreate\u001b[0m\u001b[0;34m(\u001b[0m\u001b[0mprog\u001b[0m\u001b[0;34m,\u001b[0m \u001b[0mformat\u001b[0m\u001b[0;34m,\u001b[0m \u001b[0mencoding\u001b[0m\u001b[0;34m=\u001b[0m\u001b[0mencoding\u001b[0m\u001b[0;34m)\u001b[0m\u001b[0;34m\u001b[0m\u001b[0;34m\u001b[0m\u001b[0m\n\u001b[0m\u001b[1;32m   1829\u001b[0m             \u001b[0;32mwith\u001b[0m \u001b[0mio\u001b[0m\u001b[0;34m.\u001b[0m\u001b[0mopen\u001b[0m\u001b[0;34m(\u001b[0m\u001b[0mpath\u001b[0m\u001b[0;34m,\u001b[0m \u001b[0mmode\u001b[0m\u001b[0;34m=\u001b[0m\u001b[0;34m'wb'\u001b[0m\u001b[0;34m)\u001b[0m \u001b[0;32mas\u001b[0m \u001b[0mf\u001b[0m\u001b[0;34m:\u001b[0m\u001b[0;34m\u001b[0m\u001b[0;34m\u001b[0m\u001b[0m\n\u001b[1;32m   1830\u001b[0m                 \u001b[0mf\u001b[0m\u001b[0;34m.\u001b[0m\u001b[0mwrite\u001b[0m\u001b[0;34m(\u001b[0m\u001b[0ms\u001b[0m\u001b[0;34m)\u001b[0m\u001b[0;34m\u001b[0m\u001b[0;34m\u001b[0m\u001b[0m\n",
      "\u001b[0;32m~/opt/anaconda3/lib/python3.8/site-packages/pydot.py\u001b[0m in \u001b[0;36mcreate\u001b[0;34m(self, prog, format, encoding)\u001b[0m\n\u001b[1;32m   1931\u001b[0m                 args[1] = '\"{prog}\" not found in path.'.format(\n\u001b[1;32m   1932\u001b[0m                     prog=prog)\n\u001b[0;32m-> 1933\u001b[0;31m                 \u001b[0;32mraise\u001b[0m \u001b[0mOSError\u001b[0m\u001b[0;34m(\u001b[0m\u001b[0;34m*\u001b[0m\u001b[0margs\u001b[0m\u001b[0;34m)\u001b[0m\u001b[0;34m\u001b[0m\u001b[0;34m\u001b[0m\u001b[0m\n\u001b[0m\u001b[1;32m   1934\u001b[0m             \u001b[0;32melse\u001b[0m\u001b[0;34m:\u001b[0m\u001b[0;34m\u001b[0m\u001b[0;34m\u001b[0m\u001b[0m\n\u001b[1;32m   1935\u001b[0m                 \u001b[0;32mraise\u001b[0m\u001b[0;34m\u001b[0m\u001b[0;34m\u001b[0m\u001b[0m\n",
      "\u001b[0;31mFileNotFoundError\u001b[0m: [Errno 2] \"dot\" not found in path."
     ]
    }
   ],
   "source": [
    "# Draw decision tree visualizing plot\n",
    "random_forest_tree=random_forest_model.estimators_[5]\n",
    "export_graphviz(random_forest_tree,out_file=tree_graph_dot_path,\n",
    "                feature_names=train_X_column_name,rounded=True,precision=1)\n",
    "(random_forest_graph,)=pydot.graph_from_dot_file(tree_graph_dot_path)\n",
    "random_forest_graph.write_png(tree_graph_png_path)"
   ]
  },
  {
   "cell_type": "markdown",
   "metadata": {},
   "source": [
    "![tree.png](../data/curated/rf_data/tree.png)"
   ]
  },
  {
   "cell_type": "code",
   "execution_count": 13,
   "metadata": {},
   "outputs": [
    {
     "data": {
      "text/plain": [
       "Text(0.5, 1.0, 'Variable Importances')"
      ]
     },
     "execution_count": 13,
     "metadata": {},
     "output_type": "execute_result"
    },
    {
     "data": {
      "image/png": "[encoded data removed]",
      "text/plain": [
       "<Figure size 640x480 with 1 Axes>"
      ]
     },
     "metadata": {},
     "output_type": "display_data"
    }
   ],
   "source": [
    "# Calculate the importance of variables\n",
    "\n",
    "random_forest_importance=list(random_forest_model.feature_importances_)\n",
    "random_forest_feature_importance=[(feature,round(importance,8)) \n",
    "                                  for feature, importance in zip(train_X_column_name,random_forest_importance)]\n",
    "random_forest_feature_importance=sorted(random_forest_feature_importance,key=lambda x:x[1],reverse=True)\n",
    "plt.figure(3)\n",
    "plt.clf()\n",
    "importance_plot_x_values=list(range(len(random_forest_importance)))\n",
    "plt.bar(importance_plot_x_values,random_forest_importance,orientation='vertical')\n",
    "plt.xticks(importance_plot_x_values,train_X_column_name,rotation='vertical')\n",
    "plt.xlabel('Variable')\n",
    "plt.ylabel('Importance')\n",
    "plt.title('Variable Importances')"
   ]
  },
  {
   "cell_type": "code",
   "execution_count": 18,
   "metadata": {},
   "outputs": [],
   "source": [
    "importance_dict = dict(zip(train_X_column_name, random_forest_importance))"
   ]
  },
  {
   "cell_type": "code",
   "execution_count": 24,
   "metadata": {},
   "outputs": [],
   "source": [
    "sorted_data = sorted(importance_dict.items(),key=lambda x:x[1],reverse=True)"
   ]
  },
  {
   "cell_type": "code",
   "execution_count": 29,
   "metadata": {},
   "outputs": [
    {
     "name": "stdout",
     "output_type": "stream",
     "text": [
      "median_income            0.49026\n",
      "metrotrain_count         0.09622\n",
      "population               0.08590\n",
      "regcoach_count           0.08333\n",
      "school_count             0.07346\n",
      "metrotram_count          0.07099\n",
      "ERP_population           0.06118\n",
      "metrobus_count           0.02037\n",
      "regbus_count             0.01216\n",
      "regtrain_count           0.00614\n",
      "skybus_count             0.00000\n",
      "bond                     0.00000\n",
      "price_index              0.00000\n"
     ]
    }
   ],
   "source": [
    "for fea, var in sorted_data:\n",
    "    print(f\"{fea:<25}{var:.5f}\")"
   ]
  },
  {
   "cell_type": "markdown",
   "metadata": {},
   "source": [
    "**In summary, the top 3 importance feature is `median_income, metrotrain_count,population`**"
   ]
  },
  {
   "cell_type": "code",
   "execution_count": null,
   "metadata": {},
   "outputs": [],
   "source": []
  }
 ],
 "metadata": {
  "kernelspec": {
   "display_name": "Python 3",
   "language": "python",
   "name": "python3"
  },
  "language_info": {
   "codemirror_mode": {
    "name": "ipython",
    "version": 3
   },
   "file_extension": ".py",
   "mimetype": "text/x-python",
   "name": "python",
   "nbconvert_exporter": "python",
   "pygments_lexer": "ipython3",
   "version": "3.8.3"
  }
 },
 "nbformat": 4,
 "nbformat_minor": 5
}
