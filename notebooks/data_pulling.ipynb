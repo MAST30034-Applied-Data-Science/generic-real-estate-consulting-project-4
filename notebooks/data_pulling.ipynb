{
 "cells": [
  {
   "cell_type": "markdown",
   "metadata": {},
   "source": [
    "## TO USE: run all\n",
    "\n",
    "final outputs:\n",
    "### ABS\n",
    "#### SA2 code to district names\n",
    "- ../data/raw/ABS/SA2_TO_Name.csv\n",
    "- code(int), name(String)\n",
    "\n",
    "#### Digital boundary (AUS range, manually select VIC if needed)\n",
    "- ../data/raw/ABS/digitalBoundary/SA2_2021_AUST_GDA2020.shp\n",
    "\n",
    "#### Estimated Resident Population (ERP) (2001 to 2021) (By SA2)\n",
    "- ../data/raw/ABS/ERP/ERP.csv\n",
    "- SA2 (int), year (int), population (int)\n",
    "- SA2: interger code marking each district, e.g. 206041117 for Carlton\n",
    "\n",
    "#### Median household income (weekly) (2021) (By SA2)\n",
    "- ../data/raw/ABS/Household_income/Household_income.csv\n",
    "- SA2 (int), year (int),  household_type (String), income_level (String), popultaion (int)\n",
    "\n",
    "#### Population projection (2017 - 2066) (VIC overall)\n",
    "- ../data/raw/ABS/Population/Population.csv\n",
    "- ../data/curated/population_projection.csv\n",
    "- year (int), popultaion (int)\n",
    "\n",
    "#### Residential Property Price Index (1/2011 - 12/2021) (AUS)\n",
    "- ../data/raw/ABS/Price_index/Price_index.csv\n",
    "- year (int), price_index (int)\n",
    "\n",
    "### ACARA\n",
    "#### School location\n",
    "- ../data/raw/ACARA/School_location/School_location.csv\n",
    "- School Name (String), SA2 (int), Latitude (float), Longitude (float), School Type (String)\n",
    "\n",
    "### RBA\n",
    "#### Interest rate (2013 - 2021) (AUS)\n",
    "- ../data/raw/rba/interest_rate/interest_rate.csv\n",
    "- time(int, year), bond (float, risk free interest rate)"
   ]
  },
  {
   "cell_type": "code",
   "execution_count": 1,
   "metadata": {},
   "outputs": [
    {
     "name": "stdout",
     "output_type": "stream",
     "text": [
      "22/09/15 10:22:24 WARN Utils: Your hostname, Bruce-PC resolves to a loopback address: 127.0.1.1; using 172.31.117.118 instead (on interface eth0)\n",
      "22/09/15 10:22:24 WARN Utils: Set SPARK_LOCAL_IP if you need to bind to another address\n"
     ]
    },
    {
     "name": "stderr",
     "output_type": "stream",
     "text": [
      "Setting default log level to \"WARN\".\n",
      "To adjust logging level use sc.setLogLevel(newLevel). For SparkR, use setLogLevel(newLevel).\n"
     ]
    },
    {
     "name": "stdout",
     "output_type": "stream",
     "text": [
      "22/09/15 10:22:26 WARN NativeCodeLoader: Unable to load native-hadoop library for your platform... using builtin-java classes where applicable\n",
      "22/09/15 10:22:26 WARN Utils: Service 'SparkUI' could not bind on port 4040. Attempting port 4041.\n",
      "22/09/15 10:22:26 WARN Utils: Service 'SparkUI' could not bind on port 4041. Attempting port 4042.\n"
     ]
    }
   ],
   "source": [
    "from urllib.request import urlretrieve\n",
    "import sys\n",
    "import pandas as pd\n",
    "import geopandas as gpd\n",
    "import folium\n",
    "import requests\n",
    "import math\n",
    "import zipfile\n",
    "import os\n",
    "import re\n",
    "from pyspark.sql import SparkSession\n",
    "from pyspark.sql import functions as F\n",
    "\n",
    "\n",
    "spark = (\n",
    "    SparkSession.builder.appName(\"Assignment_2\")\n",
    "    .config(\"spark.sql.repl.eagerEval.enabled\", True)\n",
    "    .config(\"spark.sql.parquet.cacheMetadata\", \"true\")\n",
    "    .config(\"spark.sql.session.timeZone\", \"Etc/UTC\")\n",
    "    .getOrCreate()\n",
    ")\n",
    "pd.options.display.float_format = \"{:,.4f}\".format\n",
    "\n",
    "OUTPUT_DIR = \"../data/raw/ABS/\"\n",
    "\n",
    "headers = {\"accept\": \"text/csv\"}"
   ]
  },
  {
   "cell_type": "code",
   "execution_count": 2,
   "metadata": {},
   "outputs": [],
   "source": [
    "def pull_direct(url, output_dir, file_name):\n",
    "    \"\"\"\n",
    "    use urlretrieve function to directly pull data from given url and save it \n",
    "        to path: {output_dir}{file_name}\n",
    "    url: the String url which needs to be pulled from\n",
    "    output_dir: the String output folder directory, automatically create if not exist\n",
    "    file_name: the String file name of the file needed to be pulled from\n",
    "    \"\"\"\n",
    "    if not os.path.exists(output_dir):\n",
    "        os.makedirs(output_dir)\n",
    "\n",
    "    try:\n",
    "        urlretrieve(url, f\"{output_dir}{file_name}\")\n",
    "        print(\n",
    "            f\"Request succeed: pulling from{url}\\nFile saved in: {output_dir}{file_name}\"\n",
    "        )\n",
    "    except Exception as e:\n",
    "        print(f\"********\\nRequest failure: \")\n",
    "        print(e)\n",
    "        print(\"********\")\n",
    "\n",
    "\n",
    "def write_file(output_dir, file_name, content, mod=\"w\"):\n",
    "    \"\"\"\n",
    "    write given content to local file at: {output_dir}{file_name} with mode: {mod}\n",
    "    output_dir: the String output folder directory, automatically create if not exist\n",
    "    file_name: the String file name used to save file\n",
    "    content: expecting objects which can be written to file with open function\n",
    "    mod: String of writing mode code used in writing file\n",
    "    \"\"\"\n",
    "    if not os.path.exists(output_dir):\n",
    "        os.makedirs(output_dir)\n",
    "\n",
    "    try:\n",
    "        with open(f\"{output_dir}{file_name}\", mod) as f:\n",
    "            f.write(content)\n",
    "    except Exception as e:\n",
    "        print(f\"****** Writing file failure: {output_dir}{file_name}\")\n",
    "        print(e)\n",
    "        print(\"******\")\n",
    "        return False\n",
    "    return True\n",
    "\n"
   ]
  },
  {
   "cell_type": "markdown",
   "metadata": {},
   "source": [
    "SA2 code to district names\n",
    "- ../data/raw/ABS/SA2_TO_Name.csv\n",
    "- code(int), name(String)"
   ]
  },
  {
   "cell_type": "code",
   "execution_count": 4,
   "metadata": {},
   "outputs": [
    {
     "name": "stdout",
     "output_type": "stream",
     "text": [
      "Request succeed: pulling fromhttps://www.abs.gov.au/statistics/standards/australian-statistical-geography-standard-asgs-edition-3/jul2021-jun2026/access-and-downloads/allocation-files/SA2_2021_AUST.xlsx\n",
      "File saved in: ../data/raw/ABS/SA2_TO_Name.xlsx\n"
     ]
    }
   ],
   "source": [
    "### Pull SA2 match table\n",
    "url = f\"https://www.abs.gov.au/statistics/standards/australian-statistical\\\n",
    "-geography-standard-asgs-edition-3/jul2021-jun2026/access-and-downloads\\\n",
    "/allocation-files/SA2_2021_AUST.xlsx\"\n",
    "file_name = \"SA2_TO_Name.xlsx\"\n",
    "pull_direct(url, OUTPUT_DIR, file_name)\n",
    "\n",
    "# Select victoria data then save\n",
    "vic_df = pd.read_excel(f\"{OUTPUT_DIR}{file_name}\")\n",
    "vic_df = vic_df.loc[vic_df[\"STATE_NAME_2021\"] == \"Victoria\"]\n",
    "vic_df = vic_df[[\"SA2_CODE_2021\", \"SA2_NAME_2021\"]].rename(\n",
    "    columns={\"SA2_CODE_2021\": \"code\", \"SA2_NAME_2021\": \"name\"}\n",
    ")\n",
    "vic_df.to_csv(f\"{OUTPUT_DIR}SA2_TO_Name.csv\")"
   ]
  },
  {
   "cell_type": "markdown",
   "metadata": {},
   "source": [
    "Digital boundary (AUS range, manually select VIC if needed)\n",
    "- ../data/raw/ABS/digitalBoundary/SA2_2021_AUST_GDA2020.shp"
   ]
  },
  {
   "cell_type": "code",
   "execution_count": 5,
   "metadata": {},
   "outputs": [
    {
     "name": "stdout",
     "output_type": "stream",
     "text": [
      "Request succeed: pulling fromhttps://www.abs.gov.au/statistics/standards/australian-statistical-geography-standard-asgs-edition-3/jul2021-jun2026/access-and-downloads/digital-boundary-files/SA2_2021_AUST_SHP_GDA2020.zip\n",
      "File saved in: ../data/raw/ABS/SA2_2021_AUST_SHP_GDA2020.zip\n"
     ]
    }
   ],
   "source": [
    "### pull shape file\n",
    "url = f\"https://www.abs.gov.au/statistics/standards/australian-statistical\\\n",
    "-geography-standard-asgs-edition-3/jul2021-jun2026/access-and-downloads\\\n",
    "/digital-boundary-files/SA2_2021_AUST_SHP_GDA2020.zip\"\n",
    "file_name = \"SA2_2021_AUST_SHP_GDA2020.zip\"\n",
    "pull_direct(url, OUTPUT_DIR, file_name)\n",
    "\n",
    "# unzip zip file\n",
    "with zipfile.ZipFile(f\"{OUTPUT_DIR}{file_name}\", \"r\") as zip_ref:\n",
    "    zip_ref.extractall(f\"{OUTPUT_DIR}digitalBoundary/\")\n"
   ]
  },
  {
   "cell_type": "markdown",
   "metadata": {},
   "source": [
    "ABS Data"
   ]
  },
  {
   "cell_type": "markdown",
   "metadata": {},
   "source": [
    "Estimated Resident Population (ERP) (2001 to 2021) (By SA2)\n",
    "- ../data/raw/ABS/ERP/ERP.csv\n",
    "- SA2 (int), year (int), population (int)\n",
    "- SA2: interger code marking each district, e.g. 206041117 for Carlton"
   ]
  },
  {
   "cell_type": "code",
   "execution_count": 6,
   "metadata": {},
   "outputs": [
    {
     "data": {
      "text/plain": [
       "True"
      ]
     },
     "execution_count": 6,
     "metadata": {},
     "output_type": "execute_result"
    }
   ],
   "source": [
    "### Pull ERP data\n",
    "url = \"https://api.data.abs.gov.au/data/ABS,ABS_ANNUAL_ERP_ASGS2021,1.2.0/.\\\n",
    "SA2..A?startPeriod=2010&endPeriod=2021&dimensionAtObservation=AllDimensions\"\n",
    "response = requests.get(url, headers=headers)\n",
    "write_file(f\"{OUTPUT_DIR}ERP/\", \"ERP_raw.csv\", response.text)"
   ]
  },
  {
   "cell_type": "code",
   "execution_count": 7,
   "metadata": {},
   "outputs": [
    {
     "name": "stdout",
     "output_type": "stream",
     "text": [
      "Before selection:\n",
      "-RECORD 0------------------------------------------\n",
      " DATAFLOW     | ABS:ABS_ANNUAL_ERP_ASGS2021(1.2.0) \n",
      " MEASURE      | ERP                                \n",
      " REGION_TYPE  | SA2                                \n",
      " ASGS_2021    | 101021010                          \n",
      " FREQ         | A                                  \n",
      " TIME_PERIOD  | 2010                               \n",
      " OBS_VALUE    | 4813                               \n",
      " UNIT_MEASURE | PSNS                               \n",
      " OBS_STATUS   | null                               \n",
      " OBS_COMMENT  | null                               \n",
      "-RECORD 1------------------------------------------\n",
      " DATAFLOW     | ABS:ABS_ANNUAL_ERP_ASGS2021(1.2.0) \n",
      " MEASURE      | ERP                                \n",
      " REGION_TYPE  | SA2                                \n",
      " ASGS_2021    | 101021010                          \n",
      " FREQ         | A                                  \n",
      " TIME_PERIOD  | 2011                               \n",
      " OBS_VALUE    | 4951                               \n",
      " UNIT_MEASURE | PSNS                               \n",
      " OBS_STATUS   | null                               \n",
      " OBS_COMMENT  | null                               \n",
      "only showing top 2 rows\n",
      "\n",
      "After selection:\n",
      "-RECORD 0---------------\n",
      " SA2        | 201011481 \n",
      " year       | 2010      \n",
      " population | 8664      \n",
      "-RECORD 1---------------\n",
      " SA2        | 201011481 \n",
      " year       | 2011      \n",
      " population | 8814      \n",
      "only showing top 2 rows\n",
      "\n"
     ]
    }
   ],
   "source": [
    "# read file\n",
    "erp_sdf = spark.read.csv(f\"{OUTPUT_DIR}ERP/ERP_raw.csv\", header=True)\n",
    "print(\"Before selection:\")\n",
    "erp_sdf.show(2, vertical=True, truncate=100)\n",
    "\n",
    "# feature selection / rename / reset datatype\n",
    "erp_sdf = erp_sdf[[\"ASGS_2021\", \"TIME_PERIOD\", \"OBS_VALUE\"]]\n",
    "erp_sdf = (\n",
    "    erp_sdf.withColumnRenamed(\"ASGS_2021\", \"SA2\")\n",
    "    .withColumn(\"SA2\", F.col(\"SA2\").cast(\"int\"))\n",
    "    .withColumnRenamed(\"TIME_PERIOD\", \"year\")\n",
    "    .withColumn(\"year\", F.col(\"year\").cast(\"int\"))\n",
    "    .withColumnRenamed(\"OBS_VALUE\", \"population\")\n",
    "    .withColumn(\"population\", F.col(\"population\").cast(\"int\"))\n",
    ")\n",
    "\n",
    "# Filter: victoria SA2\n",
    "vic_df = pd.read_csv(f\"{OUTPUT_DIR}SA2_TO_Name.csv\")\n",
    "vic_sa2 = vic_df[\"code\"].tolist()\n",
    "erp_sdf = erp_sdf.filter(F.col(\"SA2\").isin(vic_sa2))\n",
    "\n",
    "# save file\n",
    "print(\"After selection:\")\n",
    "erp_sdf.show(2, vertical=True, truncate=100)\n",
    "erp_sdf.write.option(\"header\", True).mode(\"overwrite\").csv(f\"{OUTPUT_DIR}ERP/ERP.csv\")\n"
   ]
  },
  {
   "cell_type": "markdown",
   "metadata": {},
   "source": [
    "Median household income (weekly) (2021) (By SA2)\n",
    "- ../data/raw/ABS/Household_income/Household_income.csv\n",
    "- SA2 (int), year (int),  household_type (String), income_level (String), popultaion (int)"
   ]
  },
  {
   "cell_type": "code",
   "execution_count": 8,
   "metadata": {},
   "outputs": [
    {
     "data": {
      "text/plain": [
       "True"
      ]
     },
     "execution_count": 8,
     "metadata": {},
     "output_type": "execute_result"
    }
   ],
   "source": [
    "### pull median household income data\n",
    "url = f\"https://api.data.abs.gov.au/data/ABS,C21_G02_SA2,1.0.0/4..SA2.2?startPeriod=2021&dimensionAtObservation=AllDimensions\"\n",
    "response = requests.get(url, headers=headers)\n",
    "write_file(f\"{OUTPUT_DIR}Household_income/\", \"Household_income_raw.csv\",\n",
    "            response.text)"
   ]
  },
  {
   "cell_type": "code",
   "execution_count": 9,
   "metadata": {},
   "outputs": [
    {
     "name": "stdout",
     "output_type": "stream",
     "text": [
      "Before selection:\n",
      "-RECORD 0-----------------------------\n",
      " DATAFLOW    | ABS:C21_G02_SA2(1.0.0) \n",
      " MEDAVG      | 4                      \n",
      " REGION      | 213051589              \n",
      " REGION_TYPE | SA2                    \n",
      " STATE       | 2                      \n",
      " TIME_PERIOD | 2021                   \n",
      " OBS_VALUE   | 1862                   \n",
      "-RECORD 1-----------------------------\n",
      " DATAFLOW    | ABS:C21_G02_SA2(1.0.0) \n",
      " MEDAVG      | 4                      \n",
      " REGION      | 209041437              \n",
      " REGION_TYPE | SA2                    \n",
      " STATE       | 2                      \n",
      " TIME_PERIOD | 2021                   \n",
      " OBS_VALUE   | 1979                   \n",
      "only showing top 2 rows\n",
      "\n",
      "Before after:\n",
      "-RECORD 0------------------\n",
      " SA2           | 213051589 \n",
      " median_income | 1862      \n",
      "-RECORD 1------------------\n",
      " SA2           | 209041437 \n",
      " median_income | 1979      \n",
      "only showing top 2 rows\n",
      "\n"
     ]
    }
   ],
   "source": [
    "# read file\n",
    "income_sdf = spark.read.csv(\n",
    "    f\"{OUTPUT_DIR}Household_income/Household_income_raw.csv\", header=True\n",
    ")\n",
    "print(\"Before selection:\")\n",
    "income_sdf.show(2, vertical=True, truncate=100)\n",
    "\n",
    "# filt data / rename\n",
    "income_sdf = income_sdf[[\"REGION\", \"OBS_VALUE\"]]\n",
    "income_sdf = (\n",
    "    income_sdf.withColumnRenamed(\"REGION\", \"SA2\")\n",
    "    .withColumn(\"SA2\", F.col(\"SA2\").cast(\"int\"))\n",
    "    .withColumnRenamed(\"OBS_VALUE\", \"median_income\")\n",
    "    .withColumn(\"median_income\", F.col(\"median_income\").cast(\"int\"))\n",
    ")\n",
    "\n",
    "# save data\n",
    "print(\"Before after:\")\n",
    "income_sdf.show(2, vertical=True, truncate=100)\n",
    "income_sdf.write.option(\"header\", True).mode(\"overwrite\").csv(\n",
    "    f\"{OUTPUT_DIR}Household_income/Household_income.csv\"\n",
    ")"
   ]
  },
  {
   "cell_type": "markdown",
   "metadata": {},
   "source": [
    "Population projection (2017 - 2066) (VIC overall)\n",
    "- ../data/raw/ABS/Population/Population.csv\n",
    "- year (int), popultaion (int)"
   ]
  },
  {
   "cell_type": "code",
   "execution_count": 10,
   "metadata": {},
   "outputs": [
    {
     "data": {
      "text/plain": [
       "True"
      ]
     },
     "execution_count": 10,
     "metadata": {},
     "output_type": "execute_result"
    }
   ],
   "source": [
    "### pull popultation projection data\n",
    "url = \"https://api.data.abs.gov.au/data/ABS,POP_PROJ_REGION_2012_2061,\\\n",
    "1.0.0/2.3.TT.1.1.1.1.A?startPeriod=2017&dimensionAtObservation=AllDimensions\"\n",
    "response = requests.get(url, headers=headers)\n",
    "write_file(f\"{OUTPUT_DIR}Population/\", \"Population_raw.csv\", response.text)\n"
   ]
  },
  {
   "cell_type": "code",
   "execution_count": 3,
   "metadata": {},
   "outputs": [
    {
     "name": "stdout",
     "output_type": "stream",
     "text": [
      "Before selection:\n",
      "-RECORD 0--------------------------------------------\n",
      " DATAFLOW     | ABS:POP_PROJ_REGION_2012_2061(1.0.0) \n",
      " REGION       | 2                                    \n",
      " SEX_ABS      | 3                                    \n",
      " AGE          | TT                                   \n",
      " FERTILITY    | 1                                    \n",
      " MORTALITY    | 1                                    \n",
      " NOM          | 1                                    \n",
      " NIM          | 1                                    \n",
      " FREQUENCY    | A                                    \n",
      " TIME_PERIOD  | 2017                                 \n",
      " OBS_VALUE    | 6321648                              \n",
      " UNIT_MEASURE | PSNS                                 \n",
      " OBS_STATUS   | null                                 \n",
      " OBS_COMMENT  | null                                 \n",
      "-RECORD 1--------------------------------------------\n",
      " DATAFLOW     | ABS:POP_PROJ_REGION_2012_2061(1.0.0) \n",
      " REGION       | 2                                    \n",
      " SEX_ABS      | 3                                    \n",
      " AGE          | TT                                   \n",
      " FERTILITY    | 1                                    \n",
      " MORTALITY    | 1                                    \n",
      " NOM          | 1                                    \n",
      " NIM          | 1                                    \n",
      " FREQUENCY    | A                                    \n",
      " TIME_PERIOD  | 2018                                 \n",
      " OBS_VALUE    | 6471149                              \n",
      " UNIT_MEASURE | PSNS                                 \n",
      " OBS_STATUS   | null                                 \n",
      " OBS_COMMENT  | null                                 \n",
      "only showing top 2 rows\n",
      "\n",
      "After selection:\n",
      "-RECORD 0-------------\n",
      " year       | 2017    \n",
      " popultaion | 6321648 \n",
      "-RECORD 1-------------\n",
      " year       | 2018    \n",
      " popultaion | 6471149 \n",
      "only showing top 2 rows\n",
      "\n"
     ]
    }
   ],
   "source": [
    "# read data\n",
    "population_sdf = spark.read.csv(\n",
    "    f\"{OUTPUT_DIR}Population/Population_raw.csv\", header=True\n",
    ")\n",
    "print(\"Before selection:\")\n",
    "population_sdf.show(2, vertical=True, truncate=100)\n",
    "\n",
    "# feature selection / rename / reset datatype\n",
    "population_sdf = population_sdf[[\"TIME_PERIOD\", \"OBS_VALUE\"]]\n",
    "population_sdf = (\n",
    "    population_sdf.withColumnRenamed(\"TIME_PERIOD\", \"year\")\n",
    "    .withColumn(\"year\", F.col(\"year\").cast(\"int\"))\n",
    "    .withColumnRenamed(\"OBS_VALUE\", \"popultaion\")\n",
    "    .withColumn(\"popultaion\", F.col(\"popultaion\").cast(\"int\"))\n",
    ")\n",
    "\n",
    "# save modified file\n",
    "print(\"After selection:\")\n",
    "population_sdf.show(2, vertical=True, truncate=100)\n",
    "population_sdf.write.option(\"header\", True).mode(\"overwrite\").csv(\n",
    "    f\"{OUTPUT_DIR}Population/Population.csv\"\n",
    ")\n",
    "population_sdf.write.option(\"header\", True).mode(\"overwrite\").csv(\n",
    "    f\"../data/curated/population_projection.csv\"\n",
    ")"
   ]
  },
  {
   "cell_type": "markdown",
   "metadata": {},
   "source": [
    "Residential Property Price Index (1/2011 - 12/2021) (AUS)\n",
    "- ../data/raw/ABS/Price_index/Price_index.csv\n",
    "- year (int), price_index (int)"
   ]
  },
  {
   "cell_type": "code",
   "execution_count": 12,
   "metadata": {},
   "outputs": [
    {
     "data": {
      "text/plain": [
       "True"
      ]
     },
     "execution_count": 12,
     "metadata": {},
     "output_type": "execute_result"
    }
   ],
   "source": [
    "output_dir = f\"../data/raw/ABS/\"\n",
    "\n",
    "### Pull Price_index data\n",
    "url = \"https://api.data.abs.gov.au/data/ABS,RPPI,1.0.0/1.3.2GMEL.Q?startPeriod=2011-Q1&endPeriod=2021-Q4&dimensionAtObservation=AllDimensions\"\n",
    "response = requests.get(url, headers=headers)\n",
    "write_file(f\"{output_dir}Price_index/\", \"Price_index_raw.csv\", response.text)\n"
   ]
  },
  {
   "cell_type": "code",
   "execution_count": 13,
   "metadata": {},
   "outputs": [
    {
     "name": "stdout",
     "output_type": "stream",
     "text": [
      "Before selection:\n",
      "-RECORD 0------------------------\n",
      " DATAFLOW      | ABS:RPPI(1.0.0) \n",
      " MEASURE       | 1               \n",
      " PROPERTY_TYPE | 3               \n",
      " REGION        | 2GMEL           \n",
      " FREQ          | Q               \n",
      " TIME_PERIOD   | 2011-Q1         \n",
      " OBS_VALUE     | 104.7           \n",
      " UNIT_MEASURE  | IN              \n",
      " OBS_STATUS    | null            \n",
      " OBS_COMMENT   | null            \n",
      "-RECORD 1------------------------\n",
      " DATAFLOW      | ABS:RPPI(1.0.0) \n",
      " MEASURE       | 1               \n",
      " PROPERTY_TYPE | 3               \n",
      " REGION        | 2GMEL           \n",
      " FREQ          | Q               \n",
      " TIME_PERIOD   | 2011-Q2         \n",
      " OBS_VALUE     | 103.5           \n",
      " UNIT_MEASURE  | IN              \n",
      " OBS_STATUS    | null            \n",
      " OBS_COMMENT   | null            \n",
      "only showing top 2 rows\n",
      "\n",
      "After selection:\n",
      "-RECORD 0-----------\n",
      " year        | 2011 \n",
      " price_index | 100  \n",
      "-RECORD 1-----------\n",
      " year        | 2012 \n",
      " price_index | 100  \n",
      "only showing top 2 rows\n",
      "\n"
     ]
    }
   ],
   "source": [
    "# read file\n",
    "price_sdf = spark.read.csv(f\"{output_dir}Price_index/Price_index_raw.csv\", header=True)\n",
    "print(\"Before selection:\")\n",
    "price_sdf.show(2, vertical=True, truncate=100)\n",
    "\n",
    "# feature selection / rename / reset datatype\n",
    "price_sdf = price_sdf[[\"TIME_PERIOD\", \"OBS_VALUE\"]]\n",
    "price_sdf = (\n",
    "    price_sdf.withColumnRenamed(\"TIME_PERIOD\", \"year\")\n",
    "    .withColumnRenamed(\"OBS_VALUE\", \"price_index\")\n",
    "    .withColumn(\"price_index\", F.col(\"price_index\").cast(\"int\"))\n",
    ")\n",
    "price_sdf = price_sdf.filter(F.col(\"year\").contains(\"Q4\"))\n",
    "price_sdf = price_sdf.withColumn(\"year\", F.substring(\"year\", 1, 4).cast(\"int\"))\n",
    "\n",
    "# save file\n",
    "print(\"After selection:\")\n",
    "price_sdf.show(2, vertical=True, truncate=100)\n",
    "price_sdf.write.option(\"header\", True).mode(\"overwrite\").csv(\n",
    "    f\"{output_dir}Price_index/Price_index.csv\"\n",
    ")\n"
   ]
  },
  {
   "cell_type": "markdown",
   "metadata": {},
   "source": [
    "## ACARA"
   ]
  },
  {
   "cell_type": "markdown",
   "metadata": {},
   "source": [
    "#### School location\n",
    "- ../data/raw/ACARA/School_location/School_location.csv\n",
    "- School Name (String), SA2 (int), Latitude (float), Longitude (float), School Type (String)"
   ]
  },
  {
   "cell_type": "code",
   "execution_count": 5,
   "metadata": {},
   "outputs": [
    {
     "data": {
      "text/plain": [
       "True"
      ]
     },
     "execution_count": 5,
     "metadata": {},
     "output_type": "execute_result"
    }
   ],
   "source": [
    "output_dir = f\"../data/raw/ACARA/\"\n",
    "\n",
    "# pull school location file\n",
    "url = \"https://www.acara.edu.au/docs/default-source/default-document-\\\n",
    "library/school-location-2021e23a2f404c94637ead88ff00003e0139.xlsx\\\n",
    "?sfvrsn=51ae4c07_0\"\n",
    "response = requests.get(url)\n",
    "write_file(f\"{output_dir}\", \"School_location_raw.xlsx\",\n",
    "            response.content, \"wb\")\n",
    "# pull_direct(url, output_dir, f\"School_location.xlsx\")"
   ]
  },
  {
   "cell_type": "code",
   "execution_count": 10,
   "metadata": {},
   "outputs": [],
   "source": [
    "output_dir = f\"../data/raw/ACARA/\"\n",
    "\n",
    "# prepare boundary gdf\n",
    "boundary_df = pd.DataFrame(gpd.read_file(f\"../data/raw/ABS/digitalBoundary/\\\n",
    "SA2_2021_AUST_GDA2020.shp\")).rename(columns={\"SA2_CODE21\": \"SA2\"})\n",
    "boundary_df = boundary_df.loc[boundary_df[\"STE_NAME21\"] == \"Victoria\"][[\"SA2\"]]\n",
    "boundary_df[\"SA2\"] = pd.to_numeric(boundary_df[\"SA2\"])\n",
    "\n",
    "# feature selection / VIC filtering\n",
    "school_df = pd.read_excel(\n",
    "    f\"{output_dir}School_location_raw.xlsx\",\n",
    "    sheet_name=\"SchoolLocations 2021\",\n",
    ")[[\"School Name\", \"Statistical Area 2\", \"State\", \"Latitude\", \n",
    "    \"Longitude\", \"School Type\"]]\n",
    "school_df = school_df.loc[school_df[\"School Type\"] != \"Special\"]\n",
    "school_df = school_df.loc[school_df[\"State\"] == \"VIC\"]\n",
    "school_df = school_df.rename(columns={\"Statistical Area 2\": \"SA2\"})\n",
    "school_df = school_df.drop(columns=\"State\")\n",
    "school_df = school_df.dropna()\n",
    "\n",
    "# right join\n",
    "school_df = pd.merge(school_df, boundary_df, on=\"SA2\", how=\"right\")\n",
    "\n",
    "# add index\n",
    "school_df[\"school_id\"] = range(school_df.shape[0])\n",
    "school_df = school_df.reset_index().set_index(\"school_id\").drop([\"index\"], axis=1)\n",
    "\n",
    "print(school_df.head())\n",
    "print(school_df.shape)\n",
    "\n",
    "# save filtered data\n",
    "school_df = school_df.dropna().drop_duplicates()\n",
    "school_df.to_csv(f\"{output_dir}School_location.csv\")\n"
   ]
  },
  {
   "cell_type": "markdown",
   "metadata": {},
   "source": [
    "Interest rate (2013 - 2021) (AUS)"
   ]
  },
  {
   "cell_type": "code",
   "execution_count": 16,
   "metadata": {},
   "outputs": [
    {
     "data": {
      "text/plain": [
       "True"
      ]
     },
     "execution_count": 16,
     "metadata": {},
     "output_type": "execute_result"
    }
   ],
   "source": [
    "output_dir = f\"../data/raw/rba/\"\n",
    "\n",
    "### Pull Price_index data\n",
    "url = \"https://www.rba.gov.au/statistics/tables/csv/f2.1-data.csv?v=2022-09-08-09-00-18\"\n",
    "response = requests.get(url, headers=headers)\n",
    "write_file(f\"{output_dir}interest_rate/\", \"interest_rate_raw.csv\", response.text)\n"
   ]
  },
  {
   "cell_type": "code",
   "execution_count": 24,
   "metadata": {},
   "outputs": [
    {
     "name": "stdout",
     "output_type": "stream",
     "text": [
      "    year   bond\n",
      "16  2013 2.9600\n",
      "28  2014 2.2800\n",
      "40  2015 2.1000\n",
      "52  2016 1.9700\n",
      "64  2017 2.0300\n"
     ]
    }
   ],
   "source": [
    "# read file\n",
    "interest_df = pd.read_csv(f\"{output_dir}interest_rate/interest_rate_raw.csv\")\n",
    "\n",
    "# data cleaning and renaming\n",
    "col_names = [\"time\"] + list(interest_df.iloc[[0]].values[0][1:])\n",
    "interest_df = interest_df.iloc[11:]\n",
    "interest_df.columns = col_names\n",
    "interest_df = interest_df[[\"time\", \"Commonwealth Government 3 year bond\"]]\n",
    "\n",
    "# data selection (fourth quarter bond)\n",
    "interest_df.columns = [\"time\", \"bond\"]\n",
    "interest_df = interest_df.loc[interest_df[\"time\"].str.contains(\"Dec\")]\n",
    "digit_re = re.compile(r\"(\\d+)\")\n",
    "interest_df[\"time\"] = interest_df[\"time\"].apply(lambda x: int(digit_re.findall(x)[0]))\n",
    "\n",
    "# rename and change datatype\n",
    "interest_df = interest_df.rename(columns={\"time\": \"year\"})\n",
    "interest_df[\"bond\"] = interest_df[\"bond\"].astype(\"float\")\n",
    "\n",
    "# save data\n",
    "print(interest_df.head())\n",
    "interest_df.to_csv(f\"{output_dir}interest_rate/interest_rate.csv\")\n"
   ]
  }
 ],
 "metadata": {
  "kernelspec": {
   "display_name": "Python 3 (ipykernel)",
   "language": "python",
   "name": "python3"
  },
  "language_info": {
   "codemirror_mode": {
    "name": "ipython",
    "version": 3
   },
   "file_extension": ".py",
   "mimetype": "text/x-python",
   "name": "python",
   "nbconvert_exporter": "python",
   "pygments_lexer": "ipython3",
   "version": "3.8.10"
  },
  "orig_nbformat": 4,
  "vscode": {
   "interpreter": {
    "hash": "a14281423cfd62cfe9e63b7bdf907d0748b184f9fa760eb066fe3be6cb6246e1"
   }
  }
 },
 "nbformat": 4,
 "nbformat_minor": 2
}
