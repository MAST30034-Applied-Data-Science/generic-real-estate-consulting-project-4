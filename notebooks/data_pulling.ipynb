{
 "cells": [
  {
   "cell_type": "markdown",
   "metadata": {},
   "source": [
    "ORDER:\n",
    "- data_pulling, scrapy_VL, path_finding, data_processing, data_merging_VL"
   ]
  },
  {
   "cell_type": "markdown",
   "metadata": {},
   "source": [
    "## TO USE: run all\n",
    "\n",
    "final outputs:\n",
    "## ABS\n",
    "#### SA2 code to district names\n",
    "- ../data/raw/ABS/SA2_TO_Name.csv\n",
    "- code(int), name(String)\n",
    "\n",
    "#### Digital boundary (AUS range, manually select VIC if needed)\n",
    "- ../data/raw/ABS/digitalBoundary/SA2_2021_AUST_GDA2020.shp\n",
    "\n",
    "#### LGA\n",
    "- ../data/raw/LGA_to_SA2.csv\n",
    "- SA2 (int), LGA (int), LGA_NAME22 (str)\n",
    "- (SA2, LGA) pairs are unique\n",
    "\n",
    "#### Estimated Resident Population (ERP) (2001 to 2021) (By SA2)\n",
    "- ../data/raw/ABS/ERP/ERP.csv\n",
    "- SA2 (int), year (int), population (int)\n",
    "- SA2: interger code marking each district, e.g. 206041117 for Carlton\n",
    "\n",
    "#### Median household income (weekly) (2021) (By SA2)\n",
    "- ../data/raw/ABS/Household_income/Household_income.csv\n",
    "- SA2 (int), year (int),  household_type (String), income_level (String), popultaion (int)\n",
    "\n",
    "#### Population projection (2017 - 2066) (VIC overall)\n",
    "- ../data/raw/ABS/Population/Population.csv\n",
    "- ../data/curated/population_projection.csv\n",
    "- year (int), popultaion (int)\n",
    "\n",
    "#### Residential Property Price Index (1/2011 - 12/2021) (AUS)\n",
    "- ../data/raw/ABS/Price_index/Price_index.csv\n",
    "- year (int), month (int), price_index (int)\n",
    "\n",
    "#### Immigration data, 2004 - 2019, Victoria only\n",
    "- ../data/raw/ABS/immigration/immigration.csv\n",
    "- year (int), immi_count (int)\n",
    "\n",
    "#### Household debt income ratio measured on each two years In Millions (2009-2019) (Victoria only)\n",
    "- ../data/raw/ABS/debt_income_ratio/debt_income_ratio.csv\n",
    "- year (int), debt_ratio (float)\n",
    "\n",
    "\n",
    "### ACARA\n",
    "#### School location\n",
    "- ../data/raw/ACARA/School_location/School_location.csv\n",
    "- School Name (String), SA2 (int), Latitude (float), Longitude (float), School Type (String)\n",
    "\n",
    "### RBA\n",
    "#### Interest rate (2013 - 2021) (AUS)\n",
    "- ../data/raw/rba/interest_rate/interest_rate.csv\n",
    "- year(int), quarter(int), month(int), bond (float, risk free interest rate)\n",
    "#### Exchange Rate (2010 March - 2022 June) AUS\n",
    "- ../data/raw/rba/exchange_rate/exchange_rate.csv\n",
    "- year (int), quarter (int), month (int), to_USD (float)\n",
    "\n",
    "\n",
    "### Other Source\n",
    "#### Median rent (1999 - 2021) BY sa2\n",
    "- ../data/raw/DHHS/history_rent.csv\n",
    "- SA2 (int), year (int), quarter (int), count (int), median (float)"
   ]
  },
  {
   "cell_type": "code",
   "execution_count": 1,
   "metadata": {},
   "outputs": [
    {
     "name": "stdout",
     "output_type": "stream",
     "text": [
      "22/09/28 19:16:55 WARN Utils: Your hostname, Bruce-PC resolves to a loopback address: 127.0.1.1; using 172.22.204.2 instead (on interface eth0)\n",
      "22/09/28 19:16:55 WARN Utils: Set SPARK_LOCAL_IP if you need to bind to another address\n"
     ]
    },
    {
     "name": "stderr",
     "output_type": "stream",
     "text": [
      "Setting default log level to \"WARN\".\n",
      "To adjust logging level use sc.setLogLevel(newLevel). For SparkR, use setLogLevel(newLevel).\n"
     ]
    },
    {
     "name": "stdout",
     "output_type": "stream",
     "text": [
      "22/09/28 19:16:56 WARN NativeCodeLoader: Unable to load native-hadoop library for your platform... using builtin-java classes where applicable\n",
      "22/09/28 19:16:57 WARN Utils: Service 'SparkUI' could not bind on port 4040. Attempting port 4041.\n"
     ]
    }
   ],
   "source": [
    "from urllib.request import urlretrieve\n",
    "import sys\n",
    "import pandas as pd\n",
    "import geopandas as gpd\n",
    "import requests\n",
    "import math\n",
    "import zipfile\n",
    "import os\n",
    "import re\n",
    "from pyspark.sql import SparkSession\n",
    "from pyspark.sql import functions as F\n",
    "\n",
    "\n",
    "\n",
    "spark = (\n",
    "    SparkSession.builder.appName(\"Assignment_2\")\n",
    "    .config(\"spark.sql.repl.eagerEval.enabled\", True)\n",
    "    .config(\"spark.sql.parquet.cacheMetadata\", \"true\")\n",
    "    .config(\"spark.sql.session.timeZone\", \"Etc/UTC\")\n",
    "    .getOrCreate()\n",
    ")\n",
    "pd.options.display.float_format = \"{:,.4f}\".format\n",
    "\n",
    "OUTPUT_DIR = \"../data/raw/ABS/\"\n",
    "\n",
    "headers = {\"accept\": \"text/csv\"}"
   ]
  },
  {
   "cell_type": "code",
   "execution_count": 2,
   "metadata": {},
   "outputs": [],
   "source": [
    "def pull_direct(url, output_dir, file_name):\n",
    "    \"\"\"\n",
    "    use urlretrieve function to directly pull data from given url and save it \n",
    "        to path: {output_dir}{file_name}\n",
    "    url: the String url which needs to be pulled from\n",
    "    output_dir: the String output folder directory, automatically create if not exist\n",
    "    file_name: the String file name of the file needed to be pulled from\n",
    "    \"\"\"\n",
    "    if not os.path.exists(output_dir):\n",
    "        os.makedirs(output_dir)\n",
    "\n",
    "    try:\n",
    "        urlretrieve(url, f\"{output_dir}{file_name}\")\n",
    "        print(\n",
    "            f\"Request succeed: pulling from{url}\\nFile saved in: {output_dir}{file_name}\"\n",
    "        )\n",
    "    except Exception as e:\n",
    "        print(f\"********\\nRequest failure: \")\n",
    "        print(e)\n",
    "        print(\"********\")\n",
    "\n",
    "\n",
    "def write_file(output_dir, file_name, content, mod=\"w\"):\n",
    "    \"\"\"\n",
    "    write given content to local file at: {output_dir}{file_name} with mode: {mod}\n",
    "    output_dir: the String output folder directory, automatically create if not exist\n",
    "    file_name: the String file name used to save file\n",
    "    content: expecting objects which can be written to file with open function\n",
    "    mod: String of writing mode code used in writing file\n",
    "    \"\"\"\n",
    "    if not os.path.exists(output_dir):\n",
    "        os.makedirs(output_dir)\n",
    "\n",
    "    try:\n",
    "        with open(f\"{output_dir}{file_name}\", mod) as f:\n",
    "            f.write(content)\n",
    "    except Exception as e:\n",
    "        print(f\"****** Writing file failure: {output_dir}{file_name}\")\n",
    "        print(e)\n",
    "        print(\"******\")\n",
    "        return False\n",
    "    return True\n",
    "\n"
   ]
  },
  {
   "cell_type": "markdown",
   "metadata": {},
   "source": [
    "## ABS"
   ]
  },
  {
   "cell_type": "markdown",
   "metadata": {},
   "source": [
    "#### SA2 code to district names\n",
    "- ../data/raw/ABS/SA2_TO_Name.csv\n",
    "- code(int), name(String)"
   ]
  },
  {
   "cell_type": "code",
   "execution_count": 5,
   "metadata": {},
   "outputs": [
    {
     "name": "stdout",
     "output_type": "stream",
     "text": [
      "Request succeed: pulling fromhttps://www.abs.gov.au/statistics/standards/australian-statistical-geography-standard-asgs-edition-3/jul2021-jun2026/access-and-downloads/allocation-files/SA2_2021_AUST.xlsx\n",
      "File saved in: ../data/raw/ABS/SA2_TO_Name.xlsx\n"
     ]
    }
   ],
   "source": [
    "### Pull SA2 match table\n",
    "url = f\"https://www.abs.gov.au/statistics/standards/australian-statistical\\\n",
    "-geography-standard-asgs-edition-3/jul2021-jun2026/access-and-downloads\\\n",
    "/allocation-files/SA2_2021_AUST.xlsx\"\n",
    "file_name = \"SA2_TO_Name.xlsx\"\n",
    "pull_direct(url, OUTPUT_DIR, file_name)\n",
    "\n",
    "# Select victoria data then save\n",
    "vic_df = pd.read_excel(f\"{OUTPUT_DIR}{file_name}\")\n",
    "vic_df = vic_df.loc[vic_df[\"STATE_NAME_2021\"] == \"Victoria\"]\n",
    "vic_df = vic_df[[\"SA2_CODE_2021\", \"SA2_NAME_2021\"]].rename(\n",
    "    columns={\"SA2_CODE_2021\": \"code\", \"SA2_NAME_2021\": \"name\"}\n",
    ")\n",
    "vic_df.to_csv(f\"{OUTPUT_DIR}SA2_TO_Name.csv\")"
   ]
  },
  {
   "cell_type": "markdown",
   "metadata": {},
   "source": [
    "#### Digital boundary (AUS range, manually select VIC if needed)\n",
    "- ../data/raw/ABS/digitalBoundary/SA2_2021_AUST_GDA2020.shp"
   ]
  },
  {
   "cell_type": "code",
   "execution_count": 6,
   "metadata": {},
   "outputs": [
    {
     "name": "stdout",
     "output_type": "stream",
     "text": [
      "Request succeed: pulling fromhttps://www.abs.gov.au/statistics/standards/australian-statistical-geography-standard-asgs-edition-3/jul2021-jun2026/access-and-downloads/digital-boundary-files/SA2_2021_AUST_SHP_GDA2020.zip\n",
      "File saved in: ../data/raw/ABS/SA2_2021_AUST_SHP_GDA2020.zip\n"
     ]
    }
   ],
   "source": [
    "### pull shape file\n",
    "url = f\"https://www.abs.gov.au/statistics/standards/australian-statistical\\\n",
    "-geography-standard-asgs-edition-3/jul2021-jun2026/access-and-downloads\\\n",
    "/digital-boundary-files/SA2_2021_AUST_SHP_GDA2020.zip\"\n",
    "file_name = \"SA2_2021_AUST_SHP_GDA2020.zip\"\n",
    "pull_direct(url, OUTPUT_DIR, file_name)\n",
    "\n",
    "# unzip zip file\n",
    "with zipfile.ZipFile(f\"{OUTPUT_DIR}{file_name}\", \"r\") as zip_ref:\n",
    "    zip_ref.extractall(f\"{OUTPUT_DIR}digitalBoundary/\")\n"
   ]
  },
  {
   "cell_type": "markdown",
   "metadata": {},
   "source": [
    "### LGA\n",
    "- ../data/raw/LGA_to_SA2.csv\n",
    "- SA2 (int), LGA (int), LGA_NAME22 (str)\n",
    "- (SA2, LGA) pairs are unique"
   ]
  },
  {
   "cell_type": "code",
   "execution_count": 7,
   "metadata": {},
   "outputs": [
    {
     "name": "stdout",
     "output_type": "stream",
     "text": [
      "Request succeed: pulling fromhttps://www.abs.gov.au/statistics/standards/australian-statistical-geography-standard-asgs-edition-3/jul2021-jun2026/access-and-downloads/digital-boundary-files/LGA_2022_AUST_GDA2020_SHP.zip\n",
      "File saved in: ../data/raw/ABS/LGA_2022_AUST_GDA2020_SHP.zip\n"
     ]
    }
   ],
   "source": [
    "output_dir = \"../data/raw/ABS/\"\n",
    "\n",
    "### pull shape file\n",
    "url = f\"https://www.abs.gov.au/statistics/standards/australian-statistical\\\n",
    "-geography-standard-asgs-edition-3/jul2021-jun2026/access-and-downloads/\\\n",
    "digital-boundary-files/LGA_2022_AUST_GDA2020_SHP.zip\"\n",
    "file_name = \"LGA_2022_AUST_GDA2020_SHP.zip\"\n",
    "pull_direct(url, output_dir, file_name)\n",
    "\n",
    "# unzip zip file\n",
    "with zipfile.ZipFile(f\"{output_dir}{file_name}\", \"r\") as zip_ref:\n",
    "    zip_ref.extractall(f\"{output_dir}LGA/\")\n"
   ]
  },
  {
   "cell_type": "code",
   "execution_count": 8,
   "metadata": {},
   "outputs": [
    {
     "name": "stdout",
     "output_type": "stream",
     "text": [
      "(82, 2)\n",
      "Index(['LGA_NAME22', 'geometry'], dtype='object')\n",
      "       LGA_NAME22                                           geometry\n",
      "LGA                                                                 \n",
      "20110      Alpine  POLYGON ((146.67058 -36.56827, 146.67056 -36.5...\n",
      "20260      Ararat  POLYGON ((142.71709 -37.15729, 142.71705 -37.1...\n",
      "20570    Ballarat  POLYGON ((143.86292 -37.38007, 143.85880 -37.4...\n",
      "20660     Banyule  POLYGON ((145.08875 -37.69135, 145.08926 -37.6...\n",
      "20740  Bass Coast  MULTIPOLYGON (((145.10992 -38.51956, 145.10976...\n"
     ]
    }
   ],
   "source": [
    "output_dir = \"../data/raw/ABS/\"\n",
    "## read data\n",
    "lga_gdf = gpd.read_file(f\"{output_dir}LGA/LGA_2022_AUST_GDA2020.shp\")\n",
    "sa2_gdf = gpd.read_file(f\"../data/raw/ABS/digitalBoundary/SA2_2021_AUST_GDA2020.shp\")\n",
    "\n",
    "## feature selection for sa2 gdf\n",
    "sa2_gdf = sa2_gdf.loc[sa2_gdf[\"STE_NAME21\"] == \"Victoria\"].dropna()\n",
    "sa2_gdf = sa2_gdf[[\"SA2_CODE21\", \"geometry\"]]\n",
    "sa2_gdf[\"SA2_CODE21\"] = sa2_gdf[\"SA2_CODE21\"].astype(\"int64\")\n",
    "sa2_gdf = sa2_gdf.rename(columns={\"SA2_CODE21\": \"SA2\"}).set_index(\"SA2\")\n",
    "\n",
    "\n",
    "## feature selection\n",
    "lga_gdf = lga_gdf.loc[lga_gdf[\"STE_NAME21\"] == \"Victoria\"][[\"LGA_CODE22\", \"LGA_NAME22\", \"geometry\"]]\n",
    "lga_gdf = lga_gdf.rename(columns={\"LGA_CODE22\": \"LGA\"}).astype({\"LGA\": int})\n",
    "lga_gdf = lga_gdf.set_index(\"LGA\")\n",
    "\n",
    "## save file\n",
    "lga_gdf.to_file(f\"{output_dir}LGA/LGA.shp\")\n",
    "\n",
    "print(lga_gdf.shape)\n",
    "print(lga_gdf.columns)\n",
    "print(lga_gdf.head())"
   ]
  },
  {
   "cell_type": "code",
   "execution_count": 9,
   "metadata": {},
   "outputs": [
    {
     "name": "stdout",
     "output_type": "stream",
     "text": [
      "             LGA     LGA_NAME22\n",
      "SA2                            \n",
      "201011001  22490  Golden Plains\n",
      "201011001  20570       Ballarat\n",
      "201011002  20570       Ballarat\n",
      "201011005  22490  Golden Plains\n",
      "201011005  25150      Moorabool\n"
     ]
    }
   ],
   "source": [
    "join_gdf = gpd.sjoin(sa2_gdf, lga_gdf, how=\"left\")\n",
    "join_gdf = join_gdf.rename(columns={\"index_right\": \"LGA\"})\n",
    "join_gdf = join_gdf.astype({\"LGA\": int})\n",
    "\n",
    "join_df = pd.DataFrame(join_gdf.drop(columns = \"geometry\"))\n",
    "join_df.to_csv(\"../data/raw/LGA_to_SA2.csv\")\n",
    "print(join_df.head())"
   ]
  },
  {
   "cell_type": "markdown",
   "metadata": {},
   "source": [
    "## ABS Data"
   ]
  },
  {
   "cell_type": "markdown",
   "metadata": {},
   "source": [
    "#### Estimated Resident Population (ERP) (2001 to 2021) (By SA2)\n",
    "- ../data/raw/ABS/ERP/ERP.csv\n",
    "- SA2 (int), year (int), population (int)\n",
    "- SA2: interger code marking each district, e.g. 206041117 for Carlton"
   ]
  },
  {
   "cell_type": "code",
   "execution_count": 10,
   "metadata": {},
   "outputs": [
    {
     "data": {
      "text/plain": [
       "True"
      ]
     },
     "execution_count": 10,
     "metadata": {},
     "output_type": "execute_result"
    }
   ],
   "source": [
    "### Pull ERP data\n",
    "url = \"https://api.data.abs.gov.au/data/ABS,ABS_ANNUAL_ERP_ASGS2021,1.2.0/.\\\n",
    "SA2..A?startPeriod=2010&endPeriod=2021&dimensionAtObservation=AllDimensions\"\n",
    "response = requests.get(url, headers=headers)\n",
    "write_file(f\"{OUTPUT_DIR}ERP/\", \"ERP_raw.csv\", response.text)"
   ]
  },
  {
   "cell_type": "code",
   "execution_count": 11,
   "metadata": {},
   "outputs": [
    {
     "name": "stdout",
     "output_type": "stream",
     "text": [
      "Before selection:\n",
      "-RECORD 0------------------------------------------\n",
      " DATAFLOW     | ABS:ABS_ANNUAL_ERP_ASGS2021(1.2.0) \n",
      " MEASURE      | ERP                                \n",
      " REGION_TYPE  | SA2                                \n",
      " ASGS_2021    | 101021010                          \n",
      " FREQ         | A                                  \n",
      " TIME_PERIOD  | 2010                               \n",
      " OBS_VALUE    | 4813                               \n",
      " UNIT_MEASURE | PSNS                               \n",
      " OBS_STATUS   | null                               \n",
      " OBS_COMMENT  | null                               \n",
      "-RECORD 1------------------------------------------\n",
      " DATAFLOW     | ABS:ABS_ANNUAL_ERP_ASGS2021(1.2.0) \n",
      " MEASURE      | ERP                                \n",
      " REGION_TYPE  | SA2                                \n",
      " ASGS_2021    | 101021010                          \n",
      " FREQ         | A                                  \n",
      " TIME_PERIOD  | 2011                               \n",
      " OBS_VALUE    | 4951                               \n",
      " UNIT_MEASURE | PSNS                               \n",
      " OBS_STATUS   | null                               \n",
      " OBS_COMMENT  | null                               \n",
      "only showing top 2 rows\n",
      "\n",
      "After selection:\n",
      "-RECORD 0---------------\n",
      " SA2        | 202011018 \n",
      " year       | 2021      \n",
      " population | 14951     \n",
      "only showing top 1 row\n",
      "\n"
     ]
    }
   ],
   "source": [
    "# read file\n",
    "erp_sdf = spark.read.csv(f\"{OUTPUT_DIR}ERP/ERP_raw.csv\", header=True)\n",
    "print(\"Before selection:\")\n",
    "erp_sdf.show(2, vertical=True, truncate=100)\n",
    "\n",
    "# feature selection / rename / reset datatype\n",
    "erp_sdf = erp_sdf[[\"ASGS_2021\", \"TIME_PERIOD\", \"OBS_VALUE\"]]\n",
    "erp_sdf = (\n",
    "    erp_sdf.withColumnRenamed(\"ASGS_2021\", \"SA2\")\n",
    "    .withColumn(\"SA2\", F.col(\"SA2\").cast(\"int\"))\n",
    "    .withColumnRenamed(\"TIME_PERIOD\", \"year\")\n",
    "    .withColumn(\"year\", F.col(\"year\").cast(\"int\"))\n",
    "    .withColumnRenamed(\"OBS_VALUE\", \"population\")\n",
    "    .withColumn(\"population\", F.col(\"population\").cast(\"int\"))\n",
    ")\n",
    "\n",
    "# Filter: victoria SA2\n",
    "vic_df = pd.read_csv(f\"{OUTPUT_DIR}SA2_TO_Name.csv\")\n",
    "vic_sa2 = vic_df[\"code\"].tolist()\n",
    "erp_sdf = erp_sdf.filter(F.col(\"SA2\").isin(vic_sa2))\n",
    "erp_sdf = erp_sdf.sort(F.col(\"year\").desc())\n",
    "\n",
    "# save file\n",
    "print(\"After selection:\")\n",
    "erp_sdf.show(1, vertical=True, truncate=100)\n",
    "erp_sdf.write.option(\"header\", True).mode(\"overwrite\").csv(f\"{OUTPUT_DIR}ERP/ERP.csv\")\n"
   ]
  },
  {
   "cell_type": "markdown",
   "metadata": {},
   "source": [
    "#### Median household income (weekly) (2021) (By SA2)\n",
    "- ../data/raw/ABS/Household_income/Household_income.csv\n",
    "- SA2 (int), year (int),  household_type (String), income_level (String), popultaion (int)"
   ]
  },
  {
   "cell_type": "code",
   "execution_count": 12,
   "metadata": {},
   "outputs": [
    {
     "data": {
      "text/plain": [
       "True"
      ]
     },
     "execution_count": 12,
     "metadata": {},
     "output_type": "execute_result"
    }
   ],
   "source": [
    "### pull median household income data\n",
    "url = f\"https://api.data.abs.gov.au/data/ABS,C21_G02_SA2,1.0.0/4..SA2.2?startPeriod=2021&dimensionAtObservation=AllDimensions\"\n",
    "response = requests.get(url, headers=headers)\n",
    "write_file(f\"{OUTPUT_DIR}Household_income/\", \"Household_income_raw.csv\",\n",
    "            response.text)"
   ]
  },
  {
   "cell_type": "code",
   "execution_count": 13,
   "metadata": {},
   "outputs": [
    {
     "name": "stdout",
     "output_type": "stream",
     "text": [
      "Before selection:\n",
      "-RECORD 0-----------------------------\n",
      " DATAFLOW    | ABS:C21_G02_SA2(1.0.0) \n",
      " MEDAVG      | 4                      \n",
      " REGION      | 213051589              \n",
      " REGION_TYPE | SA2                    \n",
      " STATE       | 2                      \n",
      " TIME_PERIOD | 2021                   \n",
      " OBS_VALUE   | 1862                   \n",
      "-RECORD 1-----------------------------\n",
      " DATAFLOW    | ABS:C21_G02_SA2(1.0.0) \n",
      " MEDAVG      | 4                      \n",
      " REGION      | 209041437              \n",
      " REGION_TYPE | SA2                    \n",
      " STATE       | 2                      \n",
      " TIME_PERIOD | 2021                   \n",
      " OBS_VALUE   | 1979                   \n",
      "only showing top 2 rows\n",
      "\n",
      "Before after:\n",
      "-RECORD 0------------------\n",
      " SA2           | 213051589 \n",
      " median_income | 1862      \n",
      "-RECORD 1------------------\n",
      " SA2           | 209041437 \n",
      " median_income | 1979      \n",
      "only showing top 2 rows\n",
      "\n"
     ]
    }
   ],
   "source": [
    "# read file\n",
    "income_sdf = spark.read.csv(\n",
    "    f\"{OUTPUT_DIR}Household_income/Household_income_raw.csv\", header=True\n",
    ")\n",
    "print(\"Before selection:\")\n",
    "income_sdf.show(2, vertical=True, truncate=100)\n",
    "\n",
    "# filt data / rename\n",
    "income_sdf = income_sdf[[\"REGION\", \"OBS_VALUE\"]]\n",
    "income_sdf = (\n",
    "    income_sdf.withColumnRenamed(\"REGION\", \"SA2\")\n",
    "    .withColumn(\"SA2\", F.col(\"SA2\").cast(\"int\"))\n",
    "    .withColumnRenamed(\"OBS_VALUE\", \"median_income\")\n",
    "    .withColumn(\"median_income\", F.col(\"median_income\").cast(\"int\"))\n",
    ")\n",
    "\n",
    "# save data\n",
    "print(\"Before after:\")\n",
    "income_sdf.show(2, vertical=True, truncate=100)\n",
    "income_sdf.write.option(\"header\", True).mode(\"overwrite\").csv(\n",
    "    f\"{OUTPUT_DIR}Household_income/Household_income.csv\"\n",
    ")"
   ]
  },
  {
   "cell_type": "markdown",
   "metadata": {},
   "source": [
    "Population projection (2017 - 2066) (VIC overall)\n",
    "- ../data/raw/ABS/Population/Population.csv\n",
    "- year (int), popultaion (int)"
   ]
  },
  {
   "cell_type": "code",
   "execution_count": 14,
   "metadata": {},
   "outputs": [
    {
     "data": {
      "text/plain": [
       "True"
      ]
     },
     "execution_count": 14,
     "metadata": {},
     "output_type": "execute_result"
    }
   ],
   "source": [
    "### pull popultation projection data\n",
    "url = \"https://api.data.abs.gov.au/data/ABS,POP_PROJ_REGION_2012_2061,\\\n",
    "1.0.0/2.3.TT.1.1.1.1.A?startPeriod=2017&dimensionAtObservation=AllDimensions\"\n",
    "response = requests.get(url, headers=headers)\n",
    "write_file(f\"{OUTPUT_DIR}Population/\", \"Population_raw.csv\", response.text)\n"
   ]
  },
  {
   "cell_type": "code",
   "execution_count": 15,
   "metadata": {},
   "outputs": [
    {
     "name": "stdout",
     "output_type": "stream",
     "text": [
      "Before selection:\n",
      "-RECORD 0--------------------------------------------\n",
      " DATAFLOW     | ABS:POP_PROJ_REGION_2012_2061(1.0.0) \n",
      " REGION       | 2                                    \n",
      " SEX_ABS      | 3                                    \n",
      " AGE          | TT                                   \n",
      " FERTILITY    | 1                                    \n",
      " MORTALITY    | 1                                    \n",
      " NOM          | 1                                    \n",
      " NIM          | 1                                    \n",
      " FREQUENCY    | A                                    \n",
      " TIME_PERIOD  | 2017                                 \n",
      " OBS_VALUE    | 6321648                              \n",
      " UNIT_MEASURE | PSNS                                 \n",
      " OBS_STATUS   | null                                 \n",
      " OBS_COMMENT  | null                                 \n",
      "-RECORD 1--------------------------------------------\n",
      " DATAFLOW     | ABS:POP_PROJ_REGION_2012_2061(1.0.0) \n",
      " REGION       | 2                                    \n",
      " SEX_ABS      | 3                                    \n",
      " AGE          | TT                                   \n",
      " FERTILITY    | 1                                    \n",
      " MORTALITY    | 1                                    \n",
      " NOM          | 1                                    \n",
      " NIM          | 1                                    \n",
      " FREQUENCY    | A                                    \n",
      " TIME_PERIOD  | 2018                                 \n",
      " OBS_VALUE    | 6471149                              \n",
      " UNIT_MEASURE | PSNS                                 \n",
      " OBS_STATUS   | null                                 \n",
      " OBS_COMMENT  | null                                 \n",
      "only showing top 2 rows\n",
      "\n",
      "After selection:\n",
      "-RECORD 0-------------\n",
      " year       | 2017    \n",
      " popultaion | 6321648 \n",
      "-RECORD 1-------------\n",
      " year       | 2018    \n",
      " popultaion | 6471149 \n",
      "only showing top 2 rows\n",
      "\n"
     ]
    }
   ],
   "source": [
    "# read data\n",
    "population_sdf = spark.read.csv(\n",
    "    f\"{OUTPUT_DIR}Population/Population_raw.csv\", header=True\n",
    ")\n",
    "print(\"Before selection:\")\n",
    "population_sdf.show(2, vertical=True, truncate=100)\n",
    "\n",
    "# feature selection / rename / reset datatype\n",
    "population_sdf = population_sdf[[\"TIME_PERIOD\", \"OBS_VALUE\"]]\n",
    "population_sdf = (\n",
    "    population_sdf.withColumnRenamed(\"TIME_PERIOD\", \"year\")\n",
    "    .withColumn(\"year\", F.col(\"year\").cast(\"int\"))\n",
    "    .withColumnRenamed(\"OBS_VALUE\", \"popultaion\")\n",
    "    .withColumn(\"popultaion\", F.col(\"popultaion\").cast(\"int\"))\n",
    ")\n",
    "\n",
    "# save modified file\n",
    "print(\"After selection:\")\n",
    "population_sdf.show(2, vertical=True, truncate=100)\n",
    "population_sdf.write.option(\"header\", True).mode(\"overwrite\").csv(\n",
    "    f\"{OUTPUT_DIR}Population/Population.csv\"\n",
    ")\n",
    "population_sdf.write.option(\"header\", True).mode(\"overwrite\").csv(\n",
    "    f\"../data/curated/population_projection.csv\"\n",
    ")"
   ]
  },
  {
   "cell_type": "markdown",
   "metadata": {},
   "source": [
    "#### Residential Property Price Index (1/2011 - 12/2021) (AUS)\n",
    "- ../data/raw/ABS/Price_index/Price_index.csv\n",
    "- year (int), month (int), price_index (int)"
   ]
  },
  {
   "cell_type": "code",
   "execution_count": 16,
   "metadata": {},
   "outputs": [
    {
     "data": {
      "text/plain": [
       "True"
      ]
     },
     "execution_count": 16,
     "metadata": {},
     "output_type": "execute_result"
    }
   ],
   "source": [
    "output_dir = f\"../data/raw/ABS/\"\n",
    "\n",
    "### Pull Price_index data\n",
    "url = \"https://api.data.abs.gov.au/data/ABS,RPPI,1.0.0/1.3.2GMEL.Q?startPeriod=2011-Q1&endPeriod=2021-Q4&dimensionAtObservation=AllDimensions\"\n",
    "response = requests.get(url, headers=headers)\n",
    "write_file(f\"{output_dir}Price_index/\", \"Price_index_raw.csv\", response.text)\n"
   ]
  },
  {
   "cell_type": "code",
   "execution_count": 14,
   "metadata": {},
   "outputs": [
    {
     "name": "stdout",
     "output_type": "stream",
     "text": [
      "Before selection:\n",
      "-RECORD 0------------------------\n",
      " DATAFLOW      | ABS:RPPI(1.0.0) \n",
      " MEASURE       | 1               \n",
      " PROPERTY_TYPE | 3               \n",
      " REGION        | 2GMEL           \n",
      " FREQ          | Q               \n",
      " TIME_PERIOD   | 2011-Q1         \n",
      " OBS_VALUE     | 104.7           \n",
      " UNIT_MEASURE  | IN              \n",
      " OBS_STATUS    | null            \n",
      " OBS_COMMENT   | null            \n",
      "only showing top 1 row\n",
      "\n",
      "After selection:\n",
      "-RECORD 0-----------\n",
      " year        | 2011 \n",
      " price_index | 104  \n",
      " quarter     | 1    \n",
      "-RECORD 1-----------\n",
      " year        | 2011 \n",
      " price_index | 103  \n",
      " quarter     | 2    \n",
      "only showing top 2 rows\n",
      "\n"
     ]
    }
   ],
   "source": [
    "output_dir = f\"../data/raw/ABS/\"\n",
    "# read file\n",
    "price_sdf = spark.read.csv(f\"{output_dir}Price_index/Price_index_raw.csv\", header=True)\n",
    "print(\"Before selection:\")\n",
    "price_sdf.show(1, vertical=True, truncate=100)\n",
    "\n",
    "# feature selection / rename / reset datatype\n",
    "price_sdf = price_sdf[[\"TIME_PERIOD\", \"OBS_VALUE\"]]\n",
    "price_sdf = (\n",
    "    price_sdf.withColumnRenamed(\"TIME_PERIOD\", \"year\")\n",
    "    .withColumnRenamed(\"OBS_VALUE\", \"price_index\")\n",
    "    .withColumn(\"price_index\", F.col(\"price_index\").cast(\"int\"))\n",
    ")\n",
    "price_sdf = price_sdf.withColumn(\"quarter\", F.substring(\"year\", 7, 7).cast(\"int\"))\n",
    "price_sdf = price_sdf.withColumn(\"year\", F.substring(\"year\", 1, 4).cast(\"int\"))\n",
    "price_sdf = price_sdf.dropna().dropDuplicates().sort(\"year\", \"quarter\")\n",
    "\n",
    "# save file\n",
    "print(\"After selection:\")\n",
    "price_sdf.show(2, vertical=True, truncate=100)\n",
    "price_sdf.write.option(\"header\", True).mode(\"overwrite\").csv(\n",
    "    f\"{output_dir}Price_index/Price_index.csv\"\n",
    ")\n"
   ]
  },
  {
   "cell_type": "markdown",
   "metadata": {},
   "source": [
    "### Immigration data, 2004 - 2019, Victoria only\n",
    "- ../data/raw/ABS/immigration/immigration.csv\n",
    "- year (int), immi_count (int)"
   ]
  },
  {
   "cell_type": "code",
   "execution_count": 18,
   "metadata": {},
   "outputs": [
    {
     "name": "stdout",
     "output_type": "stream",
     "text": [
      "Request succeed: pulling fromhttps://www.abs.gov.au/statistics/people/population/overseas-migration/2020-21/34070DO002_202021.xlsx\n",
      "File saved in: ../data/raw/ABS/immigration/immigration.xlsx\n"
     ]
    }
   ],
   "source": [
    "output_dir = f\"../data/raw/ABS/immigration/\"\n",
    "### Pull SA2 match table\n",
    "url = f\"https://www.abs.gov.au/statistics/people/population/overseas-migration/2020-21/34070DO002_202021.xlsx\"\n",
    "file_name = \"immigration.xlsx\"\n",
    "pull_direct(url, output_dir, file_name)"
   ]
  },
  {
   "cell_type": "code",
   "execution_count": 19,
   "metadata": {},
   "outputs": [
    {
     "name": "stdout",
     "output_type": "stream",
     "text": [
      "Index(['year', 'immi_count'], dtype='object')\n",
      "    year  immi_count\n",
      "11  2015      140220\n",
      "12  2016      159630\n",
      "13  2017      161170\n",
      "14  2018      168310\n",
      "15  2019      150630\n"
     ]
    }
   ],
   "source": [
    "# Select victoria data then save\n",
    "immi_df = pd.read_excel(f\"../data/raw/ABS/immigration/immigration.xlsx\", sheet_name=\"Table 2.3\")\n",
    "\n",
    "\n",
    "# reformate data\n",
    "immi_df = immi_df.loc[range(13, immi_df.shape[0])].loc[[13, 29]]\n",
    "immi_df = immi_df.reset_index().set_axis([\"year\", \"immi_count\"])\n",
    "immi_df = immi_df.drop(columns=[\n",
    "    \"            Australian Bureau of Statistics\", \n",
    "    'Unnamed: 1', \n",
    "    'Unnamed: 2',\n",
    "    \"index\"])\n",
    "immi_df = immi_df.T\n",
    "immi_df[\"year\"] = immi_df[\"year\"].apply(lambda x: int(x[:4]))\n",
    "immi_df[\"immi_count\"] = immi_df[\"immi_count\"].apply(lambda x: int(x))\n",
    "immi_df = immi_df.reset_index().drop(columns=[\"index\"])\n",
    "immi_df = immi_df.loc[immi_df.index.tolist()[:-1]]\n",
    "\n",
    "immi_df.to_csv(f\"../data/raw/ABS/immigration/immigration.csv\", index_label=\"index\")\n",
    "print(immi_df.columns)\n",
    "print(immi_df.tail())"
   ]
  },
  {
   "cell_type": "markdown",
   "metadata": {},
   "source": [
    "### Household debt income ratio measured on each two years In Millions (2009-2019) (Victoria only)\n",
    "- ../data/raw/ABS/debt_income_ratio/debt_income_ratio.csv\n",
    "- year (int), debt_ratio (float)"
   ]
  },
  {
   "cell_type": "code",
   "execution_count": 20,
   "metadata": {},
   "outputs": [
    {
     "name": "stdout",
     "output_type": "stream",
     "text": [
      "Request succeed: pulling fromhttps://www.abs.gov.au/statistics/economy/finance/household-income-and-wealth-australia/2019-20/3.%20Income%2C%20wealth%20and%20debt.xlsx\n",
      "File saved in: ../data/raw/ABS/debt_income_ratio/debt_income_ratio.xlsx\n"
     ]
    }
   ],
   "source": [
    "\n",
    "output_dir = f\"../data/raw/ABS/debt_income_ratio/\"\n",
    "### Pull SA2 match table\n",
    "url = f\"https://www.abs.gov.au/statistics/economy/finance/household-income-and-wealth-australia/2019-20/3.%20Income%2C%20wealth%20and%20debt.xlsx\"\n",
    "file_name = \"debt_income_ratio.xlsx\"\n",
    "pull_direct(url, output_dir, file_name)"
   ]
  },
  {
   "cell_type": "code",
   "execution_count": 21,
   "metadata": {},
   "outputs": [
    {
     "name": "stdout",
     "output_type": "stream",
     "text": [
      "Index(['year', 'debt_ratio'], dtype='object')\n",
      "    year  debt_ratio\n",
      "0   2009      0.9700\n",
      "1   2010      0.9100\n",
      "2   2011      0.8500\n",
      "3   2012      0.8550\n",
      "4   2013      0.8600\n",
      "5   2014      0.8550\n",
      "6   2015      0.8500\n",
      "7   2016      1.0150\n",
      "8   2017      1.1800\n",
      "9   2018      1.1450\n",
      "10  2019      1.1100\n"
     ]
    }
   ],
   "source": [
    "# Select victoria data then save\n",
    "ratio_df = pd.read_excel(f\"../data/raw/ABS/debt_income_ratio/debt_income_ratio.xlsx\", sheet_name=\"Table 3.5\")\n",
    "\n",
    "# select needed data\n",
    "ratio_df = ratio_df.loc[[4, 67]].set_axis([\"time\", \"ratio\"])\n",
    "ratio_df = ratio_df.T.reset_index().drop([\"index\"], axis=1)\n",
    "ratio_df = ratio_df.loc[range(8, 14)]\n",
    "\n",
    "# reformate data\n",
    "time_list = [int(i[:4]) for i in ratio_df[\"time\"].to_list()]\n",
    "time_list = sorted([i+1 for i in time_list] + time_list)[:-1]\n",
    "rate_list = ratio_df[\"ratio\"].to_list()\n",
    "rate_list = [[rate_list[i], (rate_list[i] + rate_list[i+1])/2] for i in range(len(rate_list)-1)] + [[rate_list[-1]]]\n",
    "rate_list = [i for l in rate_list for i in l]\n",
    "ratio_df = pd.DataFrame(list(zip(time_list, rate_list)), columns=[\"year\", \"debt_ratio\"])\n",
    "\n",
    "# save to file\n",
    "ratio_df.to_csv(f\"../data/raw/ABS/debt_income_ratio/debt_income_ratio.csv\", index_label=\"index\")\n",
    "print(ratio_df.columns)\n",
    "print(ratio_df.head(20))"
   ]
  },
  {
   "cell_type": "markdown",
   "metadata": {},
   "source": [
    "## ACARA"
   ]
  },
  {
   "cell_type": "markdown",
   "metadata": {},
   "source": [
    "#### School location\n",
    "- ../data/raw/ACARA/School_location/School_location.csv\n",
    "- School Name (String), SA2 (int), Latitude (float), Longitude (float), School Type (String)"
   ]
  },
  {
   "cell_type": "code",
   "execution_count": 22,
   "metadata": {},
   "outputs": [
    {
     "data": {
      "text/plain": [
       "True"
      ]
     },
     "execution_count": 22,
     "metadata": {},
     "output_type": "execute_result"
    }
   ],
   "source": [
    "output_dir = f\"../data/raw/ACARA/\"\n",
    "\n",
    "# pull school location file\n",
    "url = \"https://www.acara.edu.au/docs/default-source/default-document-\\\n",
    "library/school-location-2021e23a2f404c94637ead88ff00003e0139.xlsx\\\n",
    "?sfvrsn=51ae4c07_0\"\n",
    "response = requests.get(url)\n",
    "write_file(f\"{output_dir}\", \"School_location_raw.xlsx\",\n",
    "            response.content, \"wb\")\n",
    "# pull_direct(url, output_dir, f\"School_location.xlsx\")"
   ]
  },
  {
   "cell_type": "code",
   "execution_count": 23,
   "metadata": {},
   "outputs": [
    {
     "name": "stdout",
     "output_type": "stream",
     "text": [
      "                                     School Name        SA2  Latitude  \\\n",
      "school_id                                                               \n",
      "0                       Alfredton Primary School  201011001  -37.5550   \n",
      "1                          St Thomas More School  201011001  -37.5535   \n",
      "2                  Siena Catholic Primary School  201011001  -37.5462   \n",
      "3                           Lucas Primary School  201011001  -37.5481   \n",
      "4          Ballarat Primary School (Dana Street)  201011002  -37.5640   \n",
      "\n",
      "           Longitude School Type  \n",
      "school_id                         \n",
      "0           143.8017     Primary  \n",
      "1           143.7999     Primary  \n",
      "2           143.7801     Primary  \n",
      "3           143.7804     Primary  \n",
      "4           143.8539     Primary  \n",
      "(2402, 5)\n"
     ]
    }
   ],
   "source": [
    "output_dir = f\"../data/raw/ACARA/\"\n",
    "\n",
    "# prepare boundary gdf\n",
    "boundary_df = pd.DataFrame(gpd.read_file(f\"../data/raw/ABS/digitalBoundary/\\\n",
    "SA2_2021_AUST_GDA2020.shp\")).rename(columns={\"SA2_CODE21\": \"SA2\"})\n",
    "boundary_df = boundary_df.loc[boundary_df[\"STE_NAME21\"] == \"Victoria\"][[\"SA2\"]]\n",
    "boundary_df[\"SA2\"] = pd.to_numeric(boundary_df[\"SA2\"])\n",
    "\n",
    "# feature selection / VIC filtering\n",
    "school_df = pd.read_excel(\n",
    "    f\"{output_dir}School_location_raw.xlsx\",\n",
    "    sheet_name=\"SchoolLocations 2021\",\n",
    ")[[\"School Name\", \"Statistical Area 2\", \"State\", \"Latitude\", \n",
    "    \"Longitude\", \"School Type\"]]\n",
    "school_df = school_df.loc[school_df[\"School Type\"] != \"Special\"]\n",
    "school_df = school_df.loc[school_df[\"State\"] == \"VIC\"]\n",
    "school_df = school_df.rename(columns={\"Statistical Area 2\": \"SA2\"})\n",
    "school_df = school_df.drop(columns=\"State\")\n",
    "school_df = school_df.dropna()\n",
    "\n",
    "# right join\n",
    "school_df = pd.merge(school_df, boundary_df, on=\"SA2\", how=\"right\")\n",
    "\n",
    "# add index\n",
    "school_df[\"school_id\"] = range(school_df.shape[0])\n",
    "school_df = school_df.reset_index().set_index(\"school_id\").drop([\"index\"], axis=1)\n",
    "\n",
    "print(school_df.head())\n",
    "print(school_df.shape)\n",
    "\n",
    "# save filtered data\n",
    "school_df = school_df.dropna().drop_duplicates()\n",
    "school_df.to_csv(f\"{output_dir}School_location.csv\")\n"
   ]
  },
  {
   "cell_type": "markdown",
   "metadata": {},
   "source": [
    "# RBA"
   ]
  },
  {
   "cell_type": "markdown",
   "metadata": {},
   "source": [
    "### Interest rate (2013 - 2021) (AUS)\n",
    "- ../data/raw/rba/interest_rate/interest_rate.csv\n",
    "- year(int), quarter(int), month(int), bond (float, risk free interest rate)"
   ]
  },
  {
   "cell_type": "code",
   "execution_count": 24,
   "metadata": {},
   "outputs": [
    {
     "data": {
      "text/plain": [
       "True"
      ]
     },
     "execution_count": 24,
     "metadata": {},
     "output_type": "execute_result"
    }
   ],
   "source": [
    "output_dir = f\"../data/raw/rba/\"\n",
    "\n",
    "### Pull Price_index data\n",
    "url = \"https://www.rba.gov.au/statistics/tables/csv/f2.1-data.csv?v=2022-09-08-09-00-18\"\n",
    "response = requests.get(url, headers=headers)\n",
    "write_file(f\"{output_dir}interest_rate/\", \"interest_rate_raw.csv\", response.text)\n"
   ]
  },
  {
   "cell_type": "code",
   "execution_count": 25,
   "metadata": {},
   "outputs": [
    {
     "name": "stdout",
     "output_type": "stream",
     "text": [
      "   year  quarter  month   bond\n",
      "0  2013        3      7 2.6900\n",
      "1  2013        3      8 2.6900\n",
      "2  2013        3      9 2.9000\n",
      "3  2013        4     10 2.9500\n",
      "4  2013        4     11 3.0300\n"
     ]
    }
   ],
   "source": [
    "output_dir = f\"../data/raw/rba/\"\n",
    "# read file\n",
    "interest_df = pd.read_csv(f\"{output_dir}interest_rate/interest_rate_raw.csv\")\n",
    "\n",
    "# data cleaning and renaming\n",
    "col_names = [\"time\"] + list(interest_df.iloc[[0]].values[0][1:])\n",
    "interest_df = interest_df.iloc[11:]\n",
    "interest_df.columns = col_names\n",
    "interest_df = interest_df[[\"time\", \"Commonwealth Government 3 year bond\"]]\n",
    "\n",
    "# data selection (fourth quarter bond)\n",
    "interest_df.columns = [\"time\", \"bond\"]\n",
    "interest_df[\"time\"] = pd.to_datetime(interest_df[\"time\"])\n",
    "interest_df[\"year\"] = interest_df[\"time\"].dt.year\n",
    "interest_df[\"month\"] = interest_df[\"time\"].dt.month\n",
    "interest_df[\"quarter\"] = interest_df[\"time\"].dt.quarter\n",
    "interest_df[\"bond\"] = interest_df[\"bond\"].astype(\"float\")\n",
    "interest_df = interest_df.reset_index().drop(\"index\", axis=1)\n",
    "interest_df = interest_df[[\"year\", \"quarter\", \"month\", \"bond\"]]\n",
    "\n",
    "print(interest_df.head())\n",
    "interest_df.to_csv(f\"{output_dir}interest_rate/interest_rate.csv\", index_label=\"index\")\n"
   ]
  },
  {
   "cell_type": "markdown",
   "metadata": {},
   "source": [
    "### Exchange Rate (2010 March - 2022 June) AUS\n",
    "- ../data/raw/rba/exchange_rate/exchange_rate.csv\n",
    "- year (int), quarter (int), month (int), to_USD (float)"
   ]
  },
  {
   "cell_type": "code",
   "execution_count": 26,
   "metadata": {},
   "outputs": [
    {
     "data": {
      "text/plain": [
       "True"
      ]
     },
     "execution_count": 26,
     "metadata": {},
     "output_type": "execute_result"
    }
   ],
   "source": [
    "output_dir = f\"../data/raw/rba/\"\n",
    "\n",
    "### Pull Price_index data\n",
    "url = \"https://www.rba.gov.au/statistics/tables/csv/f11-data.csv\"\n",
    "response = requests.get(url, headers=headers)\n",
    "write_file(f\"{output_dir}exchange_rate/\", \"exchange_rate_raw.csv\", response.text)\n"
   ]
  },
  {
   "cell_type": "code",
   "execution_count": 27,
   "metadata": {},
   "outputs": [
    {
     "name": "stdout",
     "output_type": "stream",
     "text": [
      "(50, 4)\n",
      "Index(['year', 'quarter', 'month', 'to_USD'], dtype='object')\n",
      "    year  quarter  month  to_USD\n",
      "35  2018        4     12  0.7058\n",
      "36  2019        1      3  0.7087\n",
      "37  2019        2      6  0.7013\n",
      "38  2019        3      9  0.6749\n",
      "39  2019        4     12  0.7006\n",
      "40  2020        1      3  0.6175\n",
      "41  2020        2      6  0.6863\n",
      "42  2020        3      9  0.7108\n",
      "43  2020        4     12  0.7702\n",
      "44  2021        1      3  0.7602\n",
      "45  2021        2      6  0.7518\n",
      "46  2021        3      9  0.7206\n",
      "47  2021        4     12  0.7256\n",
      "48  2022        1      3  0.7482\n",
      "49  2022        2      6  0.6889\n"
     ]
    }
   ],
   "source": [
    "output_dir = f\"../data/raw/rba/\"\n",
    "# read file\n",
    "exchange_df = pd.read_csv(f\"{output_dir}exchange_rate/exchange_rate_raw.csv\")\n",
    "\n",
    "# data reformate\n",
    "exchange_df = exchange_df.loc[range(10, exchange_df.shape[0])]\n",
    "exchange_df = exchange_df.rename({\"F11 EXCHANGE RATES \": \"year\", \"Unnamed: 1\": \"to_USD\"}, axis=1)\n",
    "exchange_df = exchange_df[[\"year\", \"to_USD\"]]\n",
    "\n",
    "# # feature engineering\n",
    "exchange_df[\"year\"] = exchange_df[\"year\"].apply(lambda x: pd.to_datetime(x))\n",
    "exchange_df = exchange_df.astype({\"to_USD\": float})\n",
    "exchange_df['quarter'] = exchange_df['year'].dt.quarter\n",
    "exchange_df['month'] = exchange_df['year'].dt.month\n",
    "exchange_df['year'] = exchange_df['year'].dt.year\n",
    "exchange_df = exchange_df.loc[(exchange_df[\"month\"].isin([3, 6, 9, 12]))]\n",
    "exchange_df = exchange_df.reset_index().drop([\"index\"], axis=1)\n",
    "exchange_df = exchange_df[['year', \"quarter\", 'month', 'to_USD']]\n",
    "\n",
    "# save data\n",
    "print(exchange_df.shape)\n",
    "print(exchange_df.columns)\n",
    "print(exchange_df.tail(15))\n",
    "exchange_df.to_csv(f\"{output_dir}exchange_rate/exchange_rate.csv\", index_label=\"index\")\n"
   ]
  },
  {
   "cell_type": "markdown",
   "metadata": {},
   "source": [
    "## Median rent (1999 - 2021) BY sa2\n",
    "- ../data/raw/DHHS/history_rent.csv\n",
    "- SA2 (int), year (int), quarter (int), count (int), median (float)"
   ]
  },
  {
   "cell_type": "code",
   "execution_count": 28,
   "metadata": {},
   "outputs": [
    {
     "name": "stdout",
     "output_type": "stream",
     "text": [
      "Request succeed: pulling fromhttps://www.dhhs.vic.gov.au/quarterly-median-rents-local-government-area-march-quarter-2021-excel\n",
      "File saved in: ../data/raw/DHHS/history_rent_quarterly.xlsx\n"
     ]
    }
   ],
   "source": [
    "output_dir = f\"../data/raw/DHHS/\"\n",
    "file_name = \"history_rent_quarterly.xlsx\"\n",
    "url = f\"https://www.dhhs.vic.gov.au/quarterly-median\\\n",
    "-rents-local-government-area-march-quarter-2021-excel\"\n",
    "\n",
    "pull_direct(url, output_dir, file_name)"
   ]
  },
  {
   "cell_type": "code",
   "execution_count": 29,
   "metadata": {},
   "outputs": [
    {
     "name": "stdout",
     "output_type": "stream",
     "text": [
      "(80, 177)\n",
      "               1     2    3     4    5     6    7     8    9     10   ...  \\\n",
      "0      Colac-Otway   100  114    78  115    81  115    97  115    91  ...   \n",
      "1      Corangamite    35   90    45   90    47  100    50  100    40  ...   \n",
      "2          Glenelg   124  110   119  100   120  100   141  105   129  ...   \n",
      "3  Greater Geelong  1371  135  1326  135  1406  140  1510  140  1316  ...   \n",
      "4            Moyne    43  130    38  120    45  120    58  120    42  ...   \n",
      "\n",
      "    168  169   170  171   172  173   174  175   176  177  \n",
      "0   131  320    87  320   130  335   112  328    86  335  \n",
      "1    63  300    57  270    76  280    52  290    56  315  \n",
      "2    93  300    98  290    88  300    75  320    83  330  \n",
      "3  2208  380  1811  370  2063  375  1970  380  1809  400  \n",
      "4    53  360    50  300    45  320    41  370    45  350  \n",
      "\n",
      "[5 rows x 177 columns]\n"
     ]
    }
   ],
   "source": [
    "# read file\n",
    "hisrent_df = pd.read_excel(f\"../data/raw/DHHS/history_rent_quarterly.xlsx\", sheet_name=\"All Properties\")\n",
    "\n",
    "hisrent_df = hisrent_df.loc[range(3, 92)]\n",
    "hisrent_df = hisrent_df.loc[hisrent_df[\"Unnamed: 1\"] != \"Group Total\"].T\n",
    "hisrent_df = hisrent_df.reset_index().drop([\"index\"], axis=1)\n",
    "hisrent_df = hisrent_df.T.reset_index().drop([0, \"index\"], axis=1).dropna()\n",
    "\n",
    "\n",
    "print(hisrent_df.shape)\n",
    "print(hisrent_df.head())"
   ]
  },
  {
   "cell_type": "code",
   "execution_count": 30,
   "metadata": {},
   "outputs": [
    {
     "name": "stdout",
     "output_type": "stream",
     "text": [
      "           LGA  year  quarter count median\n",
      "0  Colac-Otway  1999        2   100    114\n",
      "1  Colac-Otway  1999        3    78    115\n",
      "2  Colac-Otway  1999        4    81    115\n",
      "3  Colac-Otway  2000        1    97    115\n",
      "4  Colac-Otway  2000        2    91    120\n"
     ]
    }
   ],
   "source": [
    "# reformate dataframe\n",
    "rent_df = pd.DataFrame(columns=[\"LGA\", \"year\", \"quarter\", \"count\", \"median\"])\n",
    "num_col = hisrent_df.shape[1]\n",
    "year_list = range(1999, 2022)\n",
    "quarter_list = [1, 2, 3, 4]\n",
    "sec_list = [[i, j] for i in year_list for j in quarter_list][1:-3]\n",
    "\n",
    "\n",
    "k=0\n",
    "# add record line by line\n",
    "for i in range(hisrent_df.shape[0]):\n",
    "    record = hisrent_df.loc[i].to_list()\n",
    "    j = 1\n",
    "    while j < num_col:\n",
    "        rent_df.loc[k] = [record[0], sec_list[int((j-1)/2)][0], sec_list[int((j-1)/2)][1], record[j], record[j+1]]\n",
    "        j+=2\n",
    "        k+=1\n",
    "\n",
    "print(rent_df.head())\n",
    "rent_df.to_csv(\"../data/raw/DHHS/history_rent_LGA.csv\", index_label=\"index\")"
   ]
  },
  {
   "cell_type": "code",
   "execution_count": 31,
   "metadata": {},
   "outputs": [
    {
     "name": "stdout",
     "output_type": "stream",
     "text": [
      "         SA2  year  quarter  count   median\n",
      "0  201011001  1999        2    687 136.5000\n",
      "1  201011001  1999        3    682 132.5000\n",
      "2  201011001  1999        4    716 130.5000\n",
      "3  201011001  2000        1   1114 139.0000\n",
      "4  201011001  2000        2    631 132.5000\n",
      "Index(['SA2', 'year', 'quarter', 'count', 'median'], dtype='object')\n"
     ]
    }
   ],
   "source": [
    "hisrent_df = pd.read_csv(f\"../data/raw/DHHS/history_rent_LGA.csv\")\n",
    "conv_df = pd.read_csv(f\"../data/raw/LGA_to_SA2.csv\")\n",
    "\n",
    "rent_df = pd.merge(hisrent_df, conv_df, left_on=\"LGA\", right_on = \"LGA_NAME22\", how=\"right\")\n",
    "rent_df = rent_df.replace(\"-\", pd.NA)\n",
    "rent_df = rent_df[['SA2', 'year', 'quarter', 'count', 'median']].dropna()\n",
    "rent_df = rent_df.astype({\n",
    "    'SA2': int,\n",
    "    'year': int, \n",
    "    'quarter': int, \n",
    "    'count': int,\n",
    "    'median': float\n",
    "})\n",
    "rent_df = rent_df.groupby([\"SA2\", \"year\", \"quarter\"]).agg({\"count\": \"sum\", \"median\": \"mean\"}).reset_index()\n",
    "rent_df = rent_df.astype({\n",
    "    'count': int,\n",
    "    'median': float\n",
    "})\n",
    "rent_df.to_csv(\"../data/raw/DHHS/history_rent.csv\", header=True, index_label=\"index\")\n",
    "\n",
    "print(rent_df.head())\n",
    "print(rent_df.columns)"
   ]
  },
  {
   "cell_type": "markdown",
   "metadata": {},
   "source": [
    "By Junhua Liu for study use only"
   ]
  }
 ],
 "metadata": {
  "kernelspec": {
   "display_name": "Python 3",
   "language": "python",
   "name": "python3"
  },
  "language_info": {
   "codemirror_mode": {
    "name": "ipython",
    "version": 3
   },
   "file_extension": ".py",
   "mimetype": "text/x-python",
   "name": "python",
   "nbconvert_exporter": "python",
   "pygments_lexer": "ipython3",
   "version": "3.8.3"
  },
  "vscode": {
   "interpreter": {
    "hash": "a14281423cfd62cfe9e63b7bdf907d0748b184f9fa760eb066fe3be6cb6246e1"
   }
  }
 },
 "nbformat": 4,
 "nbformat_minor": 4
}
