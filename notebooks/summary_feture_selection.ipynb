{
 "cells": [
  {
   "cell_type": "markdown",
   "id": "28e30ac6-58a1-42a2-a826-57810509e156",
   "metadata": {},
   "source": [
    "# Feature Selection"
   ]
  },
  {
   "cell_type": "markdown",
   "id": "d45da1e5-445f-4874-8934-ff1d4781e02d",
   "metadata": {},
   "source": [
    "In the feature selection section, we investigated the random forest method"
   ]
  },
  {
   "cell_type": "markdown",
   "id": "d7579bf0-1aa3-4ad5-b54a-a3e12729397c",
   "metadata": {},
   "source": [
    "Random forest is a technique used in modeling predictions and behavior analysis and is built on decision trees. It contains many decision trees representing a distinct instance of the classification of data input into the random forest. The random forest technique considers the instances individually, taking the one with the majority of votes as the selected prediction."
   ]
  },
  {
   "cell_type": "markdown",
   "id": "3b2219d1-ddb7-48ec-bd4d-de61b1d9ddcf",
   "metadata": {},
   "source": [
    "Each tree in the classifications takes input from samples in the initial dataset. Features are then randomly selected, which are used in growing the tree at each node. Every tree in the forest should not be pruned until the end of the exercise when the prediction is reached decisively. In such a way, the random forest enables any classifiers with weak correlations to create a strong classifier."
   ]
  },
  {
   "cell_type": "markdown",
   "id": "399fe782-751c-4190-84f9-b89a9ad13e98",
   "metadata": {},
   "source": [
    "![](../plots/sa2_predict/RF_str.png)"
   ]
  },
  {
   "cell_type": "markdown",
   "id": "5d65c2c9-622d-42ca-bcef-46045e162777",
   "metadata": {},
   "source": [
    "since the interpretability of random forests is strong and **the importance of each feature can be accurately given**, "
   ]
  },
  {
   "cell_type": "markdown",
   "id": "6fff8af8-368a-4326-a4ce-bdd79195facc",
   "metadata": {},
   "source": [
    "we select random forests for model training and give the importance of each feature"
   ]
  },
  {
   "cell_type": "markdown",
   "id": "d8197b47-d055-493e-91a9-6e7602001038",
   "metadata": {},
   "source": [
    "![](../plots/sa2_predict/RF.png)"
   ]
  },
  {
   "cell_type": "markdown",
   "id": "1f7c813d-4a28-4770-a183-c70aec13d58a",
   "metadata": {},
   "source": [
    "and this is RF structure and Feature Selection result "
   ]
  },
  {
   "cell_type": "markdown",
   "id": "df0f7675-1c1f-4c6d-9b50-ca7ee13a398a",
   "metadata": {},
   "source": [
    "![](../models/rf_data/tree.png)"
   ]
  },
  {
   "cell_type": "markdown",
   "id": "63154835-6b6f-439e-950d-c2267f328eb0",
   "metadata": {},
   "source": [
    "![](../plots/sa2_predict/result.png)"
   ]
  },
  {
   "cell_type": "markdown",
   "id": "7b14c859-c8d7-4bbf-bd34-ca7f9707adaf",
   "metadata": {},
   "source": [
    "# liveable and affordable suburbs"
   ]
  },
  {
   "cell_type": "markdown",
   "id": "3daf1bf2-12d9-469a-8421-435a747e6751",
   "metadata": {},
   "source": [
    "Based on the results of the feature screening, we decide to give the following weights to the selected features through analysis"
   ]
  },
  {
   "cell_type": "markdown",
   "id": "68ada8c3-c619-4041-934a-87c3fb04293b",
   "metadata": {},
   "source": [
    "$ liveable\\_suburbs = 0.2*median\\_income  +0.2*deal\\_count  +0.2*ERP\\_population  +0.1*metrotrain\\_count  +0.1*school\\_count  +0.1*recr\\_count  +0.1*regbus\\_count$"
   ]
  },
  {
   "cell_type": "markdown",
   "id": "106c869b-df48-4269-9af2-2f2b93775044",
   "metadata": {},
   "source": [
    "![](../plots/sa2_predict/live.png)"
   ]
  },
  {
   "cell_type": "markdown",
   "id": "a15e3968-d65d-471e-b07f-3777d8bbb411",
   "metadata": {},
   "source": [
    "finally,the follow pics show the top 10 liveable and affordable suburbs"
   ]
  },
  {
   "cell_type": "markdown",
   "id": "1a1369fe-8fdf-4b20-954b-2129b4706b34",
   "metadata": {},
   "source": [
    "![](../plots/sa2_predict/suburbs.png)"
   ]
  },
  {
   "cell_type": "markdown",
   "id": "cd89ce20-69b2-40c9-ae5b-3629288745e7",
   "metadata": {},
   "source": []
  }
 ],
 "metadata": {
  "kernelspec": {
   "display_name": "Python 3 (ipykernel)",
   "language": "python",
   "name": "python3"
  },
  "language_info": {
   "codemirror_mode": {
    "name": "ipython",
    "version": 3
   },
   "file_extension": ".py",
   "mimetype": "text/x-python",
   "name": "python",
   "nbconvert_exporter": "python",
   "pygments_lexer": "ipython3",
   "version": "3.9.13"
  }
 },
 "nbformat": 4,
 "nbformat_minor": 5
}
