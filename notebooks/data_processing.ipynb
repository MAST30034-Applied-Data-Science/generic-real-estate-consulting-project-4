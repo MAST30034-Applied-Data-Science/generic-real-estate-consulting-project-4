{
 "cells": [
  {
   "cell_type": "markdown",
   "metadata": {},
   "source": [
    "#### Rent data:\n",
    "- ../data/curated/rent_basic.csv\n",
    "\n",
    "#### PTV data\n",
    "- ../data/raw/PTV/public_trans.csv\n",
    "- SA2_CODE21: int, id of district in SA2 formate\n",
    "- metrobus_count: int, count of PTV_METRO_BUS_STOP\n",
    "- metrotrain_count: int, count of PTV_METRO_TRAIN_STATION\n",
    "- metrotram_count: int, count of PTV_METRO_TRAM_STOP\n",
    "- regbus_count: int, count of PTV_REGIONAL_BUS_STOP\n",
    "- regcoach_count: int, count of PTV_REGIONAL_COACH_STOP\n",
    "- regtrain_count: int, count of PTV_REGIONAL_TRAIN_STATION\n",
    "- skybus_count: int, count of PTV_SKYBUS_STOP\n",
    "\n",
    "\n",
    "#### FOI:\n",
    "- ../data/raw/FOI/foi_count_by_sa2.csv\n",
    "- SA2 (int), recr_count (int), comm_count (int)\n",
    "\n",
    "## PTV data was pulled manually\n",
    "To request PTV.data manually:\n",
    "- https://data.gov.au/dataset/ds-vic-f8155dba-4f9c-43ee-ad83-f149fc3f1e9e/details?q=tram%20station\n",
    "- sign up (free) and add data to order\n",
    "- proceed to order configuration\n",
    "- select geographical of GDA2020 and ESRI shape file format with \"select all area available\" option checked\n",
    "- file will be sent to the given email\n",
    "- download and rename the file as PTV.zip, move it to ../data/raw/\n",
    "\n",
    "\n",
    "## Point of interest data was pulled manually\n",
    "\n",
    "To request FOI.data manually:\n",
    "-  https://datashare.maps.vic.gov.au/search?md=019d7631-1234-5112-9f21-8f7346647b61\n",
    "- sign up (free) and add data to order\n",
    "- proceed to order configuration\n",
    "- select geographical of GDA2020 and ESRI shape file format with \"select all area available\" option checked\n",
    "- file will be sent to the given email\n",
    "- download and rename the file as FOI.zip, move it to ../data/raw/"
   ]
  },
  {
   "cell_type": "code",
   "execution_count": 14,
   "metadata": {
    "vscode": {
     "languageId": "python"
    }
   },
   "outputs": [],
   "source": [
    "import os\n",
    "from pyspark.sql import SparkSession\n",
    "from pyspark.sql import functions as F\n",
    "import re\n",
    "from itertools import compress\n",
    "import pandas as pd\n",
    "import geopandas as gpd\n",
    "import zipfile\n",
    "\n",
    "\n",
    "spark = (\n",
    "    SparkSession.builder.appName(\"Assignment_2\")\n",
    "    .config(\"spark.sql.repl.eagerEval.enabled\", True)\n",
    "    .config(\"spark.sql.parquet.cacheMetadata\", \"true\")\n",
    "    .config(\"spark.sql.session.timeZone\", \"Etc/UTC\")\n",
    "    .getOrCreate()\n",
    ")\n",
    "\n",
    "INPUT_DIR = \"../data/raw/\"\n",
    "OUTPUT_DIR = \"../data/curated/\"\n",
    "\n",
    "\n",
    "headers = {\"accept\": \"text/csv\"}"
   ]
  },
  {
   "cell_type": "code",
   "execution_count": 15,
   "metadata": {
    "vscode": {
     "languageId": "python"
    }
   },
   "outputs": [],
   "source": [
    "def gpd_station_merge(poly_gdf, file_path, by_id_name = \"SA2_CODE21\",\\\n",
    "    station_id_name = \"STOP_ID\", method={\"STOP_ID\": \"count\"}):\n",
    "    \"\"\"\n",
    "        A function used to merge shape file in path: {file_path} to a \n",
    "        geopandas dataframe {poly_gdf} with POLYGON geometry. \n",
    "        poly_gdf: a geopandas.GeoDataFrame object contains POLYGON geometry\n",
    "        file_path: a String of file path to read target shape file\n",
    "        by_id_name: a String of id name to perform groupby option\n",
    "        station_id_name: a String of id name stated in the readed gdf\n",
    "        method: a Dict of operations to perform after groupby\n",
    "    \"\"\"\n",
    "\n",
    "    ### read station file\n",
    "    station_gdf = gpd.read_file(file_path)\n",
    "\n",
    "    # metro bus station feature selection\n",
    "    station_gdf = station_gdf[[station_id_name, \"geometry\"]]\n",
    "    \n",
    "\n",
    "\n",
    "    # merge tabels\n",
    "    join_gdf = gpd.sjoin(poly_gdf, station_gdf, how=\"left\")\n",
    "    join_gdf = join_gdf.groupby(by_id_name).agg(method)\n",
    "    \n",
    "    return join_gdf"
   ]
  },
  {
   "cell_type": "markdown",
   "metadata": {},
   "source": [
    "## PTV data"
   ]
  },
  {
   "cell_type": "code",
   "execution_count": 16,
   "metadata": {
    "vscode": {
     "languageId": "python"
    }
   },
   "outputs": [],
   "source": [
    "output_dir = \"../data/raw/PTV/ll_gda2020/esrishape/whole_of_dataset/victoria/PUBLIC_TRANSPORT/\"\n",
    "\n",
    "# unzip zip file\n",
    "with zipfile.ZipFile(f\"../data/raw/PTV.zip\", \"r\") as zip_ref:\n",
    "    zip_ref.extractall(f\"../data/raw/PTV/\")"
   ]
  },
  {
   "cell_type": "code",
   "execution_count": 17,
   "metadata": {
    "vscode": {
     "languageId": "python"
    }
   },
   "outputs": [
    {
     "name": "stdout",
     "output_type": "stream",
     "text": [
      "(524, 1)\n",
      "                                                     geometry\n",
      "SA2_CODE21                                                   \n",
      "201011001   POLYGON ((143.78282 -37.56666, 143.75558 -37.5...\n"
     ]
    }
   ],
   "source": [
    "### read shape file and make geometry readable\n",
    "boundary_gdf = gpd.read_file(\"../data/raw/ABS/digitalBoundary/\\\n",
    "SA2_2021_AUST_GDA2020.shp\")\n",
    "boundary_gdf = boundary_gdf.loc[boundary_gdf[\"STE_NAME21\"] == \"Victoria\"]\n",
    "\n",
    "# digital boundary feature selection\n",
    "boundary_gdf = boundary_gdf.reset_index()[[\"SA2_CODE21\", \"geometry\"]].set_index(\"SA2_CODE21\")\n",
    "print(boundary_gdf.shape)\n",
    "print(boundary_gdf.head(1))\n"
   ]
  },
  {
   "cell_type": "code",
   "execution_count": 18,
   "metadata": {
    "vscode": {
     "languageId": "python"
    }
   },
   "outputs": [
    {
     "name": "stdout",
     "output_type": "stream",
     "text": [
      "metrobus_count ../data/raw/PTV/ll_gda2020/esrishape/whole_of_dataset/victoria/PUBLIC_TRANSPORT/PTV_METRO_BUS_STOP.shp\n",
      "metrotrain_count ../data/raw/PTV/ll_gda2020/esrishape/whole_of_dataset/victoria/PUBLIC_TRANSPORT/PTV_METRO_TRAIN_STATION.shp\n",
      "metrotram_count ../data/raw/PTV/ll_gda2020/esrishape/whole_of_dataset/victoria/PUBLIC_TRANSPORT/PTV_METRO_TRAM_STOP.shp\n",
      "regbus_count ../data/raw/PTV/ll_gda2020/esrishape/whole_of_dataset/victoria/PUBLIC_TRANSPORT/PTV_REGIONAL_BUS_STOP.shp\n",
      "regcoach_count ../data/raw/PTV/ll_gda2020/esrishape/whole_of_dataset/victoria/PUBLIC_TRANSPORT/PTV_REGIONAL_COACH_STOP.shp\n",
      "regtrain_count ../data/raw/PTV/ll_gda2020/esrishape/whole_of_dataset/victoria/PUBLIC_TRANSPORT/PTV_REGIONAL_TRAIN_STATION.shp\n",
      "skybus_count ../data/raw/PTV/ll_gda2020/esrishape/whole_of_dataset/victoria/PUBLIC_TRANSPORT/PTV_SKYBUS_STOP.shp\n",
      "(524, 8)\n",
      "                                                     geometry  metrobus_count  \\\n",
      "SA2_CODE21                                                                      \n",
      "201011001   POLYGON ((143.78282 -37.56666, 143.75558 -37.5...               0   \n",
      "201011002   POLYGON ((143.81896 -37.55582, 143.81644 -37.5...               0   \n",
      "201011005   POLYGON ((143.84171 -37.61596, 143.84176 -37.6...               0   \n",
      "201011006   POLYGON ((143.75050 -37.59119, 143.75044 -37.5...               0   \n",
      "201011007   POLYGON ((143.73296 -37.62333, 143.73263 -37.6...               0   \n",
      "\n",
      "            metrotrain_count  metrotram_count  regbus_count  regcoach_count  \\\n",
      "SA2_CODE21                                                                    \n",
      "201011001                  0                0            43               0   \n",
      "201011002                  0                0           105               2   \n",
      "201011005                  0                0            32               4   \n",
      "201011006                  0                0            34               2   \n",
      "201011007                  0                0             3               2   \n",
      "\n",
      "            regtrain_count  skybus_count  \n",
      "SA2_CODE21                                \n",
      "201011001                0             0  \n",
      "201011002                0             0  \n",
      "201011005                0             0  \n",
      "201011006                0             0  \n",
      "201011007                0             0  \n"
     ]
    }
   ],
   "source": [
    "mix_gdf = boundary_gdf.sort_values(by=[\"SA2_CODE21\"])\n",
    "file_paths = [\n",
    "    f\"{output_dir}PTV_METRO_BUS_STOP.shp\",\n",
    "    f\"{output_dir}PTV_METRO_TRAIN_STATION.shp\",\n",
    "    f\"{output_dir}PTV_METRO_TRAM_STOP.shp\",\n",
    "    f\"{output_dir}PTV_REGIONAL_BUS_STOP.shp\",\n",
    "    f\"{output_dir}PTV_REGIONAL_COACH_STOP.shp\",\n",
    "    f\"{output_dir}PTV_REGIONAL_TRAIN_STATION.shp\",\n",
    "    f\"{output_dir}PTV_SKYBUS_STOP.shp\"\n",
    "]\n",
    "\n",
    "col_names = [\"metrobus_count\", \"metrotrain_count\", \"metrotram_count\",\n",
    "    \"regbus_count\", \"regcoach_count\", \"regtrain_count\", \"skybus_count\"]\n",
    "\n",
    "\n",
    "for col_name, file_path in zip(col_names, file_paths):\n",
    "    print(col_name, file_path)\n",
    "    cur_gdf = gpd_station_merge(boundary_gdf, file_path).rename({\"STOP_ID\": col_name}, axis=1)\n",
    "    cur_gdf = cur_gdf.sort_values(by = col_name)\n",
    "    mix_gdf = pd.concat([mix_gdf, cur_gdf], axis=1)\n",
    "\n",
    "print(mix_gdf.shape)\n",
    "print(mix_gdf.head())\n",
    "mix_gdf.to_csv(\"../data/raw/PTV/public_trans.csv\")"
   ]
  },
  {
   "cell_type": "markdown",
   "metadata": {},
   "source": [
    "## Match SA2 to Rental data"
   ]
  },
  {
   "cell_type": "code",
   "execution_count": 19,
   "metadata": {
    "vscode": {
     "languageId": "python"
    }
   },
   "outputs": [
    {
     "name": "stdout",
     "output_type": "stream",
     "text": [
      "          rent  bedroom  baths  parking  \\\n",
      "rent_id                                   \n",
      "0        490.0        4      2        2   \n",
      "1        420.0        4      2        2   \n",
      "2        520.0        4      2        2   \n",
      "3        440.0        4      2        2   \n",
      "4        440.0        4      2        2   \n",
      "\n",
      "                                                       url   Latitude  \\\n",
      "rent_id                                                                 \n",
      "0        https://www.domain.com.au/9-kilkenny-drive-alf... -37.563073   \n",
      "1        https://www.domain.com.au/164-shortridge-drive... -37.547241   \n",
      "2        https://www.domain.com.au/37-mullingar-drive-a... -37.566319   \n",
      "3        https://www.domain.com.au/66-lugano-avenue-alf... -37.563453   \n",
      "4        https://www.domain.com.au/57-dyson-drive-alfre... -37.550549   \n",
      "\n",
      "          Longitude                     geometry        SA2  \n",
      "rent_id                                                      \n",
      "0        143.793875  POINT (143.79387 -37.56307)  206021110  \n",
      "1        143.770106  POINT (143.77011 -37.54724)  206051134  \n",
      "2        143.800328  POINT (143.80033 -37.56632)  206051514  \n",
      "3        143.789489  POINT (143.78949 -37.56345)  206071517  \n",
      "4        143.786038  POINT (143.78604 -37.55055)  207011520  \n",
      "(3748, 9)\n"
     ]
    }
   ],
   "source": [
    "# read local files\n",
    "rent_df = pd.read_csv(f\"../data/raw/rent/rent_raw.csv\").reset_index()\n",
    "\n",
    "\n",
    "rent_gdf = gpd.GeoDataFrame(rent_df, geometry=gpd\\\n",
    "        .points_from_xy(rent_df[\"Longitude\"], rent_df[\"Latitude\"]))\n",
    "boundary_gdf = gpd.read_file(f\"../data/raw/ABS/digitalBoundary/SA2_2021_AUST_GDA2020.shp\")\n",
    "rent_gdf[\"geometry\"] = rent_gdf[\"geometry\"].set_crs(\"epsg:7844\")\n",
    "\n",
    "# feature selction on boundary gdf\n",
    "boundary_gdf = boundary_gdf.loc[boundary_gdf[\"STE_NAME21\"] == \"Victoria\"]\n",
    "boundary_gdf = boundary_gdf[[\"SA2_CODE21\", \"geometry\"]]\n",
    "boundary_gdf[\"SA2_CODE21\"] = boundary_gdf[\"SA2_CODE21\"].astype(\"int64\")\n",
    "\n",
    "# assgin sa2 to rent gdf\n",
    "join_gdf = gpd.sjoin(rent_gdf, boundary_gdf, how=\"right\")\n",
    "join_gdf = join_gdf.dropna()\n",
    "join_gdf[\"index_left\"] = join_gdf[\"index_left\"].astype(\"int\")\n",
    "rent_gdf = rent_gdf.loc[join_gdf[\"index_left\"]]\n",
    "join_gdf = join_gdf.reset_index()\n",
    "rent_gdf[\"SA2\"] = join_gdf[[\"SA2_CODE21\"]]\n",
    "rent_gdf = rent_gdf.dropna()\n",
    "rent_gdf[\"SA2\"] = rent_gdf[\"SA2\"].astype(\"int64\")\n",
    "rent_df = rent_df.loc[rent_gdf[\"index\"]]\n",
    "rent_df[\"SA2\"] = rent_gdf[\"SA2\"]\n",
    "\n",
    "rent_df[\"rent_id\"] = range(rent_df.shape[0])\n",
    "rent_df = rent_df.set_index(\"rent_id\").drop([\"index\"], axis=1)\n",
    "\n",
    "rent_df = rent_df.dropna().drop_duplicates()\n",
    "print(rent_df.head())\n",
    "print(rent_df.shape)\n",
    "rent_df.to_csv(f\"../data/curated/rent_basic.csv\", header=True)\n"
   ]
  },
  {
   "cell_type": "code",
   "execution_count": 20,
   "metadata": {
    "vscode": {
     "languageId": "python"
    }
   },
   "outputs": [
    {
     "name": "stdout",
     "output_type": "stream",
     "text": [
      "(3748, 3)\n"
     ]
    }
   ],
   "source": [
    "print(rent_df[[\"SA2\", \"Latitude\", \"Longitude\"]].drop_duplicates().shape)"
   ]
  },
  {
   "cell_type": "markdown",
   "metadata": {},
   "source": [
    "## Point of interest\n",
    "\n",
    "To request FOI.data manually:\n",
    "-  https://datashare.maps.vic.gov.au/search?md=019d7631-1234-5112-9f21-8f7346647b61\n",
    "- sign up (free) and add data to order\n",
    "- proceed to order configuration\n",
    "- select geographical of GDA2020 and ESRI shape file format with \"select all area available\" option checked\n",
    "- file will be sent to the given email\n",
    "- download and rename the file as FOI.zip, move it to ../data/raw/\n",
    "\n",
    "### FOI:\n",
    "- ../data/raw/FOI/foi_count_by_sa2.csv\n",
    "- SA2 (int), recr_count (int), comm_count (int)"
   ]
  },
  {
   "cell_type": "code",
   "execution_count": 21,
   "metadata": {
    "vscode": {
     "languageId": "python"
    }
   },
   "outputs": [],
   "source": [
    "import pandas as pd\n",
    "import geopandas as gpd\n",
    "import zipfile"
   ]
  },
  {
   "cell_type": "code",
   "execution_count": 22,
   "metadata": {
    "vscode": {
     "languageId": "python"
    }
   },
   "outputs": [],
   "source": [
    "# ../data/raw/FOI_POINT.shp\n",
    "# unzip zip file\n",
    "with zipfile.ZipFile(f\"../data/raw/FOI.zip\", \"r\") as zip_ref:\n",
    "    zip_ref.extractall(f\"../data/raw/FOI/\")"
   ]
  },
  {
   "cell_type": "code",
   "execution_count": 23,
   "metadata": {
    "vscode": {
     "languageId": "python"
    }
   },
   "outputs": [
    {
     "name": "stdout",
     "output_type": "stream",
     "text": [
      "FTYPE           object\n",
      "NAME_LABEL      object\n",
      "geometry      geometry\n",
      "dtype: object\n",
      "['control point' 'sign' 'recreational resource' 'admin facility'\n",
      " 'landmark' 'community venue' 'communication service' 'health facility'\n",
      " 'education centre' 'place of worship' 'place' 'community space'\n",
      " 'dumping ground' 'sport facility' 'storage facility' 'excavation site'\n",
      " 'emergency facility' 'cultural centre' 'commercial facility'\n",
      " 'pipeline facility' 'care facility' 'power facility' 'cableway'\n",
      " 'hospital' 'defence site']\n",
      "(21834, 3)\n",
      "                          FTYPE  NAME_LABEL                          geometry\n",
      "UFI                                                                          \n",
      "32592012          control point   7022-2301  MULTIPOINT (140.84663 -37.94721)\n",
      "64946096                   sign      HVP002  MULTIPOINT (145.99438 -37.82302)\n",
      "64946097                   sign      HVP017  MULTIPOINT (146.53764 -38.10037)\n",
      "59765887  recreational resource  Lloyds Hut  MULTIPOINT (146.50104 -37.75399)\n",
      "32590719          control point    Schneiss  MULTIPOINT (140.96118 -36.58181)\n"
     ]
    }
   ],
   "source": [
    "foi_gdf = gpd.read_file(f\"../data/raw/FOI/ll_gda2020/esrishape/whole_of_dataset/victoria/VMFEAT/FOI_POINT.shp\")\n",
    "boundary_gdf = gpd.read_file(f\"../data/raw/ABS/digitalBoundary/SA2_2021_AUST_GDA2020.shp\")\n",
    "# foi_gdf.to_csv(\"../data/raw/FOI_raw.csv\")\n",
    "\n",
    "## feature selction for foi\n",
    "foi_gdf = foi_gdf[[\"UFI\", \"PARENTFTID\", \"FTYPE\", \"NAME_LABEL\", \"geometry\"]]\n",
    "foi_gdf = foi_gdf.loc[foi_gdf[\"PARENTFTID\"].isna()].drop([\"PARENTFTID\"], axis=1).dropna().drop_duplicates()\n",
    "foi_gdf = foi_gdf.astype({\"UFI\": int})\n",
    "foi_gdf = foi_gdf.set_index(\"UFI\")\n",
    "\n",
    "## feature selection for boundary\n",
    "boundary_gdf = boundary_gdf.loc[boundary_gdf[\"STE_NAME21\"] == \"Victoria\"]\n",
    "boundary_gdf = boundary_gdf[[\"SA2_CODE21\", \"geometry\"]]\n",
    "boundary_gdf[\"SA2_CODE21\"] = boundary_gdf[\"SA2_CODE21\"].astype(\"int64\")\n",
    "boundary_gdf = boundary_gdf.rename(columns={\"SA2_CODE21\": \"SA2\"}).set_index(\"SA2\")\n",
    "\n",
    "print(foi_gdf.dtypes)\n",
    "print(foi_gdf[\"FTYPE\"].unique())\n",
    "print(foi_gdf.shape)\n",
    "print(foi_gdf.head())"
   ]
  },
  {
   "cell_type": "code",
   "execution_count": 24,
   "metadata": {
    "vscode": {
     "languageId": "python"
    }
   },
   "outputs": [
    {
     "name": "stdout",
     "output_type": "stream",
     "text": [
      "(524, 2)\n",
      "recr_count    int64\n",
      "comm_count    int64\n",
      "dtype: object\n",
      "           recr_count  comm_count\n",
      "SA2                              \n",
      "201011001           0           0\n",
      "201011002           0           0\n",
      "201011005           0           0\n",
      "201011006           0           0\n",
      "201011007           0           0\n"
     ]
    }
   ],
   "source": [
    "join_gdf = gpd.sjoin(foi_gdf, boundary_gdf, how=\"right\")\n",
    "\n",
    "\n",
    "## count number of recreational resource in every SA2 district\n",
    "recr_gdf = join_gdf.loc[join_gdf[\"FTYPE\"] == \"recreational resource\"].groupby([\"SA2\", \"FTYPE\"])[\"index_left\"].count().reset_index()\n",
    "recr_gdf = recr_gdf.set_index(\"SA2\")\n",
    "recr_gdf = recr_gdf.join(boundary_gdf, how=\"right\").drop([\"FTYPE\"], axis=1).rename(columns={\"index_left\": \"recr_count\"})\n",
    "recr_gdf[\"recr_count\"] = recr_gdf[\"recr_count\"].fillna(0).astype({\"recr_count\": int}).sort_index()\n",
    "\n",
    "## count number of commercial facility in every SA2 district\n",
    "comm_gdf = join_gdf.loc[join_gdf[\"FTYPE\"] == \"commercial facility\"].groupby([\"SA2\", \"FTYPE\"])[\"index_left\"].count().reset_index()\n",
    "comm_gdf = comm_gdf.set_index(\"SA2\")\n",
    "comm_gdf = comm_gdf.join(boundary_gdf, how=\"right\").drop([\"FTYPE\"], axis=1).rename(columns={\"index_left\": \"comm_count\"})\n",
    "comm_gdf[\"comm_count\"] = comm_gdf[\"comm_count\"].fillna(0).astype({\"comm_count\": int}).sort_index()\n",
    "\n",
    "## combine features\n",
    "foi_df = pd.DataFrame(recr_gdf.drop(columns = \"geometry\"))\n",
    "foi_df[\"comm_count\"] = comm_gdf[\"comm_count\"]\n",
    "foi_df.to_csv(\"../data/raw/FOI/foi_count_by_sa2.csv\")\n",
    "\n",
    "print(foi_df.shape)\n",
    "print(foi_df.dtypes)\n",
    "print(foi_df.head())"
   ]
  },
  {
   "cell_type": "markdown",
   "metadata": {},
   "source": [
    "By Junhua Liu for study use only"
   ]
  }
 ],
 "metadata": {
  "kernelspec": {
   "display_name": "Python 3 (ipykernel)",
   "language": "python",
   "name": "python3"
  },
  "orig_nbformat": 4
 },
 "nbformat": 4,
 "nbformat_minor": 2
}
