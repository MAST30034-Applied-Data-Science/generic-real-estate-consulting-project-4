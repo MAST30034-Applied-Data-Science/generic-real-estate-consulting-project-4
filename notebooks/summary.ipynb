{
 "cells": [
  {
   "cell_type": "code",
   "execution_count": 6,
   "metadata": {},
   "outputs": [],
   "source": [
    "import pandas as pd\n",
    "import geopandas as gpd\n"
   ]
  },
  {
   "cell_type": "markdown",
   "metadata": {},
   "source": [
    "# Introduction\n",
    "### Background\n",
    "The RBA (Reserve bank of Australia) has been increasing interest rate since 2021, which significantly affect the real estate market. The house price has been dropping since then. Many house investors are considering selling their property to stop loss or leasing and waiting for a possible market recovery. On the other hand, renters may consider stopping renting and buying property to settle down. For both situations, rental prices are relevant because they can be viewed as a substantial opportunity cost.\n",
    "\n",
    "### Target and Methodology\n",
    "This project aims to offer overviews and predictions of the rental market. We approach it using mainly machine learning methods because of their high accuracy rate and advantage in trend analysis.\n",
    "\n",
    "\n",
    "\n",
    "### Value\n",
    "The result may help ordinary renters position their target property to meet their needs. It may also offer assistance for investors in calculating revenue or opportunity costs."
   ]
  },
  {
   "cell_type": "markdown",
   "metadata": {},
   "source": [
    "# Dataset information\n",
    "\n",
    "## Methodology\n",
    "Methods used to collect data are direct downloading, manual requesting, web crawling, and API requesting.\n",
    "\n",
    "## Dataset detail\n",
    "Here is a list of datasets we used and their brief summary:\n",
    "\n",
    "### Time Related\n",
    "| Name | Duration | Time unite | Area unite | Extra note|\n",
    "| --- | --- | --- | --- | --- |\n",
    "| ERP | 2010 - 2021 | Year | SA2 | Expected Residential Population |\n",
    "| Residential Property Price Index | Q1/2021 - Q4/2021 | Quarter | AUS | Represent house price |\n",
    "| 3-year bond | 07/2013 - 08/2022 | Month | AUS | Close to risk-free rate |\n",
    "| Median Rent | Q2/1999 - Q1/2021 | Quarter | SA2 | Median rent and Deal count of each LGA district |\n",
    "| Exchange Rate | 03/2010 - 06/2022 | Month | AUS | Exchange rate from AUD to USD |\n",
    "| Immigration data | 2004 - 2019 | Year | Victoria | Victoria Immigration Data |\n",
    "| Debt income ratio | 2009 - 2019 | 2 Year | AUS | Measured every two years |\n",
    "\n",
    "\n",
    "### District / Area Related\n",
    "| Name | Unite | Extra note|\n",
    "| --- | --- | --- |\n",
    "| School location | Longitude / Latitude | Longitude and Latitude of school |\n",
    "| ERP | SA2 | Expected Residential Population |\n",
    "| Median Household Income | SA2 | - |\n",
    "| Meidan Rent | SA2 | Median Rent and Deal Count of each SA2 district |\n",
    "| Distance to CBD | SA2 | Distance From centroid of each SA2 district to CBD |\n",
    "| PTV Station | SA2 | number of stations (train, bus, coach, ...)\n",
    "\n",
    "### Property Related\n",
    "| Name | Extra note |\n",
    "| --- | --- |\n",
    "| Position | Latitude and Longitude of Property |\n",
    "| Number of Rooms | room types are bedroom, bathroom, and parking spot |\n",
    "| Distance to school | Distance to Nearest Schools measured in meters |\n",
    "| Distance to Station | Distance to Nearest Train Station OR CBD measured in meters |\n"
   ]
  },
  {
   "cell_type": "markdown",
   "metadata": {},
   "source": [
    "## Time related\n",
    "\n",
    "For time-related data, take SA2 as part of the index.\n",
    "\n",
    "#### Assumptions:\n",
    "- **Constant increase/decrease rate** Throughout the Year. This applied to ERP, Immigration Data, and debt-income ratio data\n",
    "\n",
    "<img src=\"../plots/Constant Growth.svg\" alt=\"Constant Growth Rate\" style=\"width: 800px;\" title=\"Constant Growth Rate\" />\n",
    "\n",
    "\n",
    "#### Analysis\n",
    "<img src=\"../plots/History_rent.png\" alt=\"Median Rent & Deal Count\" style=\"width: 500px;\" title=\"Median Rent & Deal Count\" />\n",
    "\n",
    "From the above Victoria History Median Rent and Deal Count Graph, we can overserve that the rent price and deal count keep **increasing** at a relatively constant rate.\n",
    "\n",
    "<img src=\"../plots/Part_his_rent.png\" alt=\"Part of History Rent\" style=\"width: 500px;\" title=\"Part of History Rent\" />\n",
    "\n",
    "From the segment graph, we can observe that both transition count and rental price in **quarter 2** are the **lowest** in the whole year.\n"
   ]
  },
  {
   "cell_type": "code",
   "execution_count": 7,
   "metadata": {},
   "outputs": [
    {
     "data": {
      "text/html": [
       "<div>\n",
       "<style scoped>\n",
       "    .dataframe tbody tr th:only-of-type {\n",
       "        vertical-align: middle;\n",
       "    }\n",
       "\n",
       "    .dataframe tbody tr th {\n",
       "        vertical-align: top;\n",
       "    }\n",
       "\n",
       "    .dataframe thead th {\n",
       "        text-align: right;\n",
       "    }\n",
       "</style>\n",
       "<table border=\"1\" class=\"dataframe\">\n",
       "  <thead>\n",
       "    <tr style=\"text-align: right;\">\n",
       "      <th></th>\n",
       "      <th>SA2</th>\n",
       "      <th>year</th>\n",
       "      <th>quarter</th>\n",
       "      <th>population</th>\n",
       "      <th>bond</th>\n",
       "      <th>price_index</th>\n",
       "      <th>deal_count</th>\n",
       "      <th>median_rent</th>\n",
       "      <th>to_USD</th>\n",
       "      <th>immi_count</th>\n",
       "      <th>debt_ratio</th>\n",
       "    </tr>\n",
       "  </thead>\n",
       "  <tbody>\n",
       "    <tr>\n",
       "      <th>0</th>\n",
       "      <td>201011001</td>\n",
       "      <td>2013</td>\n",
       "      <td>3</td>\n",
       "      <td>9550</td>\n",
       "      <td>2.90</td>\n",
       "      <td>105.0</td>\n",
       "      <td>1027</td>\n",
       "      <td>280.0</td>\n",
       "      <td>0.9309</td>\n",
       "      <td>30375</td>\n",
       "      <td>0.85875</td>\n",
       "    </tr>\n",
       "    <tr>\n",
       "      <th>1</th>\n",
       "      <td>201011001</td>\n",
       "      <td>2013</td>\n",
       "      <td>4</td>\n",
       "      <td>9714</td>\n",
       "      <td>2.96</td>\n",
       "      <td>109.0</td>\n",
       "      <td>1050</td>\n",
       "      <td>290.0</td>\n",
       "      <td>0.8948</td>\n",
       "      <td>30562</td>\n",
       "      <td>0.86000</td>\n",
       "    </tr>\n",
       "    <tr>\n",
       "      <th>2</th>\n",
       "      <td>201011001</td>\n",
       "      <td>2014</td>\n",
       "      <td>1</td>\n",
       "      <td>9870</td>\n",
       "      <td>2.97</td>\n",
       "      <td>110.0</td>\n",
       "      <td>1251</td>\n",
       "      <td>295.0</td>\n",
       "      <td>0.9221</td>\n",
       "      <td>30932</td>\n",
       "      <td>0.85875</td>\n",
       "    </tr>\n",
       "    <tr>\n",
       "      <th>3</th>\n",
       "      <td>201011001</td>\n",
       "      <td>2014</td>\n",
       "      <td>2</td>\n",
       "      <td>10026</td>\n",
       "      <td>2.80</td>\n",
       "      <td>112.0</td>\n",
       "      <td>1069</td>\n",
       "      <td>280.0</td>\n",
       "      <td>0.9420</td>\n",
       "      <td>31302</td>\n",
       "      <td>0.85750</td>\n",
       "    </tr>\n",
       "    <tr>\n",
       "      <th>4</th>\n",
       "      <td>201011001</td>\n",
       "      <td>2014</td>\n",
       "      <td>3</td>\n",
       "      <td>10182</td>\n",
       "      <td>2.80</td>\n",
       "      <td>113.0</td>\n",
       "      <td>1035</td>\n",
       "      <td>300.0</td>\n",
       "      <td>0.8752</td>\n",
       "      <td>31672</td>\n",
       "      <td>0.85625</td>\n",
       "    </tr>\n",
       "  </tbody>\n",
       "</table>\n",
       "</div>"
      ],
      "text/plain": [
       "         SA2  year  quarter  population  bond  price_index  deal_count  \\\n",
       "0  201011001  2013        3        9550  2.90        105.0        1027   \n",
       "1  201011001  2013        4        9714  2.96        109.0        1050   \n",
       "2  201011001  2014        1        9870  2.97        110.0        1251   \n",
       "3  201011001  2014        2       10026  2.80        112.0        1069   \n",
       "4  201011001  2014        3       10182  2.80        113.0        1035   \n",
       "\n",
       "   median_rent  to_USD  immi_count  debt_ratio  \n",
       "0        280.0  0.9309       30375     0.85875  \n",
       "1        290.0  0.8948       30562     0.86000  \n",
       "2        295.0  0.9221       30932     0.85875  \n",
       "3        280.0  0.9420       31302     0.85750  \n",
       "4        300.0  0.8752       31672     0.85625  "
      ]
     },
     "execution_count": 7,
     "metadata": {},
     "output_type": "execute_result"
    }
   ],
   "source": [
    "his_df = pd.read_csv(f\"../data/curated/history_info.csv\").drop([\"Unnamed: 0\"], axis=1)\n",
    "his_df = his_df.query(\"SA2 == 201011001\")\n",
    "his_df.head()"
   ]
  },
  {
   "cell_type": "markdown",
   "metadata": {},
   "source": [
    "## Related to SA2 Area standard\n",
    "\n",
    "For SA2 code-related data, we use the newest data in terms of years when their timeline is included in datasets.\n",
    "\n",
    "#### Assumptions:\n",
    "- We take **right join** when converting the LGA area standard to the SA2 standard\n",
    "\n",
    "<img src=\"../plots/right join.svg\" alt=\"Right Join\" style=\"width: 800px;\"/>\n",
    "\n",
    "- The **minimal distance** between any two points is **350m** (graph retrieved from ../plots/Min_Distance.html)\n",
    "\n",
    "<img src=\"../plots/min_distance.png\" alt=\"Minimal Distance\" style=\"width: 300px;\"/>\n",
    "\n",
    "- We shift the centroid of some SA2 areas within (+- 0.04) degree on **latitude** when we cannot find any waypoints near the original position (graph retrieved from ../plots/Distance_shift.html)\n",
    "\n",
    "<img src=\"../plots/distance_shift.png\" alt=\"Centroid Shift\" style=\"width: 300px;\"/>\n",
    "\n",
    "\n",
    "#### Analysis\n",
    "\n",
    "<img src=\"../plots/Top_10.png\" alt=\"Centroid Shift\" style=\"width: 800px;\"/>\n",
    "\n",
    "- (graph retrieved from ../plots/Top_10_rent.html)\n",
    "\n",
    "From the above median rent distribution for all SA2 areas in quarter 1, 2021, it can be observed that properties **close to city centres** generally have high rent. A similar high rent level can be found in some **seashore towns** and **East Melbourne** as well. \n",
    "\n"
   ]
  },
  {
   "cell_type": "code",
   "execution_count": 8,
   "metadata": {},
   "outputs": [
    {
     "data": {
      "text/html": [
       "<div>\n",
       "<style scoped>\n",
       "    .dataframe tbody tr th:only-of-type {\n",
       "        vertical-align: middle;\n",
       "    }\n",
       "\n",
       "    .dataframe tbody tr th {\n",
       "        vertical-align: top;\n",
       "    }\n",
       "\n",
       "    .dataframe thead th {\n",
       "        text-align: right;\n",
       "    }\n",
       "</style>\n",
       "<table border=\"1\" class=\"dataframe\">\n",
       "  <thead>\n",
       "    <tr style=\"text-align: right;\">\n",
       "      <th></th>\n",
       "      <th>SA2</th>\n",
       "      <th>school_count</th>\n",
       "      <th>ERP_population</th>\n",
       "      <th>median_income</th>\n",
       "      <th>metrobus_count</th>\n",
       "      <th>metrotrain_count</th>\n",
       "      <th>metrotram_count</th>\n",
       "      <th>regbus_count</th>\n",
       "      <th>regcoach_count</th>\n",
       "      <th>regtrain_count</th>\n",
       "      <th>skybus_count</th>\n",
       "      <th>recr_count</th>\n",
       "      <th>comm_count</th>\n",
       "      <th>deal_count</th>\n",
       "      <th>median_rent</th>\n",
       "      <th>cbd_dis</th>\n",
       "    </tr>\n",
       "  </thead>\n",
       "  <tbody>\n",
       "    <tr>\n",
       "      <th>0</th>\n",
       "      <td>202011018</td>\n",
       "      <td>13</td>\n",
       "      <td>14951</td>\n",
       "      <td>1267</td>\n",
       "      <td>0</td>\n",
       "      <td>0</td>\n",
       "      <td>0</td>\n",
       "      <td>142</td>\n",
       "      <td>2</td>\n",
       "      <td>1</td>\n",
       "      <td>0</td>\n",
       "      <td>1</td>\n",
       "      <td>1</td>\n",
       "      <td>709</td>\n",
       "      <td>350.000000</td>\n",
       "      <td>152998.1</td>\n",
       "    </tr>\n",
       "    <tr>\n",
       "      <th>1</th>\n",
       "      <td>202011022</td>\n",
       "      <td>9</td>\n",
       "      <td>21060</td>\n",
       "      <td>1238</td>\n",
       "      <td>0</td>\n",
       "      <td>0</td>\n",
       "      <td>0</td>\n",
       "      <td>130</td>\n",
       "      <td>3</td>\n",
       "      <td>1</td>\n",
       "      <td>0</td>\n",
       "      <td>0</td>\n",
       "      <td>0</td>\n",
       "      <td>709</td>\n",
       "      <td>350.000000</td>\n",
       "      <td>144471.1</td>\n",
       "    </tr>\n",
       "    <tr>\n",
       "      <th>2</th>\n",
       "      <td>203011035</td>\n",
       "      <td>6</td>\n",
       "      <td>8065</td>\n",
       "      <td>1898</td>\n",
       "      <td>0</td>\n",
       "      <td>0</td>\n",
       "      <td>0</td>\n",
       "      <td>3</td>\n",
       "      <td>4</td>\n",
       "      <td>0</td>\n",
       "      <td>0</td>\n",
       "      <td>1</td>\n",
       "      <td>0</td>\n",
       "      <td>2478</td>\n",
       "      <td>378.000000</td>\n",
       "      <td>123256.7</td>\n",
       "    </tr>\n",
       "    <tr>\n",
       "      <th>3</th>\n",
       "      <td>203031048</td>\n",
       "      <td>6</td>\n",
       "      <td>16716</td>\n",
       "      <td>1424</td>\n",
       "      <td>0</td>\n",
       "      <td>0</td>\n",
       "      <td>0</td>\n",
       "      <td>74</td>\n",
       "      <td>0</td>\n",
       "      <td>0</td>\n",
       "      <td>0</td>\n",
       "      <td>0</td>\n",
       "      <td>0</td>\n",
       "      <td>1970</td>\n",
       "      <td>380.000000</td>\n",
       "      <td>98849.4</td>\n",
       "    </tr>\n",
       "    <tr>\n",
       "      <th>4</th>\n",
       "      <td>204011062</td>\n",
       "      <td>4</td>\n",
       "      <td>4142</td>\n",
       "      <td>1222</td>\n",
       "      <td>0</td>\n",
       "      <td>0</td>\n",
       "      <td>0</td>\n",
       "      <td>0</td>\n",
       "      <td>10</td>\n",
       "      <td>0</td>\n",
       "      <td>0</td>\n",
       "      <td>3</td>\n",
       "      <td>0</td>\n",
       "      <td>360</td>\n",
       "      <td>331.666667</td>\n",
       "      <td>350.0</td>\n",
       "    </tr>\n",
       "  </tbody>\n",
       "</table>\n",
       "</div>"
      ],
      "text/plain": [
       "         SA2  school_count  ERP_population  median_income  metrobus_count  \\\n",
       "0  202011018            13           14951           1267               0   \n",
       "1  202011022             9           21060           1238               0   \n",
       "2  203011035             6            8065           1898               0   \n",
       "3  203031048             6           16716           1424               0   \n",
       "4  204011062             4            4142           1222               0   \n",
       "\n",
       "   metrotrain_count  metrotram_count  regbus_count  regcoach_count  \\\n",
       "0                 0                0           142               2   \n",
       "1                 0                0           130               3   \n",
       "2                 0                0             3               4   \n",
       "3                 0                0            74               0   \n",
       "4                 0                0             0              10   \n",
       "\n",
       "   regtrain_count  skybus_count  recr_count  comm_count  deal_count  \\\n",
       "0               1             0           1           1         709   \n",
       "1               1             0           0           0         709   \n",
       "2               0             0           1           0        2478   \n",
       "3               0             0           0           0        1970   \n",
       "4               0             0           3           0         360   \n",
       "\n",
       "   median_rent   cbd_dis  \n",
       "0   350.000000  152998.1  \n",
       "1   350.000000  144471.1  \n",
       "2   378.000000  123256.7  \n",
       "3   380.000000   98849.4  \n",
       "4   331.666667     350.0  "
      ]
     },
     "execution_count": 8,
     "metadata": {},
     "output_type": "execute_result"
    }
   ],
   "source": [
    "sa2_df = pd.read_csv(f\"../data/curated/sa2_info.csv\").drop([\"Unnamed: 0\"], axis=1)\n",
    "sa2_df.head()"
   ]
  },
  {
   "cell_type": "markdown",
   "metadata": {},
   "source": [
    "## Related to Property conditions\n",
    "\n",
    "We use web crawling to retrieve basic house conditions and API requests to find distance-related data.\n",
    "\n",
    "#### Assumptions:\n",
    "- We approximate the distance from CBD to property with the distance between CBD and the centroid of the local SA2 area (graph retrieved from ../plots/Route_Appro.html)\n",
    "\n",
    "<img src=\"../plots/route_appro.png\" alt=\"Route Approximation\" style=\"width: 600px;\"/>"
   ]
  },
  {
   "cell_type": "code",
   "execution_count": 9,
   "metadata": {},
   "outputs": [
    {
     "data": {
      "text/html": [
       "<div>\n",
       "<style scoped>\n",
       "    .dataframe tbody tr th:only-of-type {\n",
       "        vertical-align: middle;\n",
       "    }\n",
       "\n",
       "    .dataframe tbody tr th {\n",
       "        vertical-align: top;\n",
       "    }\n",
       "\n",
       "    .dataframe thead th {\n",
       "        text-align: right;\n",
       "    }\n",
       "</style>\n",
       "<table border=\"1\" class=\"dataframe\">\n",
       "  <thead>\n",
       "    <tr style=\"text-align: right;\">\n",
       "      <th></th>\n",
       "      <th>SA2</th>\n",
       "      <th>rent</th>\n",
       "      <th>bedroom</th>\n",
       "      <th>baths</th>\n",
       "      <th>parking</th>\n",
       "      <th>Latitude</th>\n",
       "      <th>Longitude</th>\n",
       "      <th>school_dis</th>\n",
       "      <th>station_dis</th>\n",
       "      <th>cbd_dis</th>\n",
       "    </tr>\n",
       "  </thead>\n",
       "  <tbody>\n",
       "    <tr>\n",
       "      <th>0</th>\n",
       "      <td>201011001</td>\n",
       "      <td>490.0</td>\n",
       "      <td>4</td>\n",
       "      <td>2</td>\n",
       "      <td>2</td>\n",
       "      <td>-37.563073</td>\n",
       "      <td>143.793875</td>\n",
       "      <td>1651.7</td>\n",
       "      <td>5895.5</td>\n",
       "      <td>125495.6</td>\n",
       "    </tr>\n",
       "    <tr>\n",
       "      <th>1</th>\n",
       "      <td>201011001</td>\n",
       "      <td>420.0</td>\n",
       "      <td>4</td>\n",
       "      <td>2</td>\n",
       "      <td>2</td>\n",
       "      <td>-37.547241</td>\n",
       "      <td>143.770106</td>\n",
       "      <td>1249.5</td>\n",
       "      <td>7529.9</td>\n",
       "      <td>125495.6</td>\n",
       "    </tr>\n",
       "    <tr>\n",
       "      <th>2</th>\n",
       "      <td>201011001</td>\n",
       "      <td>520.0</td>\n",
       "      <td>4</td>\n",
       "      <td>2</td>\n",
       "      <td>2</td>\n",
       "      <td>-37.566319</td>\n",
       "      <td>143.800328</td>\n",
       "      <td>2094.0</td>\n",
       "      <td>6864.2</td>\n",
       "      <td>125495.6</td>\n",
       "    </tr>\n",
       "    <tr>\n",
       "      <th>3</th>\n",
       "      <td>201011001</td>\n",
       "      <td>440.0</td>\n",
       "      <td>4</td>\n",
       "      <td>2</td>\n",
       "      <td>2</td>\n",
       "      <td>-37.563453</td>\n",
       "      <td>143.789489</td>\n",
       "      <td>3988.4</td>\n",
       "      <td>7111.3</td>\n",
       "      <td>125495.6</td>\n",
       "    </tr>\n",
       "    <tr>\n",
       "      <th>4</th>\n",
       "      <td>201011001</td>\n",
       "      <td>440.0</td>\n",
       "      <td>4</td>\n",
       "      <td>2</td>\n",
       "      <td>2</td>\n",
       "      <td>-37.550549</td>\n",
       "      <td>143.786038</td>\n",
       "      <td>1120.8</td>\n",
       "      <td>6272.3</td>\n",
       "      <td>125495.6</td>\n",
       "    </tr>\n",
       "  </tbody>\n",
       "</table>\n",
       "</div>"
      ],
      "text/plain": [
       "         SA2   rent  bedroom  baths  parking   Latitude   Longitude  \\\n",
       "0  201011001  490.0        4      2        2 -37.563073  143.793875   \n",
       "1  201011001  420.0        4      2        2 -37.547241  143.770106   \n",
       "2  201011001  520.0        4      2        2 -37.566319  143.800328   \n",
       "3  201011001  440.0        4      2        2 -37.563453  143.789489   \n",
       "4  201011001  440.0        4      2        2 -37.550549  143.786038   \n",
       "\n",
       "   school_dis  station_dis   cbd_dis  \n",
       "0      1651.7       5895.5  125495.6  \n",
       "1      1249.5       7529.9  125495.6  \n",
       "2      2094.0       6864.2  125495.6  \n",
       "3      3988.4       7111.3  125495.6  \n",
       "4      1120.8       6272.3  125495.6  "
      ]
     },
     "execution_count": 9,
     "metadata": {},
     "output_type": "execute_result"
    }
   ],
   "source": [
    "rent_df = pd.read_csv(f\"../data/curated/rent_distance.csv\").drop([\"Unnamed: 0\"], axis=1)\n",
    "rent_df.head()"
   ]
  },
  {
   "cell_type": "markdown",
   "metadata": {},
   "source": [
    "# Feature Selection"
   ]
  },
  {
   "cell_type": "markdown",
   "metadata": {},
   "source": [
    "In the feature selection section, we investigated the random forest method"
   ]
  },
  {
   "cell_type": "markdown",
   "metadata": {},
   "source": [
    "Random forest is a technique used in modeling predictions and behavior analysis and is built on decision trees. It contains many decision trees representing a distinct instance of the classification of data input into the random forest. The random forest technique considers the instances individually, taking the one with the majority of votes as the selected prediction."
   ]
  },
  {
   "cell_type": "markdown",
   "metadata": {},
   "source": [
    "Each tree in the classifications takes input from samples in the initial dataset. Features are then randomly selected, which are used in growing the tree at each node. Every tree in the forest should not be pruned until the end of the exercise when the prediction is reached decisively. In such a way, the random forest enables any classifiers with weak correlations to create a strong classifier."
   ]
  },
  {
   "cell_type": "markdown",
   "metadata": {},
   "source": [
    "![](../plots/sa2_predict/RF_str.png)"
   ]
  },
  {
   "cell_type": "markdown",
   "metadata": {},
   "source": [
    "since the interpretability of random forests is strong and **the importance of each feature can be accurately given**, "
   ]
  },
  {
   "cell_type": "markdown",
   "metadata": {},
   "source": [
    "we select random forests for model training and give the importance of each feature"
   ]
  },
  {
   "cell_type": "markdown",
   "metadata": {},
   "source": [
    "![](../plots/sa2_predict/RF.png)"
   ]
  },
  {
   "cell_type": "markdown",
   "metadata": {},
   "source": [
    "and this is RF structure and Feature Selection result "
   ]
  },
  {
   "cell_type": "markdown",
   "metadata": {},
   "source": [
    "![](../models/rf_data/tree.png)"
   ]
  },
  {
   "cell_type": "markdown",
   "metadata": {},
   "source": [
    "![](../plots/sa2_predict/result.png)"
   ]
  },
  {
   "cell_type": "markdown",
   "metadata": {},
   "source": [
    "# liveable and affordable suburbs"
   ]
  },
  {
   "cell_type": "markdown",
   "metadata": {},
   "source": [
    "Based on the results of the feature screening, we decide to give the following weights to the selected features through analysis"
   ]
  },
  {
   "cell_type": "markdown",
   "metadata": {},
   "source": [
    "$ liveable\\_suburbs = 0.2*median\\_income  +0.2*deal\\_count  +0.2*ERP\\_population  +0.1*metrotrain\\_count  +0.1*school\\_count  +0.1*recr\\_count  +0.1*regbus\\_count$"
   ]
  },
  {
   "cell_type": "markdown",
   "metadata": {},
   "source": [
    "![](../plots/sa2_predict/live.png)"
   ]
  },
  {
   "cell_type": "markdown",
   "metadata": {},
   "source": [
    "finally,the follow pics show the top 10 liveable and affordable suburbs"
   ]
  },
  {
   "cell_type": "markdown",
   "metadata": {},
   "source": [
    "![](../plots/sa2_predict/suburbs.png)"
   ]
  },
  {
   "cell_type": "markdown",
   "metadata": {},
   "source": [
    "# SA2 Growth Rate Predict"
   ]
  },
  {
   "cell_type": "markdown",
   "metadata": {},
   "source": [
    "When making predictions for the SA2 region, we have two issues that need to be addressed\n",
    "1. What algorithm to use to predict the growth rate of SA2\n",
    "2. How to proceed with the analysis"
   ]
  },
  {
   "cell_type": "markdown",
   "metadata": {},
   "source": [
    "## What algorithm to use to predict the growth rate of SA2"
   ]
  },
  {
   "cell_type": "markdown",
   "metadata": {},
   "source": [
    "In the beginning, we chose lstm or rnn as our model, Through our analysis we found that lstm is more suitable"
   ]
  },
  {
   "cell_type": "markdown",
   "metadata": {},
   "source": [
    "LSTM networks are an extension of recurrent neural networks (RNNs) mainly introduced to handle situations where RNNs fail. Talking about RNN, it is a network that works on the present input by taking into consideration the previous output (feedback) and storing in its memory for a short period of time (short-term memory). Out of its various applications, the most popular ones are in the fields of speech processing, non-Markovian control, and music composition. Nevertheless, there are drawbacks to RNNs. First, it fails to store information for a longer period of time. At times, a reference to certain information stored quite a long time ago is required to predict the current output. But RNNs are absolutely incapable of handling such “long-term dependencies”. Second, there is no finer control over which part of the context needs to be carried forward and how much of the past needs to be ‘forgotten’. Other issues with RNNs are exploding and vanishing gradients (explained later) which occur during the training process of a network through backtracking. Thus, Long Short-Term Memory (LSTM) was brought into the picture. It has been so designed that the vanishing gradient problem is almost completely removed, while the training model is left unaltered. Long time lags in certain problems are bridged using LSTMs where they also handle noise, distributed representations, and continuous values. With LSTMs, there is no need to keep a finite number of states from beforehand as required in the hidden Markov model (HMM). LSTMs provide us with a large range of parameters such as learning rates, and input and output biases. Hence, no need for fine adjustments. The complexity to update each weight is reduced to O(1) with LSTMs, similar to that of Back Propagation Through Time (BPTT), which is an advantage. "
   ]
  },
  {
   "cell_type": "markdown",
   "metadata": {},
   "source": [
    "Since LSTM handles time series tasks better than CNN, in this section we use LSTM regions to predict growth rates\n"
   ]
  },
  {
   "cell_type": "markdown",
   "metadata": {},
   "source": [
    "![](../plots/sa2_predict/LSTM.png)"
   ]
  },
  {
   "cell_type": "markdown",
   "metadata": {},
   "source": [
    "## How to proceed with the analysis"
   ]
  },
  {
   "cell_type": "markdown",
   "metadata": {},
   "source": [
    "After determining the algorithm，Since pairs require predictions for each SA2 region, this chapter is roughly divided into two parts,\n",
    "- The first part uses a certain SA2 as an example to make a prediction\n",
    "- The second part is to sort all SA2 after prediction\n"
   ]
  },
  {
   "cell_type": "markdown",
   "metadata": {},
   "source": [
    "![](../plots/sa2_predict/analysis_part.png)"
   ]
  },
  {
   "cell_type": "markdown",
   "metadata": {},
   "source": [
    "### Single SA2 Analysis"
   ]
  },
  {
   "cell_type": "markdown",
   "metadata": {},
   "source": [
    "In this section, Let's take 201011001 this SA2 as an example, we expand on the following four parts\n",
    "1. Load Dataset And Show Base Info\n",
    "2. Data visualization\n",
    "3. Feature Engineering\n",
    "4. Model Predict"
   ]
  },
  {
   "cell_type": "markdown",
   "metadata": {},
   "source": [
    "#### Load Dataset And Show Base Info"
   ]
  },
  {
   "cell_type": "markdown",
   "metadata": {},
   "source": [
    "First, we have a basic understanding of the data by reading historical data, through statistical values such as variance, null values, etc"
   ]
  },
  {
   "cell_type": "markdown",
   "metadata": {},
   "source": [
    "![](../plots/sa2_predict/base_info.png)"
   ]
  },
  {
   "cell_type": "markdown",
   "metadata": {},
   "source": [
    "#### Data visualization"
   ]
  },
  {
   "cell_type": "markdown",
   "metadata": {},
   "source": [
    "Then, we analysized the relationship between each feature and the label, which is roughly the trend of fluctuations within a certain range"
   ]
  },
  {
   "cell_type": "markdown",
   "metadata": {},
   "source": [
    "![](../plots/sa2_predict/visualization.png)"
   ]
  },
  {
   "cell_type": "markdown",
   "metadata": {},
   "source": [
    "#### Feature Engineering"
   ]
  },
  {
   "cell_type": "markdown",
   "metadata": {},
   "source": [
    "There are several main difficulties in predicting the future:\n",
    "- How to get future features\n",
    "- How to predict house prices"
   ]
  },
  {
   "cell_type": "markdown",
   "metadata": {},
   "source": [
    "- How to get future features"
   ]
  },
  {
   "cell_type": "markdown",
   "metadata": {},
   "source": [
    "Because our data is very time-related, we explored the AR model"
   ]
  },
  {
   "cell_type": "markdown",
   "metadata": {},
   "source": [
    "Autoregressive (AR) modeling is one of the techniques used for time-series analysis. An autoregressive model is a time-series model that describes how a particular variable’s past values influence its current value. In other words, an AR model attempts to predict the next value in a series by incorporating the most recent past values and using them as input data. Autoregressive models are based on the idea that past events can help us predict future events. For example, if we know that the stock market has been going up for the past few days, we might expect it to continue going up in the future. Or, if we know that there has been a lot of rain lately, we might expect more rain in the future.\n",
    "\n",
    "Autoregressive modeling is training a regression model on the value of the response variable itself. Autoregressive is made of the word, Auto and Regressive which represents the linear regression on itself (auto). In the context of time-series forecasting, autoregressive modeling will mean creating the model where the response variable Y will depend upon the previous values of Y at a pre-determined constant time lag. The time lag can be daily (or 2, 3, 4… days), weekly, monthly, etc. A great way to explain this would be that if I were predicting what the stock price will be at 12 pm tomorrow based on the stock price today, then my model might have an auto part where each day affects the next day’s value just like regular linear regression does but also has regressive features which mean there are different factors influencing changes over shorter spans such as days rather than weeks. AR models can be used to model anything that has some degree of autocorrelation which means that there is a correlation between observations at adjacent time steps. The most common use case for this type of modeling is with stock market prices where the price today (t) is highly correlated with the price one day ago (t-1)"
   ]
  },
  {
   "cell_type": "markdown",
   "metadata": {},
   "source": [
    "![](../plots/sa2_predict/autoregressive-model.jpg)"
   ]
  },
  {
   "cell_type": "markdown",
   "metadata": {},
   "source": [
    "Since our data is divided by quarters, we set the order to 4, i.e. AR(4)\n",
    "\n",
    "This is the change in population predicted by our AR model over time\n",
    "\n",
    "We use the same method to predict the other 6 characteristics"
   ]
  },
  {
   "cell_type": "markdown",
   "metadata": {},
   "source": [
    "![](../plots/sa2_predict/population.png)"
   ]
  },
  {
   "cell_type": "markdown",
   "metadata": {},
   "source": [
    "The **red part** is our forecast value"
   ]
  },
  {
   "cell_type": "markdown",
   "metadata": {},
   "source": [
    "#### Feature Engineering and Model Predict"
   ]
  },
  {
   "cell_type": "markdown",
   "metadata": {},
   "source": [
    "In this section, we first divide the dataset"
   ]
  },
  {
   "cell_type": "markdown",
   "metadata": {},
   "source": [
    "And, Construct batch data methods(create_batch_dataset) to improve performance"
   ]
  },
  {
   "cell_type": "code",
   "execution_count": 5,
   "metadata": {},
   "outputs": [],
   "source": [
    "def create_batch_dataset(X, y, train=True, buffer_size=1000, batch_size=128):\n",
    "    batch_data = tf.data.Dataset.from_tensor_slices((tf.constant(X), tf.constant(y)))\n",
    "    if train:\n",
    "        return batch_data.cache().shuffle(buffer_size).batch(batch_size)\n",
    "    else:\n",
    "        return batch_data.batch(batch_size)"
   ]
  },
  {
   "cell_type": "markdown",
   "metadata": {},
   "source": [
    "Then we created the model with the help of tensorflow.keras，The model structure is as follows："
   ]
  },
  {
   "cell_type": "markdown",
   "metadata": {},
   "source": [
    "![](../plots/sa2_predict/model.png)"
   ]
  },
  {
   "cell_type": "markdown",
   "metadata": {},
   "source": [
    "With historical and future data, then we can use LSTM for training and prediction\n",
    "The model we built is shown in the figure\n",
    "Two layers of LSTM are used, and finally the Dense layer is used to output prediction data"
   ]
  },
  {
   "cell_type": "markdown",
   "metadata": {},
   "source": [
    "here is some output during training\n",
    "- model structure: `models/model.png`\n",
    "- model training logs: `models/logs`\n",
    "- the best model:`models/best_model.hdf5`"
   ]
  },
  {
   "cell_type": "markdown",
   "metadata": {},
   "source": [
    "This is the model loss, We can see that the loss is really declining"
   ]
  },
  {
   "cell_type": "markdown",
   "metadata": {},
   "source": [
    "![](../plots/sa2_predict/output.png)"
   ]
  },
  {
   "cell_type": "markdown",
   "metadata": {},
   "source": [
    "### ALL SA2 Predict"
   ]
  },
  {
   "cell_type": "markdown",
   "metadata": {},
   "source": [
    "Based on the above analysis, we can give forecasts for the growth rate of all SA2 regions"
   ]
  },
  {
   "cell_type": "markdown",
   "metadata": {},
   "source": [
    "![](../plots/sa2_predict/all_predict.png)"
   ]
  }
 ],
 "metadata": {
  "kernelspec": {
   "display_name": "Python 3",
   "language": "python",
   "name": "python3"
  },
  "language_info": {
   "codemirror_mode": {
    "name": "ipython",
    "version": 3
   },
   "file_extension": ".py",
   "mimetype": "text/x-python",
   "name": "python",
   "nbconvert_exporter": "python",
   "pygments_lexer": "ipython3",
   "version": "3.8.3"
  }
 },
 "nbformat": 4,
 "nbformat_minor": 4
}
